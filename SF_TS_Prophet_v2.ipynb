{
 "cells": [
  {
   "cell_type": "code",
   "execution_count": 43,
   "id": "d498a885",
   "metadata": {},
   "outputs": [
    {
     "name": "stdout",
     "output_type": "stream",
     "text": [
      "Requirement already satisfied: prophet in c:\\users\\poovesh kumar m\\anaconda3\\lib\\site-packages (1.1.5)\n",
      "Requirement already satisfied: cmdstanpy>=1.0.4 in c:\\users\\poovesh kumar m\\anaconda3\\lib\\site-packages (from prophet) (1.2.4)\n",
      "Requirement already satisfied: numpy>=1.15.4 in c:\\users\\poovesh kumar m\\anaconda3\\lib\\site-packages (from prophet) (1.24.3)\n",
      "Requirement already satisfied: matplotlib>=2.0.0 in c:\\users\\poovesh kumar m\\anaconda3\\lib\\site-packages (from prophet) (3.7.1)\n",
      "Requirement already satisfied: pandas>=1.0.4 in c:\\users\\poovesh kumar m\\anaconda3\\lib\\site-packages (from prophet) (1.5.3)\n",
      "Requirement already satisfied: holidays>=0.25 in c:\\users\\poovesh kumar m\\anaconda3\\lib\\site-packages (from prophet) (0.55)\n",
      "Requirement already satisfied: tqdm>=4.36.1 in c:\\users\\poovesh kumar m\\anaconda3\\lib\\site-packages (from prophet) (4.65.0)\n",
      "Requirement already satisfied: importlib-resources in c:\\users\\poovesh kumar m\\anaconda3\\lib\\site-packages (from prophet) (6.4.4)\n",
      "Requirement already satisfied: stanio<2.0.0,>=0.4.0 in c:\\users\\poovesh kumar m\\anaconda3\\lib\\site-packages (from cmdstanpy>=1.0.4->prophet) (0.5.1)\n",
      "Requirement already satisfied: python-dateutil in c:\\users\\poovesh kumar m\\anaconda3\\lib\\site-packages (from holidays>=0.25->prophet) (2.8.2)\n",
      "Requirement already satisfied: contourpy>=1.0.1 in c:\\users\\poovesh kumar m\\anaconda3\\lib\\site-packages (from matplotlib>=2.0.0->prophet) (1.0.5)\n",
      "Requirement already satisfied: cycler>=0.10 in c:\\users\\poovesh kumar m\\anaconda3\\lib\\site-packages (from matplotlib>=2.0.0->prophet) (0.11.0)\n",
      "Requirement already satisfied: fonttools>=4.22.0 in c:\\users\\poovesh kumar m\\anaconda3\\lib\\site-packages (from matplotlib>=2.0.0->prophet) (4.25.0)\n",
      "Requirement already satisfied: kiwisolver>=1.0.1 in c:\\users\\poovesh kumar m\\anaconda3\\lib\\site-packages (from matplotlib>=2.0.0->prophet) (1.4.4)\n",
      "Requirement already satisfied: packaging>=20.0 in c:\\users\\poovesh kumar m\\anaconda3\\lib\\site-packages (from matplotlib>=2.0.0->prophet) (23.0)\n",
      "Requirement already satisfied: pillow>=6.2.0 in c:\\users\\poovesh kumar m\\anaconda3\\lib\\site-packages (from matplotlib>=2.0.0->prophet) (9.4.0)\n",
      "Requirement already satisfied: pyparsing>=2.3.1 in c:\\users\\poovesh kumar m\\anaconda3\\lib\\site-packages (from matplotlib>=2.0.0->prophet) (3.0.9)\n",
      "Requirement already satisfied: pytz>=2020.1 in c:\\users\\poovesh kumar m\\anaconda3\\lib\\site-packages (from pandas>=1.0.4->prophet) (2022.7)\n",
      "Requirement already satisfied: colorama in c:\\users\\poovesh kumar m\\anaconda3\\lib\\site-packages (from tqdm>=4.36.1->prophet) (0.4.6)\n",
      "Requirement already satisfied: six>=1.5 in c:\\users\\poovesh kumar m\\anaconda3\\lib\\site-packages (from python-dateutil->holidays>=0.25->prophet) (1.16.0)\n",
      "Note: you may need to restart the kernel to use updated packages.\n"
     ]
    }
   ],
   "source": [
    "pip install prophet"
   ]
  },
  {
   "cell_type": "code",
   "execution_count": 118,
   "id": "1e848f2e",
   "metadata": {},
   "outputs": [],
   "source": [
    "#library required\n",
    "import psycopg2\n",
    "\n",
    "from sqlalchemy import create_engine\n",
    "from sqlalchemy import text\n",
    "import os\n",
    "import time \n",
    "from datetime import datetime\n",
    "import io \n",
    "import sys\n",
    "\n",
    "import pandas as pd\n",
    "import seaborn as sns\n",
    "import matplotlib.pyplot as plt\n",
    "import numpy as np\n",
    "\n",
    "from prophet import Prophet\n",
    "from sklearn.metrics import mean_absolute_percentage_error\n"
   ]
  },
  {
   "cell_type": "code",
   "execution_count": 117,
   "id": "3b06a7c3",
   "metadata": {},
   "outputs": [],
   "source": [
    "#Load the data\n",
    "\n",
    "# Define the file paths\n",
    "file_path_1 = r\"C:\\Users\\Poovesh Kumar M\\Downloads\\Planning\\1_Data\\3_Sep_05_09_2024\\majestic pure_Amazon_com_weekly_data.csv\"\n",
    "file_path_2 = r\"C:\\Users\\Poovesh Kumar M\\Downloads\\Planning\\1_Data\\3_Sep_05_09_2024\\ASIN_classification_weekly.csv\"\n",
    "# file_path_3 = r\"C:\\Users\\Poovesh Kumar M\\Downloads\\Planning\\1_Data\\3_Sep_05_09_2024\\file3.csv\"\n",
    "# file_path_4 = r\"C:\\Users\\Poovesh Kumar M\\Downloads\\Planning\\1_Data\\3_Sep_05_09_2024\\file4.csv\"\n",
    "\n",
    "# Read the CSV files into DataFrames\n",
    "df_base1 = pd.read_csv(file_path_1)\n",
    "df_asin_class = pd.read_csv(file_path_2)\n"
   ]
  },
  {
   "cell_type": "code",
   "execution_count": 57,
   "id": "a1957490",
   "metadata": {},
   "outputs": [
    {
     "name": "stdout",
     "output_type": "stream",
     "text": [
      "      velocity_bucket        asin Week_Start_date Week_End_date  \\\n",
      "0                1_SF  B00PMR3QF2      2022-09-26    2022-10-02   \n",
      "1                1_SF  B00PMR3QF2      2022-10-03    2022-10-09   \n",
      "2                1_SF  B00PMR3QF2      2022-10-10    2022-10-16   \n",
      "3                1_SF  B00PMR3QF2      2022-10-17    2022-10-23   \n",
      "4                1_SF  B00PMR3QF2      2022-10-24    2022-10-30   \n",
      "...               ...         ...             ...           ...   \n",
      "23741            4_SM  B0D83GG4WB      2024-08-05    2024-08-11   \n",
      "23742            4_SM  B0D83GG4WB      2024-08-12    2024-08-18   \n",
      "23743            4_SM  B0D83GG4WB      2024-08-19    2024-08-25   \n",
      "23744            4_SM  B0D83GG4WB      2024-08-26    2024-09-01   \n",
      "23745            4_SM  B0D83GG4WB      2024-09-02    2024-09-08   \n",
      "\n",
      "       organic_gmv_units  inorganic_gmv_units  gmv_units   asp_week  \\\n",
      "0               220.8734             145.9917        368  18.886359   \n",
      "1               756.0293             464.0168       1227  18.895069   \n",
      "2               834.9785             813.4476       1655  16.091245   \n",
      "3               883.1982             597.8767       1489  16.000302   \n",
      "4              1034.3934             694.0630       1742  16.050614   \n",
      "...                  ...                  ...        ...        ...   \n",
      "23741             0.0000               0.0000          0   0.000000   \n",
      "23742             0.0000               0.0000          0   0.000000   \n",
      "23743             0.0000               0.0000          0   0.000000   \n",
      "23744             3.0000               0.0000          3  14.990000   \n",
      "23745             4.0000               0.0000          4  14.990000   \n",
      "\n",
      "        ad_spend  inventory_Availability%       gmv  inorganic_gmv  \\\n",
      "0      1626.1800                 0.000000   6950.18      2757.6640   \n",
      "1      4042.8753                 0.000000  23184.25      8768.5915   \n",
      "2      6729.7078                 0.000000  26631.01     13023.9672   \n",
      "3      4171.1138                 0.000000  23824.45      9565.7531   \n",
      "4      4477.2391                 0.000000  27960.17     11141.9337   \n",
      "...          ...                      ...       ...            ...   \n",
      "23741     0.0000                 0.000000      0.00         0.0000   \n",
      "23742     0.0000                 0.000000      0.00         0.0000   \n",
      "23743     0.0000                 0.000000      0.00         0.0000   \n",
      "23744     0.0000               100.000000     44.97         0.0000   \n",
      "23745     0.0000                14.285714     59.96         0.0000   \n",
      "\n",
      "       organic_gmv  inventory_available classification  \n",
      "0        4171.0360                    0         Smooth  \n",
      "1       14284.1985                    0         Smooth  \n",
      "2       13496.8928                    0         Smooth  \n",
      "3       14131.8569                    0         Smooth  \n",
      "4       16600.6563                    0         Smooth  \n",
      "...            ...                  ...            ...  \n",
      "23741       0.0000                    0            NaN  \n",
      "23742       0.0000                    0            NaN  \n",
      "23743       0.0000                    0            NaN  \n",
      "23744      44.9700                 3692            NaN  \n",
      "23745      59.9600                  509            NaN  \n",
      "\n",
      "[23746 rows x 15 columns]\n"
     ]
    }
   ],
   "source": [
    "# Display the DataFrame\n",
    "print(df_weekly)"
   ]
  },
  {
   "cell_type": "code",
   "execution_count": 86,
   "id": "1940d24d",
   "metadata": {},
   "outputs": [],
   "source": [
    "# Filtering input data:\n",
    "\n",
    "df_asin_class1 = df_asin_class[['asin', 'classification']]\n",
    "\n",
    "df_base = pd.merge(df_base1, df_asin_class1, on ='asin')\n",
    "\n",
    "df_weekly = df_base\n",
    "\n",
    "df_weekly.to_csv('C:/Users/Poovesh Kumar M/Downloads/Planning/df_weekly_base.csv', index=False)\n",
    "\n",
    "# Convert 'Week_Start_date' to datetime format\n",
    "df_weekly['Week_Start_date'] = pd.to_datetime(df_weekly['Week_Start_date'])\n",
    "\n",
    "# Replace NaN values in 'asp_week' column with 0\n",
    "df_weekly['asp_week'] = df_weekly['asp_week'].fillna(0)\n",
    "\n",
    "# Filter df_weekly to only include rows where 'classification' is 'Smooth' or 'Intermittent'\n",
    "df_weekly = df_weekly[df_weekly['classification'].isin(['Smooth', 'Intermittent'])]\n"
   ]
  },
  {
   "cell_type": "code",
   "execution_count": 61,
   "id": "0d4b821b",
   "metadata": {},
   "outputs": [
    {
     "data": {
      "text/html": [
       "<div>\n",
       "<style scoped>\n",
       "    .dataframe tbody tr th:only-of-type {\n",
       "        vertical-align: middle;\n",
       "    }\n",
       "\n",
       "    .dataframe tbody tr th {\n",
       "        vertical-align: top;\n",
       "    }\n",
       "\n",
       "    .dataframe thead th {\n",
       "        text-align: right;\n",
       "    }\n",
       "</style>\n",
       "<table border=\"1\" class=\"dataframe\">\n",
       "  <thead>\n",
       "    <tr style=\"text-align: right;\">\n",
       "      <th></th>\n",
       "      <th>velocity_bucket</th>\n",
       "      <th>asin</th>\n",
       "      <th>Week_Start_date</th>\n",
       "      <th>Week_End_date</th>\n",
       "      <th>organic_gmv_units</th>\n",
       "      <th>inorganic_gmv_units</th>\n",
       "      <th>gmv_units</th>\n",
       "      <th>asp_week</th>\n",
       "      <th>ad_spend</th>\n",
       "      <th>inventory_Availability%</th>\n",
       "      <th>gmv</th>\n",
       "      <th>inorganic_gmv</th>\n",
       "      <th>organic_gmv</th>\n",
       "      <th>inventory_available</th>\n",
       "      <th>classification</th>\n",
       "    </tr>\n",
       "  </thead>\n",
       "  <tbody>\n",
       "    <tr>\n",
       "      <th>0</th>\n",
       "      <td>1_SF</td>\n",
       "      <td>B00PMR3QF2</td>\n",
       "      <td>2022-09-26</td>\n",
       "      <td>2022-10-02</td>\n",
       "      <td>220.8734</td>\n",
       "      <td>145.9917</td>\n",
       "      <td>368</td>\n",
       "      <td>18.886359</td>\n",
       "      <td>1626.180000</td>\n",
       "      <td>0.000000</td>\n",
       "      <td>6950.18</td>\n",
       "      <td>2757.6640</td>\n",
       "      <td>4171.0360</td>\n",
       "      <td>0</td>\n",
       "      <td>Smooth</td>\n",
       "    </tr>\n",
       "    <tr>\n",
       "      <th>1</th>\n",
       "      <td>1_SF</td>\n",
       "      <td>B00PMR3QF2</td>\n",
       "      <td>2022-10-03</td>\n",
       "      <td>2022-10-09</td>\n",
       "      <td>756.0293</td>\n",
       "      <td>464.0168</td>\n",
       "      <td>1227</td>\n",
       "      <td>18.895069</td>\n",
       "      <td>4042.875300</td>\n",
       "      <td>0.000000</td>\n",
       "      <td>23184.25</td>\n",
       "      <td>8768.5915</td>\n",
       "      <td>14284.1985</td>\n",
       "      <td>0</td>\n",
       "      <td>Smooth</td>\n",
       "    </tr>\n",
       "    <tr>\n",
       "      <th>2</th>\n",
       "      <td>1_SF</td>\n",
       "      <td>B00PMR3QF2</td>\n",
       "      <td>2022-10-10</td>\n",
       "      <td>2022-10-16</td>\n",
       "      <td>834.9785</td>\n",
       "      <td>813.4476</td>\n",
       "      <td>1655</td>\n",
       "      <td>16.091245</td>\n",
       "      <td>6729.707800</td>\n",
       "      <td>0.000000</td>\n",
       "      <td>26631.01</td>\n",
       "      <td>13023.9672</td>\n",
       "      <td>13496.8928</td>\n",
       "      <td>0</td>\n",
       "      <td>Smooth</td>\n",
       "    </tr>\n",
       "    <tr>\n",
       "      <th>3</th>\n",
       "      <td>1_SF</td>\n",
       "      <td>B00PMR3QF2</td>\n",
       "      <td>2022-10-17</td>\n",
       "      <td>2022-10-23</td>\n",
       "      <td>883.1982</td>\n",
       "      <td>597.8767</td>\n",
       "      <td>1489</td>\n",
       "      <td>16.000302</td>\n",
       "      <td>4171.113800</td>\n",
       "      <td>0.000000</td>\n",
       "      <td>23824.45</td>\n",
       "      <td>9565.7531</td>\n",
       "      <td>14131.8569</td>\n",
       "      <td>0</td>\n",
       "      <td>Smooth</td>\n",
       "    </tr>\n",
       "    <tr>\n",
       "      <th>4</th>\n",
       "      <td>1_SF</td>\n",
       "      <td>B00PMR3QF2</td>\n",
       "      <td>2022-10-24</td>\n",
       "      <td>2022-10-30</td>\n",
       "      <td>1034.3934</td>\n",
       "      <td>694.0630</td>\n",
       "      <td>1742</td>\n",
       "      <td>16.050614</td>\n",
       "      <td>4477.239100</td>\n",
       "      <td>0.000000</td>\n",
       "      <td>27960.17</td>\n",
       "      <td>11141.9337</td>\n",
       "      <td>16600.6563</td>\n",
       "      <td>0</td>\n",
       "      <td>Smooth</td>\n",
       "    </tr>\n",
       "    <tr>\n",
       "      <th>...</th>\n",
       "      <td>...</td>\n",
       "      <td>...</td>\n",
       "      <td>...</td>\n",
       "      <td>...</td>\n",
       "      <td>...</td>\n",
       "      <td>...</td>\n",
       "      <td>...</td>\n",
       "      <td>...</td>\n",
       "      <td>...</td>\n",
       "      <td>...</td>\n",
       "      <td>...</td>\n",
       "      <td>...</td>\n",
       "      <td>...</td>\n",
       "      <td>...</td>\n",
       "      <td>...</td>\n",
       "    </tr>\n",
       "    <tr>\n",
       "      <th>23731</th>\n",
       "      <td>4_SM</td>\n",
       "      <td>B0D811N8HV</td>\n",
       "      <td>2024-08-05</td>\n",
       "      <td>2024-08-11</td>\n",
       "      <td>102.5283</td>\n",
       "      <td>0.9204</td>\n",
       "      <td>106</td>\n",
       "      <td>9.220189</td>\n",
       "      <td>6.148061</td>\n",
       "      <td>100.000000</td>\n",
       "      <td>977.34</td>\n",
       "      <td>8.9900</td>\n",
       "      <td>943.5900</td>\n",
       "      <td>12717</td>\n",
       "      <td>Smooth</td>\n",
       "    </tr>\n",
       "    <tr>\n",
       "      <th>23732</th>\n",
       "      <td>4_SM</td>\n",
       "      <td>B0D811N8HV</td>\n",
       "      <td>2024-08-12</td>\n",
       "      <td>2024-08-18</td>\n",
       "      <td>103.6639</td>\n",
       "      <td>0.0000</td>\n",
       "      <td>104</td>\n",
       "      <td>9.013077</td>\n",
       "      <td>0.000000</td>\n",
       "      <td>100.000000</td>\n",
       "      <td>937.36</td>\n",
       "      <td>0.0000</td>\n",
       "      <td>934.2400</td>\n",
       "      <td>12485</td>\n",
       "      <td>Smooth</td>\n",
       "    </tr>\n",
       "    <tr>\n",
       "      <th>23733</th>\n",
       "      <td>4_SM</td>\n",
       "      <td>B0D811N8HV</td>\n",
       "      <td>2024-08-19</td>\n",
       "      <td>2024-08-25</td>\n",
       "      <td>92.7710</td>\n",
       "      <td>0.0000</td>\n",
       "      <td>94</td>\n",
       "      <td>9.111277</td>\n",
       "      <td>0.000000</td>\n",
       "      <td>100.000000</td>\n",
       "      <td>856.46</td>\n",
       "      <td>0.0000</td>\n",
       "      <td>844.7000</td>\n",
       "      <td>11720</td>\n",
       "      <td>Smooth</td>\n",
       "    </tr>\n",
       "    <tr>\n",
       "      <th>23734</th>\n",
       "      <td>4_SM</td>\n",
       "      <td>B0D811N8HV</td>\n",
       "      <td>2024-08-26</td>\n",
       "      <td>2024-09-01</td>\n",
       "      <td>102.1923</td>\n",
       "      <td>0.9864</td>\n",
       "      <td>105</td>\n",
       "      <td>9.150857</td>\n",
       "      <td>1.462254</td>\n",
       "      <td>100.000000</td>\n",
       "      <td>960.84</td>\n",
       "      <td>8.9900</td>\n",
       "      <td>934.9600</td>\n",
       "      <td>10909</td>\n",
       "      <td>Smooth</td>\n",
       "    </tr>\n",
       "    <tr>\n",
       "      <th>23735</th>\n",
       "      <td>4_SM</td>\n",
       "      <td>B0D811N8HV</td>\n",
       "      <td>2024-09-02</td>\n",
       "      <td>2024-09-08</td>\n",
       "      <td>1.0000</td>\n",
       "      <td>0.0000</td>\n",
       "      <td>1</td>\n",
       "      <td>8.990000</td>\n",
       "      <td>0.000000</td>\n",
       "      <td>14.285714</td>\n",
       "      <td>8.99</td>\n",
       "      <td>0.0000</td>\n",
       "      <td>8.9900</td>\n",
       "      <td>1506</td>\n",
       "      <td>Smooth</td>\n",
       "    </tr>\n",
       "  </tbody>\n",
       "</table>\n",
       "<p>13847 rows × 15 columns</p>\n",
       "</div>"
      ],
      "text/plain": [
       "      velocity_bucket        asin Week_Start_date Week_End_date  \\\n",
       "0                1_SF  B00PMR3QF2      2022-09-26    2022-10-02   \n",
       "1                1_SF  B00PMR3QF2      2022-10-03    2022-10-09   \n",
       "2                1_SF  B00PMR3QF2      2022-10-10    2022-10-16   \n",
       "3                1_SF  B00PMR3QF2      2022-10-17    2022-10-23   \n",
       "4                1_SF  B00PMR3QF2      2022-10-24    2022-10-30   \n",
       "...               ...         ...             ...           ...   \n",
       "23731            4_SM  B0D811N8HV      2024-08-05    2024-08-11   \n",
       "23732            4_SM  B0D811N8HV      2024-08-12    2024-08-18   \n",
       "23733            4_SM  B0D811N8HV      2024-08-19    2024-08-25   \n",
       "23734            4_SM  B0D811N8HV      2024-08-26    2024-09-01   \n",
       "23735            4_SM  B0D811N8HV      2024-09-02    2024-09-08   \n",
       "\n",
       "       organic_gmv_units  inorganic_gmv_units  gmv_units   asp_week  \\\n",
       "0               220.8734             145.9917        368  18.886359   \n",
       "1               756.0293             464.0168       1227  18.895069   \n",
       "2               834.9785             813.4476       1655  16.091245   \n",
       "3               883.1982             597.8767       1489  16.000302   \n",
       "4              1034.3934             694.0630       1742  16.050614   \n",
       "...                  ...                  ...        ...        ...   \n",
       "23731           102.5283               0.9204        106   9.220189   \n",
       "23732           103.6639               0.0000        104   9.013077   \n",
       "23733            92.7710               0.0000         94   9.111277   \n",
       "23734           102.1923               0.9864        105   9.150857   \n",
       "23735             1.0000               0.0000          1   8.990000   \n",
       "\n",
       "          ad_spend  inventory_Availability%       gmv  inorganic_gmv  \\\n",
       "0      1626.180000                 0.000000   6950.18      2757.6640   \n",
       "1      4042.875300                 0.000000  23184.25      8768.5915   \n",
       "2      6729.707800                 0.000000  26631.01     13023.9672   \n",
       "3      4171.113800                 0.000000  23824.45      9565.7531   \n",
       "4      4477.239100                 0.000000  27960.17     11141.9337   \n",
       "...            ...                      ...       ...            ...   \n",
       "23731     6.148061               100.000000    977.34         8.9900   \n",
       "23732     0.000000               100.000000    937.36         0.0000   \n",
       "23733     0.000000               100.000000    856.46         0.0000   \n",
       "23734     1.462254               100.000000    960.84         8.9900   \n",
       "23735     0.000000                14.285714      8.99         0.0000   \n",
       "\n",
       "       organic_gmv  inventory_available classification  \n",
       "0        4171.0360                    0         Smooth  \n",
       "1       14284.1985                    0         Smooth  \n",
       "2       13496.8928                    0         Smooth  \n",
       "3       14131.8569                    0         Smooth  \n",
       "4       16600.6563                    0         Smooth  \n",
       "...            ...                  ...            ...  \n",
       "23731     943.5900                12717         Smooth  \n",
       "23732     934.2400                12485         Smooth  \n",
       "23733     844.7000                11720         Smooth  \n",
       "23734     934.9600                10909         Smooth  \n",
       "23735       8.9900                 1506         Smooth  \n",
       "\n",
       "[13847 rows x 15 columns]"
      ]
     },
     "execution_count": 61,
     "metadata": {},
     "output_type": "execute_result"
    }
   ],
   "source": [
    "df_weekly"
   ]
  },
  {
   "cell_type": "code",
   "execution_count": 69,
   "id": "2296fb92",
   "metadata": {},
   "outputs": [
    {
     "name": "stdout",
     "output_type": "stream",
     "text": [
      "  velocity_bucket        asin Week_Start_date Week_End_date  \\\n",
      "0            1_SF  B00PMR3QF2      2022-09-26    2022-10-02   \n",
      "1            1_SF  B00PMR3QF2      2022-10-03    2022-10-09   \n",
      "2            1_SF  B00PMR3QF2      2022-10-10    2022-10-16   \n",
      "3            1_SF  B00PMR3QF2      2022-10-17    2022-10-23   \n",
      "4            1_SF  B00PMR3QF2      2022-10-24    2022-10-30   \n",
      "\n",
      "   organic_gmv_units  inorganic_gmv_units  gmv_units   asp_week   ad_spend  \\\n",
      "0           220.8734             145.9917        368  18.886359  1626.1800   \n",
      "1           756.0293             464.0168       1227  18.895069  4042.8753   \n",
      "2           834.9785             813.4476       1655  16.091245  6729.7078   \n",
      "3           883.1982             597.8767       1489  16.000302  4171.1138   \n",
      "4          1034.3934             694.0630       1742  16.050614  4477.2391   \n",
      "\n",
      "   inventory_Availability%       gmv  inorganic_gmv  organic_gmv  \\\n",
      "0                      0.0   6950.18      2757.6640    4171.0360   \n",
      "1                      0.0  23184.25      8768.5915   14284.1985   \n",
      "2                      0.0  26631.01     13023.9672   13496.8928   \n",
      "3                      0.0  23824.45      9565.7531   14131.8569   \n",
      "4                      0.0  27960.17     11141.9337   16600.6563   \n",
      "\n",
      "   inventory_available classification  \n",
      "0                    0         Smooth  \n",
      "1                    0         Smooth  \n",
      "2                    0         Smooth  \n",
      "3                    0         Smooth  \n",
      "4                    0         Smooth  \n",
      "Distinct asin x velocity_bucket:\n",
      "           asin velocity_bucket classification\n",
      "0    B00PMR3QF2            1_SF         Smooth\n",
      "102  B00PV15BPW            1_SF         Smooth\n",
      "306  B00QR6SS6O             2_F         Smooth\n",
      "510  B00QVR0O6Q            4_SM         Smooth\n",
      "612  B00STVN68K             NaN         Smooth\n"
     ]
    }
   ],
   "source": [
    "#creating New DF \n",
    "df_bs_temp = df_weekly\n",
    "# Display the first few rows of the filtered DataFrame\n",
    "print(df_bs_temp.head())\n",
    "\n",
    "#creating ASINx VB for mapping purpose\n",
    "# Remove rows where 'asin' is null\n",
    "df_asin_vb = df_bs_temp.dropna(subset=['asin'])\n",
    "\n",
    "# Select distinct 'asin' x 'velocity_bucket' x classification:\n",
    "df_asin_vb = df_asin_vb[['asin', 'velocity_bucket', 'classification']].drop_duplicates()\n",
    "\n",
    "# Display the resulting DataFrame\n",
    "print(\"Distinct asin x velocity_bucket:\")\n",
    "print(df_asin_vb.head())\n",
    "\n",
    "\n"
   ]
  },
  {
   "cell_type": "markdown",
   "id": "57d7faed",
   "metadata": {},
   "source": [
    "# Define the Outlier Treatment Function \n",
    "# Plotting Before and After Outlier Treatment\n",
    "\n",
    "# Store original DataFrame before treatment\n",
    "df_weekly_original = df_weekly.copy()\n",
    "\n",
    "# Define the Outlier Treatment Function\n",
    "def replace_outliers_with_previous_week(group, column):\n",
    "    Q1 = group[column].quantile(0.25)\n",
    "    Q3 = group[column].quantile(0.75)\n",
    "    IQR = Q3 - Q1\n",
    "    lower_bound = Q1 - 1.5 * IQR\n",
    "    upper_bound = Q3 + 1.5 * IQR\n",
    "    \n",
    "    # Identify outliers\n",
    "    outliers = (group[column] < lower_bound) | (group[column] > upper_bound)\n",
    "    \n",
    "    # Replace outliers with the previous week's value\n",
    "    group[column] = np.where(outliers, group[column].shift(1), group[column])\n",
    "    \n",
    "    # In case the first value is an outlier and has no previous week to reference, we can forward fill\n",
    "    group[column] = group[column].fillna(method='ffill')\n",
    "    \n",
    "    return group\n",
    "\n",
    "# Apply the Outlier Treatment\n",
    "df_weekly = df_weekly.groupby('asin').apply(replace_outliers_with_previous_week, 'gmv_units').reset_index(drop=True)\n",
    "df_weekly = df_weekly.groupby('asin').apply(replace_outliers_with_previous_week, 'organic_gmv_units').reset_index(drop=True)\n",
    "df_weekly = df_weekly.groupby('asin').apply(replace_outliers_with_previous_week, 'inorganic_gmv_units').reset_index(drop=True)\n",
    "\n",
    "# Plotting Before and After Outlier Treatment\n",
    "def plot_outlier_treatment(df_before, df_after, column, asin_list):\n",
    "    for asin in asin_list:\n",
    "        df_before_asin = df_before[df_before['asin'] == asin]\n",
    "        df_after_asin = df_after[df_after['asin'] == asin]\n",
    "        \n",
    "        plt.figure(figsize=(14, 6))\n",
    "        plt.plot(df_before_asin['Week_Start_date'], df_before_asin[column], marker='o', color='red', label=f'{column} Before Treatment')\n",
    "        plt.plot(df_after_asin['Week_Start_date'], df_after_asin[column], marker='o', color='blue', label=f'{column} After Treatment')\n",
    "        plt.title(f\"{column} Before and After Outlier Treatment for ASIN: {asin}\")\n",
    "        plt.xlabel(\"Week Start Date\")\n",
    "        plt.ylabel(column)\n",
    "        plt.legend()\n",
    "        plt.grid(True)\n",
    "        plt.show()\n",
    "\n",
    "# Use the actual list of ASINs you want to plot\n",
    "asin_to_plot = ['B07JD9FS28', 'B079ZN8SC9', 'B09S26ZF1N', 'B09PZSKJ5N']\n",
    "plot_outlier_treatment(df_weekly_original, df_weekly, 'gmv_units', asin_to_plot)\n",
    "plot_outlier_treatment(df_weekly_original, df_weekly, 'organic_gmv_units', asin_to_plot)\n",
    "plot_outlier_treatment(df_weekly_original, df_weekly, 'inorganic_gmv_units', asin_to_plot)\n"
   ]
  },
  {
   "cell_type": "code",
   "execution_count": 70,
   "id": "f72d4e23",
   "metadata": {},
   "outputs": [],
   "source": [
    "# Split the data into training and testing datasets\n",
    "train_df = df_weekly[df_weekly['Week_Start_date'] <= '2024-04-29']\n",
    "test_df = df_weekly[(df_weekly['Week_Start_date'] >= '2024-05-06') & (df_weekly['Week_Start_date'] <= '2024-08-26')]\n"
   ]
  },
  {
   "cell_type": "code",
   "execution_count": 67,
   "id": "9c1f2cab",
   "metadata": {},
   "outputs": [
    {
     "name": "stdout",
     "output_type": "stream",
     "text": [
      "train_df:       velocity_bucket        asin Week_Start_date Week_End_date  \\\n",
      "0                1_SF  B00PMR3QF2      2022-09-26    2022-10-02   \n",
      "1                1_SF  B00PMR3QF2      2022-10-03    2022-10-09   \n",
      "2                1_SF  B00PMR3QF2      2022-10-10    2022-10-16   \n",
      "3                1_SF  B00PMR3QF2      2022-10-17    2022-10-23   \n",
      "4                1_SF  B00PMR3QF2      2022-10-24    2022-10-30   \n",
      "...               ...         ...             ...           ...   \n",
      "23473            4_SM  B0CXDRY3WC      2024-04-08    2024-04-14   \n",
      "23474            4_SM  B0CXDRY3WC      2024-04-15    2024-04-21   \n",
      "23475            4_SM  B0CXDRY3WC      2024-04-22    2024-04-28   \n",
      "23476            4_SM  B0CXDRY3WC      2024-04-29    2024-05-05   \n",
      "23553            4_SM  B0D1XNW89X      2024-04-29    2024-05-05   \n",
      "\n",
      "       organic_gmv_units  inorganic_gmv_units  gmv_units   asp_week  \\\n",
      "0               220.8734             145.9917        368  18.886359   \n",
      "1               756.0293             464.0168       1227  18.895069   \n",
      "2               834.9785             813.4476       1655  16.091245   \n",
      "3               883.1982             597.8767       1489  16.000302   \n",
      "4              1034.3934             694.0630       1742  16.050614   \n",
      "...                  ...                  ...        ...        ...   \n",
      "23473             0.0000               0.0000          0   0.000000   \n",
      "23474             0.0000               0.0000          0   0.000000   \n",
      "23475             0.0000               0.0000          0   0.000000   \n",
      "23476             0.0000               0.0000          0   0.000000   \n",
      "23553             0.0000               0.0000          0   0.000000   \n",
      "\n",
      "        ad_spend  inventory_Availability%       gmv  inorganic_gmv  \\\n",
      "0      1626.1800                      0.0   6950.18      2757.6640   \n",
      "1      4042.8753                      0.0  23184.25      8768.5915   \n",
      "2      6729.7078                      0.0  26631.01     13023.9672   \n",
      "3      4171.1138                      0.0  23824.45      9565.7531   \n",
      "4      4477.2391                      0.0  27960.17     11141.9337   \n",
      "...          ...                      ...       ...            ...   \n",
      "23473     0.0000                      0.0      0.00         0.0000   \n",
      "23474     0.0000                      0.0      0.00         0.0000   \n",
      "23475     0.0000                      0.0      0.00         0.0000   \n",
      "23476     0.0000                      0.0      0.00         0.0000   \n",
      "23553     0.0000                      0.0      0.00         0.0000   \n",
      "\n",
      "       organic_gmv  inventory_available classification  \n",
      "0        4171.0360                    0         Smooth  \n",
      "1       14284.1985                    0         Smooth  \n",
      "2       13496.8928                    0         Smooth  \n",
      "3       14131.8569                    0         Smooth  \n",
      "4       16600.6563                    0         Smooth  \n",
      "...            ...                  ...            ...  \n",
      "23473       0.0000                    0         Smooth  \n",
      "23474       0.0000                    0         Smooth  \n",
      "23475       0.0000                    0         Smooth  \n",
      "23476       0.0000                    0         Smooth  \n",
      "23553       0.0000                    0         Smooth  \n",
      "\n",
      "[11175 rows x 15 columns]\n"
     ]
    }
   ],
   "source": [
    "print(\"train_df:\", train_df)\n"
   ]
  },
  {
   "cell_type": "code",
   "execution_count": 66,
   "id": "7f6a0fba",
   "metadata": {},
   "outputs": [
    {
     "name": "stdout",
     "output_type": "stream",
     "text": [
      "test_df       velocity_bucket        asin Week_Start_date Week_End_date  \\\n",
      "84               1_SF  B00PMR3QF2      2024-05-06    2024-05-12   \n",
      "85               1_SF  B00PMR3QF2      2024-05-13    2024-05-19   \n",
      "86               1_SF  B00PMR3QF2      2024-05-20    2024-05-26   \n",
      "87               1_SF  B00PMR3QF2      2024-05-27    2024-06-02   \n",
      "88               1_SF  B00PMR3QF2      2024-06-03    2024-06-09   \n",
      "...               ...         ...             ...           ...   \n",
      "23730            4_SM  B0D811N8HV      2024-07-29    2024-08-04   \n",
      "23731            4_SM  B0D811N8HV      2024-08-05    2024-08-11   \n",
      "23732            4_SM  B0D811N8HV      2024-08-12    2024-08-18   \n",
      "23733            4_SM  B0D811N8HV      2024-08-19    2024-08-25   \n",
      "23734            4_SM  B0D811N8HV      2024-08-26    2024-09-01   \n",
      "\n",
      "       organic_gmv_units  inorganic_gmv_units  gmv_units   asp_week  \\\n",
      "84             2279.6918            2944.6377       5272  10.126884   \n",
      "85              988.9535             775.0357       1774  15.971567   \n",
      "86              816.4571             272.9077       1100  16.061609   \n",
      "87              743.9493             480.7210       1232  15.930057   \n",
      "88             2546.7709            2344.7274       4933  10.080928   \n",
      "...                  ...                  ...        ...        ...   \n",
      "23730            72.6763               1.0000         74   9.025541   \n",
      "23731           102.5283               0.9204        106   9.220189   \n",
      "23732           103.6639               0.0000        104   9.013077   \n",
      "23733            92.7710               0.0000         94   9.111277   \n",
      "23734           102.1923               0.9864        105   9.150857   \n",
      "\n",
      "           ad_spend  inventory_Availability%       gmv  inorganic_gmv  \\\n",
      "84     12560.099224                    100.0  53388.93       29818.10   \n",
      "85      4425.383745                    100.0  28333.56       12378.47   \n",
      "86      1647.974694                    100.0  17667.77        4391.79   \n",
      "87      3987.756753                    100.0  19625.83        7643.19   \n",
      "88      9075.009429                    100.0  49729.22       23637.30   \n",
      "...             ...                      ...       ...            ...   \n",
      "23730      2.541081                    100.0    667.89           8.99   \n",
      "23731      6.148061                    100.0    977.34           8.99   \n",
      "23732      0.000000                    100.0    937.36           0.00   \n",
      "23733      0.000000                    100.0    856.46           0.00   \n",
      "23734      1.462254                    100.0    960.84           8.99   \n",
      "\n",
      "       organic_gmv  inventory_available classification  \n",
      "84        23087.56               112692         Smooth  \n",
      "85        15795.19               108699         Smooth  \n",
      "86        13104.90               103875         Smooth  \n",
      "87        11865.61               227322         Smooth  \n",
      "88        25673.50               240204         Smooth  \n",
      "...            ...                  ...            ...  \n",
      "23730       655.91                13577         Smooth  \n",
      "23731       943.59                12717         Smooth  \n",
      "23732       934.24                12485         Smooth  \n",
      "23733       844.70                11720         Smooth  \n",
      "23734       934.96                10909         Smooth  \n",
      "\n",
      "[2522 rows x 15 columns]\n"
     ]
    }
   ],
   "source": [
    "print(\"test_df\",test_df)"
   ]
  },
  {
   "cell_type": "markdown",
   "id": "30bba00b",
   "metadata": {},
   "source": [
    "#version 3: day level x holidays\n",
    "# GMV_units forecasting\n",
    "\n",
    "import pandas as pd\n",
    "from prophet import Prophet\n",
    "from sklearn.metrics import mean_absolute_error, r2_score\n",
    "from pandas.tseries.holiday import USFederalHolidayCalendar as calendar\n",
    "\n",
    "# Define exogenous variables\n",
    "exogenous_vars = ['asp_week', 'ad_spend']\n",
    "\n",
    "# Prepare dictionaries to store results\n",
    "X_train_fb2 = {}\n",
    "X_test_fb2 = {}\n",
    "y_test_fb_pred2 = {}\n",
    "\n",
    "# Generate U.S. holidays DataFrame\n",
    "cal = calendar()\n",
    "holidays = cal.holidays(start=train_df['Week_Start_date'].min(), end=test_df['Week_Start_date'].max(), return_name=True)\n",
    "holiday_df = pd.DataFrame(data=holidays, columns=['holiday'])\n",
    "holiday_df = holiday_df.reset_index().rename(columns={'index': 'ds'})\n",
    "\n",
    "for asin in train_df['asin'].unique():\n",
    "    print(f\"Processing ASIN: {asin}\")\n",
    "    \n",
    "    # Filter the training data for the current ASIN\n",
    "    asin_train_data = train_df[train_df['asin'] == asin]\n",
    "    asin_test_data = test_df[test_df['asin'] == asin]\n",
    "    \n",
    "    if asin_train_data.empty or asin_test_data.empty:\n",
    "        print(f\"No data found for ASIN: {asin}\")\n",
    "        continue\n",
    "    \n",
    "    # Prepare the training data for Prophet\n",
    "    X_train_fb2[asin] = pd.DataFrame()\n",
    "    X_train_fb2[asin]['ds'] = asin_train_data['Week_Start_date']\n",
    "    X_train_fb2[asin]['y'] = asin_train_data['gmv_units']\n",
    "    \n",
    "    # Add exogenous variables\n",
    "    X_train_fb2[asin][exogenous_vars] = asin_train_data[exogenous_vars]\n",
    "    \n",
    "    # Ensure data types are correct\n",
    "    X_train_fb2[asin]['ds'] = pd.to_datetime(X_train_fb2[asin]['ds'])\n",
    "    X_train_fb2[asin]['y'] = X_train_fb2[asin]['y'].astype(float)\n",
    "    \n",
    "    # Initialize the Prophet model with holidays\n",
    "    model = Prophet(changepoint_prior_scale=0.03, holidays=holiday_df)\n",
    "    \n",
    "    # Add exogenous variables as regressors with standardization\n",
    "    for var in exogenous_vars:\n",
    "        model.add_regressor(var, standardize=True)\n",
    "    \n",
    "    # Fit the model\n",
    "    try:\n",
    "        model.fit(X_train_fb2[asin])\n",
    "    except ValueError as e:\n",
    "        print(f\"Error fitting model for ASIN {asin}: {e}\")\n",
    "        continue\n",
    "    \n",
    "    # Prepare the test data for Prophet\n",
    "    X_test_fb2[asin] = pd.DataFrame()\n",
    "    X_test_fb2[asin]['ds'] = asin_test_data['Week_Start_date']\n",
    "    X_test_fb2[asin][exogenous_vars] = asin_test_data[exogenous_vars]\n",
    "    \n",
    "    # Ensure test data type is correct\n",
    "    X_test_fb2[asin]['ds'] = pd.to_datetime(X_test_fb2[asin]['ds'])\n",
    "    \n",
    "    # Make predictions\n",
    "    try:\n",
    "        forecast_train = model.predict(X_train_fb2[asin].drop(columns=['y']))\n",
    "        forecast_test = model.predict(X_test_fb2[asin])\n",
    "    except ValueError as e:\n",
    "        print(f\"Error generating forecast for ASIN {asin}: {e}\")\n",
    "        continue\n",
    "    \n",
    "    # Store the predictions\n",
    "    y_test_fb_pred2[asin] = forecast_test['yhat'].values\n",
    "    y_test_fb_pred2[asin][y_test_fb_pred2[asin]<0] = 0\n",
    "    y_test_fb_pred2[asin] = y_test_fb_pred2[asin].round(0).astype('int64')\n",
    "    \n",
    "# Create DataFrame with actual and forecasted values\n",
    "df_results = []\n",
    "for asin in y_test_fb_pred2:\n",
    "    asin_test_data = test_df[test_df['asin'] == asin]\n",
    "    df_results.append(pd.DataFrame({\n",
    "        'asin': asin,\n",
    "        'Week_Start_date': asin_test_data['Week_Start_date'],\n",
    "        'actual_outlier_treated': asin_test_data['gmv_units'],\n",
    "        'forecasted_value': y_test_fb_pred2[asin]\n",
    "    }))\n",
    "\n",
    "df_results = pd.concat(df_results, ignore_index=True)\n"
   ]
  },
  {
   "cell_type": "code",
   "execution_count": 68,
   "id": "fa85552a",
   "metadata": {},
   "outputs": [
    {
     "name": "stdout",
     "output_type": "stream",
     "text": [
      "Columns in train_df: Index(['velocity_bucket', 'asin', 'Week_Start_date', 'Week_End_date',\n",
      "       'organic_gmv_units', 'inorganic_gmv_units', 'gmv_units', 'asp_week',\n",
      "       'ad_spend', 'inventory_Availability%', 'gmv', 'inorganic_gmv',\n",
      "       'organic_gmv', 'inventory_available', 'classification'],\n",
      "      dtype='object')\n",
      "Columns in test_df: Index(['velocity_bucket', 'asin', 'Week_Start_date', 'Week_End_date',\n",
      "       'organic_gmv_units', 'inorganic_gmv_units', 'gmv_units', 'asp_week',\n",
      "       'ad_spend', 'inventory_Availability%', 'gmv', 'inorganic_gmv',\n",
      "       'organic_gmv', 'inventory_available', 'classification'],\n",
      "      dtype='object')\n"
     ]
    }
   ],
   "source": [
    "# Ensure 'asin' column exists\n",
    "print(\"Columns in train_df:\", train_df.columns)\n",
    "print(\"Columns in test_df:\", test_df.columns)\n"
   ]
  },
  {
   "cell_type": "code",
   "execution_count": 71,
   "id": "7528fa53",
   "metadata": {
    "scrolled": false
   },
   "outputs": [
    {
     "name": "stdout",
     "output_type": "stream",
     "text": [
      "Processing ASIN: B00PMR3QF2\n"
     ]
    },
    {
     "name": "stderr",
     "output_type": "stream",
     "text": [
      "16:46:33 - cmdstanpy - INFO - Chain [1] start processing\n",
      "16:46:33 - cmdstanpy - INFO - Chain [1] done processing\n",
      "16:46:34 - cmdstanpy - INFO - Chain [1] start processing\n"
     ]
    },
    {
     "name": "stdout",
     "output_type": "stream",
     "text": [
      "Processing ASIN: B00PV15BPW\n"
     ]
    },
    {
     "name": "stderr",
     "output_type": "stream",
     "text": [
      "16:46:34 - cmdstanpy - INFO - Chain [1] done processing\n",
      "16:46:34 - cmdstanpy - INFO - Chain [1] start processing\n"
     ]
    },
    {
     "name": "stdout",
     "output_type": "stream",
     "text": [
      "Processing ASIN: B00QR6SS6O\n"
     ]
    },
    {
     "name": "stderr",
     "output_type": "stream",
     "text": [
      "16:46:34 - cmdstanpy - INFO - Chain [1] done processing\n",
      "16:46:35 - cmdstanpy - INFO - Chain [1] start processing\n"
     ]
    },
    {
     "name": "stdout",
     "output_type": "stream",
     "text": [
      "Processing ASIN: B00QVR0O6Q\n"
     ]
    },
    {
     "name": "stderr",
     "output_type": "stream",
     "text": [
      "16:46:35 - cmdstanpy - INFO - Chain [1] done processing\n",
      "16:46:35 - cmdstanpy - INFO - Chain [1] start processing\n"
     ]
    },
    {
     "name": "stdout",
     "output_type": "stream",
     "text": [
      "Processing ASIN: B00STVN68K\n"
     ]
    },
    {
     "name": "stderr",
     "output_type": "stream",
     "text": [
      "16:46:35 - cmdstanpy - INFO - Chain [1] done processing\n",
      "16:46:35 - cmdstanpy - INFO - Chain [1] start processing\n"
     ]
    },
    {
     "name": "stdout",
     "output_type": "stream",
     "text": [
      "Processing ASIN: B00TSTZQEY\n"
     ]
    },
    {
     "name": "stderr",
     "output_type": "stream",
     "text": [
      "16:46:36 - cmdstanpy - INFO - Chain [1] done processing\n",
      "16:46:36 - cmdstanpy - INFO - Chain [1] start processing\n"
     ]
    },
    {
     "name": "stdout",
     "output_type": "stream",
     "text": [
      "Processing ASIN: B00UREAGU8\n"
     ]
    },
    {
     "name": "stderr",
     "output_type": "stream",
     "text": [
      "16:46:36 - cmdstanpy - INFO - Chain [1] done processing\n",
      "16:46:36 - cmdstanpy - INFO - Chain [1] start processing\n"
     ]
    },
    {
     "name": "stdout",
     "output_type": "stream",
     "text": [
      "Processing ASIN: B00VUNFLM8\n"
     ]
    },
    {
     "name": "stderr",
     "output_type": "stream",
     "text": [
      "16:46:36 - cmdstanpy - INFO - Chain [1] done processing\n",
      "16:46:37 - cmdstanpy - INFO - Chain [1] start processing\n"
     ]
    },
    {
     "name": "stdout",
     "output_type": "stream",
     "text": [
      "Processing ASIN: B0172AL2PM\n"
     ]
    },
    {
     "name": "stderr",
     "output_type": "stream",
     "text": [
      "16:46:37 - cmdstanpy - INFO - Chain [1] done processing\n",
      "16:46:37 - cmdstanpy - INFO - Chain [1] start processing\n"
     ]
    },
    {
     "name": "stdout",
     "output_type": "stream",
     "text": [
      "Processing ASIN: B01767OTVK\n"
     ]
    },
    {
     "name": "stderr",
     "output_type": "stream",
     "text": [
      "16:46:37 - cmdstanpy - INFO - Chain [1] done processing\n",
      "16:46:38 - cmdstanpy - INFO - Chain [1] start processing\n"
     ]
    },
    {
     "name": "stdout",
     "output_type": "stream",
     "text": [
      "Processing ASIN: B0176UQBJU\n"
     ]
    },
    {
     "name": "stderr",
     "output_type": "stream",
     "text": [
      "16:46:38 - cmdstanpy - INFO - Chain [1] done processing\n",
      "16:46:38 - cmdstanpy - INFO - Chain [1] start processing\n"
     ]
    },
    {
     "name": "stdout",
     "output_type": "stream",
     "text": [
      "Processing ASIN: B0176YOIEQ\n"
     ]
    },
    {
     "name": "stderr",
     "output_type": "stream",
     "text": [
      "16:46:38 - cmdstanpy - INFO - Chain [1] done processing\n",
      "16:46:38 - cmdstanpy - INFO - Chain [1] start processing\n"
     ]
    },
    {
     "name": "stdout",
     "output_type": "stream",
     "text": [
      "Processing ASIN: B01BKALLBU\n"
     ]
    },
    {
     "name": "stderr",
     "output_type": "stream",
     "text": [
      "16:46:39 - cmdstanpy - INFO - Chain [1] done processing\n",
      "16:46:39 - cmdstanpy - INFO - Chain [1] start processing\n"
     ]
    },
    {
     "name": "stdout",
     "output_type": "stream",
     "text": [
      "Processing ASIN: B01BKB3C98\n"
     ]
    },
    {
     "name": "stderr",
     "output_type": "stream",
     "text": [
      "16:46:39 - cmdstanpy - INFO - Chain [1] done processing\n",
      "16:46:39 - cmdstanpy - INFO - Chain [1] start processing\n"
     ]
    },
    {
     "name": "stdout",
     "output_type": "stream",
     "text": [
      "Processing ASIN: B01DXRVQ3Q\n"
     ]
    },
    {
     "name": "stderr",
     "output_type": "stream",
     "text": [
      "16:46:39 - cmdstanpy - INFO - Chain [1] done processing\n",
      "16:46:40 - cmdstanpy - INFO - Chain [1] start processing\n"
     ]
    },
    {
     "name": "stdout",
     "output_type": "stream",
     "text": [
      "Processing ASIN: B01IRKTYII\n"
     ]
    },
    {
     "name": "stderr",
     "output_type": "stream",
     "text": [
      "16:46:40 - cmdstanpy - INFO - Chain [1] done processing\n",
      "16:46:40 - cmdstanpy - INFO - Chain [1] start processing\n"
     ]
    },
    {
     "name": "stdout",
     "output_type": "stream",
     "text": [
      "Processing ASIN: B01IRLOTNM\n"
     ]
    },
    {
     "name": "stderr",
     "output_type": "stream",
     "text": [
      "16:46:40 - cmdstanpy - INFO - Chain [1] done processing\n",
      "16:46:40 - cmdstanpy - INFO - Chain [1] start processing\n"
     ]
    },
    {
     "name": "stdout",
     "output_type": "stream",
     "text": [
      "Processing ASIN: B01LWYU1NT\n"
     ]
    },
    {
     "name": "stderr",
     "output_type": "stream",
     "text": [
      "16:46:41 - cmdstanpy - INFO - Chain [1] done processing\n",
      "16:46:41 - cmdstanpy - INFO - Chain [1] start processing\n"
     ]
    },
    {
     "name": "stdout",
     "output_type": "stream",
     "text": [
      "Processing ASIN: B01LX9IIDJ\n"
     ]
    },
    {
     "name": "stderr",
     "output_type": "stream",
     "text": [
      "16:46:41 - cmdstanpy - INFO - Chain [1] done processing\n",
      "16:46:41 - cmdstanpy - INFO - Chain [1] start processing\n"
     ]
    },
    {
     "name": "stdout",
     "output_type": "stream",
     "text": [
      "Processing ASIN: B01LXALVDG\n"
     ]
    },
    {
     "name": "stderr",
     "output_type": "stream",
     "text": [
      "16:46:41 - cmdstanpy - INFO - Chain [1] done processing\n",
      "16:46:42 - cmdstanpy - INFO - Chain [1] start processing\n"
     ]
    },
    {
     "name": "stdout",
     "output_type": "stream",
     "text": [
      "Processing ASIN: B01M07JVC2\n"
     ]
    },
    {
     "name": "stderr",
     "output_type": "stream",
     "text": [
      "16:46:42 - cmdstanpy - INFO - Chain [1] done processing\n",
      "16:46:42 - cmdstanpy - INFO - Chain [1] start processing\n"
     ]
    },
    {
     "name": "stdout",
     "output_type": "stream",
     "text": [
      "Processing ASIN: B01MUCO6ZU\n"
     ]
    },
    {
     "name": "stderr",
     "output_type": "stream",
     "text": [
      "16:46:42 - cmdstanpy - INFO - Chain [1] done processing\n",
      "16:46:42 - cmdstanpy - INFO - Chain [1] start processing\n"
     ]
    },
    {
     "name": "stdout",
     "output_type": "stream",
     "text": [
      "Processing ASIN: B01N1856R7\n"
     ]
    },
    {
     "name": "stderr",
     "output_type": "stream",
     "text": [
      "16:46:43 - cmdstanpy - INFO - Chain [1] done processing\n",
      "16:46:43 - cmdstanpy - INFO - Chain [1] start processing\n"
     ]
    },
    {
     "name": "stdout",
     "output_type": "stream",
     "text": [
      "Processing ASIN: B01N7U6R1F\n"
     ]
    },
    {
     "name": "stderr",
     "output_type": "stream",
     "text": [
      "16:46:43 - cmdstanpy - INFO - Chain [1] done processing\n",
      "16:46:43 - cmdstanpy - INFO - Chain [1] start processing\n"
     ]
    },
    {
     "name": "stdout",
     "output_type": "stream",
     "text": [
      "Processing ASIN: B06XCCVDH7\n"
     ]
    },
    {
     "name": "stderr",
     "output_type": "stream",
     "text": [
      "16:46:43 - cmdstanpy - INFO - Chain [1] done processing\n",
      "16:46:44 - cmdstanpy - INFO - Chain [1] start processing\n"
     ]
    },
    {
     "name": "stdout",
     "output_type": "stream",
     "text": [
      "Processing ASIN: B06XDNKH65\n"
     ]
    },
    {
     "name": "stderr",
     "output_type": "stream",
     "text": [
      "16:46:44 - cmdstanpy - INFO - Chain [1] done processing\n",
      "16:46:44 - cmdstanpy - INFO - Chain [1] start processing\n"
     ]
    },
    {
     "name": "stdout",
     "output_type": "stream",
     "text": [
      "Processing ASIN: B075KWWVR6\n"
     ]
    },
    {
     "name": "stderr",
     "output_type": "stream",
     "text": [
      "16:46:44 - cmdstanpy - INFO - Chain [1] done processing\n",
      "16:46:45 - cmdstanpy - INFO - Chain [1] start processing\n"
     ]
    },
    {
     "name": "stdout",
     "output_type": "stream",
     "text": [
      "Processing ASIN: B076YQ62CH\n"
     ]
    },
    {
     "name": "stderr",
     "output_type": "stream",
     "text": [
      "16:46:45 - cmdstanpy - INFO - Chain [1] done processing\n",
      "16:46:45 - cmdstanpy - INFO - Chain [1] start processing\n"
     ]
    },
    {
     "name": "stdout",
     "output_type": "stream",
     "text": [
      "Processing ASIN: B077KDFFL1\n"
     ]
    },
    {
     "name": "stderr",
     "output_type": "stream",
     "text": [
      "16:46:59 - cmdstanpy - INFO - Chain [1] done processing\n",
      "16:47:00 - cmdstanpy - INFO - Chain [1] start processing\n"
     ]
    },
    {
     "name": "stdout",
     "output_type": "stream",
     "text": [
      "Processing ASIN: B079ZN8SC9\n"
     ]
    },
    {
     "name": "stderr",
     "output_type": "stream",
     "text": [
      "16:47:00 - cmdstanpy - INFO - Chain [1] done processing\n",
      "16:47:00 - cmdstanpy - INFO - Chain [1] start processing\n"
     ]
    },
    {
     "name": "stdout",
     "output_type": "stream",
     "text": [
      "Processing ASIN: B07CP15TC6\n"
     ]
    },
    {
     "name": "stderr",
     "output_type": "stream",
     "text": [
      "16:47:00 - cmdstanpy - INFO - Chain [1] done processing\n",
      "16:47:01 - cmdstanpy - INFO - Chain [1] start processing\n"
     ]
    },
    {
     "name": "stdout",
     "output_type": "stream",
     "text": [
      "Processing ASIN: B07G2M6FHP\n"
     ]
    },
    {
     "name": "stderr",
     "output_type": "stream",
     "text": [
      "16:47:01 - cmdstanpy - INFO - Chain [1] done processing\n"
     ]
    },
    {
     "name": "stdout",
     "output_type": "stream",
     "text": [
      "Processing ASIN: B07G7QVSZT\n"
     ]
    },
    {
     "name": "stderr",
     "output_type": "stream",
     "text": [
      "16:47:01 - cmdstanpy - INFO - Chain [1] start processing\n",
      "16:47:01 - cmdstanpy - INFO - Chain [1] done processing\n"
     ]
    },
    {
     "name": "stdout",
     "output_type": "stream",
     "text": [
      "Processing ASIN: B07G8KG4S7\n"
     ]
    },
    {
     "name": "stderr",
     "output_type": "stream",
     "text": [
      "16:47:01 - cmdstanpy - INFO - Chain [1] start processing\n",
      "16:47:02 - cmdstanpy - INFO - Chain [1] done processing\n"
     ]
    },
    {
     "name": "stdout",
     "output_type": "stream",
     "text": [
      "Processing ASIN: B07G8LV7KX\n"
     ]
    },
    {
     "name": "stderr",
     "output_type": "stream",
     "text": [
      "16:47:02 - cmdstanpy - INFO - Chain [1] start processing\n",
      "16:47:02 - cmdstanpy - INFO - Chain [1] done processing\n"
     ]
    },
    {
     "name": "stdout",
     "output_type": "stream",
     "text": [
      "Processing ASIN: B07G8M3DTX\n"
     ]
    },
    {
     "name": "stderr",
     "output_type": "stream",
     "text": [
      "16:47:02 - cmdstanpy - INFO - Chain [1] start processing\n",
      "16:47:03 - cmdstanpy - INFO - Chain [1] done processing\n",
      "16:47:03 - cmdstanpy - INFO - Chain [1] start processing\n"
     ]
    },
    {
     "name": "stdout",
     "output_type": "stream",
     "text": [
      "Processing ASIN: B07G8MDG19\n"
     ]
    },
    {
     "name": "stderr",
     "output_type": "stream",
     "text": [
      "16:47:03 - cmdstanpy - INFO - Chain [1] done processing\n",
      "16:47:03 - cmdstanpy - INFO - Chain [1] start processing\n"
     ]
    },
    {
     "name": "stdout",
     "output_type": "stream",
     "text": [
      "Processing ASIN: B07G8NDRF7\n"
     ]
    },
    {
     "name": "stderr",
     "output_type": "stream",
     "text": [
      "16:47:04 - cmdstanpy - INFO - Chain [1] done processing\n"
     ]
    },
    {
     "name": "stdout",
     "output_type": "stream",
     "text": [
      "Processing ASIN: B07G8QZ4DY\n"
     ]
    },
    {
     "name": "stderr",
     "output_type": "stream",
     "text": [
      "16:47:04 - cmdstanpy - INFO - Chain [1] start processing\n",
      "16:47:04 - cmdstanpy - INFO - Chain [1] done processing\n",
      "16:47:04 - cmdstanpy - INFO - Chain [1] start processing\n"
     ]
    },
    {
     "name": "stdout",
     "output_type": "stream",
     "text": [
      "Processing ASIN: B07GHC8QB5\n"
     ]
    },
    {
     "name": "stderr",
     "output_type": "stream",
     "text": [
      "16:47:05 - cmdstanpy - INFO - Chain [1] done processing\n",
      "16:47:05 - cmdstanpy - INFO - Chain [1] start processing\n"
     ]
    },
    {
     "name": "stdout",
     "output_type": "stream",
     "text": [
      "Processing ASIN: B07GPDRXDF\n"
     ]
    },
    {
     "name": "stderr",
     "output_type": "stream",
     "text": [
      "16:47:20 - cmdstanpy - INFO - Chain [1] done processing\n"
     ]
    },
    {
     "name": "stdout",
     "output_type": "stream",
     "text": [
      "Processing ASIN: B07GPHG3L7\n"
     ]
    },
    {
     "name": "stderr",
     "output_type": "stream",
     "text": [
      "16:47:21 - cmdstanpy - INFO - Chain [1] start processing\n",
      "16:47:21 - cmdstanpy - INFO - Chain [1] done processing\n",
      "16:47:21 - cmdstanpy - INFO - Chain [1] start processing\n"
     ]
    },
    {
     "name": "stdout",
     "output_type": "stream",
     "text": [
      "Processing ASIN: B07GPK352D\n"
     ]
    },
    {
     "name": "stderr",
     "output_type": "stream",
     "text": [
      "16:47:21 - cmdstanpy - INFO - Chain [1] done processing\n",
      "16:47:21 - cmdstanpy - INFO - Chain [1] start processing\n"
     ]
    },
    {
     "name": "stdout",
     "output_type": "stream",
     "text": [
      "Processing ASIN: B07GPNQZSG\n"
     ]
    },
    {
     "name": "stderr",
     "output_type": "stream",
     "text": [
      "16:47:22 - cmdstanpy - INFO - Chain [1] done processing\n",
      "16:47:22 - cmdstanpy - INFO - Chain [1] start processing\n"
     ]
    },
    {
     "name": "stdout",
     "output_type": "stream",
     "text": [
      "Processing ASIN: B07GPS2MCV\n"
     ]
    },
    {
     "name": "stderr",
     "output_type": "stream",
     "text": [
      "16:47:22 - cmdstanpy - INFO - Chain [1] done processing\n",
      "16:47:22 - cmdstanpy - INFO - Chain [1] start processing\n"
     ]
    },
    {
     "name": "stdout",
     "output_type": "stream",
     "text": [
      "Processing ASIN: B07GQ4N8KR\n"
     ]
    },
    {
     "name": "stderr",
     "output_type": "stream",
     "text": [
      "16:47:23 - cmdstanpy - INFO - Chain [1] done processing\n",
      "16:47:23 - cmdstanpy - INFO - Chain [1] start processing\n"
     ]
    },
    {
     "name": "stdout",
     "output_type": "stream",
     "text": [
      "Processing ASIN: B07HFFGFWD\n"
     ]
    },
    {
     "name": "stderr",
     "output_type": "stream",
     "text": [
      "16:47:38 - cmdstanpy - INFO - Chain [1] done processing\n",
      "16:47:39 - cmdstanpy - INFO - Chain [1] start processing\n"
     ]
    },
    {
     "name": "stdout",
     "output_type": "stream",
     "text": [
      "Processing ASIN: B07HQ4Q4GY\n"
     ]
    },
    {
     "name": "stderr",
     "output_type": "stream",
     "text": [
      "16:47:39 - cmdstanpy - INFO - Chain [1] done processing\n",
      "16:47:39 - cmdstanpy - INFO - Chain [1] start processing\n"
     ]
    },
    {
     "name": "stdout",
     "output_type": "stream",
     "text": [
      "Processing ASIN: B07JD9FS28\n"
     ]
    },
    {
     "name": "stderr",
     "output_type": "stream",
     "text": [
      "16:47:39 - cmdstanpy - INFO - Chain [1] done processing\n",
      "16:47:39 - cmdstanpy - INFO - Chain [1] start processing\n"
     ]
    },
    {
     "name": "stdout",
     "output_type": "stream",
     "text": [
      "Processing ASIN: B07LC2R52N\n"
     ]
    },
    {
     "name": "stderr",
     "output_type": "stream",
     "text": [
      "16:47:40 - cmdstanpy - INFO - Chain [1] done processing\n",
      "16:47:40 - cmdstanpy - INFO - Chain [1] start processing\n"
     ]
    },
    {
     "name": "stdout",
     "output_type": "stream",
     "text": [
      "Processing ASIN: B07M6TF42M\n"
     ]
    },
    {
     "name": "stderr",
     "output_type": "stream",
     "text": [
      "16:47:40 - cmdstanpy - INFO - Chain [1] done processing\n",
      "16:47:40 - cmdstanpy - INFO - Chain [1] start processing\n"
     ]
    },
    {
     "name": "stdout",
     "output_type": "stream",
     "text": [
      "Processing ASIN: B07N2GXFVK\n"
     ]
    },
    {
     "name": "stderr",
     "output_type": "stream",
     "text": [
      "16:47:40 - cmdstanpy - INFO - Chain [1] done processing\n",
      "16:47:41 - cmdstanpy - INFO - Chain [1] start processing\n"
     ]
    },
    {
     "name": "stdout",
     "output_type": "stream",
     "text": [
      "Processing ASIN: B07NS43346\n"
     ]
    },
    {
     "name": "stderr",
     "output_type": "stream",
     "text": [
      "16:47:41 - cmdstanpy - INFO - Chain [1] done processing\n",
      "16:47:41 - cmdstanpy - INFO - Chain [1] start processing\n"
     ]
    },
    {
     "name": "stdout",
     "output_type": "stream",
     "text": [
      "Processing ASIN: B07NS6C8Y9\n"
     ]
    },
    {
     "name": "stderr",
     "output_type": "stream",
     "text": [
      "16:47:41 - cmdstanpy - INFO - Chain [1] done processing\n",
      "16:47:42 - cmdstanpy - INFO - Chain [1] start processing\n"
     ]
    },
    {
     "name": "stdout",
     "output_type": "stream",
     "text": [
      "Processing ASIN: B07P3WRN9L\n"
     ]
    },
    {
     "name": "stderr",
     "output_type": "stream",
     "text": [
      "16:47:42 - cmdstanpy - INFO - Chain [1] done processing\n",
      "16:47:42 - cmdstanpy - INFO - Chain [1] start processing\n"
     ]
    },
    {
     "name": "stdout",
     "output_type": "stream",
     "text": [
      "Processing ASIN: B07P528MHM\n"
     ]
    },
    {
     "name": "stderr",
     "output_type": "stream",
     "text": [
      "16:47:42 - cmdstanpy - INFO - Chain [1] done processing\n",
      "16:47:42 - cmdstanpy - INFO - Chain [1] start processing\n"
     ]
    },
    {
     "name": "stdout",
     "output_type": "stream",
     "text": [
      "Processing ASIN: B07PPWQX7X\n"
     ]
    },
    {
     "name": "stderr",
     "output_type": "stream",
     "text": [
      "16:47:43 - cmdstanpy - INFO - Chain [1] done processing\n",
      "16:47:43 - cmdstanpy - INFO - Chain [1] start processing\n"
     ]
    },
    {
     "name": "stdout",
     "output_type": "stream",
     "text": [
      "Processing ASIN: B07PQWXW5B\n"
     ]
    },
    {
     "name": "stderr",
     "output_type": "stream",
     "text": [
      "16:47:43 - cmdstanpy - INFO - Chain [1] done processing\n",
      "16:47:43 - cmdstanpy - INFO - Chain [1] start processing\n"
     ]
    },
    {
     "name": "stdout",
     "output_type": "stream",
     "text": [
      "Processing ASIN: B07PRDSY6J\n"
     ]
    },
    {
     "name": "stderr",
     "output_type": "stream",
     "text": [
      "16:47:43 - cmdstanpy - INFO - Chain [1] done processing\n",
      "16:47:44 - cmdstanpy - INFO - Chain [1] start processing\n"
     ]
    },
    {
     "name": "stdout",
     "output_type": "stream",
     "text": [
      "Processing ASIN: B07QXV6T4K\n"
     ]
    },
    {
     "name": "stderr",
     "output_type": "stream",
     "text": [
      "16:47:46 - cmdstanpy - INFO - Chain [1] done processing\n",
      "16:47:46 - cmdstanpy - INFO - Chain [1] start processing\n"
     ]
    },
    {
     "name": "stdout",
     "output_type": "stream",
     "text": [
      "Processing ASIN: B07R27WXXB\n"
     ]
    },
    {
     "name": "stderr",
     "output_type": "stream",
     "text": [
      "16:47:46 - cmdstanpy - INFO - Chain [1] done processing\n",
      "16:47:47 - cmdstanpy - INFO - Chain [1] start processing\n"
     ]
    },
    {
     "name": "stdout",
     "output_type": "stream",
     "text": [
      "Processing ASIN: B07R39354D\n"
     ]
    },
    {
     "name": "stderr",
     "output_type": "stream",
     "text": [
      "16:47:47 - cmdstanpy - INFO - Chain [1] done processing\n",
      "16:47:47 - cmdstanpy - INFO - Chain [1] start processing\n"
     ]
    },
    {
     "name": "stdout",
     "output_type": "stream",
     "text": [
      "Processing ASIN: B07RM9DR6C\n"
     ]
    },
    {
     "name": "stderr",
     "output_type": "stream",
     "text": [
      "16:47:47 - cmdstanpy - INFO - Chain [1] done processing\n",
      "16:47:48 - cmdstanpy - INFO - Chain [1] start processing\n"
     ]
    },
    {
     "name": "stdout",
     "output_type": "stream",
     "text": [
      "Processing ASIN: B07XSN63KL\n"
     ]
    },
    {
     "name": "stderr",
     "output_type": "stream",
     "text": [
      "16:47:48 - cmdstanpy - INFO - Chain [1] done processing\n",
      "16:47:48 - cmdstanpy - INFO - Chain [1] start processing\n"
     ]
    },
    {
     "name": "stdout",
     "output_type": "stream",
     "text": [
      "Processing ASIN: B07Y29JGSK\n"
     ]
    },
    {
     "name": "stderr",
     "output_type": "stream",
     "text": [
      "16:47:48 - cmdstanpy - INFO - Chain [1] done processing\n",
      "16:47:49 - cmdstanpy - INFO - Chain [1] start processing\n"
     ]
    },
    {
     "name": "stdout",
     "output_type": "stream",
     "text": [
      "Processing ASIN: B07ZJT647G\n"
     ]
    },
    {
     "name": "stderr",
     "output_type": "stream",
     "text": [
      "16:47:49 - cmdstanpy - INFO - Chain [1] done processing\n",
      "16:47:49 - cmdstanpy - INFO - Chain [1] start processing\n"
     ]
    },
    {
     "name": "stdout",
     "output_type": "stream",
     "text": [
      "Processing ASIN: B081C84KCS\n"
     ]
    },
    {
     "name": "stderr",
     "output_type": "stream",
     "text": [
      "16:47:49 - cmdstanpy - INFO - Chain [1] done processing\n",
      "16:47:49 - cmdstanpy - INFO - Chain [1] start processing\n"
     ]
    },
    {
     "name": "stdout",
     "output_type": "stream",
     "text": [
      "Processing ASIN: B082XJ6HRF\n"
     ]
    },
    {
     "name": "stderr",
     "output_type": "stream",
     "text": [
      "16:47:50 - cmdstanpy - INFO - Chain [1] done processing\n"
     ]
    },
    {
     "name": "stdout",
     "output_type": "stream",
     "text": [
      "Processing ASIN: B085KS85KX\n"
     ]
    },
    {
     "name": "stderr",
     "output_type": "stream",
     "text": [
      "16:47:50 - cmdstanpy - INFO - Chain [1] start processing\n",
      "16:47:50 - cmdstanpy - INFO - Chain [1] done processing\n",
      "16:47:50 - cmdstanpy - INFO - Chain [1] start processing\n"
     ]
    },
    {
     "name": "stdout",
     "output_type": "stream",
     "text": [
      "Processing ASIN: B085KW8Z1S\n"
     ]
    },
    {
     "name": "stderr",
     "output_type": "stream",
     "text": [
      "16:47:51 - cmdstanpy - INFO - Chain [1] done processing\n"
     ]
    },
    {
     "name": "stdout",
     "output_type": "stream",
     "text": [
      "Processing ASIN: B085WZ5187\n"
     ]
    },
    {
     "name": "stderr",
     "output_type": "stream",
     "text": [
      "16:47:51 - cmdstanpy - INFO - Chain [1] start processing\n",
      "16:47:51 - cmdstanpy - INFO - Chain [1] done processing\n",
      "16:47:51 - cmdstanpy - INFO - Chain [1] start processing\n"
     ]
    },
    {
     "name": "stdout",
     "output_type": "stream",
     "text": [
      "Processing ASIN: B0871MYG6R\n"
     ]
    },
    {
     "name": "stderr",
     "output_type": "stream",
     "text": [
      "16:47:52 - cmdstanpy - INFO - Chain [1] done processing\n",
      "16:47:52 - cmdstanpy - INFO - Chain [1] start processing\n"
     ]
    },
    {
     "name": "stdout",
     "output_type": "stream",
     "text": [
      "Processing ASIN: B088PBW37Q\n"
     ]
    },
    {
     "name": "stderr",
     "output_type": "stream",
     "text": [
      "16:47:52 - cmdstanpy - INFO - Chain [1] done processing\n",
      "16:47:52 - cmdstanpy - INFO - Chain [1] start processing\n"
     ]
    },
    {
     "name": "stdout",
     "output_type": "stream",
     "text": [
      "Processing ASIN: B08B85MWMX\n"
     ]
    },
    {
     "name": "stderr",
     "output_type": "stream",
     "text": [
      "16:47:53 - cmdstanpy - INFO - Chain [1] done processing\n",
      "16:47:53 - cmdstanpy - INFO - Chain [1] start processing\n"
     ]
    },
    {
     "name": "stdout",
     "output_type": "stream",
     "text": [
      "Processing ASIN: B08BDBZMXV\n"
     ]
    },
    {
     "name": "stderr",
     "output_type": "stream",
     "text": [
      "16:47:53 - cmdstanpy - INFO - Chain [1] done processing\n",
      "16:47:53 - cmdstanpy - INFO - Chain [1] start processing\n"
     ]
    },
    {
     "name": "stdout",
     "output_type": "stream",
     "text": [
      "Processing ASIN: B08BG67576\n"
     ]
    },
    {
     "name": "stderr",
     "output_type": "stream",
     "text": [
      "16:47:54 - cmdstanpy - INFO - Chain [1] done processing\n"
     ]
    },
    {
     "name": "stdout",
     "output_type": "stream",
     "text": [
      "Processing ASIN: B08D2HWV3K\n"
     ]
    },
    {
     "name": "stderr",
     "output_type": "stream",
     "text": [
      "16:47:54 - cmdstanpy - INFO - Chain [1] start processing\n",
      "16:47:54 - cmdstanpy - INFO - Chain [1] done processing\n",
      "16:47:55 - cmdstanpy - INFO - Chain [1] start processing\n"
     ]
    },
    {
     "name": "stdout",
     "output_type": "stream",
     "text": [
      "Processing ASIN: B08DJXYRF1\n"
     ]
    },
    {
     "name": "stderr",
     "output_type": "stream",
     "text": [
      "16:47:55 - cmdstanpy - INFO - Chain [1] done processing\n",
      "16:47:55 - cmdstanpy - INFO - Chain [1] start processing\n"
     ]
    },
    {
     "name": "stdout",
     "output_type": "stream",
     "text": [
      "Processing ASIN: B08DKBBYXQ\n"
     ]
    },
    {
     "name": "stderr",
     "output_type": "stream",
     "text": [
      "16:48:01 - cmdstanpy - INFO - Chain [1] done processing\n",
      "16:48:01 - cmdstanpy - INFO - Chain [1] start processing\n"
     ]
    },
    {
     "name": "stdout",
     "output_type": "stream",
     "text": [
      "Processing ASIN: B08HR8HPPG\n"
     ]
    },
    {
     "name": "stderr",
     "output_type": "stream",
     "text": [
      "16:48:02 - cmdstanpy - INFO - Chain [1] done processing\n",
      "16:48:02 - cmdstanpy - INFO - Chain [1] start processing\n"
     ]
    },
    {
     "name": "stdout",
     "output_type": "stream",
     "text": [
      "Processing ASIN: B08K9CDH4Y\n"
     ]
    },
    {
     "name": "stderr",
     "output_type": "stream",
     "text": [
      "16:48:02 - cmdstanpy - INFO - Chain [1] done processing\n",
      "16:48:02 - cmdstanpy - INFO - Chain [1] start processing\n"
     ]
    },
    {
     "name": "stdout",
     "output_type": "stream",
     "text": [
      "Processing ASIN: B08KGHD5L9\n"
     ]
    },
    {
     "name": "stderr",
     "output_type": "stream",
     "text": [
      "16:48:02 - cmdstanpy - INFO - Chain [1] done processing\n",
      "16:48:03 - cmdstanpy - INFO - Chain [1] start processing\n"
     ]
    },
    {
     "name": "stdout",
     "output_type": "stream",
     "text": [
      "Processing ASIN: B08KSFZXPB\n"
     ]
    },
    {
     "name": "stderr",
     "output_type": "stream",
     "text": [
      "16:48:03 - cmdstanpy - INFO - Chain [1] done processing\n"
     ]
    },
    {
     "name": "stdout",
     "output_type": "stream",
     "text": [
      "Processing ASIN: B08L3XW7CW\n"
     ]
    },
    {
     "name": "stderr",
     "output_type": "stream",
     "text": [
      "16:48:03 - cmdstanpy - INFO - Chain [1] start processing\n",
      "16:48:03 - cmdstanpy - INFO - Chain [1] done processing\n",
      "16:48:04 - cmdstanpy - INFO - Chain [1] start processing\n"
     ]
    },
    {
     "name": "stdout",
     "output_type": "stream",
     "text": [
      "Processing ASIN: B08L3Z6CW4\n"
     ]
    },
    {
     "name": "stderr",
     "output_type": "stream",
     "text": [
      "16:48:04 - cmdstanpy - INFO - Chain [1] done processing\n",
      "16:48:04 - cmdstanpy - INFO - Chain [1] start processing\n"
     ]
    },
    {
     "name": "stdout",
     "output_type": "stream",
     "text": [
      "Processing ASIN: B08L41RB8F\n"
     ]
    },
    {
     "name": "stderr",
     "output_type": "stream",
     "text": [
      "16:48:04 - cmdstanpy - INFO - Chain [1] done processing\n",
      "16:48:04 - cmdstanpy - INFO - Chain [1] start processing\n"
     ]
    },
    {
     "name": "stdout",
     "output_type": "stream",
     "text": [
      "Processing ASIN: B08VW53HN6\n"
     ]
    },
    {
     "name": "stderr",
     "output_type": "stream",
     "text": [
      "16:48:05 - cmdstanpy - INFO - Chain [1] done processing\n"
     ]
    },
    {
     "name": "stdout",
     "output_type": "stream",
     "text": [
      "Processing ASIN: B08VWCZYZ6\n"
     ]
    },
    {
     "name": "stderr",
     "output_type": "stream",
     "text": [
      "16:48:05 - cmdstanpy - INFO - Chain [1] start processing\n",
      "16:48:05 - cmdstanpy - INFO - Chain [1] done processing\n"
     ]
    },
    {
     "name": "stdout",
     "output_type": "stream",
     "text": [
      "Processing ASIN: B08YS67HRW\n"
     ]
    },
    {
     "name": "stderr",
     "output_type": "stream",
     "text": [
      "16:48:06 - cmdstanpy - INFO - Chain [1] start processing\n",
      "16:48:06 - cmdstanpy - INFO - Chain [1] done processing\n",
      "16:48:06 - cmdstanpy - INFO - Chain [1] start processing\n"
     ]
    },
    {
     "name": "stdout",
     "output_type": "stream",
     "text": [
      "Processing ASIN: B091DKHXW4\n"
     ]
    },
    {
     "name": "stderr",
     "output_type": "stream",
     "text": [
      "16:48:06 - cmdstanpy - INFO - Chain [1] done processing\n",
      "16:48:06 - cmdstanpy - INFO - Chain [1] start processing\n"
     ]
    },
    {
     "name": "stdout",
     "output_type": "stream",
     "text": [
      "Processing ASIN: B099CD48QT\n"
     ]
    },
    {
     "name": "stderr",
     "output_type": "stream",
     "text": [
      "16:48:07 - cmdstanpy - INFO - Chain [1] done processing\n"
     ]
    },
    {
     "name": "stdout",
     "output_type": "stream",
     "text": [
      "Processing ASIN: B09DQ4SSSM\n"
     ]
    },
    {
     "name": "stderr",
     "output_type": "stream",
     "text": [
      "16:48:07 - cmdstanpy - INFO - Chain [1] start processing\n",
      "16:48:07 - cmdstanpy - INFO - Chain [1] done processing\n"
     ]
    },
    {
     "name": "stdout",
     "output_type": "stream",
     "text": [
      "Processing ASIN: B09DZ5BDMV\n"
     ]
    },
    {
     "name": "stderr",
     "output_type": "stream",
     "text": [
      "16:48:07 - cmdstanpy - INFO - Chain [1] start processing\n",
      "16:48:08 - cmdstanpy - INFO - Chain [1] done processing\n",
      "16:48:08 - cmdstanpy - INFO - Chain [1] start processing\n"
     ]
    },
    {
     "name": "stdout",
     "output_type": "stream",
     "text": [
      "Processing ASIN: B09F9YSS2L\n"
     ]
    },
    {
     "name": "stderr",
     "output_type": "stream",
     "text": [
      "16:48:08 - cmdstanpy - INFO - Chain [1] done processing\n"
     ]
    },
    {
     "name": "stdout",
     "output_type": "stream",
     "text": [
      "Processing ASIN: B09G3LJLLQ\n"
     ]
    },
    {
     "name": "stderr",
     "output_type": "stream",
     "text": [
      "16:48:08 - cmdstanpy - INFO - Chain [1] start processing\n",
      "16:48:09 - cmdstanpy - INFO - Chain [1] done processing\n",
      "16:48:09 - cmdstanpy - INFO - Chain [1] start processing\n"
     ]
    },
    {
     "name": "stdout",
     "output_type": "stream",
     "text": [
      "Processing ASIN: B09GV1ZCSX\n"
     ]
    },
    {
     "name": "stderr",
     "output_type": "stream",
     "text": [
      "16:48:09 - cmdstanpy - INFO - Chain [1] done processing\n",
      "16:48:09 - cmdstanpy - INFO - Chain [1] start processing\n"
     ]
    },
    {
     "name": "stdout",
     "output_type": "stream",
     "text": [
      "Processing ASIN: B09HSMQJ99\n"
     ]
    },
    {
     "name": "stderr",
     "output_type": "stream",
     "text": [
      "16:48:09 - cmdstanpy - INFO - Chain [1] done processing\n",
      "16:48:10 - cmdstanpy - INFO - Chain [1] start processing\n"
     ]
    },
    {
     "name": "stdout",
     "output_type": "stream",
     "text": [
      "Processing ASIN: B09HSQLT81\n"
     ]
    },
    {
     "name": "stderr",
     "output_type": "stream",
     "text": [
      "16:48:10 - cmdstanpy - INFO - Chain [1] done processing\n",
      "16:48:10 - cmdstanpy - INFO - Chain [1] start processing\n"
     ]
    },
    {
     "name": "stdout",
     "output_type": "stream",
     "text": [
      "Processing ASIN: B09HSQQ8SY\n"
     ]
    },
    {
     "name": "stderr",
     "output_type": "stream",
     "text": [
      "16:48:10 - cmdstanpy - INFO - Chain [1] done processing\n",
      "16:48:11 - cmdstanpy - INFO - Chain [1] start processing\n"
     ]
    },
    {
     "name": "stdout",
     "output_type": "stream",
     "text": [
      "Processing ASIN: B09JL834PX\n"
     ]
    },
    {
     "name": "stderr",
     "output_type": "stream",
     "text": [
      "16:48:11 - cmdstanpy - INFO - Chain [1] done processing\n",
      "16:48:11 - cmdstanpy - INFO - Chain [1] start processing\n"
     ]
    },
    {
     "name": "stdout",
     "output_type": "stream",
     "text": [
      "Processing ASIN: B09JL8BG45\n"
     ]
    },
    {
     "name": "stderr",
     "output_type": "stream",
     "text": [
      "16:48:11 - cmdstanpy - INFO - Chain [1] done processing\n",
      "16:48:11 - cmdstanpy - INFO - Chain [1] start processing\n"
     ]
    },
    {
     "name": "stdout",
     "output_type": "stream",
     "text": [
      "Processing ASIN: B09JL8V6RB\n"
     ]
    },
    {
     "name": "stderr",
     "output_type": "stream",
     "text": [
      "16:48:12 - cmdstanpy - INFO - Chain [1] done processing\n",
      "16:48:12 - cmdstanpy - INFO - Chain [1] start processing\n"
     ]
    },
    {
     "name": "stdout",
     "output_type": "stream",
     "text": [
      "Processing ASIN: B09JR7JLGM\n"
     ]
    },
    {
     "name": "stderr",
     "output_type": "stream",
     "text": [
      "16:48:12 - cmdstanpy - INFO - Chain [1] done processing\n",
      "16:48:12 - cmdstanpy - INFO - Chain [1] start processing\n"
     ]
    },
    {
     "name": "stdout",
     "output_type": "stream",
     "text": [
      "Processing ASIN: B09N7Y78Q7\n"
     ]
    },
    {
     "name": "stderr",
     "output_type": "stream",
     "text": [
      "16:48:12 - cmdstanpy - INFO - Chain [1] done processing\n",
      "16:48:13 - cmdstanpy - INFO - Chain [1] start processing\n"
     ]
    },
    {
     "name": "stdout",
     "output_type": "stream",
     "text": [
      "Processing ASIN: B09P25LZNV\n"
     ]
    },
    {
     "name": "stderr",
     "output_type": "stream",
     "text": [
      "16:48:13 - cmdstanpy - INFO - Chain [1] done processing\n",
      "16:48:13 - cmdstanpy - INFO - Chain [1] start processing\n"
     ]
    },
    {
     "name": "stdout",
     "output_type": "stream",
     "text": [
      "Processing ASIN: B09PSQDWLV\n"
     ]
    },
    {
     "name": "stderr",
     "output_type": "stream",
     "text": [
      "16:48:13 - cmdstanpy - INFO - Chain [1] done processing\n",
      "16:48:13 - cmdstanpy - INFO - Chain [1] start processing\n"
     ]
    },
    {
     "name": "stdout",
     "output_type": "stream",
     "text": [
      "Processing ASIN: B09QMT3CVT\n"
     ]
    },
    {
     "name": "stderr",
     "output_type": "stream",
     "text": [
      "16:48:14 - cmdstanpy - INFO - Chain [1] done processing\n",
      "16:48:14 - cmdstanpy - INFO - Chain [1] start processing\n"
     ]
    },
    {
     "name": "stdout",
     "output_type": "stream",
     "text": [
      "Processing ASIN: B09QNKBF6F\n"
     ]
    },
    {
     "name": "stderr",
     "output_type": "stream",
     "text": [
      "16:48:14 - cmdstanpy - INFO - Chain [1] done processing\n",
      "16:48:14 - cmdstanpy - INFO - Chain [1] start processing\n"
     ]
    },
    {
     "name": "stdout",
     "output_type": "stream",
     "text": [
      "Processing ASIN: B09RYRHYHH\n"
     ]
    },
    {
     "name": "stderr",
     "output_type": "stream",
     "text": [
      "16:48:14 - cmdstanpy - INFO - Chain [1] done processing\n",
      "16:48:15 - cmdstanpy - INFO - Chain [1] start processing\n"
     ]
    },
    {
     "name": "stdout",
     "output_type": "stream",
     "text": [
      "Processing ASIN: B09S1ZZ9CZ\n"
     ]
    },
    {
     "name": "stderr",
     "output_type": "stream",
     "text": [
      "16:48:15 - cmdstanpy - INFO - Chain [1] done processing\n"
     ]
    },
    {
     "name": "stdout",
     "output_type": "stream",
     "text": [
      "Processing ASIN: B09S26ZF1N\n"
     ]
    },
    {
     "name": "stderr",
     "output_type": "stream",
     "text": [
      "16:48:15 - cmdstanpy - INFO - Chain [1] start processing\n",
      "16:48:15 - cmdstanpy - INFO - Chain [1] done processing\n",
      "16:48:16 - cmdstanpy - INFO - Chain [1] start processing\n"
     ]
    },
    {
     "name": "stdout",
     "output_type": "stream",
     "text": [
      "Processing ASIN: B09S27HQ62\n"
     ]
    },
    {
     "name": "stderr",
     "output_type": "stream",
     "text": [
      "16:48:16 - cmdstanpy - INFO - Chain [1] done processing\n",
      "16:48:16 - cmdstanpy - INFO - Chain [1] start processing\n"
     ]
    },
    {
     "name": "stdout",
     "output_type": "stream",
     "text": [
      "Processing ASIN: B09S28PGXD\n"
     ]
    },
    {
     "name": "stderr",
     "output_type": "stream",
     "text": [
      "16:48:16 - cmdstanpy - INFO - Chain [1] done processing\n",
      "16:48:17 - cmdstanpy - INFO - Chain [1] start processing\n"
     ]
    },
    {
     "name": "stdout",
     "output_type": "stream",
     "text": [
      "Processing ASIN: B09S2B9221\n"
     ]
    },
    {
     "name": "stderr",
     "output_type": "stream",
     "text": [
      "16:48:17 - cmdstanpy - INFO - Chain [1] done processing\n",
      "16:48:17 - cmdstanpy - INFO - Chain [1] start processing\n"
     ]
    },
    {
     "name": "stdout",
     "output_type": "stream",
     "text": [
      "Processing ASIN: B09S2H6PPY\n"
     ]
    },
    {
     "name": "stderr",
     "output_type": "stream",
     "text": [
      "16:48:17 - cmdstanpy - INFO - Chain [1] done processing\n"
     ]
    },
    {
     "name": "stdout",
     "output_type": "stream",
     "text": [
      "Processing ASIN: B09XQBVP4L\n"
     ]
    },
    {
     "name": "stderr",
     "output_type": "stream",
     "text": [
      "16:48:18 - cmdstanpy - INFO - Chain [1] start processing\n",
      "16:48:18 - cmdstanpy - INFO - Chain [1] done processing\n",
      "16:48:18 - cmdstanpy - INFO - Chain [1] start processing\n"
     ]
    },
    {
     "name": "stdout",
     "output_type": "stream",
     "text": [
      "Processing ASIN: B0B86PTXC7\n"
     ]
    },
    {
     "name": "stderr",
     "output_type": "stream",
     "text": [
      "16:48:18 - cmdstanpy - INFO - Chain [1] done processing\n",
      "16:48:18 - cmdstanpy - INFO - Chain [1] start processing\n"
     ]
    },
    {
     "name": "stdout",
     "output_type": "stream",
     "text": [
      "Processing ASIN: B0B9168ZLY\n"
     ]
    },
    {
     "name": "stderr",
     "output_type": "stream",
     "text": [
      "16:48:19 - cmdstanpy - INFO - Chain [1] done processing\n",
      "16:48:19 - cmdstanpy - INFO - Chain [1] start processing\n"
     ]
    },
    {
     "name": "stdout",
     "output_type": "stream",
     "text": [
      "Processing ASIN: B0B916GSYF\n"
     ]
    },
    {
     "name": "stderr",
     "output_type": "stream",
     "text": [
      "16:48:19 - cmdstanpy - INFO - Chain [1] done processing\n",
      "16:48:19 - cmdstanpy - INFO - Chain [1] start processing\n"
     ]
    },
    {
     "name": "stdout",
     "output_type": "stream",
     "text": [
      "Processing ASIN: B0B9172ZB1\n"
     ]
    },
    {
     "name": "stderr",
     "output_type": "stream",
     "text": [
      "16:48:19 - cmdstanpy - INFO - Chain [1] done processing\n",
      "16:48:20 - cmdstanpy - INFO - Chain [1] start processing\n"
     ]
    },
    {
     "name": "stdout",
     "output_type": "stream",
     "text": [
      "Processing ASIN: B0B917D3PT\n"
     ]
    },
    {
     "name": "stderr",
     "output_type": "stream",
     "text": [
      "16:48:20 - cmdstanpy - INFO - Chain [1] done processing\n",
      "16:48:20 - cmdstanpy - INFO - Chain [1] start processing\n"
     ]
    },
    {
     "name": "stdout",
     "output_type": "stream",
     "text": [
      "Processing ASIN: B0B917GVQB\n"
     ]
    },
    {
     "name": "stderr",
     "output_type": "stream",
     "text": [
      "16:48:20 - cmdstanpy - INFO - Chain [1] done processing\n",
      "16:48:21 - cmdstanpy - INFO - Chain [1] start processing\n"
     ]
    },
    {
     "name": "stdout",
     "output_type": "stream",
     "text": [
      "Processing ASIN: B0B917H54K\n"
     ]
    },
    {
     "name": "stderr",
     "output_type": "stream",
     "text": [
      "16:48:21 - cmdstanpy - INFO - Chain [1] done processing\n"
     ]
    },
    {
     "name": "stdout",
     "output_type": "stream",
     "text": [
      "Processing ASIN: B0B917SHXV\n"
     ]
    },
    {
     "name": "stderr",
     "output_type": "stream",
     "text": [
      "16:48:21 - cmdstanpy - INFO - Chain [1] start processing\n",
      "16:48:21 - cmdstanpy - INFO - Chain [1] done processing\n",
      "16:48:22 - cmdstanpy - INFO - Chain [1] start processing\n"
     ]
    },
    {
     "name": "stdout",
     "output_type": "stream",
     "text": [
      "Processing ASIN: B0B9194J2B\n"
     ]
    },
    {
     "name": "stderr",
     "output_type": "stream",
     "text": [
      "16:48:22 - cmdstanpy - INFO - Chain [1] done processing\n"
     ]
    },
    {
     "name": "stdout",
     "output_type": "stream",
     "text": [
      "Processing ASIN: B0B919Q5RM\n"
     ]
    },
    {
     "name": "stderr",
     "output_type": "stream",
     "text": [
      "16:48:22 - cmdstanpy - INFO - Chain [1] start processing\n",
      "16:48:23 - cmdstanpy - INFO - Chain [1] done processing\n"
     ]
    },
    {
     "name": "stdout",
     "output_type": "stream",
     "text": [
      "Processing ASIN: B0B91LZ8L7\n"
     ]
    },
    {
     "name": "stderr",
     "output_type": "stream",
     "text": [
      "16:48:23 - cmdstanpy - INFO - Chain [1] start processing\n",
      "16:48:23 - cmdstanpy - INFO - Chain [1] done processing\n"
     ]
    },
    {
     "name": "stdout",
     "output_type": "stream",
     "text": [
      "Processing ASIN: B0BH84XZY4\n"
     ]
    },
    {
     "name": "stderr",
     "output_type": "stream",
     "text": [
      "16:48:23 - cmdstanpy - INFO - Chain [1] start processing\n",
      "16:48:24 - cmdstanpy - INFO - Chain [1] done processing\n"
     ]
    },
    {
     "name": "stdout",
     "output_type": "stream",
     "text": [
      "Processing ASIN: B0C2Z44JLK\n"
     ]
    },
    {
     "name": "stderr",
     "output_type": "stream",
     "text": [
      "16:48:24 - cmdstanpy - INFO - Chain [1] start processing\n",
      "16:48:24 - cmdstanpy - INFO - Chain [1] done processing\n",
      "16:48:24 - cmdstanpy - INFO - Chain [1] start processing\n"
     ]
    },
    {
     "name": "stdout",
     "output_type": "stream",
     "text": [
      "Processing ASIN: B0C2Z8QT9V\n"
     ]
    },
    {
     "name": "stderr",
     "output_type": "stream",
     "text": [
      "16:48:24 - cmdstanpy - INFO - Chain [1] done processing\n",
      "16:48:25 - cmdstanpy - INFO - Chain [1] start processing\n"
     ]
    },
    {
     "name": "stdout",
     "output_type": "stream",
     "text": [
      "Processing ASIN: B0C656HMKC\n"
     ]
    },
    {
     "name": "stderr",
     "output_type": "stream",
     "text": [
      "16:48:25 - cmdstanpy - INFO - Chain [1] done processing\n",
      "16:48:25 - cmdstanpy - INFO - Chain [1] start processing\n"
     ]
    },
    {
     "name": "stdout",
     "output_type": "stream",
     "text": [
      "Processing ASIN: B0C656PN55\n"
     ]
    },
    {
     "name": "stderr",
     "output_type": "stream",
     "text": [
      "16:48:25 - cmdstanpy - INFO - Chain [1] done processing\n",
      "16:48:26 - cmdstanpy - INFO - Chain [1] start processing\n"
     ]
    },
    {
     "name": "stdout",
     "output_type": "stream",
     "text": [
      "Processing ASIN: B0C658PXB1\n"
     ]
    },
    {
     "name": "stderr",
     "output_type": "stream",
     "text": [
      "16:48:26 - cmdstanpy - INFO - Chain [1] done processing\n",
      "16:48:26 - cmdstanpy - INFO - Chain [1] start processing\n"
     ]
    },
    {
     "name": "stdout",
     "output_type": "stream",
     "text": [
      "Processing ASIN: B0C65C3TBL\n"
     ]
    },
    {
     "name": "stderr",
     "output_type": "stream",
     "text": [
      "16:48:26 - cmdstanpy - INFO - Chain [1] done processing\n",
      "16:48:26 - cmdstanpy - INFO - Chain [1] start processing\n"
     ]
    },
    {
     "name": "stdout",
     "output_type": "stream",
     "text": [
      "Processing ASIN: B0CH313718\n"
     ]
    },
    {
     "name": "stderr",
     "output_type": "stream",
     "text": [
      "16:48:26 - cmdstanpy - INFO - Chain [1] done processing\n",
      "16:48:27 - cmdstanpy - INFO - Chain [1] start processing\n"
     ]
    },
    {
     "name": "stdout",
     "output_type": "stream",
     "text": [
      "Processing ASIN: B0CHBBQXY6\n"
     ]
    },
    {
     "name": "stderr",
     "output_type": "stream",
     "text": [
      "16:48:27 - cmdstanpy - INFO - Chain [1] done processing\n",
      "16:48:27 - cmdstanpy - INFO - Chain [1] start processing\n"
     ]
    },
    {
     "name": "stdout",
     "output_type": "stream",
     "text": [
      "Processing ASIN: B0CHBNK3ZD\n"
     ]
    },
    {
     "name": "stderr",
     "output_type": "stream",
     "text": [
      "16:48:27 - cmdstanpy - INFO - Chain [1] done processing\n",
      "16:48:27 - cmdstanpy - INFO - Chain [1] start processing\n"
     ]
    },
    {
     "name": "stdout",
     "output_type": "stream",
     "text": [
      "Processing ASIN: B0CHG17WP9\n"
     ]
    },
    {
     "name": "stderr",
     "output_type": "stream",
     "text": [
      "16:48:27 - cmdstanpy - INFO - Chain [1] done processing\n",
      "16:48:28 - cmdstanpy - INFO - Chain [1] start processing\n"
     ]
    },
    {
     "name": "stdout",
     "output_type": "stream",
     "text": [
      "Processing ASIN: B0CKF1WBRV\n"
     ]
    },
    {
     "name": "stderr",
     "output_type": "stream",
     "text": [
      "16:48:28 - cmdstanpy - INFO - Chain [1] done processing\n",
      "16:48:28 - cmdstanpy - INFO - Chain [1] start processing\n"
     ]
    },
    {
     "name": "stdout",
     "output_type": "stream",
     "text": [
      "Processing ASIN: B0CKVX37KH\n"
     ]
    },
    {
     "name": "stderr",
     "output_type": "stream",
     "text": [
      "16:48:30 - cmdstanpy - INFO - Chain [1] done processing\n",
      "16:48:30 - cmdstanpy - INFO - Chain [1] start processing\n"
     ]
    },
    {
     "name": "stdout",
     "output_type": "stream",
     "text": [
      "Processing ASIN: B0CNVLTSDC\n"
     ]
    },
    {
     "name": "stderr",
     "output_type": "stream",
     "text": [
      "16:48:30 - cmdstanpy - INFO - Chain [1] done processing\n"
     ]
    },
    {
     "name": "stdout",
     "output_type": "stream",
     "text": [
      "Processing ASIN: B0CXDH2LPP\n",
      "Processing ASIN: B0CXDRY3WC\n",
      "Processing ASIN: B0D1XNW89X\n",
      "Error fitting model for ASIN B0D1XNW89X: Dataframe has less than 2 non-NaN rows.\n"
     ]
    }
   ],
   "source": [
    "#version 2:  \n",
    "# GMV_units forecasting\n",
    "import pandas as pd\n",
    "from prophet import Prophet\n",
    "from sklearn.metrics import mean_absolute_error, r2_score\n",
    "\n",
    "# Define exogenous variables\n",
    "exogenous_vars = ['asp_week', 'ad_spend']\n",
    "\n",
    "# Prepare dictionaries to store results\n",
    "X_train_fb2 = {}\n",
    "X_test_fb2 = {}\n",
    "y_test_fb_pred2 = {}\n",
    "\n",
    "for asin in train_df['asin'].unique():\n",
    "    print(f\"Processing ASIN: {asin}\")\n",
    "    \n",
    "    # Filter the training data for the current ASIN\n",
    "    asin_train_data = train_df[train_df['asin'] == asin]\n",
    "    asin_test_data = test_df[test_df['asin'] == asin]\n",
    "    \n",
    "    if asin_train_data.empty or asin_test_data.empty:\n",
    "        print(f\"No data found for ASIN: {asin}\")\n",
    "        continue\n",
    "    \n",
    "    # Prepare the training data for Prophet\n",
    "    X_train_fb2[asin] = pd.DataFrame()\n",
    "    X_train_fb2[asin]['ds'] = asin_train_data['Week_Start_date']\n",
    "    X_train_fb2[asin]['y'] = asin_train_data['gmv_units']\n",
    "    \n",
    "    # Add exogenous variables\n",
    "    X_train_fb2[asin][exogenous_vars] = asin_train_data[exogenous_vars]\n",
    "    \n",
    "    # Ensure data types are correct\n",
    "    X_train_fb2[asin]['ds'] = pd.to_datetime(X_train_fb2[asin]['ds'])\n",
    "    X_train_fb2[asin]['y'] = X_train_fb2[asin]['y'].astype(float)\n",
    "    \n",
    "    # Initialize the Prophet model\n",
    "    model = Prophet(changepoint_prior_scale=0.03)\n",
    "    \n",
    "    # Prophet(interval_width=0.95, yearly_seasonality='auto', weekly_seasonality='auto',changepoint_prior_scale=0.03)\n",
    "    \n",
    "    # Add exogenous variables as regressors with standardization\n",
    "    for var in exogenous_vars:\n",
    "        model.add_regressor(var, standardize=True)\n",
    "    \n",
    "    # Fit the model\n",
    "    try:\n",
    "        model.fit(X_train_fb2[asin])\n",
    "    except ValueError as e:\n",
    "        print(f\"Error fitting model for ASIN {asin}: {e}\")\n",
    "        continue\n",
    "    \n",
    "    # Prepare the test data for Prophet\n",
    "    X_test_fb2[asin] = pd.DataFrame()\n",
    "    X_test_fb2[asin]['ds'] = asin_test_data['Week_Start_date']\n",
    "    X_test_fb2[asin][exogenous_vars] = asin_test_data[exogenous_vars]\n",
    "    \n",
    "    # Ensure test data type is correct\n",
    "    X_test_fb2[asin]['ds'] = pd.to_datetime(X_test_fb2[asin]['ds'])\n",
    "    \n",
    "    # Make predictions\n",
    "    try:\n",
    "        forecast_train = model.predict(X_train_fb2[asin].drop(columns=['y']))\n",
    "        forecast_test = model.predict(X_test_fb2[asin])\n",
    "    except ValueError as e:\n",
    "        print(f\"Error generating forecast for ASIN {asin}: {e}\")\n",
    "        continue\n",
    "    \n",
    "    # Store the predictions\n",
    "    y_test_fb_pred2[asin] = forecast_test['yhat'].values\n",
    "    y_test_fb_pred2[asin][y_test_fb_pred2[asin] < 0] = 0\n",
    "    y_test_fb_pred2[asin] = y_test_fb_pred2[asin].round(0).astype('int64')\n",
    "\n",
    "# Create DataFrame with actual and forecasted values\n",
    "df_results = []\n",
    "for asin in y_test_fb_pred2:\n",
    "    asin_test_data = test_df[test_df['asin'] == asin]\n",
    "    df_results.append(pd.DataFrame({\n",
    "        'asin': asin,\n",
    "        'Week_Start_date': asin_test_data['Week_Start_date'],\n",
    "        'actual_outlier_treated': asin_test_data['gmv_units'],\n",
    "        'forecasted_value': y_test_fb_pred2[asin]\n",
    "    }))\n",
    "\n",
    "df_results = pd.concat(df_results, ignore_index=True)\n",
    "\n"
   ]
  },
  {
   "cell_type": "code",
   "execution_count": 122,
   "id": "d469b29f",
   "metadata": {},
   "outputs": [
    {
     "data": {
      "text/plain": [
       "{'B00PMR3QF2':             ds   asp_week      ad_spend\n",
       " 84  2024-05-06  10.126884  12560.099224\n",
       " 85  2024-05-13  15.971567   4425.383745\n",
       " 86  2024-05-20  16.061609   1647.974694\n",
       " 87  2024-05-27  15.930057   3987.756753\n",
       " 88  2024-06-03  10.080928   9075.009429\n",
       " 89  2024-06-10  16.619758   3670.944528\n",
       " 90  2024-06-17  16.084507   3980.153666\n",
       " 91  2024-06-24  16.074104   4671.446792\n",
       " 92  2024-07-01  16.098197   4678.601926\n",
       " 93  2024-07-08  16.103940   4554.415462\n",
       " 94  2024-07-15  11.067184   7613.111631\n",
       " 95  2024-07-22  16.101222   3691.878969\n",
       " 96  2024-07-29  16.073041   3090.873147\n",
       " 97  2024-08-05  15.992948   2858.102195\n",
       " 98  2024-08-12  10.264154   6993.106454\n",
       " 99  2024-08-19  10.251240   5708.101631\n",
       " 100 2024-08-26  10.200160   3010.208348,\n",
       " 'B00PV15BPW':             ds   asp_week     ad_spend\n",
       " 186 2024-05-06  15.005443  4581.378816\n",
       " 187 2024-05-13  15.036134  6346.571878\n",
       " 188 2024-05-20  15.011352  4883.181064\n",
       " 189 2024-05-27  15.030352  5712.238863\n",
       " 190 2024-06-03  14.946158  6187.592731\n",
       " 191 2024-06-10  12.461802  6824.817207\n",
       " 192 2024-06-17  13.065703  6736.546011\n",
       " 193 2024-06-24  13.095913  8306.287293\n",
       " 194 2024-07-01  13.074754  7676.480091\n",
       " 195 2024-07-08  13.067774  7654.584618\n",
       " 196 2024-07-15  11.002154  8967.101117\n",
       " 197 2024-07-22  12.985708  2907.429655\n",
       " 198 2024-07-29  10.013343  6019.320039\n",
       " 199 2024-08-05  13.050820  5942.440137\n",
       " 200 2024-08-12  13.066593  5368.037615\n",
       " 201 2024-08-19  12.981011  4743.751774\n",
       " 202 2024-08-26  10.035658  7176.069676,\n",
       " 'B00QR6SS6O':             ds   asp_week     ad_spend\n",
       " 390 2024-05-06  15.270041  2783.993605\n",
       " 391 2024-05-13  14.485578  3947.491519\n",
       " 392 2024-05-20  15.211639  2411.056576\n",
       " 393 2024-05-27  15.221061  2262.549316\n",
       " 394 2024-06-03  15.059211  1778.407932\n",
       " 395 2024-06-10  10.020516  2938.078295\n",
       " 396 2024-06-17  15.118207   138.960049\n",
       " 397 2024-06-24  15.174224  1444.685140\n",
       " 398 2024-07-01  15.127353  2216.990857\n",
       " 399 2024-07-08  15.014915  2304.424465\n",
       " 400 2024-07-15  11.276587  2927.567046\n",
       " 401 2024-07-22  15.001966  1583.666500\n",
       " 402 2024-07-29  10.032872  4583.080864\n",
       " 403 2024-08-05  15.244648  2366.285605\n",
       " 404 2024-08-12  15.210320  1794.443319\n",
       " 405 2024-08-19  15.036609  1608.488445\n",
       " 406 2024-08-26  10.025478  3882.112383,\n",
       " 'B00QVR0O6Q':             ds   asp_week   ad_spend\n",
       " 594 2024-05-06  13.962778   8.383050\n",
       " 595 2024-05-13  14.224754   3.750556\n",
       " 596 2024-05-20  14.129667   5.954603\n",
       " 597 2024-05-27  14.315238   5.692843\n",
       " 598 2024-06-03  15.293725  12.441023\n",
       " 599 2024-06-10  15.138627   3.436844\n",
       " 600 2024-06-17  15.402143   2.635109\n",
       " 601 2024-06-24  15.436557   4.490837\n",
       " 602 2024-07-01  15.473556   4.261475\n",
       " 603 2024-07-08  15.367692   1.961740\n",
       " 604 2024-07-15  15.249728  11.508448\n",
       " 605 2024-07-22  15.262692   3.358724\n",
       " 606 2024-07-29  15.747966   4.593392\n",
       " 607 2024-08-05  15.924375   3.006903\n",
       " 608 2024-08-12  15.867273   0.484319\n",
       " 609 2024-08-19  15.948824   0.000000\n",
       " 610 2024-08-26  15.978837   0.000000,\n",
       " 'B00STVN68K':             ds  asp_week  ad_spend\n",
       " 696 2024-05-06       0.0       0.0\n",
       " 697 2024-05-13       0.0       0.0\n",
       " 698 2024-05-20       0.0       0.0\n",
       " 699 2024-05-27       0.0       0.0\n",
       " 700 2024-06-03       0.0       0.0\n",
       " 701 2024-06-10       0.0       0.0\n",
       " 702 2024-06-17       0.0       0.0\n",
       " 703 2024-06-24       0.0       0.0\n",
       " 704 2024-07-01       0.0       0.0\n",
       " 705 2024-07-08       0.0       0.0\n",
       " 706 2024-07-15       0.0       0.0\n",
       " 707 2024-07-22       0.0       0.0\n",
       " 708 2024-07-29       0.0       0.0\n",
       " 709 2024-08-05       0.0       0.0\n",
       " 710 2024-08-12       0.0       0.0\n",
       " 711 2024-08-19       0.0       0.0\n",
       " 712 2024-08-26       0.0       0.0,\n",
       " 'B00TSTZQEY':             ds   asp_week      ad_spend\n",
       " 798 2024-05-06  16.947149   7714.186135\n",
       " 799 2024-05-13  11.533190   6209.783294\n",
       " 800 2024-05-20   0.000000     10.780000\n",
       " 801 2024-05-27  16.504558    402.228957\n",
       " 802 2024-06-03  16.704956   8830.374108\n",
       " 803 2024-06-10  10.049231  16099.421381\n",
       " 804 2024-06-17  13.031550  12588.943432\n",
       " 805 2024-06-24  13.078938  13406.663376\n",
       " 806 2024-07-01  13.072672  10595.685567\n",
       " 807 2024-07-08  13.041078  11526.058794\n",
       " 808 2024-07-15  10.632364  14923.625273\n",
       " 809 2024-07-22  12.984409   7400.015881\n",
       " 810 2024-07-29  10.251497  12376.070874\n",
       " 811 2024-08-05  13.072602  10010.005205\n",
       " 812 2024-08-12  13.022443   6646.518006\n",
       " 813 2024-08-19  12.996971   9227.834844\n",
       " 814 2024-08-26  10.130880  13435.314553,\n",
       " 'B00UREAGU8':             ds   asp_week    ad_spend\n",
       " 900 2024-05-06  10.094949  776.195172\n",
       " 901 2024-05-13  10.140234  724.708823\n",
       " 902 2024-05-20  10.040865  697.061832\n",
       " 903 2024-05-27  10.025235  762.892137\n",
       " 904 2024-06-03  10.216987  690.040934\n",
       " 905 2024-06-10  10.156815  354.938099\n",
       " 906 2024-06-17  10.041051  346.040443\n",
       " 907 2024-06-24   9.961964  279.352000\n",
       " 908 2024-07-01   9.987077  448.802969\n",
       " 909 2024-07-08  10.176928  311.454293\n",
       " 910 2024-07-15   9.051530  273.647389\n",
       " 911 2024-07-22   9.971541  251.617500\n",
       " 912 2024-07-29  10.018464  207.805660\n",
       " 913 2024-08-05  10.070164   80.676565\n",
       " 914 2024-08-12   0.000000    0.000000\n",
       " 915 2024-08-19   9.803906   46.430148\n",
       " 916 2024-08-26  10.101781  106.682603,\n",
       " 'B00VUNFLM8':              ds  asp_week  ad_spend\n",
       " 1002 2024-05-06       0.0       0.0\n",
       " 1003 2024-05-13       0.0       0.0\n",
       " 1004 2024-05-20       0.0       0.0\n",
       " 1005 2024-05-27       0.0       0.0\n",
       " 1006 2024-06-03       0.0       0.0\n",
       " 1007 2024-06-10       0.0       0.0\n",
       " 1008 2024-06-17       0.0       0.0\n",
       " 1009 2024-06-24       0.0       0.0\n",
       " 1010 2024-07-01       0.0       0.0\n",
       " 1011 2024-07-08       0.0       0.0\n",
       " 1012 2024-07-15       0.0       0.0\n",
       " 1013 2024-07-22       0.0       0.0\n",
       " 1014 2024-07-29       0.0       0.0\n",
       " 1015 2024-08-05       0.0       0.0\n",
       " 1016 2024-08-12       0.0       0.0\n",
       " 1017 2024-08-19       0.0       0.0\n",
       " 1018 2024-08-26       0.0       0.0,\n",
       " 'B0172AL2PM':              ds  asp_week  ad_spend\n",
       " 1308 2024-05-06       0.0       0.0\n",
       " 1309 2024-05-13       0.0       0.0\n",
       " 1310 2024-05-20       0.0       0.0\n",
       " 1311 2024-05-27       0.0       0.0\n",
       " 1312 2024-06-03       0.0       0.0\n",
       " 1313 2024-06-10       0.0       0.0\n",
       " 1314 2024-06-17       0.0       0.0\n",
       " 1315 2024-06-24       0.0       0.0\n",
       " 1316 2024-07-01       0.0       0.0\n",
       " 1317 2024-07-08       0.0       0.0\n",
       " 1318 2024-07-15       0.0       0.0\n",
       " 1319 2024-07-22       0.0       0.0\n",
       " 1320 2024-07-29       0.0       0.0\n",
       " 1321 2024-08-05       0.0       0.0\n",
       " 1322 2024-08-12       0.0       0.0\n",
       " 1323 2024-08-19       0.0       0.0\n",
       " 1324 2024-08-26       0.0       0.0,\n",
       " 'B01767OTVK':              ds   asp_week    ad_spend\n",
       " 1410 2024-05-06  13.073060  474.331440\n",
       " 1411 2024-05-13  12.951341  384.865786\n",
       " 1412 2024-05-20  13.128333  463.003372\n",
       " 1413 2024-05-27  13.124356  492.490610\n",
       " 1414 2024-06-03  12.974571  385.870735\n",
       " 1415 2024-06-10  13.165195  348.123168\n",
       " 1416 2024-06-17  13.125500  420.931528\n",
       " 1417 2024-06-24  13.039247  644.845025\n",
       " 1418 2024-07-01  13.031050  531.022727\n",
       " 1419 2024-07-08  13.084231  474.733414\n",
       " 1420 2024-07-15  13.091029  409.238969\n",
       " 1421 2024-07-22  13.055024  487.828109\n",
       " 1422 2024-07-29  13.029432  533.510399\n",
       " 1423 2024-08-05  13.036448  475.497749\n",
       " 1424 2024-08-12  13.074177  505.920685\n",
       " 1425 2024-08-19  13.020543  482.650900\n",
       " 1426 2024-08-26  13.014862  561.338595,\n",
       " 'B0176UQBJU':              ds   asp_week   ad_spend\n",
       " 1614 2024-05-06   0.000000   0.000000\n",
       " 1615 2024-05-13   0.000000   0.000000\n",
       " 1616 2024-05-20   0.000000   0.000000\n",
       " 1617 2024-05-27  12.990000   0.000000\n",
       " 1618 2024-06-03   0.000000   0.000000\n",
       " 1619 2024-06-10   0.000000   0.000000\n",
       " 1620 2024-06-17  10.290000  19.837400\n",
       " 1621 2024-06-24   0.000000   0.000000\n",
       " 1622 2024-07-01   0.000000   0.000000\n",
       " 1623 2024-07-08  12.990000   0.000000\n",
       " 1624 2024-07-15  12.990000   2.420740\n",
       " 1625 2024-07-22  13.002703   0.000000\n",
       " 1626 2024-07-29  10.109152   4.226448\n",
       " 1627 2024-08-05  13.089857   1.296795\n",
       " 1628 2024-08-12  12.503115   3.336458\n",
       " 1629 2024-08-19  12.990000   0.000000\n",
       " 1630 2024-08-26  10.230000   4.450113,\n",
       " 'B0176YOIEQ':              ds   asp_week   ad_spend\n",
       " 1716 2024-05-06  12.696388   2.368472\n",
       " 1717 2024-05-13  12.652180   0.000000\n",
       " 1718 2024-05-20  12.589079   0.000000\n",
       " 1719 2024-05-27  13.351667   0.000000\n",
       " 1720 2024-06-03  14.920641   0.000000\n",
       " 1721 2024-06-10  14.914241   1.081246\n",
       " 1722 2024-06-17  15.101027   0.000000\n",
       " 1723 2024-06-24  14.982562   0.000000\n",
       " 1724 2024-07-01  14.974789   4.777082\n",
       " 1725 2024-07-08  15.042038   1.422978\n",
       " 1726 2024-07-15  11.938382  51.336245\n",
       " 1727 2024-07-22  14.836397   0.000000\n",
       " 1728 2024-07-29  10.033188   6.997233\n",
       " 1729 2024-08-05  15.026530   2.317920\n",
       " 1730 2024-08-12  14.976207  10.275259\n",
       " 1731 2024-08-19  14.926181   2.972843\n",
       " 1732 2024-08-26  10.113080   4.549344,\n",
       " 'B01BKALLBU':              ds   asp_week    ad_spend\n",
       " 2022 2024-05-06  19.070682  401.571110\n",
       " 2023 2024-05-13  15.046762  653.008741\n",
       " 2024 2024-05-20  19.009348  389.797111\n",
       " 2025 2024-05-27  19.034359  294.825672\n",
       " 2026 2024-06-03  18.766122  395.285716\n",
       " 2027 2024-06-10  13.646845  417.367505\n",
       " 2028 2024-06-17  18.953462  233.022103\n",
       " 2029 2024-06-24  19.116180  364.697825\n",
       " 2030 2024-07-01  18.946186  327.394127\n",
       " 2031 2024-07-08  18.952621  347.367812\n",
       " 2032 2024-07-15  12.634054  536.624973\n",
       " 2033 2024-07-22  18.794545  238.764183\n",
       " 2034 2024-07-29   9.963968  299.831251\n",
       " 2035 2024-08-05  18.040000   17.170771\n",
       " 2036 2024-08-12  20.500000    7.966242\n",
       " 2037 2024-08-19  18.539500  215.328529\n",
       " 2038 2024-08-26   9.980000  475.842648,\n",
       " 'B01BKB3C98':              ds   asp_week     ad_spend\n",
       " 2124 2024-05-06  15.885341  3571.854819\n",
       " 2125 2024-05-13  12.405490  6102.135657\n",
       " 2126 2024-05-20  15.947935  3896.114778\n",
       " 2127 2024-05-27  15.977846  3765.283255\n",
       " 2128 2024-06-03  15.798478  3572.676695\n",
       " 2129 2024-06-10  10.086643  4792.361724\n",
       " 2130 2024-06-17  13.083724  3312.885854\n",
       " 2131 2024-06-24  13.048240  3864.300625\n",
       " 2132 2024-07-01  13.096542  3336.654395\n",
       " 2133 2024-07-08  13.096511  3711.841072\n",
       " 2134 2024-07-15  10.843966  4529.534635\n",
       " 2135 2024-07-22  13.037885  2304.687076\n",
       " 2136 2024-07-29  10.030943  3673.487092\n",
       " 2137 2024-08-05  13.065382  2493.583583\n",
       " 2138 2024-08-12  13.046943  2050.090407\n",
       " 2139 2024-08-19  12.949301  2255.775252\n",
       " 2140 2024-08-26  10.062077  2902.338310,\n",
       " 'B01DXRVQ3Q':              ds   asp_week    ad_spend\n",
       " 2226 2024-05-06  14.087571   90.338853\n",
       " 2227 2024-05-13  14.126349   92.138042\n",
       " 2228 2024-05-20  13.945763  103.174930\n",
       " 2229 2024-05-27  14.106774   78.468545\n",
       " 2230 2024-06-03  14.982830   48.212919\n",
       " 2231 2024-06-10  15.148889   25.109658\n",
       " 2232 2024-06-17  14.939756   33.153957\n",
       " 2233 2024-06-24  15.281944   20.106805\n",
       " 2234 2024-07-01  15.045349   23.046451\n",
       " 2235 2024-07-08  14.972821    9.265805\n",
       " 2236 2024-07-15  14.957333   17.204342\n",
       " 2237 2024-07-22  15.077353    0.556124\n",
       " 2238 2024-07-29  14.944286    0.000000\n",
       " 2239 2024-08-05  14.806304    4.044157\n",
       " 2240 2024-08-12  15.252857   16.441054\n",
       " 2241 2024-08-19  14.945862    2.427598\n",
       " 2242 2024-08-26  15.073585    2.438175,\n",
       " 'B01IRKTYII':              ds   asp_week   ad_spend\n",
       " 2524 2024-05-06  17.307727  42.697857\n",
       " 2525 2024-05-13  16.990000  10.615301\n",
       " 2526 2024-05-20   0.000000   0.000000\n",
       " 2527 2024-05-27   0.000000   0.000000\n",
       " 2528 2024-06-03   0.000000   0.000000\n",
       " 2529 2024-06-10   0.000000   0.000000\n",
       " 2530 2024-06-17   0.000000   0.000000\n",
       " 2531 2024-06-24  17.988571  22.348254\n",
       " 2532 2024-07-01  14.430000  33.662231\n",
       " 2533 2024-07-08  13.068000  27.417661\n",
       " 2534 2024-07-15  12.990000  28.959654\n",
       " 2535 2024-07-22  12.990000  12.214036\n",
       " 2536 2024-07-29  13.087000  28.521583\n",
       " 2537 2024-08-05  12.990000  20.978873\n",
       " 2538 2024-08-12  13.002222   5.833542\n",
       " 2539 2024-08-19  13.426875  31.999377\n",
       " 2540 2024-08-26  12.990000  17.547188,\n",
       " 'B01IRLOTNM':              ds  asp_week    ad_spend\n",
       " 2626 2024-05-06  9.456596   68.314369\n",
       " 2627 2024-05-13  8.631091  118.526059\n",
       " 2628 2024-05-20  9.495152   39.462556\n",
       " 2629 2024-05-27  9.561034   68.912795\n",
       " 2630 2024-06-03  9.631746   40.600523\n",
       " 2631 2024-06-10  8.638469   73.816985\n",
       " 2632 2024-06-17  9.524035   38.503151\n",
       " 2633 2024-06-24  9.457808   39.660970\n",
       " 2634 2024-07-01  9.561176   21.987786\n",
       " 2635 2024-07-08  9.603871   15.237030\n",
       " 2636 2024-07-15  8.429672   56.699003\n",
       " 2637 2024-07-22  9.553038   14.191939\n",
       " 2638 2024-07-29  7.601265   39.179584\n",
       " 2639 2024-08-05  9.523712   36.949027\n",
       " 2640 2024-08-12  9.602235   14.665166\n",
       " 2641 2024-08-19  9.482456   26.285454\n",
       " 2642 2024-08-26  7.594719   25.880284,\n",
       " 'B01LWYU1NT':              ds   asp_week   ad_spend\n",
       " 2932 2024-05-06  11.950000   2.095005\n",
       " 2933 2024-05-13  11.260000   0.000000\n",
       " 2934 2024-05-20  11.260000   0.743583\n",
       " 2935 2024-05-27  11.260000   0.000000\n",
       " 2936 2024-06-03  11.260000   0.000000\n",
       " 2937 2024-06-10   0.000000   0.000000\n",
       " 2938 2024-06-17  11.260000   0.000000\n",
       " 2939 2024-06-24  11.260000   2.129166\n",
       " 2940 2024-07-01  11.260000   0.000000\n",
       " 2941 2024-07-08  11.260000   0.000000\n",
       " 2942 2024-07-15  11.260000   0.000000\n",
       " 2943 2024-07-22   0.000000   0.000000\n",
       " 2944 2024-07-29  10.042963  14.425002\n",
       " 2945 2024-08-05  10.019467  36.216885\n",
       " 2946 2024-08-12  10.198125  15.632561\n",
       " 2947 2024-08-19   9.993415  23.350864\n",
       " 2948 2024-08-26  10.032174  27.458225,\n",
       " 'B01LX9IIDJ':              ds   asp_week    ad_spend\n",
       " 3034 2024-05-06  10.228518  949.010948\n",
       " 3035 2024-05-13  10.208036  906.735789\n",
       " 3036 2024-05-20  10.125284  830.475164\n",
       " 3037 2024-05-27  10.165579  449.237679\n",
       " 3038 2024-06-03   0.000000    0.000000\n",
       " 3039 2024-06-10   0.000000    0.000000\n",
       " 3040 2024-06-17   0.000000    0.000000\n",
       " 3041 2024-06-24   0.000000    0.000000\n",
       " 3042 2024-07-01   0.000000    0.000000\n",
       " 3043 2024-07-08   0.000000    0.000000\n",
       " 3044 2024-07-15   0.000000    0.000000\n",
       " 3045 2024-07-22   0.000000    0.000000\n",
       " 3046 2024-07-29   0.000000    0.000000\n",
       " 3047 2024-08-05   0.000000    0.000000\n",
       " 3048 2024-08-12   0.000000    0.000000\n",
       " 3049 2024-08-19   0.000000    0.000000\n",
       " 3050 2024-08-26   0.000000    0.000000,\n",
       " 'B01LXALVDG':              ds  asp_week    ad_spend\n",
       " 3136 2024-05-06  9.855577  125.035490\n",
       " 3137 2024-05-13  8.891467  146.055556\n",
       " 3138 2024-05-20  9.881522   87.266440\n",
       " 3139 2024-05-27  9.790000   46.190448\n",
       " 3140 2024-06-03  9.981190   45.901800\n",
       " 3141 2024-06-10  8.774082   49.520973\n",
       " 3142 2024-06-17  9.790000   81.079580\n",
       " 3143 2024-06-24  9.834898   74.410143\n",
       " 3144 2024-07-01  9.906034   31.634493\n",
       " 3145 2024-07-08  9.788936   61.752885\n",
       " 3146 2024-07-15  8.754094   89.997703\n",
       " 3147 2024-07-22  9.828864   11.959896\n",
       " 3148 2024-07-29  7.819065   41.648240\n",
       " 3149 2024-08-05  9.851067   13.157942\n",
       " 3150 2024-08-12  9.790000   16.028522\n",
       " 3151 2024-08-19  9.798085   22.910533\n",
       " 3152 2024-08-26  7.830000    2.143598,\n",
       " 'B01M07JVC2':              ds  asp_week  ad_spend\n",
       " 3340 2024-05-06       0.0       0.0\n",
       " 3341 2024-05-13       0.0       0.0\n",
       " 3342 2024-05-20       0.0       0.0\n",
       " 3343 2024-05-27       0.0       0.0\n",
       " 3344 2024-06-03       0.0       0.0\n",
       " 3345 2024-06-10       0.0       0.0\n",
       " 3346 2024-06-17       0.0       0.0\n",
       " 3347 2024-06-24       0.0       0.0\n",
       " 3348 2024-07-01       0.0       0.0\n",
       " 3349 2024-07-08       0.0       0.0\n",
       " 3350 2024-07-15       0.0       0.0\n",
       " 3351 2024-07-22       0.0       0.0\n",
       " 3352 2024-07-29       0.0       0.0\n",
       " 3353 2024-08-05       0.0       0.0\n",
       " 3354 2024-08-12       0.0       0.0\n",
       " 3355 2024-08-19       0.0       0.0\n",
       " 3356 2024-08-26       0.0       0.0,\n",
       " 'B01MUCO6ZU':              ds   asp_week     ad_spend\n",
       " 3452 2024-05-06  21.940165   645.849971\n",
       " 3453 2024-05-13  19.809333  1946.392023\n",
       " 3454 2024-05-20  22.054671   835.221696\n",
       " 3455 2024-05-27  22.056480   625.377729\n",
       " 3456 2024-06-03  21.989664   933.523811\n",
       " 3457 2024-06-10  16.690403  1997.541914\n",
       " 3458 2024-06-17  22.087438   842.117412\n",
       " 3459 2024-06-24  21.913260   909.803491\n",
       " 3460 2024-07-01  22.055246   794.857288\n",
       " 3461 2024-07-08  22.099512   551.959340\n",
       " 3462 2024-07-15  13.931414   573.083971\n",
       " 3463 2024-07-22  21.800143   230.181192\n",
       " 3464 2024-07-29  10.089374   973.277531\n",
       " 3465 2024-08-05  21.938848   783.103829\n",
       " 3466 2024-08-12  22.074000   626.894053\n",
       " 3467 2024-08-19  21.570276   571.214176\n",
       " 3468 2024-08-26  10.131399  1279.786000,\n",
       " 'B01N1856R7':              ds   asp_week     ad_spend\n",
       " 3554 2024-05-06  16.295907  2531.263705\n",
       " 3555 2024-05-13  16.291053  2462.533152\n",
       " 3556 2024-05-20  16.286903  1899.532318\n",
       " 3557 2024-05-27  16.269204  3716.212043\n",
       " 3558 2024-06-03  16.412273  3182.081854\n",
       " 3559 2024-06-10  16.387855  2002.497900\n",
       " 3560 2024-06-17  16.415732  2296.205172\n",
       " 3561 2024-06-24  16.412557  3992.318809\n",
       " 3562 2024-07-01  16.374362  3080.084386\n",
       " 3563 2024-07-08  16.408556  3292.720280\n",
       " 3564 2024-07-15  14.096861  2590.678813\n",
       " 3565 2024-07-22  16.208288  1450.531971\n",
       " 3566 2024-07-29  13.043228  3110.884223\n",
       " 3567 2024-08-05  16.445465  2137.292778\n",
       " 3568 2024-08-12  16.366952  1648.255900\n",
       " 3569 2024-08-19  16.247227  1856.326461\n",
       " 3570 2024-08-26  13.101757  3412.996400,\n",
       " 'B01N7U6R1F':              ds   asp_week     ad_spend\n",
       " 3656 2024-05-06  14.944341  1484.573321\n",
       " 3657 2024-05-13  13.940737  1966.857206\n",
       " 3658 2024-05-20  14.993077  1412.445060\n",
       " 3659 2024-05-27  14.975734  1396.872155\n",
       " 3660 2024-06-03  14.743943  1240.931170\n",
       " 3661 2024-06-10   9.993133  1795.999372\n",
       " 3662 2024-06-17  15.001237  1744.319224\n",
       " 3663 2024-06-24  15.020852  1588.500232\n",
       " 3664 2024-07-01  15.013894  1275.451312\n",
       " 3665 2024-07-08  14.984947  1086.380262\n",
       " 3666 2024-07-15  11.170933  1629.304659\n",
       " 3667 2024-07-22  14.792724   833.103887\n",
       " 3668 2024-07-29   9.996895  1898.491377\n",
       " 3669 2024-08-05  14.991090  1109.742002\n",
       " 3670 2024-08-12  14.980096   820.022322\n",
       " 3671 2024-08-19  14.910198   676.992085\n",
       " 3672 2024-08-26  10.024540  1881.279074,\n",
       " 'B06XCCVDH7':              ds   asp_week    ad_spend\n",
       " 3758 2024-05-06  14.990000   45.625711\n",
       " 3759 2024-05-13  15.045897   53.091583\n",
       " 3760 2024-05-20  14.990000   41.588466\n",
       " 3761 2024-05-27  15.581176   56.519172\n",
       " 3762 2024-06-03  15.397818  122.056631\n",
       " 3763 2024-06-10  15.132653   48.288885\n",
       " 3764 2024-06-17  14.990000   43.009640\n",
       " 3765 2024-06-24  14.990000   63.806638\n",
       " 3766 2024-07-01  15.249500   51.449898\n",
       " 3767 2024-07-08  14.990000   32.742802\n",
       " 3768 2024-07-15  15.224000   35.633583\n",
       " 3769 2024-07-22  14.990000   12.945096\n",
       " 3770 2024-07-29  14.990000   11.633116\n",
       " 3771 2024-08-05  15.263929   17.266307\n",
       " 3772 2024-08-12  15.150345   26.525230\n",
       " 3773 2024-08-19  15.314865   22.692623\n",
       " 3774 2024-08-26  14.990000   12.158282,\n",
       " 'B06XDNKH65':              ds   asp_week   ad_spend\n",
       " 3860 2024-05-06  12.990000  21.964048\n",
       " 3861 2024-05-13  12.990000  22.998754\n",
       " 3862 2024-05-20  12.990000  22.792728\n",
       " 3863 2024-05-27  13.698571  28.186909\n",
       " 3864 2024-06-03  14.190000  12.908395\n",
       " 3865 2024-06-10  14.190000   7.170627\n",
       " 3866 2024-06-17  14.190000  10.214220\n",
       " 3867 2024-06-24  14.104118  19.887488\n",
       " 3868 2024-07-01  14.190000  14.786091\n",
       " 3869 2024-07-08  13.953333   5.381993\n",
       " 3870 2024-07-15  14.190000   0.000000\n",
       " 3871 2024-07-22  14.190000   0.000000\n",
       " 3872 2024-07-29  15.300000   0.000000\n",
       " 3873 2024-08-05  15.670000   0.000000\n",
       " 3874 2024-08-12  14.930000   0.000000\n",
       " 3875 2024-08-19  15.670000   0.000000\n",
       " 3876 2024-08-26  14.190000   0.000000,\n",
       " 'B075KWWVR6':              ds   asp_week    ad_spend\n",
       " 3962 2024-05-06  10.913740  252.169962\n",
       " 3963 2024-05-13   9.802649  295.794501\n",
       " 3964 2024-05-20  10.861795  169.967557\n",
       " 3965 2024-05-27  11.125000  126.842397\n",
       " 3966 2024-06-03  12.684074   69.243123\n",
       " 3967 2024-06-10   9.857167   87.079353\n",
       " 3968 2024-06-17  12.930909    7.598294\n",
       " 3969 2024-06-24  13.161071  131.017082\n",
       " 3970 2024-07-01  13.076364  198.352816\n",
       " 3971 2024-07-08  13.023014  182.247495\n",
       " 3972 2024-07-15  10.085684  178.089061\n",
       " 3973 2024-07-22  12.621351    6.367221\n",
       " 3974 2024-07-29   8.805283   31.966896\n",
       " 3975 2024-08-05  12.966250    8.630803\n",
       " 3976 2024-08-12  12.990000    6.680937\n",
       " 3977 2024-08-19  12.550000    6.234453\n",
       " 3978 2024-08-26   8.809048    9.819724,\n",
       " 'B076YQ62CH':              ds   asp_week    ad_spend\n",
       " 4064 2024-05-06  16.772419  120.304973\n",
       " 4065 2024-05-13  16.557805  113.409273\n",
       " 4066 2024-05-20  16.350917   60.700749\n",
       " 4067 2024-05-27  16.241091   61.200631\n",
       " 4068 2024-06-03  16.415478   70.956088\n",
       " 4069 2024-06-10  16.660755   34.228524\n",
       " 4070 2024-06-17  16.600556   58.009137\n",
       " 4071 2024-06-24  16.391626   44.372498\n",
       " 4072 2024-07-01  16.262315   53.248778\n",
       " 4073 2024-07-08  16.350698   47.620780\n",
       " 4074 2024-07-15  16.445705   41.429818\n",
       " 4075 2024-07-22  16.482364   23.222091\n",
       " 4076 2024-07-29  16.347684   36.448978\n",
       " 4077 2024-08-05  16.289412   33.392221\n",
       " 4078 2024-08-12  16.556127   23.839178\n",
       " 4079 2024-08-19  16.500725   23.296895\n",
       " 4080 2024-08-26  16.350362    7.998678,\n",
       " 'B077KDFFL1':              ds  asp_week  ad_spend\n",
       " 4166 2024-05-06       0.0       0.0\n",
       " 4167 2024-05-13       0.0       0.0\n",
       " 4168 2024-05-20       0.0       0.0\n",
       " 4169 2024-05-27       0.0       0.0\n",
       " 4170 2024-06-03       0.0       0.0\n",
       " 4171 2024-06-10       0.0       0.0\n",
       " 4172 2024-06-17       0.0       0.0\n",
       " 4173 2024-06-24       0.0       0.0\n",
       " 4174 2024-07-01       0.0       0.0\n",
       " 4175 2024-07-08       0.0       0.0\n",
       " 4176 2024-07-15       0.0       0.0\n",
       " 4177 2024-07-22       0.0       0.0\n",
       " 4178 2024-07-29       0.0       0.0\n",
       " 4179 2024-08-05       0.0       0.0\n",
       " 4180 2024-08-12       0.0       0.0\n",
       " 4181 2024-08-19       0.0       0.0\n",
       " 4182 2024-08-26       0.0       0.0,\n",
       " 'B079ZN8SC9':              ds   asp_week     ad_spend\n",
       " 4268 2024-05-06  14.905318  1980.284516\n",
       " 4269 2024-05-13  13.418249  2546.512260\n",
       " 4270 2024-05-20  14.921252  2111.845716\n",
       " 4271 2024-05-27  14.995168  1738.440734\n",
       " 4272 2024-06-03  15.039868  1651.376503\n",
       " 4273 2024-06-10  10.080437   888.372719\n",
       " 4274 2024-06-17  15.033232    70.222614\n",
       " 4275 2024-06-24  15.006608   878.644288\n",
       " 4276 2024-07-01  15.029046  1314.924821\n",
       " 4277 2024-07-08  15.039797  1441.738862\n",
       " 4278 2024-07-15  11.703004  1730.725731\n",
       " 4279 2024-07-22  14.986375   999.611189\n",
       " 4280 2024-07-29  10.036838  1179.094145\n",
       " 4281 2024-08-05  15.084719  1056.870901\n",
       " 4282 2024-08-12  15.073239   990.184846\n",
       " 4283 2024-08-19  15.043601  1185.314274\n",
       " 4284 2024-08-26  10.051432  1629.433545,\n",
       " 'B07CP15TC6':              ds   asp_week     ad_spend\n",
       " 4472 2024-05-06  10.001185   418.395952\n",
       " 4473 2024-05-13   9.990000     1.831867\n",
       " 4474 2024-05-20   9.823333     4.101123\n",
       " 4475 2024-05-27   9.573333     0.000000\n",
       " 4476 2024-06-03   9.881892   126.410280\n",
       " 4477 2024-06-10  10.023247   495.454926\n",
       " 4478 2024-06-17  10.038208   781.716573\n",
       " 4479 2024-06-24   9.989511  1075.876854\n",
       " 4480 2024-07-01  10.054586   719.735355\n",
       " 4481 2024-07-08  10.045055   776.340471\n",
       " 4482 2024-07-15   8.281082   898.769832\n",
       " 4483 2024-07-22   9.985210   625.712295\n",
       " 4484 2024-07-29   7.996185   917.736495\n",
       " 4485 2024-08-05  10.014683   815.758856\n",
       " 4486 2024-08-12  10.034325   865.105792\n",
       " 4487 2024-08-19  10.016270   999.604684\n",
       " 4488 2024-08-26   8.069683   246.781417,\n",
       " 'B07G2M6FHP':              ds  asp_week  ad_spend\n",
       " 4574 2024-05-06       0.0       0.0\n",
       " 4575 2024-05-13       0.0       0.0\n",
       " 4576 2024-05-20       0.0       0.0\n",
       " 4577 2024-05-27       0.0       0.0\n",
       " 4578 2024-06-03       0.0       0.0\n",
       " 4579 2024-06-10       0.0       0.0\n",
       " 4580 2024-06-17       0.0       0.0\n",
       " 4581 2024-06-24       0.0       0.0\n",
       " 4582 2024-07-01       0.0       0.0\n",
       " 4583 2024-07-08       0.0       0.0\n",
       " 4584 2024-07-15       0.0       0.0\n",
       " 4585 2024-07-22       0.0       0.0\n",
       " 4586 2024-07-29       0.0       0.0\n",
       " 4587 2024-08-05       0.0       0.0\n",
       " 4588 2024-08-12       0.0       0.0\n",
       " 4589 2024-08-19       0.0       0.0\n",
       " 4590 2024-08-26       0.0       0.0,\n",
       " 'B07G7QVSZT':              ds   asp_week    ad_spend\n",
       " 4778 2024-05-06  14.760652  583.484773\n",
       " 4779 2024-05-13  14.870228  508.702561\n",
       " 4780 2024-05-20  14.347695  593.823317\n",
       " 4781 2024-05-27  13.273978  738.051812\n",
       " 4782 2024-06-03  11.057641  701.269672\n",
       " 4783 2024-06-10  10.137597  417.999955\n",
       " 4784 2024-06-17  14.940826  345.734112\n",
       " 4785 2024-06-24  14.832378  135.417777\n",
       " 4786 2024-07-01  15.143590  418.715570\n",
       " 4787 2024-07-08  14.717234  408.231294\n",
       " 4788 2024-07-15  13.586721  302.366260\n",
       " 4789 2024-07-22  14.681953  240.770295\n",
       " 4790 2024-07-29  15.022614  175.029896\n",
       " 4791 2024-08-05  14.769000  186.389965\n",
       " 4792 2024-08-12  14.930533  196.075222\n",
       " 4793 2024-08-19  14.909874  234.175216\n",
       " 4794 2024-08-26  14.820270  140.259552,\n",
       " 'B07G8KG4S7':              ds  asp_week  ad_spend\n",
       " 4880 2024-05-06       0.0       0.0\n",
       " 4881 2024-05-13       0.0       0.0\n",
       " 4882 2024-05-20       0.0       0.0\n",
       " 4883 2024-05-27       0.0       0.0\n",
       " 4884 2024-06-03       0.0       0.0\n",
       " 4885 2024-06-10       0.0       0.0\n",
       " 4886 2024-06-17       0.0       0.0\n",
       " 4887 2024-06-24       0.0       0.0\n",
       " 4888 2024-07-01       0.0       0.0\n",
       " 4889 2024-07-08       0.0       0.0\n",
       " 4890 2024-07-15       0.0       0.0\n",
       " 4891 2024-07-22       0.0       0.0\n",
       " 4892 2024-07-29       0.0       0.0\n",
       " 4893 2024-08-05       0.0       0.0\n",
       " 4894 2024-08-12       0.0       0.0\n",
       " 4895 2024-08-19       0.0       0.0\n",
       " 4896 2024-08-26       0.0       0.0,\n",
       " 'B07G8LV7KX':              ds  asp_week  ad_spend\n",
       " 4982 2024-05-06       0.0       0.0\n",
       " 4983 2024-05-13       0.0       0.0\n",
       " 4984 2024-05-20       0.0       0.0\n",
       " 4985 2024-05-27       0.0       0.0\n",
       " 4986 2024-06-03       0.0       0.0\n",
       " 4987 2024-06-10       0.0       0.0\n",
       " 4988 2024-06-17       0.0       0.0\n",
       " 4989 2024-06-24       0.0       0.0\n",
       " 4990 2024-07-01       0.0       0.0\n",
       " 4991 2024-07-08       0.0       0.0\n",
       " 4992 2024-07-15       0.0       0.0\n",
       " 4993 2024-07-22       0.0       0.0\n",
       " 4994 2024-07-29       0.0       0.0\n",
       " 4995 2024-08-05       0.0       0.0\n",
       " 4996 2024-08-12       0.0       0.0\n",
       " 4997 2024-08-19       0.0       0.0\n",
       " 4998 2024-08-26       0.0       0.0,\n",
       " 'B07G8M3DTX':              ds   asp_week     ad_spend\n",
       " 5084 2024-05-06  18.048175  1470.665939\n",
       " 5085 2024-05-13  18.056173  1695.083747\n",
       " 5086 2024-05-20  18.087665  2551.534799\n",
       " 5087 2024-05-27  18.092000  1570.434096\n",
       " 5088 2024-06-03  18.056437  1939.804144\n",
       " 5089 2024-06-10  18.032161  1941.038168\n",
       " 5090 2024-06-17  18.058710  1880.833237\n",
       " 5091 2024-06-24  18.069327  3024.229377\n",
       " 5092 2024-07-01  18.106426  2886.948486\n",
       " 5093 2024-07-08  18.025549  2426.527346\n",
       " 5094 2024-07-15  16.018824  2098.665465\n",
       " 5095 2024-07-22  18.022130  2464.141082\n",
       " 5096 2024-07-29  15.377882  2114.437525\n",
       " 5097 2024-08-05  18.088534  3121.399611\n",
       " 5098 2024-08-12  18.003438  2565.918289\n",
       " 5099 2024-08-19  17.954222  2675.157867\n",
       " 5100 2024-08-26  15.346659  4537.610787,\n",
       " 'B07G8MDG19':              ds   asp_week    ad_spend\n",
       " 5288 2024-05-06  15.151471   48.398136\n",
       " 5289 2024-05-13  14.833750   46.266638\n",
       " 5290 2024-05-20  14.866667   32.515638\n",
       " 5291 2024-05-27  15.276296   82.611818\n",
       " 5292 2024-06-03  16.506190  106.713687\n",
       " 5293 2024-06-10  16.276897   51.549238\n",
       " 5294 2024-06-17  16.302143   19.470819\n",
       " 5295 2024-06-24  16.612917   13.478344\n",
       " 5296 2024-07-01  16.272857   15.700815\n",
       " 5297 2024-07-08  16.693913   15.486494\n",
       " 5298 2024-07-15  17.026774   26.688361\n",
       " 5299 2024-07-22  16.739500    9.651766\n",
       " 5300 2024-07-29  16.308000   21.412080\n",
       " 5301 2024-08-05  16.341765   10.661397\n",
       " 5302 2024-08-12  16.276897    5.568161\n",
       " 5303 2024-08-19  16.390000   15.598449\n",
       " 5304 2024-08-26  16.636800    6.440950,\n",
       " 'B07G8NDRF7':              ds   asp_week     ad_spend\n",
       " 5390 2024-05-06  15.018219   428.287155\n",
       " 5391 2024-05-13  14.995494   864.913170\n",
       " 5392 2024-05-20  15.060649   525.355196\n",
       " 5393 2024-05-27  15.114207   662.117449\n",
       " 5394 2024-06-03  15.042968   393.373425\n",
       " 5395 2024-06-10  13.509879  1090.566261\n",
       " 5396 2024-06-17  15.063521   576.830104\n",
       " 5397 2024-06-24  14.975531   957.319581\n",
       " 5398 2024-07-01  15.109394   760.028753\n",
       " 5399 2024-07-08  15.162211   722.626841\n",
       " 5400 2024-07-15  11.590018   864.626221\n",
       " 5401 2024-07-22  15.020000   433.087358\n",
       " 5402 2024-07-29   9.993984   785.150169\n",
       " 5403 2024-08-05  15.037019   773.888669\n",
       " 5404 2024-08-12  15.060678   298.322862\n",
       " 5405 2024-08-19  14.807680   446.432371\n",
       " 5406 2024-08-26  10.040721  1113.788238,\n",
       " 'B07G8QZ4DY':              ds   asp_week     ad_spend\n",
       " 5594 2024-05-06  15.102400   691.392427\n",
       " 5595 2024-05-13  10.595493  1696.289795\n",
       " 5596 2024-05-20  15.201983  1088.446368\n",
       " 5597 2024-05-27  15.207665   752.673467\n",
       " 5598 2024-06-03  15.214805   883.857650\n",
       " 5599 2024-06-10  10.093970  1995.399856\n",
       " 5600 2024-06-17  15.229970  1154.406340\n",
       " 5601 2024-06-24  15.202813  1372.838728\n",
       " 5602 2024-07-01  15.165607  1080.968445\n",
       " 5603 2024-07-08  15.130087   908.251801\n",
       " 5604 2024-07-15  11.685897   920.811597\n",
       " 5605 2024-07-22  15.111208   471.332180\n",
       " 5606 2024-07-29  10.039795  1103.697942\n",
       " 5607 2024-08-05  15.165000    55.165612\n",
       " 5608 2024-08-12  15.090000    37.873122\n",
       " 5609 2024-08-19  15.068571   130.226462\n",
       " 5610 2024-08-26  10.060646  1178.208064,\n",
       " 'B07GHC8QB5':              ds  asp_week  ad_spend\n",
       " 5696 2024-05-06       0.0       0.0\n",
       " 5697 2024-05-13       0.0       0.0\n",
       " 5698 2024-05-20       0.0       0.0\n",
       " 5699 2024-05-27       0.0       0.0\n",
       " 5700 2024-06-03       0.0       0.0\n",
       " 5701 2024-06-10       0.0       0.0\n",
       " 5702 2024-06-17       0.0       0.0\n",
       " 5703 2024-06-24       0.0       0.0\n",
       " 5704 2024-07-01       0.0       0.0\n",
       " 5705 2024-07-08       0.0       0.0\n",
       " 5706 2024-07-15       0.0       0.0\n",
       " 5707 2024-07-22       0.0       0.0\n",
       " 5708 2024-07-29       0.0       0.0\n",
       " 5709 2024-08-05       0.0       0.0\n",
       " 5710 2024-08-12       0.0       0.0\n",
       " 5711 2024-08-19       0.0       0.0\n",
       " 5712 2024-08-26       0.0       0.0,\n",
       " 'B07GPDRXDF':              ds  asp_week  ad_spend\n",
       " 5798 2024-05-06       0.0       0.0\n",
       " 5799 2024-05-13       0.0       0.0\n",
       " 5800 2024-05-20       0.0       0.0\n",
       " 5801 2024-05-27       0.0       0.0\n",
       " 5802 2024-06-03       0.0       0.0\n",
       " 5803 2024-06-10       0.0       0.0\n",
       " 5804 2024-06-17       0.0       0.0\n",
       " 5805 2024-06-24       0.0       0.0\n",
       " 5806 2024-07-01       0.0       0.0\n",
       " 5807 2024-07-08       0.0       0.0\n",
       " 5808 2024-07-15       0.0       0.0\n",
       " 5809 2024-07-22       0.0       0.0\n",
       " 5810 2024-07-29       0.0       0.0\n",
       " 5811 2024-08-05       0.0       0.0\n",
       " 5812 2024-08-12       0.0       0.0\n",
       " 5813 2024-08-19       0.0       0.0\n",
       " 5814 2024-08-26       0.0       0.0,\n",
       " 'B07GPHG3L7':              ds   asp_week   ad_spend\n",
       " 5900 2024-05-06  14.910000  60.470000\n",
       " 5901 2024-05-13  14.762609  48.895003\n",
       " 5902 2024-05-20  14.882885  53.442070\n",
       " 5903 2024-05-27  14.797000  61.718208\n",
       " 5904 2024-06-03  15.214364  65.890219\n",
       " 5905 2024-06-10  15.152286  37.410340\n",
       " 5906 2024-06-17  15.352321  25.036467\n",
       " 5907 2024-06-24  15.160185  20.776804\n",
       " 5908 2024-07-01  15.422909  39.826027\n",
       " 5909 2024-07-08  15.245625  29.596715\n",
       " 5910 2024-07-15  15.204805  33.739473\n",
       " 5911 2024-07-22  15.120909  25.035505\n",
       " 5912 2024-07-29  15.244366  28.810580\n",
       " 5913 2024-08-05  15.222000  69.314342\n",
       " 5914 2024-08-12  15.175800   9.183333\n",
       " 5915 2024-08-19  15.302459  17.252513\n",
       " 5916 2024-08-26  15.002833  10.389921,\n",
       " 'B07GPK352D':              ds   asp_week    ad_spend\n",
       " 6002 2024-05-06  15.606250    8.571978\n",
       " 6003 2024-05-13  14.841798   74.992976\n",
       " 6004 2024-05-20  16.286757  135.137126\n",
       " 6005 2024-05-27  16.249386  124.629643\n",
       " 6006 2024-06-03  16.470992  336.638048\n",
       " 6007 2024-06-10  16.341988  326.146220\n",
       " 6008 2024-06-17  16.463591  536.370299\n",
       " 6009 2024-06-24  16.315250  757.939026\n",
       " 6010 2024-07-01  16.356277  682.464836\n",
       " 6011 2024-07-08  16.310854  648.646769\n",
       " 6012 2024-07-15  16.259560  242.468516\n",
       " 6013 2024-07-22  16.312042  219.879692\n",
       " 6014 2024-07-29  16.310000  678.172273\n",
       " 6015 2024-08-05  16.357623  609.834896\n",
       " 6016 2024-08-12  16.323862  662.122985\n",
       " 6017 2024-08-19  16.272175  787.376560\n",
       " 6018 2024-08-26  16.363333  880.788645,\n",
       " 'B07GPNQZSG':              ds   asp_week   ad_spend\n",
       " 6206 2024-05-06  14.895333  38.271268\n",
       " 6207 2024-05-13  15.168333  49.304320\n",
       " 6208 2024-05-20  15.147500  34.762570\n",
       " 6209 2024-05-27  14.769070  38.670090\n",
       " 6210 2024-06-03  14.975769  51.382515\n",
       " 6211 2024-06-10  14.917200  30.308521\n",
       " 6212 2024-06-17  15.185000  21.665313\n",
       " 6213 2024-06-24  15.069839  47.443051\n",
       " 6214 2024-07-01  14.950000  34.243017\n",
       " 6215 2024-07-08  14.856296  25.683648\n",
       " 6216 2024-07-15  14.837368  24.626482\n",
       " 6217 2024-07-22  14.893396  16.379933\n",
       " 6218 2024-07-29  14.831579  20.243822\n",
       " 6219 2024-08-05  14.982353  14.762173\n",
       " 6220 2024-08-12  14.920000   5.171362\n",
       " 6221 2024-08-19  14.856250   5.653780\n",
       " 6222 2024-08-26  14.950000  15.990111,\n",
       " 'B07GPS2MCV':              ds   asp_week    ad_spend\n",
       " 6308 2024-05-06  16.946124  510.028627\n",
       " 6309 2024-05-13  16.897247  536.228194\n",
       " 6310 2024-05-20  16.829647  692.300720\n",
       " 6311 2024-05-27  16.807778  662.531879\n",
       " 6312 2024-06-03  16.832339  559.280224\n",
       " 6313 2024-06-10  16.794695  376.164387\n",
       " 6314 2024-06-17  16.751720  570.362704\n",
       " 6315 2024-06-24  16.751466  945.981797\n",
       " 6316 2024-07-01  16.832721  861.700753\n",
       " 6317 2024-07-08  16.777914  901.998767\n",
       " 6318 2024-07-15  16.725815  934.271574\n",
       " 6319 2024-07-22  16.764275  446.237266\n",
       " 6320 2024-07-29  16.768254  685.552701\n",
       " 6321 2024-08-05  16.846009  667.994993\n",
       " 6322 2024-08-12  16.736558  443.736669\n",
       " 6323 2024-08-19  16.785333  416.973970\n",
       " 6324 2024-08-26  16.680361  229.429420,\n",
       " 'B07GQ4N8KR':              ds   asp_week    ad_spend\n",
       " 6512 2024-05-06  15.137519  320.195099\n",
       " 6513 2024-05-13  15.219554  424.718425\n",
       " 6514 2024-05-20  15.304221  575.426194\n",
       " 6515 2024-05-27  15.136455  452.220437\n",
       " 6516 2024-06-03  15.082632  367.080401\n",
       " 6517 2024-06-10  15.052703  288.094160\n",
       " 6518 2024-06-17  15.068293  313.531133\n",
       " 6519 2024-06-24  15.098169  433.027594\n",
       " 6520 2024-07-01  15.010952  466.072253\n",
       " 6521 2024-07-08  15.148995  547.780402\n",
       " 6522 2024-07-15  15.060746  422.127282\n",
       " 6523 2024-07-22  14.979594  302.010400\n",
       " 6524 2024-07-29  12.806362  470.398418\n",
       " 6525 2024-08-05  15.052157  414.214981\n",
       " 6526 2024-08-12  14.979950  364.998674\n",
       " 6527 2024-08-19  15.044545  374.867697\n",
       " 6528 2024-08-26  12.748750   85.025902,\n",
       " 'B07HFFGFWD':              ds  asp_week  ad_spend\n",
       " 6614 2024-05-06       0.0  0.000000\n",
       " 6615 2024-05-13       0.0  0.000000\n",
       " 6616 2024-05-20       0.0  0.000000\n",
       " 6617 2024-05-27       0.0  0.966502\n",
       " 6618 2024-06-03       0.0  0.000000\n",
       " 6619 2024-06-10       0.0  0.000000\n",
       " 6620 2024-06-17       0.0  0.000000\n",
       " 6621 2024-06-24       0.0  0.000000\n",
       " 6622 2024-07-01       0.0  0.000000\n",
       " 6623 2024-07-08       0.0  1.697953\n",
       " 6624 2024-07-15       0.0  7.025197\n",
       " 6625 2024-07-22       0.0  0.000000\n",
       " 6626 2024-07-29       0.0  0.000000\n",
       " 6627 2024-08-05       0.0  5.105402\n",
       " 6628 2024-08-12       0.0  0.000000\n",
       " 6629 2024-08-19       0.0  0.000000\n",
       " 6630 2024-08-26       0.0  0.000000,\n",
       " 'B07HQ4Q4GY':              ds   asp_week     ad_spend\n",
       " 6920 2024-05-06  14.501159  4542.150629\n",
       " 6921 2024-05-13  14.515122  3919.915087\n",
       " 6922 2024-05-20  14.670287  4704.843579\n",
       " 6923 2024-05-27  14.671069  4444.557674\n",
       " 6924 2024-06-03  14.849202  4283.692250\n",
       " 6925 2024-06-10  14.704014  3913.378234\n",
       " 6926 2024-06-17  14.720140  3947.754693\n",
       " 6927 2024-06-24  14.684100  4987.278143\n",
       " 6928 2024-07-01  14.698952  3838.351545\n",
       " 6929 2024-07-08  14.692954  2396.594359\n",
       " 6930 2024-07-15  13.534560  3289.182615\n",
       " 6931 2024-07-22  14.705735  2247.035453\n",
       " 6932 2024-07-29  14.663067  1861.898396\n",
       " 6933 2024-08-05  12.524710  4247.391412\n",
       " 6934 2024-08-12  14.644442  3047.521610\n",
       " 6935 2024-08-19  14.719211  2217.089011\n",
       " 6936 2024-08-26  14.692558  1748.576523,\n",
       " 'B07JD9FS28':              ds   asp_week     ad_spend\n",
       " 7124 2024-05-06  17.031357  3789.374902\n",
       " 7125 2024-05-13  15.083232  5431.420168\n",
       " 7126 2024-05-20  17.070373  3169.544908\n",
       " 7127 2024-05-27  17.042114  3053.124058\n",
       " 7128 2024-06-03  16.892982  3346.462837\n",
       " 7129 2024-06-10  12.661352  4092.326004\n",
       " 7130 2024-06-17  13.074325  4900.489583\n",
       " 7131 2024-06-24  13.097720  6373.868637\n",
       " 7132 2024-07-01  13.080315  6247.032166\n",
       " 7133 2024-07-08  13.070235  4777.343987\n",
       " 7134 2024-07-15  10.919150  4001.125876\n",
       " 7135 2024-07-22  12.967798  1973.602556\n",
       " 7136 2024-07-29  10.026867  6016.509468\n",
       " 7137 2024-08-05  13.075240  4976.362308\n",
       " 7138 2024-08-12  13.080127  1899.211194\n",
       " 7139 2024-08-19  14.084729    57.906758\n",
       " 7140 2024-08-26  13.586382   215.573633,\n",
       " 'B07LC2R52N':              ds   asp_week    ad_spend\n",
       " 7226 2024-05-06  28.241862  313.473624\n",
       " 7227 2024-05-13  28.034321  241.568192\n",
       " 7228 2024-05-20  27.962865  323.963779\n",
       " 7229 2024-05-27  26.072303  424.835389\n",
       " 7230 2024-06-03  28.491951  196.816530\n",
       " 7231 2024-06-10  28.594744   39.437033\n",
       " 7232 2024-06-17  28.263023   60.480982\n",
       " 7233 2024-06-24  27.966618  165.147776\n",
       " 7234 2024-07-01  28.089176  207.203328\n",
       " 7235 2024-07-08  28.049398  226.257970\n",
       " 7236 2024-07-15  28.145696  152.461546\n",
       " 7237 2024-07-22  30.740427   26.795097\n",
       " 7238 2024-07-29  33.715435   35.493012\n",
       " 7239 2024-08-05  36.229770  122.592735\n",
       " 7240 2024-08-12  29.751471   50.821551\n",
       " 7241 2024-08-19  36.187500   21.386294\n",
       " 7242 2024-08-26  35.366947    8.648141,\n",
       " 'B07M6TF42M':              ds   asp_week   ad_spend\n",
       " 7634 2024-05-06  23.561395  20.471817\n",
       " 7635 2024-05-13  23.743953  48.369075\n",
       " 7636 2024-05-20  24.422414  49.551592\n",
       " 7637 2024-05-27  24.090278  21.224900\n",
       " 7638 2024-06-03  24.191282  35.795008\n",
       " 7639 2024-06-10  24.637317  44.972314\n",
       " 7640 2024-06-17  24.193158  18.185363\n",
       " 7641 2024-06-24  23.703111   9.141326\n",
       " 7642 2024-07-01  23.930625  10.252810\n",
       " 7643 2024-07-08  23.942373   7.944029\n",
       " 7644 2024-07-15  23.830263   8.606412\n",
       " 7645 2024-07-22  23.687188   9.075119\n",
       " 7646 2024-07-29  23.818293   5.804369\n",
       " 7647 2024-08-05  24.037556   6.779583\n",
       " 7648 2024-08-12  24.007885   7.663689\n",
       " 7649 2024-08-19  24.136970   5.153458\n",
       " 7650 2024-08-26  21.445634  19.441137,\n",
       " 'B07N2GXFVK':              ds   asp_week    ad_spend\n",
       " 7736 2024-05-06  10.874897  114.362885\n",
       " 7737 2024-05-13  11.485317   72.347400\n",
       " 7738 2024-05-20  11.558636   83.615053\n",
       " 7739 2024-05-27  11.656404   71.467893\n",
       " 7740 2024-06-03  10.477400   70.644537\n",
       " 7741 2024-06-10   9.770755   52.694187\n",
       " 7742 2024-06-17  12.745147   40.235080\n",
       " 7743 2024-06-24  13.132500   35.930049\n",
       " 7744 2024-07-01  12.515926   13.245872\n",
       " 7745 2024-07-08  13.196842   20.553753\n",
       " 7746 2024-07-15  12.847216   30.639091\n",
       " 7747 2024-07-22  13.000517   12.786561\n",
       " 7748 2024-07-29  13.150182   20.112529\n",
       " 7749 2024-08-05  12.735870   33.494387\n",
       " 7750 2024-08-12  11.256184   28.825174\n",
       " 7751 2024-08-19  11.509825    9.652670\n",
       " 7752 2024-08-26  12.004691    5.892943,\n",
       " 'B07NS43346':              ds   asp_week     ad_spend\n",
       " 7940 2024-05-06  21.088944  3135.169276\n",
       " 7941 2024-05-13  21.106667  2313.103485\n",
       " 7942 2024-05-20  20.453105  2548.757526\n",
       " 7943 2024-05-27  20.989773  2086.556348\n",
       " 7944 2024-06-03  21.038974  2833.789825\n",
       " 7945 2024-06-10  21.037971  1053.430624\n",
       " 7946 2024-06-17  21.024103  1076.741154\n",
       " 7947 2024-06-24  20.962636  1142.584292\n",
       " 7948 2024-07-01  20.954518  1470.206597\n",
       " 7949 2024-07-08  20.987320  1713.602517\n",
       " 7950 2024-07-15  18.806192  1395.928709\n",
       " 7951 2024-07-22  20.007887  1286.031999\n",
       " 7952 2024-07-29  18.086754  4020.563881\n",
       " 7953 2024-08-05  19.136054  2333.251858\n",
       " 7954 2024-08-12  19.192855  2038.784754\n",
       " 7955 2024-08-19  19.123338  2347.596565\n",
       " 7956 2024-08-26  18.167842  3817.077752,\n",
       " 'B07NS6C8Y9':              ds   asp_week     ad_spend\n",
       " 8042 2024-05-06  21.810496  1484.294256\n",
       " 8043 2024-05-13  21.562439  1121.892741\n",
       " 8044 2024-05-20  21.766358   361.136610\n",
       " 8045 2024-05-27  21.730807   559.568413\n",
       " 8046 2024-06-03  21.882628   498.454609\n",
       " 8047 2024-06-10  21.904309   273.697258\n",
       " 8048 2024-06-17  21.506267   441.500127\n",
       " 8049 2024-06-24  21.434324   348.380869\n",
       " 8050 2024-07-01  21.695528   279.082941\n",
       " 8051 2024-07-08  21.655294    97.520802\n",
       " 8052 2024-07-15  19.750837   208.284030\n",
       " 8053 2024-07-22  21.543171    39.740934\n",
       " 8054 2024-07-29  19.347845   200.810002\n",
       " 8055 2024-08-05  21.389681   154.986151\n",
       " 8056 2024-08-12  18.482581    66.157095\n",
       " 8057 2024-08-19  18.331913   167.646252\n",
       " 8058 2024-08-26  18.455703   243.506509,\n",
       " 'B07P3WRN9L':              ds   asp_week    ad_spend\n",
       " 8348 2024-05-06  12.414348  105.422187\n",
       " 8349 2024-05-13  12.574483  107.533033\n",
       " 8350 2024-05-20  12.658696  151.150278\n",
       " 8351 2024-05-27  12.809211   74.527663\n",
       " 8352 2024-06-03  10.971200   85.886078\n",
       " 8353 2024-06-10  10.018437   85.080007\n",
       " 8354 2024-06-17  14.658485   62.553379\n",
       " 8355 2024-06-24  14.820769   83.696811\n",
       " 8356 2024-07-01  14.230625   49.037272\n",
       " 8357 2024-07-08  13.975789   34.646641\n",
       " 8358 2024-07-15  13.918824   46.411771\n",
       " 8359 2024-07-22  13.949000   20.040757\n",
       " 8360 2024-07-29  13.757647   17.186685\n",
       " 8361 2024-08-05  15.013500   31.133560\n",
       " 8362 2024-08-12  14.576818   29.749757\n",
       " 8363 2024-08-19  14.171429   11.190859\n",
       " 8364 2024-08-26  15.686957    8.097469,\n",
       " 'B07P528MHM':              ds   asp_week    ad_spend\n",
       " 8450 2024-05-06  22.170645  203.615092\n",
       " 8451 2024-05-13  21.872879  178.707511\n",
       " 8452 2024-05-20  22.015593  134.485291\n",
       " 8453 2024-05-27  22.772105  104.245262\n",
       " 8454 2024-06-03  23.658163   78.043095\n",
       " 8455 2024-06-10  24.086600   91.952430\n",
       " 8456 2024-06-17  23.657174   86.733019\n",
       " 8457 2024-06-24  24.081818   64.507749\n",
       " 8458 2024-07-01  24.038710   76.232463\n",
       " 8459 2024-07-08  23.822540   51.631583\n",
       " 8460 2024-07-15  23.870615   62.697189\n",
       " 8461 2024-07-22  23.805814   65.404087\n",
       " 8462 2024-07-29  23.818500  109.060117\n",
       " 8463 2024-08-05  23.820784   67.817942\n",
       " 8464 2024-08-12  23.878846   26.463446\n",
       " 8465 2024-08-19  23.666250   11.372512\n",
       " 8466 2024-08-26  22.444754  117.696409,\n",
       " 'B07PPWQX7X':              ds   asp_week  ad_spend\n",
       " 8654 2024-05-06  18.268857  0.000000\n",
       " 8655 2024-05-13  18.005152  0.000000\n",
       " 8656 2024-05-20  18.342667  0.000000\n",
       " 8657 2024-05-27  18.325638  1.840000\n",
       " 8658 2024-06-03  18.014423  0.000000\n",
       " 8659 2024-06-10  18.167963  2.381637\n",
       " 8660 2024-06-17  18.090000  2.820000\n",
       " 8661 2024-06-24  18.027671  0.000000\n",
       " 8662 2024-07-01  18.135352  0.000000\n",
       " 8663 2024-07-08  18.582381  0.000000\n",
       " 8664 2024-07-15  18.256767  4.268930\n",
       " 8665 2024-07-22  18.302353  0.000000\n",
       " 8666 2024-07-29  18.515161  0.000000\n",
       " 8667 2024-08-05  18.276531  0.000000\n",
       " 8668 2024-08-12  18.331298  0.790000\n",
       " 8669 2024-08-19  18.096016  0.000000\n",
       " 8670 2024-08-26  18.157826  0.000000,\n",
       " 'B07PQWXW5B':              ds   asp_week    ad_spend\n",
       " 8756 2024-05-06  24.203549  529.826887\n",
       " 8757 2024-05-13  24.176436  398.843781\n",
       " 8758 2024-05-20  24.215197  331.427711\n",
       " 8759 2024-05-27  24.126612  319.371499\n",
       " 8760 2024-06-03  25.690662  212.265944\n",
       " 8761 2024-06-10  30.411316   46.235780\n",
       " 8762 2024-06-17  24.111467  148.317805\n",
       " 8763 2024-06-24  24.009309  186.151715\n",
       " 8764 2024-07-01  24.310097  238.775402\n",
       " 8765 2024-07-08  23.959900  383.284784\n",
       " 8766 2024-07-15  17.866855  961.590959\n",
       " 8767 2024-07-22  23.999458  387.865508\n",
       " 8768 2024-07-29  23.856057  229.673675\n",
       " 8769 2024-08-05  15.752246  758.726144\n",
       " 8770 2024-08-12  24.217293  524.117153\n",
       " 8771 2024-08-19  24.159094  369.722471\n",
       " 8772 2024-08-26  23.885545  264.945949,\n",
       " 'B07PRDSY6J':              ds   asp_week     ad_spend\n",
       " 8858 2024-05-06  19.054460  5853.953668\n",
       " 8859 2024-05-13  15.059824  9354.930569\n",
       " 8860 2024-05-20  19.140260  6608.522916\n",
       " 8861 2024-05-27  19.129193  6733.132657\n",
       " 8862 2024-06-03  19.081405  7104.529153\n",
       " 8863 2024-06-10  13.766933  6570.053691\n",
       " 8864 2024-06-17  16.574878  5871.376428\n",
       " 8865 2024-06-24  16.569253  7565.587222\n",
       " 8866 2024-07-01  16.588086  5399.434254\n",
       " 8867 2024-07-08  16.542229  5729.338366\n",
       " 8868 2024-07-15  11.809599  7832.146574\n",
       " 8869 2024-07-22  16.464767  4703.248721\n",
       " 8870 2024-07-29  10.029279  2869.017580\n",
       " 8871 2024-08-05  16.514906  5388.555725\n",
       " 8872 2024-08-12  16.556651  5476.410414\n",
       " 8873 2024-08-19  16.382065  6283.064255\n",
       " 8874 2024-08-26  10.071880  7569.656138,\n",
       " 'B07QXV6T4K':              ds  asp_week  ad_spend\n",
       " 8960 2024-05-06       0.0       0.0\n",
       " 8961 2024-05-13       0.0       0.0\n",
       " 8962 2024-05-20       0.0       0.0\n",
       " 8963 2024-05-27       0.0       0.0\n",
       " 8964 2024-06-03       0.0       0.0\n",
       " 8965 2024-06-10       0.0       0.0\n",
       " 8966 2024-06-17       0.0       0.0\n",
       " 8967 2024-06-24       0.0       0.0\n",
       " 8968 2024-07-01       0.0       0.0\n",
       " 8969 2024-07-08       0.0       0.0\n",
       " 8970 2024-07-15       0.0       0.0\n",
       " 8971 2024-07-22       0.0       0.0\n",
       " 8972 2024-07-29       0.0       0.0\n",
       " 8973 2024-08-05       0.0       0.0\n",
       " 8974 2024-08-12       0.0       0.0\n",
       " 8975 2024-08-19       0.0       0.0\n",
       " 8976 2024-08-26       0.0       0.0,\n",
       " 'B07R27WXXB':              ds   asp_week     ad_spend\n",
       " 9062 2024-05-06  10.080776  2062.918850\n",
       " 9063 2024-05-13  10.088164  2053.270911\n",
       " 9064 2024-05-20  10.093138  1759.061418\n",
       " 9065 2024-05-27  10.081667  1899.481943\n",
       " 9066 2024-06-03  10.118028  1940.573667\n",
       " 9067 2024-06-10  10.034937  1564.371614\n",
       " 9068 2024-06-17  10.104541  1816.997042\n",
       " 9069 2024-06-24  10.057251  2153.793644\n",
       " 9070 2024-07-01  10.114027  1336.438201\n",
       " 9071 2024-07-08  10.097146  1344.273126\n",
       " 9072 2024-07-15   9.296802  1300.588143\n",
       " 9073 2024-07-22   9.998179  1005.128347\n",
       " 9074 2024-07-29   8.064116  1242.982779\n",
       " 9075 2024-08-05  10.099192  1168.514201\n",
       " 9076 2024-08-12  10.053944  1014.100297\n",
       " 9077 2024-08-19  10.004515  1008.114703\n",
       " 9078 2024-08-26   8.081457  1109.921625,\n",
       " 'B07R39354D':              ds   asp_week     ad_spend\n",
       " 9164 2024-05-06  14.678842  1484.599105\n",
       " 9165 2024-05-13  14.654821  1359.716081\n",
       " 9166 2024-05-20  15.808978   331.099979\n",
       " 9167 2024-05-27  15.444615   194.907758\n",
       " 9168 2024-06-03  15.165829  1660.794809\n",
       " 9169 2024-06-10  15.175267   393.144775\n",
       " 9170 2024-06-17  15.155158   131.472177\n",
       " 9171 2024-06-24  15.105763   265.071143\n",
       " 9172 2024-07-01  15.109844     4.696822\n",
       " 9173 2024-07-08  15.316644   810.586799\n",
       " 9174 2024-07-15  12.102798   927.451486\n",
       " 9175 2024-07-22  15.195159   651.206076\n",
       " 9176 2024-07-29  15.083112   626.959712\n",
       " 9177 2024-08-05  10.088806   954.241266\n",
       " 9178 2024-08-12  15.032143   569.169086\n",
       " 9179 2024-08-19  15.095686   557.018916\n",
       " 9180 2024-08-26  15.115372   379.846216,\n",
       " 'B07RM9DR6C':              ds   asp_week    ad_spend\n",
       " 9368 2024-05-06  18.870594  428.066458\n",
       " 9369 2024-05-13  19.071453  275.198462\n",
       " 9370 2024-05-20  19.056751  476.592697\n",
       " 9371 2024-05-27  18.972760  408.339686\n",
       " 9372 2024-06-03  19.051465  520.702405\n",
       " 9373 2024-06-10  18.916375  150.883091\n",
       " 9374 2024-06-17  19.040252  124.023365\n",
       " 9375 2024-06-24  18.936568  123.138206\n",
       " 9376 2024-07-01  18.984222  179.955926\n",
       " 9377 2024-07-08  18.934233  190.593115\n",
       " 9378 2024-07-15  16.826615  387.056975\n",
       " 9379 2024-07-22  19.059320   85.378671\n",
       " 9380 2024-07-29  18.871751  132.818506\n",
       " 9381 2024-08-05  18.860750  113.742250\n",
       " 9382 2024-08-12  18.994877  123.051867\n",
       " 9383 2024-08-19  19.113435   88.654556\n",
       " 9384 2024-08-26  19.075034   41.973848,\n",
       " 'B07XSN63KL':              ds   asp_week     ad_spend\n",
       " 9980 2024-05-06  24.949156  1630.263323\n",
       " 9981 2024-05-13  25.042278  1986.840638\n",
       " 9982 2024-05-20  22.923701  1997.727635\n",
       " 9983 2024-05-27  23.009765  1934.627291\n",
       " 9984 2024-06-03  25.114979  1714.143855\n",
       " 9985 2024-06-10  22.900371  1459.458623\n",
       " 9986 2024-06-17  25.135344  1504.418383\n",
       " 9987 2024-06-24  25.102845  1663.050878\n",
       " 9988 2024-07-01  25.145256  1094.175189\n",
       " 9989 2024-07-08  25.151020   925.410230\n",
       " 9990 2024-07-15  23.330536   832.637610\n",
       " 9991 2024-07-22  25.088223   772.265407\n",
       " 9992 2024-07-29  24.916693   617.480186\n",
       " 9993 2024-08-05  24.973917   635.684401\n",
       " 9994 2024-08-12  24.939712   332.330077\n",
       " 9995 2024-08-19  24.669947   639.747510\n",
       " 9996 2024-08-26  22.113719   761.053774,\n",
       " 'B07Y29JGSK':               ds   asp_week    ad_spend\n",
       " 10082 2024-05-06  16.295843  104.834648\n",
       " 10083 2024-05-13  16.208118  126.526555\n",
       " 10084 2024-05-20  16.058539  103.000437\n",
       " 10085 2024-05-27  16.824667   71.349631\n",
       " 10086 2024-06-03  16.934444   94.975814\n",
       " 10087 2024-06-10  17.000400   55.211807\n",
       " 10088 2024-06-17  16.982600   84.015162\n",
       " 10089 2024-06-24  17.060543   49.638997\n",
       " 10090 2024-07-01  17.407927   16.056434\n",
       " 10091 2024-07-08  17.161184   15.804729\n",
       " 10092 2024-07-15  14.321742   51.262709\n",
       " 10093 2024-07-22  17.227945   20.938068\n",
       " 10094 2024-07-29  17.113444   32.892747\n",
       " 10095 2024-08-05  17.148312   47.069140\n",
       " 10096 2024-08-12  17.475732   49.026675\n",
       " 10097 2024-08-19  17.226167   50.930469\n",
       " 10098 2024-08-26  16.998571   15.036646,\n",
       " 'B07ZJT647G':               ds  asp_week  ad_spend\n",
       " 10184 2024-05-06       0.0      0.00\n",
       " 10185 2024-05-13       0.0      0.00\n",
       " 10186 2024-05-20       0.0      0.00\n",
       " 10187 2024-05-27       0.0      0.00\n",
       " 10188 2024-06-03       0.0      0.00\n",
       " 10189 2024-06-10       0.0      0.00\n",
       " 10190 2024-06-17       0.0      0.00\n",
       " 10191 2024-06-24       0.0      0.00\n",
       " 10192 2024-07-01       0.0      0.00\n",
       " 10193 2024-07-08       0.0      0.00\n",
       " 10194 2024-07-15       0.0      0.00\n",
       " 10195 2024-07-22       0.0      0.00\n",
       " 10196 2024-07-29       0.0      0.00\n",
       " 10197 2024-08-05       0.0      0.00\n",
       " 10198 2024-08-12       0.0      0.00\n",
       " 10199 2024-08-19       0.0      1.06\n",
       " 10200 2024-08-26       0.0      0.00,\n",
       " 'B081C84KCS':               ds   asp_week    ad_spend\n",
       " 10286 2024-05-06  12.246395  651.878478\n",
       " 10287 2024-05-13  12.261366   31.538093\n",
       " 10288 2024-05-20  12.543750    0.000000\n",
       " 10289 2024-05-27  16.382000    3.221382\n",
       " 10290 2024-06-03  15.077347    3.691202\n",
       " 10291 2024-06-10  15.139111    1.591188\n",
       " 10292 2024-06-17  15.108659    0.000000\n",
       " 10293 2024-06-24  15.090680    1.757169\n",
       " 10294 2024-07-01  15.082289    2.618688\n",
       " 10295 2024-07-08  15.048182   12.552343\n",
       " 10296 2024-07-15  13.734961    1.330000\n",
       " 10297 2024-07-22  14.959130    0.000000\n",
       " 10298 2024-07-29  14.914375    8.877620\n",
       " 10299 2024-08-05  14.960485    2.580000\n",
       " 10300 2024-08-12  12.801397    0.000000\n",
       " 10301 2024-08-19  12.847519    0.000000\n",
       " 10302 2024-08-26  12.788319    0.545000,\n",
       " 'B082XJ6HRF':               ds  asp_week  ad_spend\n",
       " 10694 2024-05-06       0.0       0.0\n",
       " 10695 2024-05-13       0.0       0.0\n",
       " 10696 2024-05-20       0.0       0.0\n",
       " 10697 2024-05-27       0.0       0.0\n",
       " 10698 2024-06-03       0.0       0.0\n",
       " 10699 2024-06-10       0.0       0.0\n",
       " 10700 2024-06-17       0.0       0.0\n",
       " 10701 2024-06-24       0.0       0.0\n",
       " 10702 2024-07-01       0.0       0.0\n",
       " 10703 2024-07-08       0.0       0.0\n",
       " 10704 2024-07-15       0.0       0.0\n",
       " 10705 2024-07-22       0.0       0.0\n",
       " 10706 2024-07-29       0.0       0.0\n",
       " 10707 2024-08-05       0.0       0.0\n",
       " 10708 2024-08-12       0.0       0.0\n",
       " 10709 2024-08-19       0.0       0.0\n",
       " 10710 2024-08-26       0.0       0.0,\n",
       " 'B085KS85KX':               ds   asp_week     ad_spend\n",
       " 11306 2024-05-06  12.118256  1414.058566\n",
       " 11307 2024-05-13  12.004118   458.116042\n",
       " 11308 2024-05-20  12.068646  1988.858256\n",
       " 11309 2024-05-27  12.033053  2028.406944\n",
       " 11310 2024-06-03  12.075672  2125.620331\n",
       " 11311 2024-06-10  12.051416   828.743262\n",
       " 11312 2024-06-17   0.000000     0.000000\n",
       " 11313 2024-06-24   0.000000     0.000000\n",
       " 11314 2024-07-01   0.000000     0.000000\n",
       " 11315 2024-07-08  11.689945    78.408114\n",
       " 11316 2024-07-15  10.928596   681.616188\n",
       " 11317 2024-07-22  12.039143   957.651168\n",
       " 11318 2024-07-29  12.013045  1130.598164\n",
       " 11319 2024-08-05  12.034086  1044.903623\n",
       " 11320 2024-08-12  11.999050   594.328362\n",
       " 11321 2024-08-19  11.968082   716.845657\n",
       " 11322 2024-08-26  12.133432   413.346468,\n",
       " 'B085KW8Z1S':               ds  asp_week  ad_spend\n",
       " 11408 2024-05-06       0.0       0.0\n",
       " 11409 2024-05-13       0.0       0.0\n",
       " 11410 2024-05-20       0.0       0.0\n",
       " 11411 2024-05-27       0.0       0.0\n",
       " 11412 2024-06-03       0.0       0.0\n",
       " 11413 2024-06-10       0.0       0.0\n",
       " 11414 2024-06-17       0.0       0.0\n",
       " 11415 2024-06-24       0.0       0.0\n",
       " 11416 2024-07-01       0.0       0.0\n",
       " 11417 2024-07-08       0.0       0.0\n",
       " 11418 2024-07-15       0.0       0.0\n",
       " 11419 2024-07-22       0.0       0.0\n",
       " 11420 2024-07-29       0.0       0.0\n",
       " 11421 2024-08-05       0.0       0.0\n",
       " 11422 2024-08-12       0.0       0.0\n",
       " 11423 2024-08-19       0.0       0.0\n",
       " 11424 2024-08-26       0.0       0.0,\n",
       " 'B085WZ5187':               ds   asp_week     ad_spend\n",
       " 11612 2024-05-06  15.919748  1059.052049\n",
       " 11613 2024-05-13  14.659729  1169.709363\n",
       " 11614 2024-05-20  16.135797   630.944215\n",
       " 11615 2024-05-27  16.146695   746.633554\n",
       " 11616 2024-06-03  15.715278   633.136267\n",
       " 11617 2024-06-10  10.172744  1135.600246\n",
       " 11618 2024-06-17  16.145727   658.448340\n",
       " 11619 2024-06-24  16.072723   567.721693\n",
       " 11620 2024-07-01  16.065714   546.405956\n",
       " 11621 2024-07-08  16.146270   485.789495\n",
       " 11622 2024-07-15  11.718459   830.733658\n",
       " 11623 2024-07-22  15.796480   456.124746\n",
       " 11624 2024-07-29  10.073241   899.314495\n",
       " 11625 2024-08-05  16.053382  1334.420252\n",
       " 11626 2024-08-12  16.083149   910.298250\n",
       " 11627 2024-08-19  15.860674   682.992832\n",
       " 11628 2024-08-26  10.036734  1260.972484,\n",
       " 'B0871MYG6R':               ds  asp_week  ad_spend\n",
       " 11714 2024-05-06       0.0       0.0\n",
       " 11715 2024-05-13       0.0       0.0\n",
       " 11716 2024-05-20       0.0       0.0\n",
       " 11717 2024-05-27       0.0       0.0\n",
       " 11718 2024-06-03       0.0       0.0\n",
       " 11719 2024-06-10       0.0       0.0\n",
       " 11720 2024-06-17       0.0       0.0\n",
       " 11721 2024-06-24       0.0       0.0\n",
       " 11722 2024-07-01       0.0       0.0\n",
       " 11723 2024-07-08       0.0       0.0\n",
       " 11724 2024-07-15       0.0       0.0\n",
       " 11725 2024-07-22       0.0       0.0\n",
       " 11726 2024-07-29       0.0       0.0\n",
       " 11727 2024-08-05       0.0       0.0\n",
       " 11728 2024-08-12       0.0       0.0\n",
       " 11729 2024-08-19       0.0       0.0\n",
       " 11730 2024-08-26       0.0       0.0,\n",
       " 'B088PBW37Q':               ds  asp_week  ad_spend\n",
       " 11816 2024-05-06       0.0       0.0\n",
       " 11817 2024-05-13       0.0       0.0\n",
       " 11818 2024-05-20       0.0       0.0\n",
       " 11819 2024-05-27       0.0       0.0\n",
       " 11820 2024-06-03       0.0       0.0\n",
       " 11821 2024-06-10       0.0       0.0\n",
       " 11822 2024-06-17       0.0       0.0\n",
       " 11823 2024-06-24       0.0       0.0\n",
       " 11824 2024-07-01       0.0       0.0\n",
       " 11825 2024-07-08       0.0       0.0\n",
       " 11826 2024-07-15       0.0       0.0\n",
       " 11827 2024-07-22       0.0       0.0\n",
       " 11828 2024-07-29       0.0       0.0\n",
       " 11829 2024-08-05       0.0       0.0\n",
       " 11830 2024-08-12       0.0       0.0\n",
       " 11831 2024-08-19       0.0       0.0\n",
       " 11832 2024-08-26       0.0       0.0,\n",
       " 'B08B85MWMX':               ds   asp_week    ad_spend\n",
       " 11918 2024-05-06  16.696107  333.006629\n",
       " 11919 2024-05-13  15.877985  232.987705\n",
       " 11920 2024-05-20  15.834224  164.518161\n",
       " 11921 2024-05-27  15.708707  127.553264\n",
       " 11922 2024-06-03  16.770000  151.897483\n",
       " 11923 2024-06-10  16.554444  149.731283\n",
       " 11924 2024-06-17  16.752258  109.820567\n",
       " 11925 2024-06-24  16.667080  205.072795\n",
       " 11926 2024-07-01  16.372500   83.294167\n",
       " 11927 2024-07-08  15.915273   22.998170\n",
       " 11928 2024-07-15  16.545238   23.704151\n",
       " 11929 2024-07-22  16.707300   58.718141\n",
       " 11930 2024-07-29  15.935591  101.455681\n",
       " 11931 2024-08-05  16.088989  130.511143\n",
       " 11932 2024-08-12  16.144947  283.825784\n",
       " 11933 2024-08-19  15.949344  567.579601\n",
       " 11934 2024-08-26  16.201290  425.657138,\n",
       " 'B08BDBZMXV':               ds  asp_week  ad_spend\n",
       " 12020 2024-05-06       0.0       0.0\n",
       " 12021 2024-05-13       0.0       0.0\n",
       " 12022 2024-05-20       0.0       0.0\n",
       " 12023 2024-05-27       0.0       0.0\n",
       " 12024 2024-06-03       0.0       0.0\n",
       " 12025 2024-06-10       0.0       0.0\n",
       " 12026 2024-06-17       0.0       0.0\n",
       " 12027 2024-06-24       0.0       0.0\n",
       " 12028 2024-07-01       0.0       0.0\n",
       " 12029 2024-07-08       0.0       0.0\n",
       " 12030 2024-07-15       0.0       0.0\n",
       " 12031 2024-07-22       0.0       0.0\n",
       " 12032 2024-07-29       0.0       0.0\n",
       " 12033 2024-08-05       0.0       0.0\n",
       " 12034 2024-08-12       0.0       0.0\n",
       " 12035 2024-08-19       0.0       0.0\n",
       " 12036 2024-08-26       0.0       0.0,\n",
       " 'B08BG67576':               ds   asp_week    ad_spend\n",
       " 12122 2024-05-06  15.200906  362.914016\n",
       " 12123 2024-05-13  15.043716  282.389224\n",
       " 12124 2024-05-20  14.918784  234.047391\n",
       " 12125 2024-05-27  15.120339  341.657556\n",
       " 12126 2024-06-03  15.012271  287.250922\n",
       " 12127 2024-06-10  15.090632  179.237799\n",
       " 12128 2024-06-17  15.139336  311.110144\n",
       " 12129 2024-06-24  15.078640  219.548951\n",
       " 12130 2024-07-01  15.118352  258.319909\n",
       " 12131 2024-07-08  15.098071  213.130168\n",
       " 12132 2024-07-15  13.008198  156.031131\n",
       " 12133 2024-07-22  15.042361  147.569134\n",
       " 12134 2024-07-29  14.986632  167.110238\n",
       " 12135 2024-08-05  15.028694  147.641497\n",
       " 12136 2024-08-12  15.002834  234.095214\n",
       " 12137 2024-08-19  14.998488  233.257236\n",
       " 12138 2024-08-26  15.059110  195.250820,\n",
       " 'B08D2HWV3K':               ds  asp_week  ad_spend\n",
       " 12224 2024-05-06       0.0       0.0\n",
       " 12225 2024-05-13       0.0       0.0\n",
       " 12226 2024-05-20       0.0       0.0\n",
       " 12227 2024-05-27       0.0       0.0\n",
       " 12228 2024-06-03       0.0       0.0\n",
       " 12229 2024-06-10       0.0       0.0\n",
       " 12230 2024-06-17       0.0       0.0\n",
       " 12231 2024-06-24       0.0       0.0\n",
       " 12232 2024-07-01       0.0       0.0\n",
       " 12233 2024-07-08       0.0       0.0\n",
       " 12234 2024-07-15       0.0       0.0\n",
       " 12235 2024-07-22       0.0       0.0\n",
       " 12236 2024-07-29       0.0       0.0\n",
       " 12237 2024-08-05       0.0       0.0\n",
       " 12238 2024-08-12       0.0       0.0\n",
       " 12239 2024-08-19       0.0       0.0\n",
       " 12240 2024-08-26       0.0       0.0,\n",
       " 'B08DJXYRF1':               ds   asp_week    ad_spend\n",
       " 12326 2024-05-06  23.183936  954.740006\n",
       " 12327 2024-05-13  23.199123  990.166447\n",
       " 12328 2024-05-20  22.469540  784.886922\n",
       " 12329 2024-05-27  23.240985  817.851245\n",
       " 12330 2024-06-03  23.135589  808.483672\n",
       " 12331 2024-06-10  23.154351  627.069988\n",
       " 12332 2024-06-17  23.212386  599.322898\n",
       " 12333 2024-06-24  23.153206  653.604709\n",
       " 12334 2024-07-01  23.297234  647.067629\n",
       " 12335 2024-07-08  23.223366  733.912148\n",
       " 12336 2024-07-15  21.532228  734.582689\n",
       " 12337 2024-07-22  23.165227  531.583682\n",
       " 12338 2024-07-29  23.074136  698.891743\n",
       " 12339 2024-08-05  23.104675  929.750122\n",
       " 12340 2024-08-12  23.111291  607.640413\n",
       " 12341 2024-08-19  22.788289  676.664921\n",
       " 12342 2024-08-26  18.653269  761.978658,\n",
       " 'B08DKBBYXQ':               ds  asp_week  ad_spend\n",
       " 12428 2024-05-06       0.0       0.0\n",
       " 12429 2024-05-13       0.0       0.0\n",
       " 12430 2024-05-20       0.0       0.0\n",
       " 12431 2024-05-27       0.0       0.0\n",
       " 12432 2024-06-03       0.0       0.0\n",
       " 12433 2024-06-10       0.0       0.0\n",
       " 12434 2024-06-17       0.0       0.0\n",
       " 12435 2024-06-24       0.0       0.0\n",
       " 12436 2024-07-01       0.0       0.0\n",
       " 12437 2024-07-08       0.0       0.0\n",
       " 12438 2024-07-15       0.0       0.0\n",
       " 12439 2024-07-22       0.0       0.0\n",
       " 12440 2024-07-29       0.0       0.0\n",
       " 12441 2024-08-05       0.0       0.0\n",
       " 12442 2024-08-12       0.0       0.0\n",
       " 12443 2024-08-19       0.0       0.0\n",
       " 12444 2024-08-26       0.0       0.0,\n",
       " 'B08HR8HPPG':               ds  asp_week  ad_spend\n",
       " 12734 2024-05-06       0.0       0.0\n",
       " 12735 2024-05-13       0.0       0.0\n",
       " 12736 2024-05-20       0.0       0.0\n",
       " 12737 2024-05-27       0.0       0.0\n",
       " 12738 2024-06-03       0.0       0.0\n",
       " 12739 2024-06-10       0.0       0.0\n",
       " 12740 2024-06-17       0.0       0.0\n",
       " 12741 2024-06-24       0.0       0.0\n",
       " 12742 2024-07-01       0.0       0.0\n",
       " 12743 2024-07-08       0.0       0.0\n",
       " 12744 2024-07-15       0.0       0.0\n",
       " 12745 2024-07-22       0.0       0.0\n",
       " 12746 2024-07-29       0.0       0.0\n",
       " 12747 2024-08-05       0.0       0.0\n",
       " 12748 2024-08-12       0.0       0.0\n",
       " 12749 2024-08-19       0.0       0.0\n",
       " 12750 2024-08-26       0.0       0.0,\n",
       " 'B08K9CDH4Y':               ds   asp_week   ad_spend\n",
       " 12836 2024-05-06  14.092692  65.500628\n",
       " 12837 2024-05-13  14.041860  58.111238\n",
       " 12838 2024-05-20  13.854242  36.505482\n",
       " 12839 2024-05-27  15.024255  87.784598\n",
       " 12840 2024-06-03  16.671290  76.425214\n",
       " 12841 2024-06-10  16.399000  11.085129\n",
       " 12842 2024-06-17  16.275000   8.643675\n",
       " 12843 2024-06-24  16.445882  16.374243\n",
       " 12844 2024-07-01  16.638710  24.168726\n",
       " 12845 2024-07-08  16.633830   1.934556\n",
       " 12846 2024-07-15  16.905333   5.670566\n",
       " 12847 2024-07-22  16.955556  26.929687\n",
       " 12848 2024-07-29  16.913333  38.450429\n",
       " 12849 2024-08-05  17.419787  16.703419\n",
       " 12850 2024-08-12  16.868605  31.176210\n",
       " 12851 2024-08-19  17.150263  33.485023\n",
       " 12852 2024-08-26  16.896909  23.934716,\n",
       " 'B08KGHD5L9':               ds   asp_week   ad_spend\n",
       " 12938 2024-05-06  15.099706  33.478253\n",
       " 12939 2024-05-13  15.202459  46.036585\n",
       " 12940 2024-05-20  15.216923  56.314155\n",
       " 12941 2024-05-27  15.420222  84.323747\n",
       " 12942 2024-06-03  15.608387  74.352309\n",
       " 12943 2024-06-10  15.356739  45.479667\n",
       " 12944 2024-06-17  15.324792  92.309801\n",
       " 12945 2024-06-24  15.085192  72.934288\n",
       " 12946 2024-07-01  15.309565  69.804699\n",
       " 12947 2024-07-08  15.115625  28.459647\n",
       " 12948 2024-07-15  15.267742  13.935974\n",
       " 12949 2024-07-22  15.212051  11.689161\n",
       " 12950 2024-07-29  15.322632  10.081496\n",
       " 12951 2024-08-05  15.387231  24.428028\n",
       " 12952 2024-08-12  15.271111  29.560533\n",
       " 12953 2024-08-19  15.290000  49.376117\n",
       " 12954 2024-08-26  15.301833  41.810610,\n",
       " 'B08KSFZXPB':               ds   asp_week     ad_spend\n",
       " 13040 2024-05-06  15.254503  2233.553420\n",
       " 13041 2024-05-13  15.291906  2197.206837\n",
       " 13042 2024-05-20  14.962611  2093.863847\n",
       " 13043 2024-05-27  15.257992  2072.232625\n",
       " 13044 2024-06-03  15.321523  1547.714058\n",
       " 13045 2024-06-10  15.210108   673.709344\n",
       " 13046 2024-06-17  15.257371   845.810092\n",
       " 13047 2024-06-24  15.341344  1209.361149\n",
       " 13048 2024-07-01  15.156935  1174.705379\n",
       " 13049 2024-07-08  15.254684  1062.877283\n",
       " 13050 2024-07-15  11.871211  1027.734157\n",
       " 13051 2024-07-22  15.375346   667.338474\n",
       " 13052 2024-07-29  15.278269   414.725211\n",
       " 13053 2024-08-05  15.227492   583.281830\n",
       " 13054 2024-08-12  15.144757   422.036528\n",
       " 13055 2024-08-19  14.935191   591.685303\n",
       " 13056 2024-08-26  10.154750   984.146327,\n",
       " 'B08L3XW7CW':               ds  asp_week  ad_spend\n",
       " 13142 2024-05-06       0.0       0.0\n",
       " 13143 2024-05-13       0.0       0.0\n",
       " 13144 2024-05-20       0.0       0.0\n",
       " 13145 2024-05-27       0.0       0.0\n",
       " 13146 2024-06-03       0.0       0.0\n",
       " 13147 2024-06-10       0.0       0.0\n",
       " 13148 2024-06-17       0.0       0.0\n",
       " 13149 2024-06-24       0.0       0.0\n",
       " 13150 2024-07-01       0.0       0.0\n",
       " 13151 2024-07-08       0.0       0.0\n",
       " 13152 2024-07-15       0.0       0.0\n",
       " 13153 2024-07-22       0.0       0.0\n",
       " 13154 2024-07-29       0.0       0.0\n",
       " 13155 2024-08-05       0.0       0.0\n",
       " 13156 2024-08-12       0.0       0.0\n",
       " 13157 2024-08-19       0.0       0.0\n",
       " 13158 2024-08-26       0.0       0.0,\n",
       " 'B08L3Z6CW4':               ds  asp_week  ad_spend\n",
       " 13244 2024-05-06       0.0       0.0\n",
       " 13245 2024-05-13       0.0       0.0\n",
       " 13246 2024-05-20       0.0       0.0\n",
       " 13247 2024-05-27       0.0       0.0\n",
       " 13248 2024-06-03       0.0       0.0\n",
       " 13249 2024-06-10       0.0       0.0\n",
       " 13250 2024-06-17       0.0       0.0\n",
       " 13251 2024-06-24       0.0       0.0\n",
       " 13252 2024-07-01       0.0       0.0\n",
       " 13253 2024-07-08       0.0       0.0\n",
       " 13254 2024-07-15       0.0       0.0\n",
       " 13255 2024-07-22       0.0       0.0\n",
       " 13256 2024-07-29       0.0       0.0\n",
       " 13257 2024-08-05       0.0       0.0\n",
       " 13258 2024-08-12       0.0       0.0\n",
       " 13259 2024-08-19       0.0       0.0\n",
       " 13260 2024-08-26       0.0       0.0,\n",
       " 'B08L41RB8F':               ds  asp_week  ad_spend\n",
       " 13346 2024-05-06       0.0       0.0\n",
       " 13347 2024-05-13       0.0       0.0\n",
       " 13348 2024-05-20       0.0       0.0\n",
       " 13349 2024-05-27       0.0       0.0\n",
       " 13350 2024-06-03       0.0       0.0\n",
       " 13351 2024-06-10       0.0       0.0\n",
       " 13352 2024-06-17       0.0       0.0\n",
       " 13353 2024-06-24       0.0       0.0\n",
       " 13354 2024-07-01       0.0       0.0\n",
       " 13355 2024-07-08       0.0       0.0\n",
       " 13356 2024-07-15       0.0       0.0\n",
       " 13357 2024-07-22       0.0       0.0\n",
       " 13358 2024-07-29       0.0       0.0\n",
       " 13359 2024-08-05       0.0       0.0\n",
       " 13360 2024-08-12       0.0       0.0\n",
       " 13361 2024-08-19       0.0       0.0\n",
       " 13362 2024-08-26       0.0       0.0,\n",
       " 'B08VW53HN6':               ds   asp_week     ad_spend\n",
       " 13652 2024-05-06  18.151714  1237.220758\n",
       " 13653 2024-05-13  18.226854  1068.385871\n",
       " 13654 2024-05-20  17.700160  1180.921653\n",
       " 13655 2024-05-27  18.213165  1232.307017\n",
       " 13656 2024-06-03  18.116843  1073.207330\n",
       " 13657 2024-06-10  18.042821   350.438338\n",
       " 13658 2024-06-17  18.092615   536.815329\n",
       " 13659 2024-06-24  18.219967   299.036201\n",
       " 13660 2024-07-01  18.163544   318.691909\n",
       " 13661 2024-07-08  18.232760   338.916987\n",
       " 13662 2024-07-15  16.150646   451.384078\n",
       " 13663 2024-07-22  18.110914   327.771908\n",
       " 13664 2024-07-29  18.180851   353.875372\n",
       " 13665 2024-08-05  18.159151   554.692948\n",
       " 13666 2024-08-12  18.200322   484.018349\n",
       " 13667 2024-08-19  18.174053   567.176403\n",
       " 13668 2024-08-26  18.200694   408.743156,\n",
       " 'B08VWCZYZ6':               ds   asp_week    ad_spend\n",
       " 13754 2024-05-06  15.661210  479.940046\n",
       " 13755 2024-05-13  15.697117  451.419307\n",
       " 13756 2024-05-20  15.762128  461.584131\n",
       " 13757 2024-05-27  15.574677  435.968399\n",
       " 13758 2024-06-03  15.930538  365.494249\n",
       " 13759 2024-06-10  15.651682  174.780063\n",
       " 13760 2024-06-17  15.740686  182.964294\n",
       " 13761 2024-06-24  15.614490  144.452515\n",
       " 13762 2024-07-01  15.771646   52.431609\n",
       " 13763 2024-07-08  15.615301  103.829607\n",
       " 13764 2024-07-15  13.825506  139.413161\n",
       " 13765 2024-07-22  15.659902   96.265559\n",
       " 13766 2024-07-29  15.724615   94.811164\n",
       " 13767 2024-08-05  15.652593  100.216165\n",
       " 13768 2024-08-12  15.584432  105.476544\n",
       " 13769 2024-08-19  15.657320  131.542824\n",
       " 13770 2024-08-26  15.879053  131.365107,\n",
       " 'B08YS67HRW':               ds  asp_week  ad_spend\n",
       " 13856 2024-05-06       0.0       0.0\n",
       " 13857 2024-05-13       0.0       0.0\n",
       " 13858 2024-05-20       0.0       0.0\n",
       " 13859 2024-05-27       0.0       0.0\n",
       " 13860 2024-06-03       0.0       0.0\n",
       " 13861 2024-06-10       0.0       0.0\n",
       " 13862 2024-06-17       0.0       0.0\n",
       " 13863 2024-06-24       0.0       0.0\n",
       " 13864 2024-07-01       0.0       0.0\n",
       " 13865 2024-07-08       0.0       0.0\n",
       " 13866 2024-07-15       0.0       0.0\n",
       " 13867 2024-07-22       0.0       0.0\n",
       " 13868 2024-07-29       0.0       0.0\n",
       " 13869 2024-08-05       0.0       0.0\n",
       " 13870 2024-08-12       0.0       0.0\n",
       " 13871 2024-08-19       0.0       0.0\n",
       " 13872 2024-08-26       0.0       0.0,\n",
       " 'B091DKHXW4':               ds  asp_week  ad_spend\n",
       " 14162 2024-05-06  8.557000   1.37000\n",
       " 14163 2024-05-13  8.367200   0.00000\n",
       " 14164 2024-05-20  8.005556   0.00000\n",
       " 14165 2024-05-27  8.394400   1.25000\n",
       " 14166 2024-06-03  8.721837   0.87000\n",
       " 14167 2024-06-10  8.948409   0.00000\n",
       " 14168 2024-06-17  8.663659   0.00000\n",
       " 14169 2024-06-24  8.896829   0.00000\n",
       " 14170 2024-07-01  8.498621   2.15000\n",
       " 14171 2024-07-08  8.879474   0.00000\n",
       " 14172 2024-07-15  8.938065   0.00000\n",
       " 14173 2024-07-22  8.567391   0.00000\n",
       " 14174 2024-07-29  8.591429   2.47023\n",
       " 14175 2024-08-05  8.446250   0.00000\n",
       " 14176 2024-08-12  8.624800   0.00000\n",
       " 14177 2024-08-19  8.687419   0.00000\n",
       " 14178 2024-08-26  8.699677   0.00000,\n",
       " 'B099CD48QT':               ds  asp_week  ad_spend\n",
       " 14264 2024-05-06       0.0       0.0\n",
       " 14265 2024-05-13       0.0       0.0\n",
       " 14266 2024-05-20       0.0       0.0\n",
       " 14267 2024-05-27       0.0       0.0\n",
       " 14268 2024-06-03       0.0       0.0\n",
       " 14269 2024-06-10       0.0       0.0\n",
       " 14270 2024-06-17       0.0       0.0\n",
       " 14271 2024-06-24       0.0       0.0\n",
       " 14272 2024-07-01       0.0       0.0\n",
       " 14273 2024-07-08       0.0       0.0\n",
       " 14274 2024-07-15       0.0       0.0\n",
       " 14275 2024-07-22       0.0       0.0\n",
       " 14276 2024-07-29       0.0       0.0\n",
       " 14277 2024-08-05       0.0       0.0\n",
       " 14278 2024-08-12       0.0       0.0\n",
       " 14279 2024-08-19       0.0       0.0\n",
       " 14280 2024-08-26       0.0       0.0,\n",
       " 'B09DQ4SSSM':               ds  asp_week  ad_spend\n",
       " 14570 2024-05-06       0.0       0.0\n",
       " 14571 2024-05-13       0.0       0.0\n",
       " 14572 2024-05-20       0.0       0.0\n",
       " 14573 2024-05-27       0.0       0.0\n",
       " 14574 2024-06-03       0.0       0.0\n",
       " 14575 2024-06-10       0.0       0.0\n",
       " 14576 2024-06-17       0.0       0.0\n",
       " 14577 2024-06-24       0.0       0.0\n",
       " 14578 2024-07-01       0.0       0.0\n",
       " 14579 2024-07-08       0.0       0.0\n",
       " 14580 2024-07-15       0.0       0.0\n",
       " 14581 2024-07-22       0.0       0.0\n",
       " 14582 2024-07-29       0.0       0.0\n",
       " 14583 2024-08-05       0.0       0.0\n",
       " 14584 2024-08-12       0.0       0.0\n",
       " 14585 2024-08-19       0.0       0.0\n",
       " 14586 2024-08-26       0.0       0.0,\n",
       " 'B09DZ5BDMV':               ds  asp_week  ad_spend\n",
       " 14774 2024-05-06       0.0       0.0\n",
       " 14775 2024-05-13       0.0       0.0\n",
       " 14776 2024-05-20       0.0       0.0\n",
       " 14777 2024-05-27       0.0       0.0\n",
       " 14778 2024-06-03       0.0       0.0\n",
       " 14779 2024-06-10       0.0       0.0\n",
       " 14780 2024-06-17       0.0       0.0\n",
       " 14781 2024-06-24       0.0       0.0\n",
       " 14782 2024-07-01       0.0       0.0\n",
       " 14783 2024-07-08       0.0       0.0\n",
       " 14784 2024-07-15       0.0       0.0\n",
       " 14785 2024-07-22       0.0       0.0\n",
       " 14786 2024-07-29       0.0       0.0\n",
       " 14787 2024-08-05       0.0       0.0\n",
       " 14788 2024-08-12       0.0       0.0\n",
       " 14789 2024-08-19       0.0       0.0\n",
       " 14790 2024-08-26       0.0       0.0,\n",
       " 'B09F9YSS2L':               ds   asp_week   ad_spend\n",
       " 14876 2024-05-06  14.975893  52.747265\n",
       " 14877 2024-05-13  15.039571  75.622271\n",
       " 14878 2024-05-20  14.919333  64.842856\n",
       " 14879 2024-05-27  15.025233  67.148080\n",
       " 14880 2024-06-03  14.833176  53.787075\n",
       " 14881 2024-06-10  14.834459  37.984284\n",
       " 14882 2024-06-17  14.833276  51.408195\n",
       " 14883 2024-06-24  14.801408  63.038967\n",
       " 14884 2024-07-01  15.160563  88.735427\n",
       " 14885 2024-07-08  15.237714  61.032753\n",
       " 14886 2024-07-15  14.845205  24.665747\n",
       " 14887 2024-07-22  14.999701  28.901930\n",
       " 14888 2024-07-29  14.730833  28.687040\n",
       " 14889 2024-08-05  14.953208  10.452413\n",
       " 14890 2024-08-12  14.873721  12.254559\n",
       " 14891 2024-08-19  15.034600   7.899479\n",
       " 14892 2024-08-26  14.948864   6.237509,\n",
       " 'B09G3LJLLQ':               ds  asp_week    ad_spend\n",
       " 15063 2024-05-06  9.654244  331.106011\n",
       " 15064 2024-05-13  9.673814  208.336030\n",
       " 15065 2024-05-20  9.715060  203.243464\n",
       " 15066 2024-05-27  9.653938  261.622368\n",
       " 15067 2024-06-03  9.727826  205.182747\n",
       " 15068 2024-06-10  9.782717  263.141363\n",
       " 15069 2024-06-17  9.827337  195.564466\n",
       " 15070 2024-06-24  9.736954   56.530367\n",
       " 15071 2024-07-01  9.672208   29.668870\n",
       " 15072 2024-07-08  9.677874   33.195606\n",
       " 15073 2024-07-15  9.628636   34.010902\n",
       " 15074 2024-07-22  9.650068   23.995024\n",
       " 15075 2024-07-29  9.700942   45.999050\n",
       " 15076 2024-08-05  9.779296   47.368002\n",
       " 15077 2024-08-12  9.644356   93.814445\n",
       " 15078 2024-08-19  9.620188   75.920283\n",
       " 15079 2024-08-26  9.615108   50.916733,\n",
       " 'B09GV1ZCSX':               ds  asp_week  ad_spend\n",
       " 15471 2024-05-06       0.0       0.0\n",
       " 15472 2024-05-13       0.0       0.0\n",
       " 15473 2024-05-20       0.0       0.0\n",
       " 15474 2024-05-27       0.0       0.0\n",
       " 15475 2024-06-03       0.0       0.0\n",
       " 15476 2024-06-10       0.0       0.0\n",
       " 15477 2024-06-17       0.0       0.0\n",
       " 15478 2024-06-24       0.0       0.0\n",
       " 15479 2024-07-01       0.0       0.0\n",
       " 15480 2024-07-08       0.0       0.0\n",
       " 15481 2024-07-15       0.0       0.0\n",
       " 15482 2024-07-22       0.0       0.0\n",
       " 15483 2024-07-29       0.0       0.0\n",
       " 15484 2024-08-05       0.0       0.0\n",
       " 15485 2024-08-12       0.0       0.0\n",
       " 15486 2024-08-19       0.0       0.0\n",
       " 15487 2024-08-26       0.0       0.0,\n",
       " 'B09HSMQJ99':               ds   asp_week    ad_spend\n",
       " 15573 2024-05-06  15.346465  118.875541\n",
       " 15574 2024-05-13  15.152609   46.614080\n",
       " 15575 2024-05-20  15.069882   94.913429\n",
       " 15576 2024-05-27  15.162923   99.017979\n",
       " 15577 2024-06-03  15.220984   58.228254\n",
       " 15578 2024-06-10  15.127500   27.638573\n",
       " 15579 2024-06-17  15.015000   30.411686\n",
       " 15580 2024-06-24  15.313014   13.223542\n",
       " 15581 2024-07-01  15.036184   16.756632\n",
       " 15582 2024-07-08  14.950000   18.344168\n",
       " 15583 2024-07-15  14.990000   22.186739\n",
       " 15584 2024-07-22  15.179125   13.787543\n",
       " 15585 2024-07-29  14.998000    9.330366\n",
       " 15586 2024-08-05  13.563407  254.507841\n",
       " 15587 2024-08-12  15.233000   83.801610\n",
       " 15588 2024-08-19  14.990204   61.692334\n",
       " 15589 2024-08-26  15.058228   31.323083,\n",
       " 'B09HSQLT81':               ds   asp_week    ad_spend\n",
       " 15675 2024-05-06  15.079184  149.417416\n",
       " 15676 2024-05-13  15.151944  159.867333\n",
       " 15677 2024-05-20  15.139603  212.001877\n",
       " 15678 2024-05-27  15.123815  244.639020\n",
       " 15679 2024-06-03  15.151324  224.519449\n",
       " 15680 2024-06-10  15.103971  126.236455\n",
       " 15681 2024-06-17  15.093672  152.473004\n",
       " 15682 2024-06-24  15.221062  146.131183\n",
       " 15683 2024-07-01  15.088866  138.074063\n",
       " 15684 2024-07-08  15.271340  109.662051\n",
       " 15685 2024-07-15  12.951273  161.889013\n",
       " 15686 2024-07-22  15.044663   62.801695\n",
       " 15687 2024-07-29  14.973353   39.335303\n",
       " 15688 2024-08-05  10.271013   93.028154\n",
       " 15689 2024-08-12  12.865096   38.694701\n",
       " 15690 2024-08-19  12.944682   35.167617\n",
       " 15691 2024-08-26  12.988972   33.294825,\n",
       " 'B09HSQQ8SY':               ds   asp_week    ad_spend\n",
       " 15777 2024-05-06  15.214592  972.915881\n",
       " 15778 2024-05-13  15.246790  751.566766\n",
       " 15779 2024-05-20  15.280315  643.470341\n",
       " 15780 2024-05-27  15.226638  531.613786\n",
       " 15781 2024-06-03  15.159138  577.886590\n",
       " 15782 2024-06-10  15.262913  350.668810\n",
       " 15783 2024-06-17  15.284693  291.235671\n",
       " 15784 2024-06-24  15.133669  274.395089\n",
       " 15785 2024-07-01  15.285854  244.875642\n",
       " 15786 2024-07-08  15.391229  264.631535\n",
       " 15787 2024-07-15  13.401102  380.488604\n",
       " 15788 2024-07-22  15.195676  185.149475\n",
       " 15789 2024-07-29  15.175087  142.709928\n",
       " 15790 2024-08-05  10.254561  915.632050\n",
       " 15791 2024-08-12  15.210484  688.556381\n",
       " 15792 2024-08-19  15.205167  696.916172\n",
       " 15793 2024-08-26  15.237946  478.399328,\n",
       " 'B09JL834PX':               ds  asp_week  ad_spend\n",
       " 15879 2024-05-06       0.0       0.0\n",
       " 15880 2024-05-13       0.0       0.0\n",
       " 15881 2024-05-20       0.0       0.0\n",
       " 15882 2024-05-27       0.0       0.0\n",
       " 15883 2024-06-03       0.0       0.0\n",
       " 15884 2024-06-10       0.0       0.0\n",
       " 15885 2024-06-17       0.0       0.0\n",
       " 15886 2024-06-24       0.0       0.0\n",
       " 15887 2024-07-01       0.0       0.0\n",
       " 15888 2024-07-08       0.0       0.0\n",
       " 15889 2024-07-15       0.0       0.0\n",
       " 15890 2024-07-22       0.0       0.0\n",
       " 15891 2024-07-29       0.0       0.0\n",
       " 15892 2024-08-05       0.0       0.0\n",
       " 15893 2024-08-12       0.0       0.0\n",
       " 15894 2024-08-19       0.0       0.0\n",
       " 15895 2024-08-26       0.0       0.0,\n",
       " 'B09JL8BG45':               ds  asp_week  ad_spend\n",
       " 15981 2024-05-06       0.0       0.0\n",
       " 15982 2024-05-13       0.0       0.0\n",
       " 15983 2024-05-20       0.0       0.0\n",
       " 15984 2024-05-27       0.0       0.0\n",
       " 15985 2024-06-03       0.0       0.0\n",
       " 15986 2024-06-10       0.0       0.0\n",
       " 15987 2024-06-17       0.0       0.0\n",
       " 15988 2024-06-24       0.0       0.0\n",
       " 15989 2024-07-01       0.0       0.0\n",
       " 15990 2024-07-08       0.0       0.0\n",
       " 15991 2024-07-15       0.0       0.0\n",
       " 15992 2024-07-22       0.0       0.0\n",
       " 15993 2024-07-29       0.0       0.0\n",
       " 15994 2024-08-05       0.0       0.0\n",
       " 15995 2024-08-12       0.0       0.0\n",
       " 15996 2024-08-19       0.0       0.0\n",
       " 15997 2024-08-26       0.0       0.0,\n",
       " 'B09JL8V6RB':               ds  asp_week  ad_spend\n",
       " 16185 2024-05-06       0.0       0.0\n",
       " 16186 2024-05-13       0.0       0.0\n",
       " 16187 2024-05-20       0.0       0.0\n",
       " 16188 2024-05-27       0.0       0.0\n",
       " 16189 2024-06-03       0.0       0.0\n",
       " 16190 2024-06-10       0.0       0.0\n",
       " 16191 2024-06-17       0.0       0.0\n",
       " 16192 2024-06-24       0.0       0.0\n",
       " 16193 2024-07-01       0.0       0.0\n",
       " 16194 2024-07-08       0.0       0.0\n",
       " 16195 2024-07-15       0.0       0.0\n",
       " 16196 2024-07-22       0.0       0.0\n",
       " 16197 2024-07-29       0.0       0.0\n",
       " 16198 2024-08-05       0.0       0.0\n",
       " 16199 2024-08-12       0.0       0.0\n",
       " 16200 2024-08-19       0.0       0.0\n",
       " 16201 2024-08-26       0.0       0.0,\n",
       " 'B09JR7JLGM':               ds   asp_week   ad_spend\n",
       " 16491 2024-05-06   9.740968  16.555300\n",
       " 16492 2024-05-13   9.690000  18.118017\n",
       " 16493 2024-05-20   9.690000  52.197934\n",
       " 16494 2024-05-27   9.853333  43.737655\n",
       " 16495 2024-06-03   9.765333  36.258103\n",
       " 16496 2024-06-10   9.851429  40.308091\n",
       " 16497 2024-06-17   9.738710  57.627516\n",
       " 16498 2024-06-24   9.993429  24.115509\n",
       " 16499 2024-07-01   9.690000  21.413662\n",
       " 16500 2024-07-08   9.690000  11.465702\n",
       " 16501 2024-07-15   9.690000   9.175503\n",
       " 16502 2024-07-22  10.693793   5.282619\n",
       " 16503 2024-07-29   8.720000  10.688176\n",
       " 16504 2024-08-05   9.865750   7.999451\n",
       " 16505 2024-08-12   9.690000   6.628954\n",
       " 16506 2024-08-19   9.651200   4.043482\n",
       " 16507 2024-08-26   8.720000   7.738028,\n",
       " 'B09N7Y78Q7':               ds  asp_week  ad_spend\n",
       " 16797 2024-05-06      0.00       0.0\n",
       " 16798 2024-05-13      0.00       0.0\n",
       " 16799 2024-05-20      0.00       0.0\n",
       " 16800 2024-05-27      0.00       0.0\n",
       " 16801 2024-06-03      0.00       0.0\n",
       " 16802 2024-06-10      0.00       0.0\n",
       " 16803 2024-06-17      0.00       0.0\n",
       " 16804 2024-06-24      0.00       0.0\n",
       " 16805 2024-07-01      0.00       0.0\n",
       " 16806 2024-07-08      0.00       0.0\n",
       " 16807 2024-07-15      0.00       0.0\n",
       " 16808 2024-07-22      0.00       0.0\n",
       " 16809 2024-07-29      0.00       0.0\n",
       " 16810 2024-08-05      0.00       0.0\n",
       " 16811 2024-08-12      0.00       0.0\n",
       " 16812 2024-08-19     11.08       0.0\n",
       " 16813 2024-08-26      0.00       0.0,\n",
       " 'B09P25LZNV':               ds   asp_week    ad_spend\n",
       " 17103 2024-05-06  16.213772  410.660287\n",
       " 17104 2024-05-13  14.654295  709.906343\n",
       " 17105 2024-05-20  13.000000  654.858221\n",
       " 17106 2024-05-27  11.723571  503.545650\n",
       " 17107 2024-06-03  16.197436  481.443297\n",
       " 17108 2024-06-10   9.986387  269.189541\n",
       " 17109 2024-06-17   0.000000    0.000000\n",
       " 17110 2024-06-24  16.368571   12.326465\n",
       " 17111 2024-07-01  16.205143   18.177877\n",
       " 17112 2024-07-08  16.200000    8.566763\n",
       " 17113 2024-07-15  12.180497   45.770048\n",
       " 17114 2024-07-22  16.031111   13.753769\n",
       " 17115 2024-07-29   9.987354   40.150238\n",
       " 17116 2024-08-05  16.432091   17.179438\n",
       " 17117 2024-08-12  16.274651   11.702684\n",
       " 17118 2024-08-19  15.996667    9.016469\n",
       " 17119 2024-08-26  10.040865   44.231174,\n",
       " 'B09PSQDWLV':               ds   asp_week    ad_spend\n",
       " 17205 2024-05-06  14.933732  183.661289\n",
       " 17206 2024-05-13  15.108456  227.984918\n",
       " 17207 2024-05-20  15.006954  255.807790\n",
       " 17208 2024-05-27  15.629097  196.238053\n",
       " 17209 2024-06-03  17.018029  200.938427\n",
       " 17210 2024-06-10  16.820541  148.865239\n",
       " 17211 2024-06-17  17.434195  164.504216\n",
       " 17212 2024-06-24  16.779875  186.609807\n",
       " 17213 2024-07-01  17.039794  250.602038\n",
       " 17214 2024-07-08  17.050793  280.529372\n",
       " 17215 2024-07-15  16.760957  148.291562\n",
       " 17216 2024-07-22  16.837939   53.020922\n",
       " 17217 2024-07-29  16.684872   71.780279\n",
       " 17218 2024-08-05  16.918397   89.483005\n",
       " 17219 2024-08-12  16.854833   93.428605\n",
       " 17220 2024-08-19  16.987034   79.771632\n",
       " 17221 2024-08-26  17.008437   33.869587,\n",
       " 'B09QMT3CVT':               ds   asp_week    ad_spend\n",
       " 17715 2024-05-06  10.124538  558.050858\n",
       " 17716 2024-05-13  10.069921  427.548819\n",
       " 17717 2024-05-20  10.092303  461.233500\n",
       " 17718 2024-05-27  10.062011  445.023811\n",
       " 17719 2024-06-03  10.068000  407.985909\n",
       " 17720 2024-06-10  10.013647  219.328331\n",
       " 17721 2024-06-17  10.042685  208.998344\n",
       " 17722 2024-06-24  10.137027  133.933047\n",
       " 17723 2024-07-01  10.051903  152.730586\n",
       " 17724 2024-07-08  10.058785  181.871760\n",
       " 17725 2024-07-15   9.080031  221.361526\n",
       " 17726 2024-07-22  10.071639  107.470936\n",
       " 17727 2024-07-29  10.004197  115.233026\n",
       " 17728 2024-08-05  10.034862  147.017170\n",
       " 17729 2024-08-12  10.034510  131.466240\n",
       " 17730 2024-08-19  10.069281  111.039521\n",
       " 17731 2024-08-26  10.079088  155.315566,\n",
       " 'B09QNKBF6F':               ds   asp_week    ad_spend\n",
       " 17817 2024-05-06  10.115663  411.440716\n",
       " 17818 2024-05-13  10.089222  389.588917\n",
       " 17819 2024-05-20  10.018619  428.298906\n",
       " 17820 2024-05-27  10.181627  251.748306\n",
       " 17821 2024-06-03   9.977671  219.061395\n",
       " 17822 2024-06-10  10.060169  134.773483\n",
       " 17823 2024-06-17  10.294082   85.389415\n",
       " 17824 2024-06-24  10.048205   58.719465\n",
       " 17825 2024-07-01  10.271638   46.351949\n",
       " 17826 2024-07-08  10.080000   50.663929\n",
       " 17827 2024-07-15  10.082045   39.616508\n",
       " 17828 2024-07-22  10.137400   19.260660\n",
       " 17829 2024-07-29  10.115111   18.540323\n",
       " 17830 2024-08-05   9.959903   18.976937\n",
       " 17831 2024-08-12  10.111845   22.165787\n",
       " 17832 2024-08-19  10.153919   26.506905\n",
       " 17833 2024-08-26   9.990000   11.459189,\n",
       " 'B09RYRHYHH':               ds  asp_week  ad_spend\n",
       " 18021 2024-05-06       0.0       0.0\n",
       " 18022 2024-05-13       0.0       0.0\n",
       " 18023 2024-05-20       0.0       0.0\n",
       " 18024 2024-05-27       0.0       0.0\n",
       " 18025 2024-06-03       0.0       0.0\n",
       " 18026 2024-06-10       0.0       0.0\n",
       " 18027 2024-06-17       0.0       0.0\n",
       " 18028 2024-06-24       0.0       0.0\n",
       " 18029 2024-07-01       0.0       0.0\n",
       " 18030 2024-07-08       0.0       0.0\n",
       " 18031 2024-07-15       0.0       0.0\n",
       " 18032 2024-07-22       0.0       0.0\n",
       " 18033 2024-07-29       0.0       0.0\n",
       " 18034 2024-08-05       0.0       0.0\n",
       " 18035 2024-08-12       0.0       0.0\n",
       " 18036 2024-08-19       0.0       0.0\n",
       " 18037 2024-08-26       0.0       0.0,\n",
       " 'B09S1ZZ9CZ':               ds  asp_week    ad_spend\n",
       " 18123 2024-05-06  8.988235   34.323565\n",
       " 18124 2024-05-13  0.000000    0.000000\n",
       " 18125 2024-05-20  8.950000    0.000000\n",
       " 18126 2024-05-27  8.885714   11.425928\n",
       " 18127 2024-06-03  8.926111   31.119374\n",
       " 18128 2024-06-10  8.117308  138.485540\n",
       " 18129 2024-06-17  8.947877  443.306147\n",
       " 18130 2024-06-24  9.058092  302.761243\n",
       " 18131 2024-07-01  9.116027   89.729072\n",
       " 18132 2024-07-08  8.932692   28.804652\n",
       " 18133 2024-07-15  8.959512   21.429013\n",
       " 18134 2024-07-22  8.924348    6.054183\n",
       " 18135 2024-07-29  8.079421  200.205949\n",
       " 18136 2024-08-05  9.009200  100.581928\n",
       " 18137 2024-08-12  8.944375   96.307983\n",
       " 18138 2024-08-19  8.952361   96.580270\n",
       " 18139 2024-08-26  8.149225  183.393362,\n",
       " 'B09S26ZF1N':               ds   asp_week    ad_spend\n",
       " 18327 2024-05-06  13.247593  255.575762\n",
       " 18328 2024-05-13  13.094500  297.722249\n",
       " 18329 2024-05-20  11.823789  392.633366\n",
       " 18330 2024-05-27  10.230000   52.593384\n",
       " 18331 2024-06-03  13.075652  108.990738\n",
       " 18332 2024-06-10  12.977736  199.005164\n",
       " 18333 2024-06-17  13.082386  182.764509\n",
       " 18334 2024-06-24  13.110323  321.872784\n",
       " 18335 2024-07-01  13.260076  319.823111\n",
       " 18336 2024-07-08  13.015405  374.321972\n",
       " 18337 2024-07-15  13.045331  484.853486\n",
       " 18338 2024-07-22  13.053448  553.164443\n",
       " 18339 2024-07-29  11.786561  768.959775\n",
       " 18340 2024-08-05  13.056765  557.340933\n",
       " 18341 2024-08-12  12.926585  133.010940\n",
       " 18342 2024-08-19  12.922759   12.284545\n",
       " 18343 2024-08-26  14.310000    1.244249,\n",
       " 'B09S27HQ62':               ds   asp_week    ad_spend\n",
       " 18429 2024-05-06  10.055750   75.013309\n",
       " 18430 2024-05-13   7.741733  131.169930\n",
       " 18431 2024-05-20   9.990000   85.783845\n",
       " 18432 2024-05-27  10.151346  117.458836\n",
       " 18433 2024-06-03  10.207174   89.182341\n",
       " 18434 2024-06-10   7.657571   70.675987\n",
       " 18435 2024-06-17  10.099600   52.234925\n",
       " 18436 2024-06-24  10.195588   26.381300\n",
       " 18437 2024-07-01  10.320000   30.171903\n",
       " 18438 2024-07-08  10.304400   55.955185\n",
       " 18439 2024-07-15   8.463333   36.261017\n",
       " 18440 2024-07-22  10.029762   67.536259\n",
       " 18441 2024-07-29   7.630000   36.731815\n",
       " 18442 2024-08-05   9.990000    7.748096\n",
       " 18443 2024-08-12   9.990000   48.785215\n",
       " 18444 2024-08-19  10.195588   49.235376\n",
       " 18445 2024-08-26   7.751829   98.369614,\n",
       " 'B09S28PGXD':               ds   asp_week    ad_spend\n",
       " 18531 2024-05-06   9.990000   43.084457\n",
       " 18532 2024-05-13   9.094943  127.583907\n",
       " 18533 2024-05-20  10.029697   58.403059\n",
       " 18534 2024-05-27  10.408919   14.711726\n",
       " 18535 2024-06-03  11.040345   14.705773\n",
       " 18536 2024-06-10   9.224875   80.114975\n",
       " 18537 2024-06-17  11.040323   14.791308\n",
       " 18538 2024-06-24  10.895000   11.184833\n",
       " 18539 2024-07-01  10.003125    3.641627\n",
       " 18540 2024-07-08   8.981667    1.417888\n",
       " 18541 2024-07-15   8.353143    4.965491\n",
       " 18542 2024-07-22   9.277083    3.942271\n",
       " 18543 2024-07-29   7.994063   12.209023\n",
       " 18544 2024-08-05   9.138537   22.756305\n",
       " 18545 2024-08-12   9.020000   18.474715\n",
       " 18546 2024-08-19   9.400000   24.774750\n",
       " 18547 2024-08-26   8.061600   13.169873,\n",
       " 'B09S2B9221':               ds   asp_week    ad_spend\n",
       " 18633 2024-05-06   9.252500  105.777715\n",
       " 18634 2024-05-13   8.990645  109.186168\n",
       " 18635 2024-05-20   9.110000  111.392815\n",
       " 18636 2024-05-27   9.395211   69.413437\n",
       " 18637 2024-06-03  10.036825   97.452986\n",
       " 18638 2024-06-10   9.979231   54.195469\n",
       " 18639 2024-06-17  10.076667   51.541780\n",
       " 18640 2024-06-24   9.964348   74.753940\n",
       " 18641 2024-07-01   9.949500   69.741934\n",
       " 18642 2024-07-08   9.990000   65.837889\n",
       " 18643 2024-07-15   9.987589   58.013011\n",
       " 18644 2024-07-22   9.965507   55.560979\n",
       " 18645 2024-07-29   9.028462   79.449599\n",
       " 18646 2024-08-05  10.104000   86.079446\n",
       " 18647 2024-08-12  10.161889   61.702882\n",
       " 18648 2024-08-19   9.924526   71.020772\n",
       " 18649 2024-08-26   9.026947   53.442805,\n",
       " 'B09S2H6PPY':               ds   asp_week    ad_spend\n",
       " 18939 2024-05-06  11.099348  121.491391\n",
       " 18940 2024-05-13  10.055904  194.930072\n",
       " 18941 2024-05-20  11.115556   28.358445\n",
       " 18942 2024-05-27  11.575294   85.557261\n",
       " 18943 2024-06-03  13.236000   66.925135\n",
       " 18944 2024-06-10  12.768000   68.592271\n",
       " 18945 2024-06-17  13.205833   61.291758\n",
       " 18946 2024-06-24  12.980769   43.511679\n",
       " 18947 2024-07-01  12.869643   65.874979\n",
       " 18948 2024-07-08  12.968333   31.655797\n",
       " 18949 2024-07-15  12.941429   85.998541\n",
       " 18950 2024-07-22  12.753171  107.067248\n",
       " 18951 2024-07-29  10.032069  275.584148\n",
       " 18952 2024-08-05  12.982410  158.266324\n",
       " 18953 2024-08-12  12.894561  115.288991\n",
       " 18954 2024-08-19  12.923922   74.265966\n",
       " 18955 2024-08-26  10.003759  201.583969,\n",
       " 'B09XQBVP4L':               ds  asp_week    ad_spend\n",
       " 19143 2024-05-06  9.785909  280.570104\n",
       " 19144 2024-05-13  9.966765  131.989050\n",
       " 19145 2024-05-20  9.754737  185.808172\n",
       " 19146 2024-05-27  9.936585   98.037524\n",
       " 19147 2024-06-03  9.780000   81.794662\n",
       " 19148 2024-06-10  9.790000   27.420165\n",
       " 19149 2024-06-17  9.893462   28.351956\n",
       " 19150 2024-06-24  9.785870   15.455420\n",
       " 19151 2024-07-01  8.968947    8.770903\n",
       " 19152 2024-07-08  8.075577    7.376357\n",
       " 19153 2024-07-15  8.045588   13.246151\n",
       " 19154 2024-07-22  8.154082    6.753203\n",
       " 19155 2024-07-29  8.065532    9.129668\n",
       " 19156 2024-08-05  8.009219    4.659735\n",
       " 19157 2024-08-12  8.105606   27.641830\n",
       " 19158 2024-08-19  8.015349    4.124963\n",
       " 19159 2024-08-26  7.229342    9.714160,\n",
       " 'B0B86PTXC7':               ds   asp_week   ad_spend\n",
       " 19347 2024-05-06   9.990000   6.502985\n",
       " 19348 2024-05-13  10.080000   5.128044\n",
       " 19349 2024-05-20  10.017692   1.188332\n",
       " 19350 2024-05-27   9.990000   6.241618\n",
       " 19351 2024-06-03   9.990000   1.752433\n",
       " 19352 2024-06-10  10.151176   0.729014\n",
       " 19353 2024-06-17   9.962222   3.025137\n",
       " 19354 2024-06-24   9.990000   3.371327\n",
       " 19355 2024-07-01   9.990000   4.171388\n",
       " 19356 2024-07-08   9.990000   3.602670\n",
       " 19357 2024-07-15   9.061429   8.730404\n",
       " 19358 2024-07-22  10.361250   1.873270\n",
       " 19359 2024-07-29   9.990000  12.463775\n",
       " 19360 2024-08-05  10.283846  24.873227\n",
       " 19361 2024-08-12  10.022414  13.774278\n",
       " 19362 2024-08-19  10.132105  15.225996\n",
       " 19363 2024-08-26   9.990000  34.388928,\n",
       " 'B0B9168ZLY':               ds   asp_week   ad_spend\n",
       " 19755 2024-05-06  12.877273  33.531960\n",
       " 19756 2024-05-13  12.740769  31.356687\n",
       " 19757 2024-05-20  12.842500  22.531128\n",
       " 19758 2024-05-27  12.750000  27.437100\n",
       " 19759 2024-06-03  12.790000  14.457004\n",
       " 19760 2024-06-10   0.000000   0.000000\n",
       " 19761 2024-06-17  12.790000   1.494468\n",
       " 19762 2024-06-24   0.000000   0.000000\n",
       " 19763 2024-07-01   7.990000   0.000000\n",
       " 19764 2024-07-08   8.021250   0.000000\n",
       " 19765 2024-07-15   8.025122   0.000000\n",
       " 19766 2024-07-22   7.990000   1.660000\n",
       " 19767 2024-07-29   7.990000   0.000000\n",
       " 19768 2024-08-05   8.113077   0.000000\n",
       " 19769 2024-08-12   7.990000   0.000000\n",
       " 19770 2024-08-19   7.990000   0.000000\n",
       " 19771 2024-08-26   7.990000   0.000000,\n",
       " 'B0B916GSYF':               ds   asp_week  ad_spend\n",
       " 19857 2024-05-06  12.790000       0.0\n",
       " 19858 2024-05-13  13.388000       0.0\n",
       " 19859 2024-05-20  13.590000       0.0\n",
       " 19860 2024-05-27  12.790000       0.0\n",
       " 19861 2024-06-03  13.397778       0.0\n",
       " 19862 2024-06-10  12.790000       0.0\n",
       " 19863 2024-06-17  12.790000       0.0\n",
       " 19864 2024-06-24  12.790000       0.0\n",
       " 19865 2024-07-01   9.790000       0.0\n",
       " 19866 2024-07-08   8.190000       0.0\n",
       " 19867 2024-07-15   9.376667       0.0\n",
       " 19868 2024-07-22  12.989231       0.0\n",
       " 19869 2024-07-29  12.790000       0.0\n",
       " 19870 2024-08-05  12.790000       0.0\n",
       " 19871 2024-08-12  12.790000       0.0\n",
       " 19872 2024-08-19  12.790000       0.0\n",
       " 19873 2024-08-26  12.790000       0.0,\n",
       " 'B0B9172ZB1':               ds  asp_week  ad_spend\n",
       " 20163 2024-05-06      0.00       0.0\n",
       " 20164 2024-05-13      0.00       0.0\n",
       " 20165 2024-05-20      0.00       0.0\n",
       " 20166 2024-05-27     12.49       0.0\n",
       " 20167 2024-06-03      0.00       0.0\n",
       " 20168 2024-06-10      0.00       0.0\n",
       " 20169 2024-06-17      0.00       0.0\n",
       " 20170 2024-06-24      0.00       0.0\n",
       " 20171 2024-07-01      0.00       0.0\n",
       " 20172 2024-07-08      0.00       0.0\n",
       " 20173 2024-07-15      0.00       0.0\n",
       " 20174 2024-07-22      0.00       0.0\n",
       " 20175 2024-07-29      0.00       0.0\n",
       " 20176 2024-08-05      0.00       0.0\n",
       " 20177 2024-08-12      0.00       0.0\n",
       " 20178 2024-08-19      0.00       0.0\n",
       " 20179 2024-08-26      0.00       0.0,\n",
       " 'B0B917D3PT':               ds   asp_week   ad_spend\n",
       " 20265 2024-05-06  13.565714   3.705333\n",
       " 20266 2024-05-13  13.090000  20.028852\n",
       " 20267 2024-05-20  13.526875   5.861701\n",
       " 20268 2024-05-27  13.090000   5.384325\n",
       " 20269 2024-06-03  13.757000  18.853663\n",
       " 20270 2024-06-10  13.090000  23.883212\n",
       " 20271 2024-06-17  13.090000  28.405260\n",
       " 20272 2024-06-24  13.172381   7.697066\n",
       " 20273 2024-07-01  11.761429   2.274469\n",
       " 20274 2024-07-08   9.990000   3.307217\n",
       " 20275 2024-07-15  11.444667  14.932150\n",
       " 20276 2024-07-22  13.090000  14.377498\n",
       " 20277 2024-07-29  13.090000  20.306662\n",
       " 20278 2024-08-05  13.090000  34.900165\n",
       " 20279 2024-08-12  10.172286  28.807936\n",
       " 20280 2024-08-19   9.990000  39.126152\n",
       " 20281 2024-08-26   9.990000  14.562981,\n",
       " 'B0B917GVQB':               ds   asp_week    ad_spend\n",
       " 20367 2024-05-06  13.119000  100.602271\n",
       " 20368 2024-05-13  12.705405   73.980508\n",
       " 20369 2024-05-20   8.486508  246.907582\n",
       " 20370 2024-05-27  13.088889   99.592560\n",
       " 20371 2024-06-03  13.109623  111.531890\n",
       " 20372 2024-06-10  12.479750   53.737652\n",
       " 20373 2024-06-17   8.463346  543.824669\n",
       " 20374 2024-06-24  12.965397  129.021878\n",
       " 20375 2024-07-01  12.962642   96.227135\n",
       " 20376 2024-07-08  12.969149   32.213246\n",
       " 20377 2024-07-15  10.388947   58.883497\n",
       " 20378 2024-07-22  13.017692   18.596404\n",
       " 20379 2024-07-29  12.835161    8.826866\n",
       " 20380 2024-08-05  12.795227   19.731575\n",
       " 20381 2024-08-12   8.989071  146.100960\n",
       " 20382 2024-08-19  10.064478   53.393609\n",
       " 20383 2024-08-26   9.985176   33.598262,\n",
       " 'B0B917H54K':               ds   asp_week   ad_spend\n",
       " 20469 2024-05-06  10.074532  21.367363\n",
       " 20470 2024-05-13  10.058302  13.568916\n",
       " 20471 2024-05-20  10.029876  44.768524\n",
       " 20472 2024-05-27  10.000078  33.893514\n",
       " 20473 2024-06-03   9.992247  26.491650\n",
       " 20474 2024-06-10  10.047701  14.400564\n",
       " 20475 2024-06-17  10.007526  23.380500\n",
       " 20476 2024-06-24  10.027917  11.359566\n",
       " 20477 2024-07-01  10.024691   2.995775\n",
       " 20478 2024-07-08  10.018542   3.445112\n",
       " 20479 2024-07-15   8.987192  17.454281\n",
       " 20480 2024-07-22  10.014216   7.665229\n",
       " 20481 2024-07-29  10.024100   9.373195\n",
       " 20482 2024-08-05   9.990000   6.827536\n",
       " 20483 2024-08-12   9.993246   8.967729\n",
       " 20484 2024-08-19   9.990000  10.100232\n",
       " 20485 2024-08-26  10.004512   7.002298,\n",
       " 'B0B917SHXV':               ds   asp_week    ad_spend\n",
       " 20571 2024-05-06  13.611538   84.692225\n",
       " 20572 2024-05-13  13.516585   78.656310\n",
       " 20573 2024-05-20   9.119645  309.762557\n",
       " 20574 2024-05-27  13.490370  141.778341\n",
       " 20575 2024-06-03  13.574328   86.467937\n",
       " 20576 2024-06-10  13.467442   76.323570\n",
       " 20577 2024-06-17   9.130670  231.668070\n",
       " 20578 2024-06-24  13.524028   24.631891\n",
       " 20579 2024-07-01  13.596571   46.073329\n",
       " 20580 2024-07-08  13.462000   36.997863\n",
       " 20581 2024-07-15  11.411026   90.231414\n",
       " 20582 2024-07-22  13.444318    5.896706\n",
       " 20583 2024-07-29  13.484146   17.112362\n",
       " 20584 2024-08-05  13.462558   33.478524\n",
       " 20585 2024-08-12   9.178636   56.118358\n",
       " 20586 2024-08-19  10.310566   54.740573\n",
       " 20587 2024-08-26  10.124694   25.844011,\n",
       " 'B0B9194J2B':               ds  asp_week  ad_spend\n",
       " 20775 2024-05-06      0.00       0.0\n",
       " 20776 2024-05-13      0.00       0.0\n",
       " 20777 2024-05-20     13.09       0.0\n",
       " 20778 2024-05-27      0.00       0.0\n",
       " 20779 2024-06-03      0.00       0.0\n",
       " 20780 2024-06-10      0.00       0.0\n",
       " 20781 2024-06-17      0.00       0.0\n",
       " 20782 2024-06-24      0.00       0.0\n",
       " 20783 2024-07-01      0.00       0.0\n",
       " 20784 2024-07-08      0.00       0.0\n",
       " 20785 2024-07-15      0.00       0.0\n",
       " 20786 2024-07-22      0.00       0.0\n",
       " 20787 2024-07-29      0.00       0.0\n",
       " 20788 2024-08-05      0.00       0.0\n",
       " 20789 2024-08-12      0.00       0.0\n",
       " 20790 2024-08-19      0.00       0.0\n",
       " 20791 2024-08-26      0.00       0.0,\n",
       " 'B0B919Q5RM':               ds   asp_week    ad_spend\n",
       " 20877 2024-05-06  13.074444   93.607765\n",
       " 20878 2024-05-13  12.905600   57.496954\n",
       " 20879 2024-05-20   7.935435  694.333953\n",
       " 20880 2024-05-27  13.084756  179.112938\n",
       " 20881 2024-06-03  13.174583   92.794088\n",
       " 20882 2024-06-10  12.613023   57.660447\n",
       " 20883 2024-06-17   7.945172  475.415362\n",
       " 20884 2024-06-24  13.009136   59.190766\n",
       " 20885 2024-07-01  13.013607   53.534066\n",
       " 20886 2024-07-08  13.247872   64.844559\n",
       " 20887 2024-07-15   9.988720  179.560588\n",
       " 20888 2024-07-22  12.954865   18.668253\n",
       " 20889 2024-07-29  12.815714   19.374517\n",
       " 20890 2024-08-05  12.770714   15.450156\n",
       " 20891 2024-08-12   8.360510  135.305126\n",
       " 20892 2024-08-19  10.018611   39.343187\n",
       " 20893 2024-08-26   9.990000   15.908707,\n",
       " 'B0B91LZ8L7':               ds   asp_week  ad_spend\n",
       " 20979 2024-05-06  12.322857  2.641472\n",
       " 20980 2024-05-13  12.045185  0.000000\n",
       " 20981 2024-05-20  12.020000  0.773443\n",
       " 20982 2024-05-27  12.003750  0.927031\n",
       " 20983 2024-06-03  12.120000  0.000000\n",
       " 20984 2024-06-10  11.990000  0.769221\n",
       " 20985 2024-06-17  12.052500  0.244378\n",
       " 20986 2024-06-24  12.173684  1.525685\n",
       " 20987 2024-07-01  12.014118  0.930245\n",
       " 20988 2024-07-08  11.990000  0.292649\n",
       " 20989 2024-07-15   9.179189  2.285825\n",
       " 20990 2024-07-22  11.990000  0.294547\n",
       " 20991 2024-07-29  11.990000  0.788055\n",
       " 20992 2024-08-05  11.990000  0.000000\n",
       " 20993 2024-08-12  11.990000  0.000000\n",
       " 20994 2024-08-19  11.990000  0.675905\n",
       " 20995 2024-08-26  12.068667  0.925173,\n",
       " 'B0BH84XZY4':               ds   asp_week   ad_spend\n",
       " 21183 2024-05-06  12.725714  15.782720\n",
       " 21184 2024-05-13  12.853600  15.048075\n",
       " 21185 2024-05-20  12.690000  14.897529\n",
       " 21186 2024-05-27  12.690000  13.524241\n",
       " 21187 2024-06-03  12.799000   8.456876\n",
       " 21188 2024-06-10  12.864000   4.476445\n",
       " 21189 2024-06-17  12.690000   2.084486\n",
       " 21190 2024-06-24  12.690000   3.583924\n",
       " 21191 2024-07-01   9.957442   1.754872\n",
       " 21192 2024-07-08   7.990000   2.138186\n",
       " 21193 2024-07-15   8.925851   2.882001\n",
       " 21194 2024-07-22  12.622292   1.217326\n",
       " 21195 2024-07-29   8.244348   1.380844\n",
       " 21196 2024-08-05   7.990000   7.162480\n",
       " 21197 2024-08-12   9.917391   3.488903\n",
       " 21198 2024-08-19  10.065932   0.936992\n",
       " 21199 2024-08-26  10.100741   1.398621,\n",
       " 'B0C2Z44JLK':               ds   asp_week      ad_spend\n",
       " 21622 2024-05-06  17.146587  10446.180732\n",
       " 21623 2024-05-13  17.143569   9121.005100\n",
       " 21624 2024-05-20  17.129786   8512.823385\n",
       " 21625 2024-05-27  15.476114   5418.026050\n",
       " 21626 2024-06-03  15.412278  10736.096299\n",
       " 21627 2024-06-10  16.054721   9025.435369\n",
       " 21628 2024-06-17  16.364711  10212.914217\n",
       " 21629 2024-06-24  16.090826  11464.909396\n",
       " 21630 2024-07-01  16.099272  10446.662423\n",
       " 21631 2024-07-08  16.101693  10203.457099\n",
       " 21632 2024-07-15  14.022903  10812.228591\n",
       " 21633 2024-07-22  16.088946   7495.610999\n",
       " 21634 2024-07-29  16.057561   5443.600551\n",
       " 21635 2024-08-05  16.074998   6248.107690\n",
       " 21636 2024-08-12  16.070173   7489.866692\n",
       " 21637 2024-08-19  16.052602   8810.504798\n",
       " 21638 2024-08-26  16.070758   7394.228106,\n",
       " 'B0C2Z8QT9V':               ds   asp_week     ad_spend\n",
       " 21752 2024-05-06  16.145472    89.278122\n",
       " 21753 2024-05-13  16.130253    81.089004\n",
       " 21754 2024-05-20  16.136424  2862.770920\n",
       " 21755 2024-05-27  16.114432  2555.311428\n",
       " 21756 2024-06-03  16.121659  1832.055910\n",
       " 21757 2024-06-10  16.160378    39.266253\n",
       " 21758 2024-06-17  16.201460  1053.213964\n",
       " 21759 2024-06-24  16.140357   822.075580\n",
       " 21760 2024-07-01  16.102066  1051.628014\n",
       " 21761 2024-07-08  16.155777  1010.444449\n",
       " 21762 2024-07-15  14.871859  1271.310482\n",
       " 21763 2024-07-22  16.040244   708.883408\n",
       " 21764 2024-07-29  16.074041  1098.323599\n",
       " 21765 2024-08-05  16.053598  1696.217255\n",
       " 21766 2024-08-12  16.120018  1635.433869\n",
       " 21767 2024-08-19  16.088025  1768.456542\n",
       " 21768 2024-08-26  16.085529   857.933657,\n",
       " 'B0C656HMKC':               ds  asp_week   ad_spend\n",
       " 21810 2024-05-06  9.084348   3.477878\n",
       " 21811 2024-05-13  9.080504   1.778829\n",
       " 21812 2024-05-20  6.325249  18.749947\n",
       " 21813 2024-05-27  9.090982   7.427988\n",
       " 21814 2024-06-03  9.035000   3.697054\n",
       " 21815 2024-06-10  9.000598   0.944361\n",
       " 21816 2024-06-17  6.278524   8.086309\n",
       " 21817 2024-06-24  9.002738   8.571832\n",
       " 21818 2024-07-01  9.008547   1.122007\n",
       " 21819 2024-07-08  9.040233   3.703451\n",
       " 21820 2024-07-15  8.063358   4.600324\n",
       " 21821 2024-07-22  9.020455   1.137675\n",
       " 21822 2024-07-29  8.990000   0.565252\n",
       " 21823 2024-08-05  8.973137   1.846294\n",
       " 21824 2024-08-12  7.098333  16.045581\n",
       " 21825 2024-08-19  8.975000   5.850758\n",
       " 21826 2024-08-26  9.070256   2.577092,\n",
       " 'B0C656PN55':               ds  asp_week  ad_spend\n",
       " 21868 2024-05-06  7.940000  3.660068\n",
       " 21869 2024-05-13  8.047692  1.272458\n",
       " 21870 2024-05-20  6.110000  6.973762\n",
       " 21871 2024-05-27  8.089444  2.217802\n",
       " 21872 2024-06-03  7.956667  3.334778\n",
       " 21873 2024-06-10  7.990000  3.911999\n",
       " 21874 2024-06-17  6.110000  6.391393\n",
       " 21875 2024-06-24  7.990000  4.472496\n",
       " 21876 2024-07-01  7.990000  3.152656\n",
       " 21877 2024-07-08  7.490000  2.970064\n",
       " 21878 2024-07-15  6.923333  5.580880\n",
       " 21879 2024-07-22  7.490000  0.000000\n",
       " 21880 2024-07-29  7.490000  0.262188\n",
       " 21881 2024-08-05  7.459167  4.205166\n",
       " 21882 2024-08-12  6.263333  4.134175\n",
       " 21883 2024-08-19  7.428333  1.376238\n",
       " 21884 2024-08-26  7.938333  1.217684,\n",
       " 'B0C658PXB1':               ds  asp_week   ad_spend\n",
       " 21989 2024-05-06  8.051319   8.182455\n",
       " 21990 2024-05-13  7.992083   7.891693\n",
       " 21991 2024-05-20  6.441917  16.910813\n",
       " 21992 2024-05-27  7.991932   9.661999\n",
       " 21993 2024-06-03  8.054160   5.632734\n",
       " 21994 2024-06-10  8.102449   2.846145\n",
       " 21995 2024-06-17  6.428521   2.304002\n",
       " 21996 2024-06-24  7.994727   3.460174\n",
       " 21997 2024-07-01  8.105614   7.757172\n",
       " 21998 2024-07-08  7.996619  30.818107\n",
       " 21999 2024-07-15  7.349806  39.469478\n",
       " 22000 2024-07-22  7.983585  16.101070\n",
       " 22001 2024-07-29  8.005044  18.210276\n",
       " 22002 2024-08-05  7.998868  14.767262\n",
       " 22003 2024-08-12  7.953636  18.567577\n",
       " 22004 2024-08-19  7.990000   7.150039\n",
       " 22005 2024-08-26  8.607391   6.691010,\n",
       " 'B0C65C3TBL':               ds  asp_week   ad_spend\n",
       " 22047 2024-05-06  8.021538   9.450361\n",
       " 22048 2024-05-13  7.980541   5.654895\n",
       " 22049 2024-05-20  6.122848  47.093544\n",
       " 22050 2024-05-27  8.140267   8.279794\n",
       " 22051 2024-06-03  8.179875  10.068256\n",
       " 22052 2024-06-10  8.358592   7.393305\n",
       " 22053 2024-06-17  6.154734  45.760079\n",
       " 22054 2024-06-24  0.000000   0.000000\n",
       " 22055 2024-07-01  8.068400   3.940735\n",
       " 22056 2024-07-08  8.071549   5.739911\n",
       " 22057 2024-07-15  7.211779  15.196518\n",
       " 22058 2024-07-22  8.047838   4.045632\n",
       " 22059 2024-07-29  8.066795   3.000349\n",
       " 22060 2024-08-05  8.057353   6.513564\n",
       " 22061 2024-08-12  6.736538  49.507771\n",
       " 22062 2024-08-19  8.054432  42.677972\n",
       " 22063 2024-08-26  8.010659  21.638718,\n",
       " 'B0CH313718':               ds   asp_week     ad_spend\n",
       " 22532 2024-05-06  10.094436  1421.542677\n",
       " 22533 2024-05-13  10.150000    58.717806\n",
       " 22534 2024-05-20  10.119320    64.687248\n",
       " 22535 2024-05-27  10.046098   939.389584\n",
       " 22536 2024-06-03  10.123449  1359.216257\n",
       " 22537 2024-06-10  10.078727   655.260411\n",
       " 22538 2024-06-17  10.115227   671.144651\n",
       " 22539 2024-06-24  10.083259   673.888456\n",
       " 22540 2024-07-01  10.052518   607.015742\n",
       " 22541 2024-07-08  10.097047   450.789809\n",
       " 22542 2024-07-15   9.192430   589.594801\n",
       " 22543 2024-07-22  10.066667   470.414504\n",
       " 22544 2024-07-29  10.089186   536.883853\n",
       " 22545 2024-08-05  10.073885   716.591302\n",
       " 22546 2024-08-12  10.053895   540.998471\n",
       " 22547 2024-08-19  10.008436   557.892591\n",
       " 22548 2024-08-26  10.114449   433.682832,\n",
       " 'B0CHBBQXY6':               ds   asp_week    ad_spend\n",
       " 22582 2024-05-06  12.288085   69.344651\n",
       " 22583 2024-05-13  12.000000   66.807684\n",
       " 22584 2024-05-20  12.067021   91.004646\n",
       " 22585 2024-05-27  12.000000   96.558593\n",
       " 22586 2024-06-03  12.000000  100.941963\n",
       " 22587 2024-06-10  12.000000   64.942095\n",
       " 22588 2024-06-17  12.000000   58.684958\n",
       " 22589 2024-06-24  12.315152   40.699490\n",
       " 22590 2024-07-01  12.237308   34.254642\n",
       " 22591 2024-07-08  12.358462   15.734868\n",
       " 22592 2024-07-15  12.040500   20.697566\n",
       " 22593 2024-07-22  12.000000   26.845973\n",
       " 22594 2024-07-29  12.021831   21.652155\n",
       " 22595 2024-08-05  12.018235   33.195590\n",
       " 22596 2024-08-12  10.130444   48.262482\n",
       " 22597 2024-08-19  10.035000   83.110924\n",
       " 22598 2024-08-26  10.251935   47.084822,\n",
       " 'B0CHBNK3ZD':               ds   asp_week   ad_spend\n",
       " 22732 2024-05-06   9.990000  45.532577\n",
       " 22733 2024-05-13  10.145714  48.585708\n",
       " 22734 2024-05-20   9.990000  47.410884\n",
       " 22735 2024-05-27   9.227187  59.595463\n",
       " 22736 2024-06-03  13.620725  18.202981\n",
       " 22737 2024-06-10   9.598333  16.380050\n",
       " 22738 2024-06-17   9.990000   0.000000\n",
       " 22739 2024-06-24   9.990000   1.806471\n",
       " 22740 2024-07-01  10.121471  19.147307\n",
       " 22741 2024-07-08   9.990000  15.342381\n",
       " 22742 2024-07-15  10.057931   6.326937\n",
       " 22743 2024-07-22   9.962727   1.594618\n",
       " 22744 2024-07-29  10.221111  17.103558\n",
       " 22745 2024-08-05   9.980566  37.625801\n",
       " 22746 2024-08-12   9.956667   6.931815\n",
       " 22747 2024-08-19   9.990000  10.213176\n",
       " 22748 2024-08-26   9.990000   3.144247,\n",
       " 'B0CHG17WP9':               ds  asp_week  ad_spend\n",
       " 23005 2024-05-06      0.00       0.0\n",
       " 23006 2024-05-13      0.00       0.0\n",
       " 23007 2024-05-20      0.00       0.0\n",
       " 23008 2024-05-27      0.00       0.0\n",
       " 23009 2024-06-03      0.00       0.0\n",
       " 23010 2024-06-10      0.00       0.0\n",
       " 23011 2024-06-17      0.00       0.0\n",
       " 23012 2024-06-24      0.00       0.0\n",
       " 23013 2024-07-01      0.00       0.0\n",
       " 23014 2024-07-08      8.62       0.0\n",
       " 23015 2024-07-15      0.00       0.0\n",
       " 23016 2024-07-22      0.00       0.0\n",
       " 23017 2024-07-29      0.00       0.0\n",
       " 23018 2024-08-05      0.00       0.0\n",
       " 23019 2024-08-12      0.00       0.0\n",
       " 23020 2024-08-19      0.00       0.0\n",
       " 23021 2024-08-26      0.00       0.0,\n",
       " 'B0CKF1WBRV':               ds   asp_week  ad_spend\n",
       " 23182 2024-05-06  15.000000  0.000000\n",
       " 23183 2024-05-13  15.000000  0.000000\n",
       " 23184 2024-05-20  15.000000  0.705856\n",
       " 23185 2024-05-27  15.000000  0.306880\n",
       " 23186 2024-06-03  15.000000  0.302974\n",
       " 23187 2024-06-10  15.000000  0.000000\n",
       " 23188 2024-06-17  15.000000  0.000000\n",
       " 23189 2024-06-24  15.000000  0.481110\n",
       " 23190 2024-07-01  11.858182  1.931116\n",
       " 23191 2024-07-08   9.990000  1.194772\n",
       " 23192 2024-07-15  10.265625  0.231215\n",
       " 23193 2024-07-22  10.368182  0.589019\n",
       " 23194 2024-07-29   9.990000  0.000000\n",
       " 23195 2024-08-05   9.990000  0.273160\n",
       " 23196 2024-08-12  10.054000  0.244249\n",
       " 23197 2024-08-19   9.990000  0.000000\n",
       " 23198 2024-08-26   9.990000  0.000000,\n",
       " 'B0CKVX37KH':               ds   asp_week    ad_spend\n",
       " 23210 2024-05-06  14.990000  657.708074\n",
       " 23211 2024-05-13  15.182903  724.487941\n",
       " 23212 2024-05-20  15.232222  811.402168\n",
       " 23213 2024-05-27  14.995250  817.928914\n",
       " 23214 2024-06-03  15.061190  937.716904\n",
       " 23215 2024-06-10  15.388182  257.874966\n",
       " 23216 2024-06-17  15.028889  241.143286\n",
       " 23217 2024-06-24  15.988750  383.694399\n",
       " 23218 2024-07-01  11.990000  205.230160\n",
       " 23219 2024-07-08  10.147368  225.333799\n",
       " 23220 2024-07-15  10.075455  117.908330\n",
       " 23221 2024-07-22   9.990000  166.654303\n",
       " 23222 2024-07-29  10.089231   98.400911\n",
       " 23223 2024-08-05  10.002308   78.689048\n",
       " 23224 2024-08-12   9.990000   16.830476\n",
       " 23225 2024-08-19   9.990000    8.932830\n",
       " 23226 2024-08-26   9.990000    2.218496,\n",
       " 'B0CNVLTSDC':               ds   asp_week     ad_spend\n",
       " 23348 2024-05-06  17.173994  2388.450204\n",
       " 23349 2024-05-13  25.261977  1742.792921\n",
       " 23350 2024-05-20  25.194615  1978.103991\n",
       " 23351 2024-05-27  25.022342  1669.344910\n",
       " 23352 2024-06-03  17.216010  3695.986261\n",
       " 23353 2024-06-10  25.162312  1364.246289\n",
       " 23354 2024-06-17  25.288312  1466.067729\n",
       " 23355 2024-06-24  25.018396  1698.812074\n",
       " 23356 2024-07-01  17.216667  2846.614779\n",
       " 23357 2024-07-08  25.223850  1308.984672\n",
       " 23358 2024-07-15  25.086565  1220.704602\n",
       " 23359 2024-07-22  25.039007   766.546979\n",
       " 23360 2024-07-29  25.106705   925.419020\n",
       " 23361 2024-08-05  25.145108   811.942061\n",
       " 23362 2024-08-12  19.149302  1956.564957\n",
       " 23363 2024-08-19  25.099471  1024.818555\n",
       " 23364 2024-08-26  25.020927   829.306719,\n",
       " 'B0CXDH2LPP':               ds   asp_week     ad_spend\n",
       " 23431 2024-05-06   0.000000     0.000000\n",
       " 23432 2024-05-13  13.462979   626.090226\n",
       " 23433 2024-05-20  13.389275   907.053860\n",
       " 23434 2024-05-27  10.625285  1065.381345\n",
       " 23435 2024-06-03  13.415250   732.638627\n",
       " 23436 2024-06-10  10.770921   444.907588\n",
       " 23437 2024-06-17   9.181600   477.165057\n",
       " 23438 2024-06-24   9.091983   632.882328\n",
       " 23439 2024-07-01   9.007778   484.699493\n",
       " 23440 2024-07-08   9.030270   375.045014\n",
       " 23441 2024-07-15   9.111628   323.757275\n",
       " 23442 2024-07-22   9.024118   184.331482\n",
       " 23443 2024-07-29   9.254643   210.398856\n",
       " 23444 2024-08-05   9.033971   158.777838\n",
       " 23445 2024-08-12   9.148864   111.767151\n",
       " 23446 2024-08-19   9.105082   100.020393\n",
       " 23447 2024-08-26   9.008667    88.316123,\n",
       " 'B0CXDRY3WC':               ds  asp_week  ad_spend\n",
       " 23477 2024-05-06  0.000000       0.0\n",
       " 23478 2024-05-13  0.000000       0.0\n",
       " 23479 2024-05-20  0.000000       0.0\n",
       " 23480 2024-05-27  9.130000       0.0\n",
       " 23481 2024-06-03  0.000000       0.0\n",
       " 23482 2024-06-10  0.000000       0.0\n",
       " 23483 2024-06-17  0.000000       0.0\n",
       " 23484 2024-06-24  9.580000       0.0\n",
       " 23485 2024-07-01  9.558571       0.0\n",
       " 23486 2024-07-08  7.993182       0.0\n",
       " 23487 2024-07-15  8.114348       0.0\n",
       " 23488 2024-07-22  8.034444       0.0\n",
       " 23489 2024-07-29  7.990000       0.0\n",
       " 23490 2024-08-05  8.803636       0.0\n",
       " 23491 2024-08-12  7.985000       0.0\n",
       " 23492 2024-08-19  8.456000       0.0\n",
       " 23493 2024-08-26  8.097692       0.0}"
      ]
     },
     "execution_count": 122,
     "metadata": {},
     "output_type": "execute_result"
    }
   ],
   "source": [
    "X_test_fb2"
   ]
  },
  {
   "cell_type": "code",
   "execution_count": 85,
   "id": "c7fa07ff",
   "metadata": {},
   "outputs": [
    {
     "name": "stdout",
     "output_type": "stream",
     "text": [
      "\n",
      "Overall WAPE: 29.66%\n",
      "\n",
      "WAPE for each forecast date:\n",
      "   Week_Start_date      WAPE\n",
      "0       2024-05-06  0.152855\n",
      "1       2024-05-13  0.197388\n",
      "2       2024-05-20  0.419111\n",
      "3       2024-05-27  0.254127\n",
      "4       2024-06-03  0.190623\n",
      "5       2024-06-10  0.252382\n",
      "6       2024-06-17  0.367360\n",
      "7       2024-06-24  0.368320\n",
      "8       2024-07-01  0.354246\n",
      "9       2024-07-08  0.303336\n",
      "10      2024-07-15  0.333821\n",
      "11      2024-07-22  0.284076\n",
      "12      2024-07-29  0.360756\n",
      "13      2024-08-05  0.287463\n",
      "14      2024-08-12  0.254564\n",
      "15      2024-08-19  0.293513\n",
      "16      2024-08-26  0.328266\n",
      "\n",
      "WAPE for each forecast date x velocity buckets:\n",
      "   Week_Start_date velocity_bucket      WAPE\n",
      "0       2024-05-06            1_SF  0.093004\n",
      "1       2024-05-06             2_F  0.112408\n",
      "2       2024-05-06             3_M  0.177761\n",
      "3       2024-05-06            4_SM  0.300433\n",
      "4       2024-05-13            1_SF  0.186249\n",
      "..             ...             ...       ...\n",
      "63      2024-08-19            4_SM  0.566397\n",
      "64      2024-08-26            1_SF  0.317378\n",
      "65      2024-08-26             2_F  0.257849\n",
      "66      2024-08-26             3_M  0.342733\n",
      "67      2024-08-26            4_SM  0.595469\n",
      "\n",
      "[68 rows x 3 columns]\n",
      "\n",
      "WAPE for each asin x class:\n",
      "   Week_Start_date velocity_bucket      WAPE\n",
      "0       2024-05-06            1_SF  0.093004\n",
      "1       2024-05-06             2_F  0.112408\n",
      "2       2024-05-06             3_M  0.177761\n",
      "3       2024-05-06            4_SM  0.300433\n",
      "4       2024-05-13            1_SF  0.186249\n",
      "..             ...             ...       ...\n",
      "63      2024-08-19            4_SM  0.566397\n",
      "64      2024-08-26            1_SF  0.317378\n",
      "65      2024-08-26             2_F  0.257849\n",
      "66      2024-08-26             3_M  0.342733\n",
      "67      2024-08-26            4_SM  0.595469\n",
      "\n",
      "[68 rows x 3 columns]\n",
      "\n",
      "WAPE for each asin:\n",
      "   Week_Start_date velocity_bucket      WAPE\n",
      "0       2024-05-06            1_SF  0.093004\n",
      "1       2024-05-06             2_F  0.112408\n",
      "2       2024-05-06             3_M  0.177761\n",
      "3       2024-05-06            4_SM  0.300433\n",
      "4       2024-05-13            1_SF  0.186249\n",
      "..             ...             ...       ...\n",
      "63      2024-08-19            4_SM  0.566397\n",
      "64      2024-08-26            1_SF  0.317378\n",
      "65      2024-08-26             2_F  0.257849\n",
      "66      2024-08-26             3_M  0.342733\n",
      "67      2024-08-26            4_SM  0.595469\n",
      "\n",
      "[68 rows x 3 columns]\n"
     ]
    },
    {
     "name": "stderr",
     "output_type": "stream",
     "text": [
      "C:\\Users\\Poovesh Kumar M\\AppData\\Local\\Temp\\ipykernel_13084\\1020052734.py:50: RuntimeWarning: divide by zero encountered in scalar divide\n",
      "  lambda x: x['absolute_error'].sum() / x['gmv_units'].sum()\n",
      "C:\\Users\\Poovesh Kumar M\\AppData\\Local\\Temp\\ipykernel_13084\\1020052734.py:63: RuntimeWarning: invalid value encountered in scalar divide\n",
      "  lambda x: x['absolute_error'].sum() / x['gmv_units'].sum()\n",
      "C:\\Users\\Poovesh Kumar M\\AppData\\Local\\Temp\\ipykernel_13084\\1020052734.py:63: RuntimeWarning: divide by zero encountered in scalar divide\n",
      "  lambda x: x['absolute_error'].sum() / x['gmv_units'].sum()\n"
     ]
    }
   ],
   "source": [
    "# Storing Results in a DataFrame and Calculating Metrics:\n",
    "\n",
    "df_weekly1 = df_weekly[['asin', 'Week_Start_date','gmv_units']]\n",
    "\n",
    "df_results1 =  pd.merge(df_results, df_weekly1, left_on=['asin', 'Week_Start_date'],\n",
    "                     right_on=['asin', 'Week_Start_date'])\n",
    "\n",
    "df_results2 = df_asin_vb.merge(df_results1,left_on='asin', right_on='asin', how='right')\n",
    "\n",
    "# Calculate Absolute Percentage Error\n",
    "df_results2['absolute_percentage_error'] = abs((df_results2['forecasted_value'] - df_results2['gmv_units']) / df_results2['gmv_units'])\n",
    "\n",
    "# Calculate Absolute Errors\n",
    "df_results2['absolute_error'] = abs(df_results2['forecasted_value'] - df_results2['gmv_units'])\n",
    "\n",
    "# Calculate overall WAPE\n",
    "overall_wape = df_results2['absolute_error'].sum() / df_results2['gmv_units'].sum()\n",
    "print(f\"\\nOverall WAPE: {overall_wape:.2%}\")\n",
    "\n",
    "# df_results2\n",
    "\n",
    "# Calculate WAPE for each date and velocity bucket\n",
    "wape_per_date = df_results2.groupby(['Week_Start_date']).apply(\n",
    "    lambda x: x['absolute_error'].sum() / x['gmv_units'].sum()\n",
    ").reset_index(name='WAPE')\n",
    "\n",
    "# Display WAPE\n",
    "print(\"\\nWAPE for each forecast date:\")\n",
    "print(wape_per_date)\n",
    "\n",
    "# Save the forecast results to a CSV file\n",
    "wape_per_date.to_csv('C:/Users/Poovesh Kumar M/Downloads/Planning/Weekly_WAPE_GMV_units.csv', index=False)\n",
    "\n",
    "\n",
    "# Calculate WAPE for each date and velocity bucket\n",
    "wape_per_date_bucket = df_results2.groupby(['Week_Start_date', 'velocity_bucket']).apply(\n",
    "    lambda x: x['absolute_error'].sum() / x['gmv_units'].sum()\n",
    ").reset_index(name='WAPE')\n",
    "\n",
    "# Display WAPE\n",
    "print(\"\\nWAPE for each forecast date x velocity buckets:\")\n",
    "print(wape_per_date_bucket)\n",
    "\n",
    "# Save the forecast results to a CSV file\n",
    "wape_per_date_bucket.to_csv('C:/Users/Poovesh Kumar M/Downloads/Planning/Weekly_WAPE_Velocity_buckets_GMV_units.csv', index=False)\n",
    "\n",
    "\n",
    "# Calculate WAPE : week x class\n",
    "wape_per_date_asin_class = df_results2.groupby(['Week_Start_date', 'classification']).apply(\n",
    "    lambda x: x['absolute_error'].sum() / x['gmv_units'].sum()\n",
    ").reset_index(name='WAPE')\n",
    "\n",
    "# Display WAPE\n",
    "print(\"\\nWAPE for each asin x class:\")\n",
    "print(wape_per_date_bucket)\n",
    "\n",
    "# Save the forecast results to a CSV file\n",
    "wape_per_date_asin_class.to_csv('C:/Users/Poovesh Kumar M/Downloads/Planning/Weekly_ASIN_CLASS_WAPE_buckets_GMV_units.csv', index=False)\n",
    "\n",
    "\n",
    "# Calculate WAPE for asin :\n",
    "wape_per_asin = df_results2.groupby(['asin']).apply(\n",
    "    lambda x: x['absolute_error'].sum() / x['gmv_units'].sum()\n",
    ").reset_index(name='WAPE')\n",
    "\n",
    "# Display WAPE\n",
    "print(\"\\nWAPE for each asin:\")\n",
    "print(wape_per_date_bucket)\n",
    "\n",
    "# Save the forecast results to a CSV file\n",
    "wape_per_asin.to_csv('C:/Users/Poovesh Kumar M/Downloads/Planning/Weekly_ASIN_WAPE_GMV_units.csv', index=False)\n"
   ]
  },
  {
   "cell_type": "code",
   "execution_count": 83,
   "id": "2915ac0e",
   "metadata": {},
   "outputs": [
    {
     "data": {
      "text/html": [
       "<div>\n",
       "<style scoped>\n",
       "    .dataframe tbody tr th:only-of-type {\n",
       "        vertical-align: middle;\n",
       "    }\n",
       "\n",
       "    .dataframe tbody tr th {\n",
       "        vertical-align: top;\n",
       "    }\n",
       "\n",
       "    .dataframe thead th {\n",
       "        text-align: right;\n",
       "    }\n",
       "</style>\n",
       "<table border=\"1\" class=\"dataframe\">\n",
       "  <thead>\n",
       "    <tr style=\"text-align: right;\">\n",
       "      <th></th>\n",
       "      <th>asin</th>\n",
       "      <th>Week_Start_date</th>\n",
       "      <th>gmv_units</th>\n",
       "    </tr>\n",
       "  </thead>\n",
       "  <tbody>\n",
       "    <tr>\n",
       "      <th>0</th>\n",
       "      <td>B00PMR3QF2</td>\n",
       "      <td>2022-09-26</td>\n",
       "      <td>368</td>\n",
       "    </tr>\n",
       "    <tr>\n",
       "      <th>1</th>\n",
       "      <td>B00PMR3QF2</td>\n",
       "      <td>2022-10-03</td>\n",
       "      <td>1227</td>\n",
       "    </tr>\n",
       "    <tr>\n",
       "      <th>2</th>\n",
       "      <td>B00PMR3QF2</td>\n",
       "      <td>2022-10-10</td>\n",
       "      <td>1655</td>\n",
       "    </tr>\n",
       "    <tr>\n",
       "      <th>3</th>\n",
       "      <td>B00PMR3QF2</td>\n",
       "      <td>2022-10-17</td>\n",
       "      <td>1489</td>\n",
       "    </tr>\n",
       "    <tr>\n",
       "      <th>4</th>\n",
       "      <td>B00PMR3QF2</td>\n",
       "      <td>2022-10-24</td>\n",
       "      <td>1742</td>\n",
       "    </tr>\n",
       "    <tr>\n",
       "      <th>...</th>\n",
       "      <td>...</td>\n",
       "      <td>...</td>\n",
       "      <td>...</td>\n",
       "    </tr>\n",
       "    <tr>\n",
       "      <th>23731</th>\n",
       "      <td>B0D811N8HV</td>\n",
       "      <td>2024-08-05</td>\n",
       "      <td>106</td>\n",
       "    </tr>\n",
       "    <tr>\n",
       "      <th>23732</th>\n",
       "      <td>B0D811N8HV</td>\n",
       "      <td>2024-08-12</td>\n",
       "      <td>104</td>\n",
       "    </tr>\n",
       "    <tr>\n",
       "      <th>23733</th>\n",
       "      <td>B0D811N8HV</td>\n",
       "      <td>2024-08-19</td>\n",
       "      <td>94</td>\n",
       "    </tr>\n",
       "    <tr>\n",
       "      <th>23734</th>\n",
       "      <td>B0D811N8HV</td>\n",
       "      <td>2024-08-26</td>\n",
       "      <td>105</td>\n",
       "    </tr>\n",
       "    <tr>\n",
       "      <th>23735</th>\n",
       "      <td>B0D811N8HV</td>\n",
       "      <td>2024-09-02</td>\n",
       "      <td>1</td>\n",
       "    </tr>\n",
       "  </tbody>\n",
       "</table>\n",
       "<p>13847 rows × 3 columns</p>\n",
       "</div>"
      ],
      "text/plain": [
       "             asin Week_Start_date  gmv_units\n",
       "0      B00PMR3QF2      2022-09-26        368\n",
       "1      B00PMR3QF2      2022-10-03       1227\n",
       "2      B00PMR3QF2      2022-10-10       1655\n",
       "3      B00PMR3QF2      2022-10-17       1489\n",
       "4      B00PMR3QF2      2022-10-24       1742\n",
       "...           ...             ...        ...\n",
       "23731  B0D811N8HV      2024-08-05        106\n",
       "23732  B0D811N8HV      2024-08-12        104\n",
       "23733  B0D811N8HV      2024-08-19         94\n",
       "23734  B0D811N8HV      2024-08-26        105\n",
       "23735  B0D811N8HV      2024-09-02          1\n",
       "\n",
       "[13847 rows x 3 columns]"
      ]
     },
     "execution_count": 83,
     "metadata": {},
     "output_type": "execute_result"
    }
   ],
   "source": [
    "df_weekly1"
   ]
  },
  {
   "cell_type": "code",
   "execution_count": 84,
   "id": "283456ed",
   "metadata": {},
   "outputs": [],
   "source": [
    "# Result Dataframe: GMV units\n",
    "\n",
    "sf_base = df_weekly[['velocity_bucket','classification','asin','Week_Start_date', 'gmv_units']]\n",
    "\n",
    "sf_base = sf_base[(sf_base['Week_Start_date'] >= '2024-05-06') & (sf_base['Week_Start_date'] <= '2024-08-26')]\n",
    "\n",
    "sf_base = sf_base.rename(columns={'gmv_units': 'sales'})\n",
    "\n",
    "df_results3 = df_results2.rename(columns={\n",
    "    'absolute_percentage_error': 'abs_per_error_sales',\n",
    "    'absolute_error': 'absolute_error_sales',\n",
    "    'actual_outlier_treated': 'outlier_treated_sales',\n",
    "    'Week_Start_date': 'forecast_date',\n",
    "    'forecasted_value':'forecasted_sales'\n",
    "    \n",
    "})\n",
    "\n",
    "df_results3 = df_results3[['asin', 'forecast_date','forecasted_sales','abs_per_error_sales', 'absolute_error_sales']]\n",
    "\n",
    "#merging all df\n",
    "\n",
    "sf_data = pd.merge(sf_base, df_results3, left_on=['asin', 'Week_Start_date'], right_on=['asin', 'forecast_date'])\n",
    "\n",
    "\n",
    "# Display the first few rows of the results\n",
    "sf_data = sf_data [['velocity_bucket','classification','asin','Week_Start_date','sales','forecasted_sales','abs_per_error_sales',\n",
    "                    'absolute_error_sales',]]\n",
    "\n",
    "# Save the forecast results to a CSV file\n",
    "sf_data.to_csv('C:/Users/Poovesh Kumar M/Downloads/Planning/Final_Weekly_forecast_sales.csv', index=False)\n"
   ]
  },
  {
   "cell_type": "code",
   "execution_count": 119,
   "id": "2c810a44",
   "metadata": {},
   "outputs": [
    {
     "name": "stdout",
     "output_type": "stream",
     "text": [
      "\n",
      "WAPE for each asin:\n",
      "           asin      WAPE\n",
      "0    B00PMR3QF2  0.093773\n",
      "1    B00PV15BPW  0.582272\n",
      "2    B00Q96XGUU  0.000000\n",
      "3    B00QR6SS6O  0.074151\n",
      "4    B00QR7FTLU  0.000000\n",
      "..          ...       ...\n",
      "276  B0CHJCNSDV  0.000000\n",
      "277  B0CHJGH6BJ  0.000000\n",
      "278  B0CKBWC3DG  0.000000\n",
      "279  B0CKXTLXSX  0.000000\n",
      "280  B0CNVL174K  0.000000\n",
      "\n",
      "[281 rows x 2 columns]\n"
     ]
    },
    {
     "name": "stderr",
     "output_type": "stream",
     "text": [
      "C:\\Users\\Poovesh Kumar M\\AppData\\Local\\Temp\\ipykernel_13084\\1388450053.py:19: RuntimeWarning: invalid value encountered in scalar divide\n",
      "  lambda x: x['absolute_error_AP'].sum() / x['Actual'].sum()\n",
      "C:\\Users\\Poovesh Kumar M\\AppData\\Local\\Temp\\ipykernel_13084\\1388450053.py:19: RuntimeWarning: divide by zero encountered in scalar divide\n",
      "  lambda x: x['absolute_error_AP'].sum() / x['Actual'].sum()\n",
      "C:\\Users\\Poovesh Kumar M\\AppData\\Local\\Temp\\ipykernel_13084\\1388450053.py:24: RuntimeWarning: invalid value encountered in scalar divide\n",
      "  lambda x: x['absolute_error_AF'].sum() / x['Actual'].sum()\n",
      "C:\\Users\\Poovesh Kumar M\\AppData\\Local\\Temp\\ipykernel_13084\\1388450053.py:24: RuntimeWarning: divide by zero encountered in scalar divide\n",
      "  lambda x: x['absolute_error_AF'].sum() / x['Actual'].sum()\n",
      "C:\\Users\\Poovesh Kumar M\\AppData\\Local\\Temp\\ipykernel_13084\\1388450053.py:29: RuntimeWarning: invalid value encountered in scalar divide\n",
      "  lambda x: x['absolute_error_PF'].sum() / x['Actual'].sum()\n",
      "C:\\Users\\Poovesh Kumar M\\AppData\\Local\\Temp\\ipykernel_13084\\1388450053.py:29: RuntimeWarning: divide by zero encountered in scalar divide\n",
      "  lambda x: x['absolute_error_PF'].sum() / x['Actual'].sum()\n"
     ]
    }
   ],
   "source": [
    "# WAPE: planned vs actual vs forecast\n",
    "\n",
    "file_path_3 = r\"C:\\Users\\Poovesh Kumar M\\Downloads\\Planning\\1_Data\\3_Sep_05_09_2024\\WAPE_Buckets_Forecast_data_aug.csv\"\n",
    "df_data_wape = pd.read_csv(file_path_3)\n",
    "\n",
    "\n",
    "\n",
    "# Calculate Absolute Errors\n",
    "df_data_wape['absolute_error_AP'] = abs(df_data_wape['Actual'] - df_data_wape['planned_qty'])\n",
    "df_data_wape['absolute_error_AF'] = abs(df_data_wape['Actual'] - df_data_wape['forecasted_sales'])\n",
    "df_data_wape['absolute_error_PF'] = abs(df_data_wape['planned_qty'] - df_data_wape['forecasted_sales'])\n",
    "\n",
    "# # Calculate overall WAPE\n",
    "# overall_wape = df_data_wape2['absolute_error'].sum() / df_data_wape2['gmv_units'].sum()\n",
    "# print(f\"\\nOverall WAPE: {overall_wape:.2%}\")\n",
    "\n",
    "# Calculate WAPE for asin :\n",
    "wape_per_asin_AP = df_data_wape.groupby(['asin']).apply(\n",
    "    lambda x: x['absolute_error_AP'].sum() / x['Actual'].sum()\n",
    ").reset_index(name='WAPE')\n",
    "\n",
    "# Calculate WAPE for asin :\n",
    "wape_per_asin_AF = df_data_wape.groupby(['asin']).apply(\n",
    "    lambda x: x['absolute_error_AF'].sum() / x['Actual'].sum()\n",
    ").reset_index(name='WAPE')\n",
    "\n",
    "# Calculate WAPE for asin :\n",
    "wape_per_asin_PF = df_data_wape.groupby(['asin']).apply(\n",
    "    lambda x: x['absolute_error_PF'].sum() / x['Actual'].sum()\n",
    ").reset_index(name='WAPE')\n",
    "\n",
    "# Display WAPE\n",
    "print(\"\\nWAPE for each asin:\")\n",
    "print(wape_per_asin_PF)\n",
    "\n",
    "# Save the forecast results to a CSV file\n",
    "# wape_per_asin.to_csv('C:/Users/Poovesh Kumar M/Downloads/Planning/Weekly_ASIN_WAPE_GMV_units.csv', index=False)\n"
   ]
  },
  {
   "cell_type": "code",
   "execution_count": 120,
   "id": "0cfb5569",
   "metadata": {},
   "outputs": [
    {
     "data": {
      "text/html": [
       "<div>\n",
       "<style scoped>\n",
       "    .dataframe tbody tr th:only-of-type {\n",
       "        vertical-align: middle;\n",
       "    }\n",
       "\n",
       "    .dataframe tbody tr th {\n",
       "        vertical-align: top;\n",
       "    }\n",
       "\n",
       "    .dataframe thead th {\n",
       "        text-align: right;\n",
       "    }\n",
       "</style>\n",
       "<table border=\"1\" class=\"dataframe\">\n",
       "  <thead>\n",
       "    <tr style=\"text-align: right;\">\n",
       "      <th></th>\n",
       "      <th>brand</th>\n",
       "      <th>planning_group</th>\n",
       "      <th>asin</th>\n",
       "      <th>planned_qty</th>\n",
       "      <th>Actual</th>\n",
       "      <th>forecasted_sales</th>\n",
       "      <th>absolute_error_AP</th>\n",
       "      <th>absolute_error_AF</th>\n",
       "      <th>absolute_error_PF</th>\n",
       "    </tr>\n",
       "  </thead>\n",
       "  <tbody>\n",
       "    <tr>\n",
       "      <th>0</th>\n",
       "      <td>Majestic Pure</td>\n",
       "      <td>AMAZON_US</td>\n",
       "      <td>B07G7QVSZT</td>\n",
       "      <td>1576</td>\n",
       "      <td>668</td>\n",
       "      <td>0.0</td>\n",
       "      <td>908</td>\n",
       "      <td>668.0</td>\n",
       "      <td>1576.0</td>\n",
       "    </tr>\n",
       "    <tr>\n",
       "      <th>1</th>\n",
       "      <td>Majestic Pure</td>\n",
       "      <td>AMAZON_US</td>\n",
       "      <td>B00UREAGU8</td>\n",
       "      <td>1242</td>\n",
       "      <td>511</td>\n",
       "      <td>0.0</td>\n",
       "      <td>731</td>\n",
       "      <td>511.0</td>\n",
       "      <td>1242.0</td>\n",
       "    </tr>\n",
       "    <tr>\n",
       "      <th>2</th>\n",
       "      <td>Majestic Pure</td>\n",
       "      <td>AMAZON_US</td>\n",
       "      <td>B0B9194J2B</td>\n",
       "      <td>11</td>\n",
       "      <td>0</td>\n",
       "      <td>0.0</td>\n",
       "      <td>11</td>\n",
       "      <td>0.0</td>\n",
       "      <td>11.0</td>\n",
       "    </tr>\n",
       "    <tr>\n",
       "      <th>3</th>\n",
       "      <td>Majestic Pure</td>\n",
       "      <td>AMAZON_US</td>\n",
       "      <td>B09GV1ZCSX</td>\n",
       "      <td>0</td>\n",
       "      <td>0</td>\n",
       "      <td>0.0</td>\n",
       "      <td>0</td>\n",
       "      <td>0.0</td>\n",
       "      <td>0.0</td>\n",
       "    </tr>\n",
       "    <tr>\n",
       "      <th>4</th>\n",
       "      <td>Majestic Pure</td>\n",
       "      <td>AMAZON_US</td>\n",
       "      <td>B09JL834PX</td>\n",
       "      <td>0</td>\n",
       "      <td>0</td>\n",
       "      <td>0.0</td>\n",
       "      <td>0</td>\n",
       "      <td>0.0</td>\n",
       "      <td>0.0</td>\n",
       "    </tr>\n",
       "    <tr>\n",
       "      <th>...</th>\n",
       "      <td>...</td>\n",
       "      <td>...</td>\n",
       "      <td>...</td>\n",
       "      <td>...</td>\n",
       "      <td>...</td>\n",
       "      <td>...</td>\n",
       "      <td>...</td>\n",
       "      <td>...</td>\n",
       "      <td>...</td>\n",
       "    </tr>\n",
       "    <tr>\n",
       "      <th>276</th>\n",
       "      <td>Majestic Pure</td>\n",
       "      <td>AMAZON_US</td>\n",
       "      <td>B09FNCBK5V</td>\n",
       "      <td>0</td>\n",
       "      <td>0</td>\n",
       "      <td>NaN</td>\n",
       "      <td>0</td>\n",
       "      <td>NaN</td>\n",
       "      <td>NaN</td>\n",
       "    </tr>\n",
       "    <tr>\n",
       "      <th>277</th>\n",
       "      <td>Majestic Pure</td>\n",
       "      <td>AMAZON_US</td>\n",
       "      <td>B08L3ZZFGB</td>\n",
       "      <td>0</td>\n",
       "      <td>0</td>\n",
       "      <td>NaN</td>\n",
       "      <td>0</td>\n",
       "      <td>NaN</td>\n",
       "      <td>NaN</td>\n",
       "    </tr>\n",
       "    <tr>\n",
       "      <th>278</th>\n",
       "      <td>Majestic Pure</td>\n",
       "      <td>AMAZON_US</td>\n",
       "      <td>B01BHO79V0</td>\n",
       "      <td>0</td>\n",
       "      <td>0</td>\n",
       "      <td>NaN</td>\n",
       "      <td>0</td>\n",
       "      <td>NaN</td>\n",
       "      <td>NaN</td>\n",
       "    </tr>\n",
       "    <tr>\n",
       "      <th>279</th>\n",
       "      <td>Majestic Pure</td>\n",
       "      <td>AMAZON_US</td>\n",
       "      <td>B07XKBVRXW</td>\n",
       "      <td>0</td>\n",
       "      <td>0</td>\n",
       "      <td>NaN</td>\n",
       "      <td>0</td>\n",
       "      <td>NaN</td>\n",
       "      <td>NaN</td>\n",
       "    </tr>\n",
       "    <tr>\n",
       "      <th>280</th>\n",
       "      <td>Majestic Pure</td>\n",
       "      <td>AMAZON_US</td>\n",
       "      <td>B0861DW1YC</td>\n",
       "      <td>0</td>\n",
       "      <td>0</td>\n",
       "      <td>NaN</td>\n",
       "      <td>0</td>\n",
       "      <td>NaN</td>\n",
       "      <td>NaN</td>\n",
       "    </tr>\n",
       "  </tbody>\n",
       "</table>\n",
       "<p>281 rows × 9 columns</p>\n",
       "</div>"
      ],
      "text/plain": [
       "             brand planning_group        asin  planned_qty  Actual  \\\n",
       "0    Majestic Pure      AMAZON_US  B07G7QVSZT         1576     668   \n",
       "1    Majestic Pure      AMAZON_US  B00UREAGU8         1242     511   \n",
       "2    Majestic Pure      AMAZON_US  B0B9194J2B           11       0   \n",
       "3    Majestic Pure      AMAZON_US  B09GV1ZCSX            0       0   \n",
       "4    Majestic Pure      AMAZON_US  B09JL834PX            0       0   \n",
       "..             ...            ...         ...          ...     ...   \n",
       "276  Majestic Pure      AMAZON_US  B09FNCBK5V            0       0   \n",
       "277  Majestic Pure      AMAZON_US  B08L3ZZFGB            0       0   \n",
       "278  Majestic Pure      AMAZON_US  B01BHO79V0            0       0   \n",
       "279  Majestic Pure      AMAZON_US  B07XKBVRXW            0       0   \n",
       "280  Majestic Pure      AMAZON_US  B0861DW1YC            0       0   \n",
       "\n",
       "     forecasted_sales  absolute_error_AP  absolute_error_AF  absolute_error_PF  \n",
       "0                 0.0                908              668.0             1576.0  \n",
       "1                 0.0                731              511.0             1242.0  \n",
       "2                 0.0                 11                0.0               11.0  \n",
       "3                 0.0                  0                0.0                0.0  \n",
       "4                 0.0                  0                0.0                0.0  \n",
       "..                ...                ...                ...                ...  \n",
       "276               NaN                  0                NaN                NaN  \n",
       "277               NaN                  0                NaN                NaN  \n",
       "278               NaN                  0                NaN                NaN  \n",
       "279               NaN                  0                NaN                NaN  \n",
       "280               NaN                  0                NaN                NaN  \n",
       "\n",
       "[281 rows x 9 columns]"
      ]
     },
     "execution_count": 120,
     "metadata": {},
     "output_type": "execute_result"
    }
   ],
   "source": [
    "df_data_wape\n",
    "# wape_per_asin_AP\n",
    "# wape_per_asin_AF\n",
    "# wape_per_asin_PF\n",
    "\n",
    "# Check the result\n",
    "# print(wape_per_asin_PF[['asin', 'WAPE', 'wape_bucket']])"
   ]
  },
  {
   "cell_type": "code",
   "execution_count": 115,
   "id": "19ee52e1",
   "metadata": {},
   "outputs": [
    {
     "name": "stdout",
     "output_type": "stream",
     "text": [
      "       wape_bucket  asin_count\n",
      "0       A. 0 - 10%          89\n",
      "1   B. > 10% - 20%          22\n",
      "2   C. > 20% - 30%          10\n",
      "3   D. > 30% - 40%           8\n",
      "4   E. > 40% - 50%           4\n",
      "5   F. > 50% - 60%          11\n",
      "6   G. > 60% - 70%           4\n",
      "7   H. > 70% - 80%           2\n",
      "8   I. > 80% - 90%           1\n",
      "9   J > 90% - 100%           2\n",
      "10        K.> 100%          22\n",
      "11           Other         106\n"
     ]
    }
   ],
   "source": [
    "# Wape_buckets\n",
    "df = wape_per_asin_PF\n",
    "\n",
    "\n",
    "# Assuming df has columns: ['asin', 'WAPE']\n",
    "\n",
    "conditions = [\n",
    "    (df['WAPE'] <= 0.10),\n",
    "    (df['WAPE'] > 0.10) & (df['WAPE'] <= 0.20),\n",
    "    (df['WAPE'] > 0.20) & (df['WAPE'] <= 0.30),\n",
    "    (df['WAPE'] > 0.30) & (df['WAPE'] <= 0.40),\n",
    "    (df['WAPE'] > 0.40) & (df['WAPE'] <= 0.50),\n",
    "    (df['WAPE'] > 0.50) & (df['WAPE'] <= 0.60),\n",
    "    (df['WAPE'] > 0.60) & (df['WAPE'] <= 0.70),\n",
    "    (df['WAPE'] > 0.70) & (df['WAPE'] <= 0.80),\n",
    "    (df['WAPE'] > 0.80) & (df['WAPE'] <= 0.90),\n",
    "    (df['WAPE'] > 0.90) & (df['WAPE'] <= 1.00),\n",
    "    (df['WAPE'] > 1.00)\n",
    "]\n",
    "\n",
    "choices = [\n",
    "    \"A. 0 - 10%\",\n",
    "    \"B. > 10% - 20%\",\n",
    "    \"C. > 20% - 30%\",\n",
    "    \"D. > 30% - 40%\",\n",
    "    \"E. > 40% - 50%\",\n",
    "    \"F. > 50% - 60%\",\n",
    "    \"G. > 60% - 70%\",\n",
    "    \"H. > 70% - 80%\",\n",
    "    \"I. > 80% - 90%\", \n",
    "    \"J > 90% - 100%\",\n",
    "    \"K.> 100%\"\n",
    "]\n",
    "\n",
    "df['wape_bucket'] = np.select(conditions, choices, default='Other')\n",
    "\n",
    "\n",
    "# Summarize the count of ASINs in each WAPE bucket\n",
    "bucket_summary = df.groupby('wape_bucket').size().reset_index(name='asin_count')\n",
    "\n",
    "# Sort the result for a cleaner view (optional)\n",
    "bucket_summary = bucket_summary.sort_values(by='wape_bucket')\n",
    "\n",
    "# Display the summary\n",
    "print(bucket_summary)\n",
    "\n",
    "\n",
    "# Save the forecast results to a CSV file\n",
    "df.to_csv('C:/Users/Poovesh Kumar M/Downloads/Planning/WAPE_summary_PF.csv', index=False)\n",
    "bucket_summary.to_csv('C:/Users/Poovesh Kumar M/Downloads/Planning/bucket_summary_PF.csv', index=False)\n"
   ]
  },
  {
   "cell_type": "code",
   "execution_count": 22,
   "id": "3129baeb",
   "metadata": {},
   "outputs": [
    {
     "name": "stdout",
     "output_type": "stream",
     "text": [
      "Processing ASIN: B00PMR3QF2\n"
     ]
    },
    {
     "name": "stderr",
     "output_type": "stream",
     "text": [
      "16:23:57 - cmdstanpy - INFO - Chain [1] start processing\n",
      "16:23:57 - cmdstanpy - INFO - Chain [1] done processing\n"
     ]
    },
    {
     "name": "stdout",
     "output_type": "stream",
     "text": [
      "Processing ASIN: B00PV15BPW\n"
     ]
    },
    {
     "name": "stderr",
     "output_type": "stream",
     "text": [
      "16:23:58 - cmdstanpy - INFO - Chain [1] start processing\n",
      "16:23:58 - cmdstanpy - INFO - Chain [1] done processing\n"
     ]
    },
    {
     "name": "stdout",
     "output_type": "stream",
     "text": [
      "Processing ASIN: B00Q7Z1UZ6\n",
      "No data found for ASIN: B00Q7Z1UZ6\n",
      "Processing ASIN: B00Q96XGUU\n"
     ]
    },
    {
     "name": "stderr",
     "output_type": "stream",
     "text": [
      "16:23:59 - cmdstanpy - INFO - Chain [1] start processing\n",
      "16:23:59 - cmdstanpy - INFO - Chain [1] done processing\n"
     ]
    },
    {
     "name": "stdout",
     "output_type": "stream",
     "text": [
      "Processing ASIN: B00QR6SS6O\n"
     ]
    },
    {
     "name": "stderr",
     "output_type": "stream",
     "text": [
      "16:23:59 - cmdstanpy - INFO - Chain [1] start processing\n",
      "16:24:00 - cmdstanpy - INFO - Chain [1] done processing\n"
     ]
    },
    {
     "name": "stdout",
     "output_type": "stream",
     "text": [
      "Processing ASIN: B00QR7FTLU\n"
     ]
    },
    {
     "name": "stderr",
     "output_type": "stream",
     "text": [
      "16:24:00 - cmdstanpy - INFO - Chain [1] start processing\n",
      "16:24:00 - cmdstanpy - INFO - Chain [1] done processing\n"
     ]
    },
    {
     "name": "stdout",
     "output_type": "stream",
     "text": [
      "Processing ASIN: B00QR7T8WQ\n",
      "No data found for ASIN: B00QR7T8WQ\n",
      "Processing ASIN: B00QVR0O6Q\n"
     ]
    },
    {
     "name": "stderr",
     "output_type": "stream",
     "text": [
      "16:24:01 - cmdstanpy - INFO - Chain [1] start processing\n",
      "16:24:01 - cmdstanpy - INFO - Chain [1] done processing\n"
     ]
    },
    {
     "name": "stdout",
     "output_type": "stream",
     "text": [
      "Processing ASIN: B00STVN68K\n"
     ]
    },
    {
     "name": "stderr",
     "output_type": "stream",
     "text": [
      "16:24:01 - cmdstanpy - INFO - Chain [1] start processing\n",
      "16:24:02 - cmdstanpy - INFO - Chain [1] done processing\n"
     ]
    },
    {
     "name": "stdout",
     "output_type": "stream",
     "text": [
      "Processing ASIN: B00TSTZQEY\n"
     ]
    },
    {
     "name": "stderr",
     "output_type": "stream",
     "text": [
      "16:24:02 - cmdstanpy - INFO - Chain [1] start processing\n",
      "16:24:02 - cmdstanpy - INFO - Chain [1] done processing\n"
     ]
    },
    {
     "name": "stdout",
     "output_type": "stream",
     "text": [
      "Processing ASIN: B00UA2A0XK\n",
      "No data found for ASIN: B00UA2A0XK\n",
      "Processing ASIN: B00UREAGU8\n"
     ]
    },
    {
     "name": "stderr",
     "output_type": "stream",
     "text": [
      "16:24:03 - cmdstanpy - INFO - Chain [1] start processing\n",
      "16:24:03 - cmdstanpy - INFO - Chain [1] done processing\n"
     ]
    },
    {
     "name": "stdout",
     "output_type": "stream",
     "text": [
      "Processing ASIN: B00VUNFLM8\n"
     ]
    },
    {
     "name": "stderr",
     "output_type": "stream",
     "text": [
      "16:24:03 - cmdstanpy - INFO - Chain [1] start processing\n",
      "16:24:04 - cmdstanpy - INFO - Chain [1] done processing\n"
     ]
    },
    {
     "name": "stdout",
     "output_type": "stream",
     "text": [
      "Processing ASIN: B00VXEQ0WO\n",
      "No data found for ASIN: B00VXEQ0WO\n",
      "Processing ASIN: B00VXHY6KY\n",
      "Processing ASIN: B00VXIV1XI\n",
      "No data found for ASIN: B00VXIV1XI\n",
      "Processing ASIN: B00WFXNXVI\n",
      "No data found for ASIN: B00WFXNXVI\n",
      "Processing ASIN: B00WH2CKCA\n",
      "No data found for ASIN: B00WH2CKCA\n",
      "Processing ASIN: B00WKTKBTY\n",
      "No data found for ASIN: B00WKTKBTY\n",
      "Processing ASIN: B00X4YGPYE\n"
     ]
    },
    {
     "name": "stderr",
     "output_type": "stream",
     "text": [
      "16:24:05 - cmdstanpy - INFO - Chain [1] start processing\n",
      "16:24:05 - cmdstanpy - INFO - Chain [1] done processing\n"
     ]
    },
    {
     "name": "stdout",
     "output_type": "stream",
     "text": [
      "Processing ASIN: B00XE58NJ8\n"
     ]
    },
    {
     "name": "stderr",
     "output_type": "stream",
     "text": [
      "16:24:05 - cmdstanpy - INFO - Chain [1] start processing\n",
      "16:24:05 - cmdstanpy - INFO - Chain [1] done processing\n"
     ]
    },
    {
     "name": "stdout",
     "output_type": "stream",
     "text": [
      "Processing ASIN: B00YQ93VPW\n",
      "No data found for ASIN: B00YQ93VPW\n",
      "Processing ASIN: B00Z5WJIHO\n",
      "No data found for ASIN: B00Z5WJIHO\n",
      "Processing ASIN: B01057FM6E\n",
      "No data found for ASIN: B01057FM6E\n",
      "Processing ASIN: B0105POI9I\n",
      "No data found for ASIN: B0105POI9I\n",
      "Processing ASIN: B011NSRBY0\n",
      "No data found for ASIN: B011NSRBY0\n",
      "Processing ASIN: B012UQJNMC\n",
      "No data found for ASIN: B012UQJNMC\n",
      "Processing ASIN: B014JFT9DU\n",
      "No data found for ASIN: B014JFT9DU\n",
      "Processing ASIN: B016H8ICBC\n",
      "No data found for ASIN: B016H8ICBC\n",
      "Processing ASIN: B016RQ8PRU\n",
      "No data found for ASIN: B016RQ8PRU\n",
      "Processing ASIN: B01728CU8M\n",
      "No data found for ASIN: B01728CU8M\n",
      "Processing ASIN: B0172AL2PM\n"
     ]
    },
    {
     "name": "stderr",
     "output_type": "stream",
     "text": [
      "16:24:06 - cmdstanpy - INFO - Chain [1] start processing\n",
      "16:24:06 - cmdstanpy - INFO - Chain [1] done processing\n"
     ]
    },
    {
     "name": "stdout",
     "output_type": "stream",
     "text": [
      "Processing ASIN: B01745E4C8\n",
      "No data found for ASIN: B01745E4C8\n",
      "Processing ASIN: B01766QDTC\n",
      "No data found for ASIN: B01766QDTC\n",
      "Processing ASIN: B01767OTVK\n"
     ]
    },
    {
     "name": "stderr",
     "output_type": "stream",
     "text": [
      "16:24:06 - cmdstanpy - INFO - Chain [1] start processing\n",
      "16:24:07 - cmdstanpy - INFO - Chain [1] done processing\n"
     ]
    },
    {
     "name": "stdout",
     "output_type": "stream",
     "text": [
      "Processing ASIN: B01768QEPI\n",
      "No data found for ASIN: B01768QEPI\n",
      "Processing ASIN: B0176OGWFE\n",
      "Processing ASIN: B0176UQBJU\n"
     ]
    },
    {
     "name": "stderr",
     "output_type": "stream",
     "text": [
      "16:24:07 - cmdstanpy - INFO - Chain [1] start processing\n",
      "16:24:08 - cmdstanpy - INFO - Chain [1] done processing\n"
     ]
    },
    {
     "name": "stdout",
     "output_type": "stream",
     "text": [
      "Processing ASIN: B0176YOIEQ\n"
     ]
    },
    {
     "name": "stderr",
     "output_type": "stream",
     "text": [
      "16:24:08 - cmdstanpy - INFO - Chain [1] start processing\n",
      "16:24:09 - cmdstanpy - INFO - Chain [1] done processing\n"
     ]
    },
    {
     "name": "stdout",
     "output_type": "stream",
     "text": [
      "Processing ASIN: B01771C9H6\n",
      "No data found for ASIN: B01771C9H6\n",
      "Processing ASIN: B0177J3BVG\n",
      "No data found for ASIN: B0177J3BVG\n",
      "Processing ASIN: B017I2B8NK\n"
     ]
    },
    {
     "name": "stderr",
     "output_type": "stream",
     "text": [
      "16:24:09 - cmdstanpy - INFO - Chain [1] start processing\n",
      "16:24:09 - cmdstanpy - INFO - Chain [1] done processing\n"
     ]
    },
    {
     "name": "stdout",
     "output_type": "stream",
     "text": [
      "Processing ASIN: B017SLT8ME\n",
      "No data found for ASIN: B017SLT8ME\n",
      "Processing ASIN: B01BGIB81Y\n",
      "No data found for ASIN: B01BGIB81Y\n",
      "Processing ASIN: B01BHO79V0\n",
      "No data found for ASIN: B01BHO79V0\n",
      "Processing ASIN: B01BHQ69S2\n"
     ]
    },
    {
     "name": "stderr",
     "output_type": "stream",
     "text": [
      "16:24:10 - cmdstanpy - INFO - Chain [1] start processing\n",
      "16:24:11 - cmdstanpy - INFO - Chain [1] done processing\n"
     ]
    },
    {
     "name": "stdout",
     "output_type": "stream",
     "text": [
      "Processing ASIN: B01BKALLBU\n"
     ]
    },
    {
     "name": "stderr",
     "output_type": "stream",
     "text": [
      "16:24:11 - cmdstanpy - INFO - Chain [1] start processing\n",
      "16:24:11 - cmdstanpy - INFO - Chain [1] done processing\n"
     ]
    },
    {
     "name": "stdout",
     "output_type": "stream",
     "text": [
      "Processing ASIN: B01BKB3C98\n"
     ]
    },
    {
     "name": "stderr",
     "output_type": "stream",
     "text": [
      "16:24:12 - cmdstanpy - INFO - Chain [1] start processing\n",
      "16:24:12 - cmdstanpy - INFO - Chain [1] done processing\n"
     ]
    },
    {
     "name": "stdout",
     "output_type": "stream",
     "text": [
      "Processing ASIN: B01CHW4QOO\n",
      "No data found for ASIN: B01CHW4QOO\n",
      "Processing ASIN: B01CKBJQCO\n",
      "No data found for ASIN: B01CKBJQCO\n",
      "Processing ASIN: B01CO4EPQY\n",
      "No data found for ASIN: B01CO4EPQY\n",
      "Processing ASIN: B01DV9H7Z2\n",
      "No data found for ASIN: B01DV9H7Z2\n",
      "Processing ASIN: B01DVU2ZQW\n",
      "No data found for ASIN: B01DVU2ZQW\n",
      "Processing ASIN: B01DXRVQ3Q\n"
     ]
    },
    {
     "name": "stderr",
     "output_type": "stream",
     "text": [
      "16:24:13 - cmdstanpy - INFO - Chain [1] start processing\n",
      "16:24:13 - cmdstanpy - INFO - Chain [1] done processing\n"
     ]
    },
    {
     "name": "stdout",
     "output_type": "stream",
     "text": [
      "Processing ASIN: B01ERVKA3Y\n",
      "No data found for ASIN: B01ERVKA3Y\n",
      "Processing ASIN: B01FR1PYXE\n",
      "No data found for ASIN: B01FR1PYXE\n",
      "Processing ASIN: B01FZRK3WW\n"
     ]
    },
    {
     "name": "stderr",
     "output_type": "stream",
     "text": [
      "16:24:14 - cmdstanpy - INFO - Chain [1] start processing\n",
      "16:24:14 - cmdstanpy - INFO - Chain [1] done processing\n"
     ]
    },
    {
     "name": "stdout",
     "output_type": "stream",
     "text": [
      "Processing ASIN: B01G2R8NQC\n",
      "Processing ASIN: B01GHF9OXU\n",
      "No data found for ASIN: B01GHF9OXU\n",
      "Processing ASIN: B01GZ6ZAVG\n",
      "No data found for ASIN: B01GZ6ZAVG\n",
      "Processing ASIN: B01HCWXUIC\n",
      "No data found for ASIN: B01HCWXUIC\n",
      "Processing ASIN: B01HIW5BG0\n",
      "No data found for ASIN: B01HIW5BG0\n",
      "Processing ASIN: B01HN30YAW\n",
      "No data found for ASIN: B01HN30YAW\n",
      "Processing ASIN: B01HSHKNC2\n",
      "No data found for ASIN: B01HSHKNC2\n",
      "Processing ASIN: B01HSM2M6W\n"
     ]
    },
    {
     "name": "stderr",
     "output_type": "stream",
     "text": [
      "16:24:15 - cmdstanpy - INFO - Chain [1] start processing\n",
      "16:24:16 - cmdstanpy - INFO - Chain [1] done processing\n"
     ]
    },
    {
     "name": "stdout",
     "output_type": "stream",
     "text": [
      "Processing ASIN: B01IIJI4TS\n",
      "No data found for ASIN: B01IIJI4TS\n",
      "Processing ASIN: B01INZE248\n",
      "No data found for ASIN: B01INZE248\n",
      "Processing ASIN: B01IRKTYII\n"
     ]
    },
    {
     "name": "stderr",
     "output_type": "stream",
     "text": [
      "16:24:16 - cmdstanpy - INFO - Chain [1] start processing\n",
      "16:24:16 - cmdstanpy - INFO - Chain [1] done processing\n"
     ]
    },
    {
     "name": "stdout",
     "output_type": "stream",
     "text": [
      "Processing ASIN: B01IRLOTNM\n"
     ]
    },
    {
     "name": "stderr",
     "output_type": "stream",
     "text": [
      "16:24:17 - cmdstanpy - INFO - Chain [1] start processing\n",
      "16:24:17 - cmdstanpy - INFO - Chain [1] done processing\n"
     ]
    },
    {
     "name": "stdout",
     "output_type": "stream",
     "text": [
      "Processing ASIN: B01IU1ZUNM\n",
      "No data found for ASIN: B01IU1ZUNM\n",
      "Processing ASIN: B01JLJGIEC\n",
      "No data found for ASIN: B01JLJGIEC\n",
      "Processing ASIN: B01JRV494K\n",
      "No data found for ASIN: B01JRV494K\n",
      "Processing ASIN: B01JRW3EJA\n",
      "No data found for ASIN: B01JRW3EJA\n",
      "Processing ASIN: B01K2JRGXC\n"
     ]
    },
    {
     "name": "stderr",
     "output_type": "stream",
     "text": [
      "16:24:17 - cmdstanpy - INFO - Chain [1] start processing\n",
      "16:24:18 - cmdstanpy - INFO - Chain [1] done processing\n"
     ]
    },
    {
     "name": "stdout",
     "output_type": "stream",
     "text": [
      "Processing ASIN: B01K86X4HG\n",
      "No data found for ASIN: B01K86X4HG\n",
      "Processing ASIN: B01K8IJVWG\n",
      "No data found for ASIN: B01K8IJVWG\n",
      "Processing ASIN: B01K8PEZMU\n"
     ]
    },
    {
     "name": "stderr",
     "output_type": "stream",
     "text": [
      "16:24:18 - cmdstanpy - INFO - Chain [1] start processing\n",
      "16:24:18 - cmdstanpy - INFO - Chain [1] done processing\n"
     ]
    },
    {
     "name": "stdout",
     "output_type": "stream",
     "text": [
      "Processing ASIN: B01K8XC1FU\n",
      "No data found for ASIN: B01K8XC1FU\n",
      "Processing ASIN: B01K90KCP8\n",
      "No data found for ASIN: B01K90KCP8\n",
      "Processing ASIN: B01K91YRTO\n",
      "No data found for ASIN: B01K91YRTO\n",
      "Processing ASIN: B01K93HIDO\n",
      "No data found for ASIN: B01K93HIDO\n",
      "Processing ASIN: B01KFENEXK\n",
      "No data found for ASIN: B01KFENEXK\n",
      "Processing ASIN: B01KW4Q6VU\n",
      "No data found for ASIN: B01KW4Q6VU\n",
      "Processing ASIN: B01KYFMHJC\n",
      "No data found for ASIN: B01KYFMHJC\n",
      "Processing ASIN: B01LAHAQ2I\n",
      "No data found for ASIN: B01LAHAQ2I\n",
      "Processing ASIN: B01LAJP9LE\n",
      "No data found for ASIN: B01LAJP9LE\n",
      "Processing ASIN: B01LDGNJHK\n",
      "No data found for ASIN: B01LDGNJHK\n",
      "Processing ASIN: B01LMJQ53I\n",
      "No data found for ASIN: B01LMJQ53I\n",
      "Processing ASIN: B01LW1N3YN\n",
      "No data found for ASIN: B01LW1N3YN\n",
      "Processing ASIN: B01LWMTMIW\n",
      "No data found for ASIN: B01LWMTMIW\n",
      "Processing ASIN: B01LWYNWIF\n",
      "No data found for ASIN: B01LWYNWIF\n",
      "Processing ASIN: B01LWYU1NT\n"
     ]
    },
    {
     "name": "stderr",
     "output_type": "stream",
     "text": [
      "16:24:19 - cmdstanpy - INFO - Chain [1] start processing\n",
      "16:24:19 - cmdstanpy - INFO - Chain [1] done processing\n"
     ]
    },
    {
     "name": "stdout",
     "output_type": "stream",
     "text": [
      "Processing ASIN: B01LWYV0F3\n",
      "No data found for ASIN: B01LWYV0F3\n",
      "Processing ASIN: B01LX9IIDJ\n"
     ]
    },
    {
     "name": "stderr",
     "output_type": "stream",
     "text": [
      "16:24:19 - cmdstanpy - INFO - Chain [1] start processing\n",
      "16:24:20 - cmdstanpy - INFO - Chain [1] done processing\n"
     ]
    },
    {
     "name": "stdout",
     "output_type": "stream",
     "text": [
      "Processing ASIN: B01LXALVDG\n"
     ]
    },
    {
     "name": "stderr",
     "output_type": "stream",
     "text": [
      "16:24:20 - cmdstanpy - INFO - Chain [1] start processing\n",
      "16:24:20 - cmdstanpy - INFO - Chain [1] done processing\n"
     ]
    },
    {
     "name": "stdout",
     "output_type": "stream",
     "text": [
      "Processing ASIN: B01LXMPA35\n",
      "No data found for ASIN: B01LXMPA35\n",
      "Processing ASIN: B01LXY3G5B\n",
      "No data found for ASIN: B01LXY3G5B\n",
      "Processing ASIN: B01LY9DCZ9\n",
      "No data found for ASIN: B01LY9DCZ9\n",
      "Processing ASIN: B01LY9FZHH\n",
      "No data found for ASIN: B01LY9FZHH\n",
      "Processing ASIN: B01LY9GFBF\n",
      "No data found for ASIN: B01LY9GFBF\n",
      "Processing ASIN: B01LYKQRWH\n",
      "No data found for ASIN: B01LYKQRWH\n",
      "Processing ASIN: B01LYR2KTP\n",
      "No data found for ASIN: B01LYR2KTP\n",
      "Processing ASIN: B01LZXGBZR\n"
     ]
    },
    {
     "name": "stderr",
     "output_type": "stream",
     "text": [
      "16:24:21 - cmdstanpy - INFO - Chain [1] start processing\n",
      "16:24:21 - cmdstanpy - INFO - Chain [1] done processing\n"
     ]
    },
    {
     "name": "stdout",
     "output_type": "stream",
     "text": [
      "Processing ASIN: B01M07JVC2\n"
     ]
    },
    {
     "name": "stderr",
     "output_type": "stream",
     "text": [
      "16:24:21 - cmdstanpy - INFO - Chain [1] start processing\n",
      "16:24:22 - cmdstanpy - INFO - Chain [1] done processing\n"
     ]
    },
    {
     "name": "stdout",
     "output_type": "stream",
     "text": [
      "Processing ASIN: B01M12V5G3\n",
      "No data found for ASIN: B01M12V5G3\n",
      "Processing ASIN: B01M1CJSZH\n",
      "No data found for ASIN: B01M1CJSZH\n",
      "Processing ASIN: B01MQYUZ0C\n",
      "No data found for ASIN: B01MQYUZ0C\n",
      "Processing ASIN: B01MSEKDFX\n",
      "No data found for ASIN: B01MSEKDFX\n",
      "Processing ASIN: B01MU29C2X\n",
      "No data found for ASIN: B01MU29C2X\n",
      "Processing ASIN: B01MUCO6ZU\n"
     ]
    },
    {
     "name": "stderr",
     "output_type": "stream",
     "text": [
      "16:24:22 - cmdstanpy - INFO - Chain [1] start processing\n",
      "16:24:22 - cmdstanpy - INFO - Chain [1] done processing\n"
     ]
    },
    {
     "name": "stdout",
     "output_type": "stream",
     "text": [
      "Processing ASIN: B01MY4KYSG\n",
      "No data found for ASIN: B01MY4KYSG\n",
      "Processing ASIN: B01MYA4Q1X\n",
      "No data found for ASIN: B01MYA4Q1X\n",
      "Processing ASIN: B01N1856R7\n"
     ]
    },
    {
     "name": "stderr",
     "output_type": "stream",
     "text": [
      "16:24:23 - cmdstanpy - INFO - Chain [1] start processing\n",
      "16:24:23 - cmdstanpy - INFO - Chain [1] done processing\n"
     ]
    },
    {
     "name": "stdout",
     "output_type": "stream",
     "text": [
      "Processing ASIN: B01N2W16I8\n",
      "No data found for ASIN: B01N2W16I8\n",
      "Processing ASIN: B01N35XMUC\n",
      "No data found for ASIN: B01N35XMUC\n",
      "Processing ASIN: B01N3T69R3\n",
      "No data found for ASIN: B01N3T69R3\n",
      "Processing ASIN: B01N6IHDIN\n",
      "No data found for ASIN: B01N6IHDIN\n",
      "Processing ASIN: B01N6N716A\n",
      "No data found for ASIN: B01N6N716A\n",
      "Processing ASIN: B01N7L0WA6\n",
      "No data found for ASIN: B01N7L0WA6\n",
      "Processing ASIN: B01N7OJUIT\n",
      "No data found for ASIN: B01N7OJUIT\n",
      "Processing ASIN: B01N7U6R1F\n"
     ]
    },
    {
     "name": "stderr",
     "output_type": "stream",
     "text": [
      "16:24:23 - cmdstanpy - INFO - Chain [1] start processing\n",
      "16:24:24 - cmdstanpy - INFO - Chain [1] done processing\n"
     ]
    },
    {
     "name": "stdout",
     "output_type": "stream",
     "text": [
      "Processing ASIN: B01N9EI165\n",
      "No data found for ASIN: B01N9EI165\n",
      "Processing ASIN: B01N9TLIJU\n",
      "No data found for ASIN: B01N9TLIJU\n",
      "Processing ASIN: B06XBSBTMV\n",
      "No data found for ASIN: B06XBSBTMV\n",
      "Processing ASIN: B06XC5D97Z\n",
      "No data found for ASIN: B06XC5D97Z\n",
      "Processing ASIN: B06XCCVDH7\n"
     ]
    },
    {
     "name": "stderr",
     "output_type": "stream",
     "text": [
      "16:24:24 - cmdstanpy - INFO - Chain [1] start processing\n",
      "16:24:24 - cmdstanpy - INFO - Chain [1] done processing\n"
     ]
    },
    {
     "name": "stdout",
     "output_type": "stream",
     "text": [
      "Processing ASIN: B06XDNKH65\n"
     ]
    },
    {
     "name": "stderr",
     "output_type": "stream",
     "text": [
      "16:24:25 - cmdstanpy - INFO - Chain [1] start processing\n",
      "16:24:25 - cmdstanpy - INFO - Chain [1] done processing\n"
     ]
    },
    {
     "name": "stdout",
     "output_type": "stream",
     "text": [
      "Processing ASIN: B06Y15C6CS\n",
      "No data found for ASIN: B06Y15C6CS\n",
      "Processing ASIN: B06ZZXG2CJ\n",
      "No data found for ASIN: B06ZZXG2CJ\n",
      "Processing ASIN: B071JCL3XQ\n",
      "No data found for ASIN: B071JCL3XQ\n",
      "Processing ASIN: B072YVYQVR\n",
      "No data found for ASIN: B072YVYQVR\n",
      "Processing ASIN: B0732HBHQX\n",
      "Processing ASIN: B073XXQMM9\n",
      "No data found for ASIN: B073XXQMM9\n",
      "Processing ASIN: B074WZJDLZ\n",
      "No data found for ASIN: B074WZJDLZ\n",
      "Processing ASIN: B0753LHJ8X\n",
      "No data found for ASIN: B0753LHJ8X\n",
      "Processing ASIN: B075DJ88X5\n",
      "No data found for ASIN: B075DJ88X5\n",
      "Processing ASIN: B075KWWVR6\n"
     ]
    },
    {
     "name": "stderr",
     "output_type": "stream",
     "text": [
      "16:24:26 - cmdstanpy - INFO - Chain [1] start processing\n",
      "16:24:27 - cmdstanpy - INFO - Chain [1] done processing\n"
     ]
    },
    {
     "name": "stdout",
     "output_type": "stream",
     "text": [
      "Processing ASIN: B075MSCQZJ\n",
      "No data found for ASIN: B075MSCQZJ\n",
      "Processing ASIN: B076YPNBBR\n",
      "No data found for ASIN: B076YPNBBR\n",
      "Processing ASIN: B076YQ62CH\n"
     ]
    },
    {
     "name": "stderr",
     "output_type": "stream",
     "text": [
      "16:24:27 - cmdstanpy - INFO - Chain [1] start processing\n",
      "16:24:28 - cmdstanpy - INFO - Chain [1] done processing\n"
     ]
    },
    {
     "name": "stdout",
     "output_type": "stream",
     "text": [
      "Processing ASIN: B077GP9C96\n",
      "No data found for ASIN: B077GP9C96\n",
      "Processing ASIN: B077GPTZTS\n",
      "No data found for ASIN: B077GPTZTS\n",
      "Processing ASIN: B077KDFFL1\n",
      "Processing ASIN: B078SS67K7\n",
      "No data found for ASIN: B078SS67K7\n",
      "Processing ASIN: B078W5K1T1\n",
      "No data found for ASIN: B078W5K1T1\n",
      "Processing ASIN: B079ZN8SC9\n"
     ]
    },
    {
     "name": "stderr",
     "output_type": "stream",
     "text": [
      "16:24:28 - cmdstanpy - INFO - Chain [1] start processing\n",
      "16:24:29 - cmdstanpy - INFO - Chain [1] done processing\n"
     ]
    },
    {
     "name": "stdout",
     "output_type": "stream",
     "text": [
      "Processing ASIN: B07BDQ2413\n"
     ]
    },
    {
     "name": "stderr",
     "output_type": "stream",
     "text": [
      "16:24:29 - cmdstanpy - INFO - Chain [1] start processing\n",
      "16:24:30 - cmdstanpy - INFO - Chain [1] done processing\n"
     ]
    },
    {
     "name": "stdout",
     "output_type": "stream",
     "text": [
      "Processing ASIN: B07C39LV4Z\n",
      "No data found for ASIN: B07C39LV4Z\n",
      "Processing ASIN: B07C5B9C16\n",
      "No data found for ASIN: B07C5B9C16\n",
      "Processing ASIN: B07CP15TC6\n"
     ]
    },
    {
     "name": "stderr",
     "output_type": "stream",
     "text": [
      "16:24:30 - cmdstanpy - INFO - Chain [1] start processing\n",
      "16:24:31 - cmdstanpy - INFO - Chain [1] done processing\n"
     ]
    },
    {
     "name": "stdout",
     "output_type": "stream",
     "text": [
      "Processing ASIN: B07CP3X2K3\n",
      "No data found for ASIN: B07CP3X2K3\n",
      "Processing ASIN: B07DJYGCHC\n",
      "No data found for ASIN: B07DJYGCHC\n",
      "Processing ASIN: B07DPWB7LW\n",
      "No data found for ASIN: B07DPWB7LW\n",
      "Processing ASIN: B07DX6RZ7G\n",
      "Processing ASIN: B07F1FL4DF\n",
      "Processing ASIN: B07F7G3PJW\n",
      "No data found for ASIN: B07F7G3PJW\n",
      "Processing ASIN: B07F7HCD73\n",
      "Processing ASIN: B07G2M6FHP\n"
     ]
    },
    {
     "name": "stderr",
     "output_type": "stream",
     "text": [
      "16:24:32 - cmdstanpy - INFO - Chain [1] start processing\n",
      "16:24:33 - cmdstanpy - INFO - Chain [1] done processing\n"
     ]
    },
    {
     "name": "stdout",
     "output_type": "stream",
     "text": [
      "Processing ASIN: B07G3MBG8C\n",
      "Processing ASIN: B07G3MKDG7\n",
      "Processing ASIN: B07G4LZDJH\n",
      "No data found for ASIN: B07G4LZDJH\n",
      "Processing ASIN: B07G7J87P3\n"
     ]
    },
    {
     "name": "stderr",
     "output_type": "stream",
     "text": [
      "16:24:34 - cmdstanpy - INFO - Chain [1] start processing\n",
      "16:24:35 - cmdstanpy - INFO - Chain [1] done processing\n"
     ]
    },
    {
     "name": "stdout",
     "output_type": "stream",
     "text": [
      "Processing ASIN: B07G7LPY5C\n",
      "No data found for ASIN: B07G7LPY5C\n",
      "Processing ASIN: B07G7LTQ9Q\n",
      "No data found for ASIN: B07G7LTQ9Q\n",
      "Processing ASIN: B07G7QVSZT\n"
     ]
    },
    {
     "name": "stderr",
     "output_type": "stream",
     "text": [
      "16:24:35 - cmdstanpy - INFO - Chain [1] start processing\n",
      "16:24:35 - cmdstanpy - INFO - Chain [1] done processing\n"
     ]
    },
    {
     "name": "stdout",
     "output_type": "stream",
     "text": [
      "Processing ASIN: B07G8J8F3Z\n",
      "No data found for ASIN: B07G8J8F3Z\n",
      "Processing ASIN: B07G8JN3NF\n",
      "No data found for ASIN: B07G8JN3NF\n",
      "Processing ASIN: B07G8JTRDX\n",
      "No data found for ASIN: B07G8JTRDX\n",
      "Processing ASIN: B07G8K7VT1\n",
      "No data found for ASIN: B07G8K7VT1\n",
      "Processing ASIN: B07G8KG4S7\n",
      "Processing ASIN: B07G8LV6PV\n",
      "No data found for ASIN: B07G8LV6PV\n",
      "Processing ASIN: B07G8LV7KX\n"
     ]
    },
    {
     "name": "stderr",
     "output_type": "stream",
     "text": [
      "16:24:36 - cmdstanpy - INFO - Chain [1] start processing\n",
      "16:24:37 - cmdstanpy - INFO - Chain [1] done processing\n"
     ]
    },
    {
     "name": "stdout",
     "output_type": "stream",
     "text": [
      "Processing ASIN: B07G8LY9HB\n",
      "No data found for ASIN: B07G8LY9HB\n",
      "Processing ASIN: B07G8M3DTX\n"
     ]
    },
    {
     "name": "stderr",
     "output_type": "stream",
     "text": [
      "16:24:37 - cmdstanpy - INFO - Chain [1] start processing\n",
      "16:24:37 - cmdstanpy - INFO - Chain [1] done processing\n"
     ]
    },
    {
     "name": "stdout",
     "output_type": "stream",
     "text": [
      "Processing ASIN: B07G8M4M46\n",
      "Processing ASIN: B07G8MDG19\n"
     ]
    },
    {
     "name": "stderr",
     "output_type": "stream",
     "text": [
      "16:24:38 - cmdstanpy - INFO - Chain [1] start processing\n",
      "16:24:38 - cmdstanpy - INFO - Chain [1] done processing\n"
     ]
    },
    {
     "name": "stdout",
     "output_type": "stream",
     "text": [
      "Processing ASIN: B07G8MHVXQ\n",
      "No data found for ASIN: B07G8MHVXQ\n",
      "Processing ASIN: B07G8MK45Z\n",
      "No data found for ASIN: B07G8MK45Z\n",
      "Processing ASIN: B07G8MPT3N\n",
      "No data found for ASIN: B07G8MPT3N\n",
      "Processing ASIN: B07G8N5ZP4\n",
      "No data found for ASIN: B07G8N5ZP4\n",
      "Processing ASIN: B07G8NDRF7\n"
     ]
    },
    {
     "name": "stderr",
     "output_type": "stream",
     "text": [
      "16:24:39 - cmdstanpy - INFO - Chain [1] start processing\n",
      "16:24:39 - cmdstanpy - INFO - Chain [1] done processing\n"
     ]
    },
    {
     "name": "stdout",
     "output_type": "stream",
     "text": [
      "Processing ASIN: B07G8P6NMW\n",
      "No data found for ASIN: B07G8P6NMW\n",
      "Processing ASIN: B07G8Q4WG2\n"
     ]
    },
    {
     "name": "stderr",
     "output_type": "stream",
     "text": [
      "16:24:39 - cmdstanpy - INFO - Chain [1] start processing\n",
      "16:24:40 - cmdstanpy - INFO - Chain [1] done processing\n"
     ]
    },
    {
     "name": "stdout",
     "output_type": "stream",
     "text": [
      "Processing ASIN: B07G8QZ4DY\n"
     ]
    },
    {
     "name": "stderr",
     "output_type": "stream",
     "text": [
      "16:24:40 - cmdstanpy - INFO - Chain [1] start processing\n",
      "16:24:40 - cmdstanpy - INFO - Chain [1] done processing\n"
     ]
    },
    {
     "name": "stdout",
     "output_type": "stream",
     "text": [
      "Processing ASIN: B07GHC8QB5\n"
     ]
    },
    {
     "name": "stderr",
     "output_type": "stream",
     "text": [
      "16:24:41 - cmdstanpy - INFO - Chain [1] start processing\n",
      "16:24:41 - cmdstanpy - INFO - Chain [1] done processing\n"
     ]
    },
    {
     "name": "stdout",
     "output_type": "stream",
     "text": [
      "Processing ASIN: B07GJ7P4DQ\n",
      "No data found for ASIN: B07GJ7P4DQ\n",
      "Processing ASIN: B07GNZP9P5\n",
      "No data found for ASIN: B07GNZP9P5\n",
      "Processing ASIN: B07GPDRXDF\n",
      "Processing ASIN: B07GPHG3L7\n"
     ]
    },
    {
     "name": "stderr",
     "output_type": "stream",
     "text": [
      "16:24:42 - cmdstanpy - INFO - Chain [1] start processing\n",
      "16:24:43 - cmdstanpy - INFO - Chain [1] done processing\n"
     ]
    },
    {
     "name": "stdout",
     "output_type": "stream",
     "text": [
      "Processing ASIN: B07GPK352D\n"
     ]
    },
    {
     "name": "stderr",
     "output_type": "stream",
     "text": [
      "16:24:43 - cmdstanpy - INFO - Chain [1] start processing\n",
      "16:24:44 - cmdstanpy - INFO - Chain [1] done processing\n"
     ]
    },
    {
     "name": "stdout",
     "output_type": "stream",
     "text": [
      "Processing ASIN: B07GPM6Q4Q\n"
     ]
    },
    {
     "name": "stderr",
     "output_type": "stream",
     "text": [
      "16:24:44 - cmdstanpy - INFO - Chain [1] start processing\n",
      "16:24:45 - cmdstanpy - INFO - Chain [1] done processing\n"
     ]
    },
    {
     "name": "stdout",
     "output_type": "stream",
     "text": [
      "Processing ASIN: B07GPNQZSG\n"
     ]
    },
    {
     "name": "stderr",
     "output_type": "stream",
     "text": [
      "16:24:45 - cmdstanpy - INFO - Chain [1] start processing\n",
      "16:24:45 - cmdstanpy - INFO - Chain [1] done processing\n"
     ]
    },
    {
     "name": "stdout",
     "output_type": "stream",
     "text": [
      "Processing ASIN: B07GPS2MCV\n"
     ]
    },
    {
     "name": "stderr",
     "output_type": "stream",
     "text": [
      "16:24:46 - cmdstanpy - INFO - Chain [1] start processing\n",
      "16:24:46 - cmdstanpy - INFO - Chain [1] done processing\n"
     ]
    },
    {
     "name": "stdout",
     "output_type": "stream",
     "text": [
      "Processing ASIN: B07GPWVC4F\n",
      "No data found for ASIN: B07GPWVC4F\n",
      "Processing ASIN: B07GPWX8CF\n",
      "No data found for ASIN: B07GPWX8CF\n",
      "Processing ASIN: B07GPXSBDW\n"
     ]
    },
    {
     "name": "stderr",
     "output_type": "stream",
     "text": [
      "16:24:47 - cmdstanpy - INFO - Chain [1] start processing\n",
      "16:24:47 - cmdstanpy - INFO - Chain [1] done processing\n"
     ]
    },
    {
     "name": "stdout",
     "output_type": "stream",
     "text": [
      "Processing ASIN: B07GQ4N8KR\n"
     ]
    },
    {
     "name": "stderr",
     "output_type": "stream",
     "text": [
      "16:24:47 - cmdstanpy - INFO - Chain [1] start processing\n",
      "16:24:48 - cmdstanpy - INFO - Chain [1] done processing\n"
     ]
    },
    {
     "name": "stdout",
     "output_type": "stream",
     "text": [
      "Processing ASIN: B07H8JL7MV\n",
      "No data found for ASIN: B07H8JL7MV\n",
      "Processing ASIN: B07H8KP1PB\n",
      "No data found for ASIN: B07H8KP1PB\n",
      "Processing ASIN: B07HFFGFWD\n",
      "Processing ASIN: B07HFFMY2X\n"
     ]
    },
    {
     "name": "stderr",
     "output_type": "stream",
     "text": [
      "16:24:48 - cmdstanpy - INFO - Chain [1] start processing\n",
      "16:24:49 - cmdstanpy - INFO - Chain [1] done processing\n"
     ]
    },
    {
     "name": "stdout",
     "output_type": "stream",
     "text": [
      "Processing ASIN: B07HGG6VX4\n"
     ]
    },
    {
     "name": "stderr",
     "output_type": "stream",
     "text": [
      "16:24:49 - cmdstanpy - INFO - Chain [1] start processing\n",
      "16:24:49 - cmdstanpy - INFO - Chain [1] done processing\n"
     ]
    },
    {
     "name": "stdout",
     "output_type": "stream",
     "text": [
      "Processing ASIN: B07HPFYQLB\n",
      "No data found for ASIN: B07HPFYQLB\n",
      "Processing ASIN: B07HQ4Q4GY\n"
     ]
    },
    {
     "name": "stderr",
     "output_type": "stream",
     "text": [
      "16:24:50 - cmdstanpy - INFO - Chain [1] start processing\n",
      "16:24:50 - cmdstanpy - INFO - Chain [1] done processing\n"
     ]
    },
    {
     "name": "stdout",
     "output_type": "stream",
     "text": [
      "Processing ASIN: B07HQ4YBSS\n",
      "No data found for ASIN: B07HQ4YBSS\n",
      "Processing ASIN: B07HQGK7L4\n",
      "No data found for ASIN: B07HQGK7L4\n",
      "Processing ASIN: B07HRCY6ND\n",
      "Processing ASIN: B07J2BTN19\n"
     ]
    },
    {
     "name": "stderr",
     "output_type": "stream",
     "text": [
      "16:24:51 - cmdstanpy - INFO - Chain [1] start processing\n",
      "16:24:51 - cmdstanpy - INFO - Chain [1] done processing\n"
     ]
    },
    {
     "name": "stdout",
     "output_type": "stream",
     "text": [
      "Processing ASIN: B07JD9FS28\n"
     ]
    },
    {
     "name": "stderr",
     "output_type": "stream",
     "text": [
      "16:24:51 - cmdstanpy - INFO - Chain [1] start processing\n",
      "16:24:52 - cmdstanpy - INFO - Chain [1] done processing\n"
     ]
    },
    {
     "name": "stdout",
     "output_type": "stream",
     "text": [
      "Processing ASIN: B07LC2R52N\n"
     ]
    },
    {
     "name": "stderr",
     "output_type": "stream",
     "text": [
      "16:24:52 - cmdstanpy - INFO - Chain [1] start processing\n",
      "16:24:52 - cmdstanpy - INFO - Chain [1] done processing\n"
     ]
    },
    {
     "name": "stdout",
     "output_type": "stream",
     "text": [
      "Processing ASIN: B07LC39RQ2\n"
     ]
    },
    {
     "name": "stderr",
     "output_type": "stream",
     "text": [
      "16:24:53 - cmdstanpy - INFO - Chain [1] start processing\n",
      "16:24:53 - cmdstanpy - INFO - Chain [1] done processing\n"
     ]
    },
    {
     "name": "stdout",
     "output_type": "stream",
     "text": [
      "Processing ASIN: B07LC44XSS\n"
     ]
    },
    {
     "name": "stderr",
     "output_type": "stream",
     "text": [
      "16:24:53 - cmdstanpy - INFO - Chain [1] start processing\n",
      "16:24:54 - cmdstanpy - INFO - Chain [1] done processing\n"
     ]
    },
    {
     "name": "stdout",
     "output_type": "stream",
     "text": [
      "Processing ASIN: B07LD3HRX5\n"
     ]
    },
    {
     "name": "stderr",
     "output_type": "stream",
     "text": [
      "16:24:54 - cmdstanpy - INFO - Chain [1] start processing\n",
      "16:24:54 - cmdstanpy - INFO - Chain [1] done processing\n"
     ]
    },
    {
     "name": "stdout",
     "output_type": "stream",
     "text": [
      "Processing ASIN: B07M6TF42M\n"
     ]
    },
    {
     "name": "stderr",
     "output_type": "stream",
     "text": [
      "16:24:55 - cmdstanpy - INFO - Chain [1] start processing\n",
      "16:24:55 - cmdstanpy - INFO - Chain [1] done processing\n"
     ]
    },
    {
     "name": "stdout",
     "output_type": "stream",
     "text": [
      "Processing ASIN: B07N2GRLKB\n",
      "No data found for ASIN: B07N2GRLKB\n",
      "Processing ASIN: B07N2GXFVK\n"
     ]
    },
    {
     "name": "stderr",
     "output_type": "stream",
     "text": [
      "16:24:55 - cmdstanpy - INFO - Chain [1] start processing\n",
      "16:24:56 - cmdstanpy - INFO - Chain [1] done processing\n"
     ]
    },
    {
     "name": "stdout",
     "output_type": "stream",
     "text": [
      "Processing ASIN: B07N2LSXR9\n",
      "No data found for ASIN: B07N2LSXR9\n",
      "Processing ASIN: B07NCXHRZ7\n",
      "Processing ASIN: B07NF9S9FT\n",
      "Processing ASIN: B07NQSTXL1\n"
     ]
    },
    {
     "name": "stderr",
     "output_type": "stream",
     "text": [
      "16:24:57 - cmdstanpy - INFO - Chain [1] start processing\n",
      "16:24:57 - cmdstanpy - INFO - Chain [1] done processing\n"
     ]
    },
    {
     "name": "stdout",
     "output_type": "stream",
     "text": [
      "Processing ASIN: B07NS43346\n"
     ]
    },
    {
     "name": "stderr",
     "output_type": "stream",
     "text": [
      "16:24:57 - cmdstanpy - INFO - Chain [1] start processing\n",
      "16:24:58 - cmdstanpy - INFO - Chain [1] done processing\n"
     ]
    },
    {
     "name": "stdout",
     "output_type": "stream",
     "text": [
      "Processing ASIN: B07NS6C8Y9\n"
     ]
    },
    {
     "name": "stderr",
     "output_type": "stream",
     "text": [
      "16:24:58 - cmdstanpy - INFO - Chain [1] start processing\n",
      "16:24:59 - cmdstanpy - INFO - Chain [1] done processing\n"
     ]
    },
    {
     "name": "stdout",
     "output_type": "stream",
     "text": [
      "Processing ASIN: B07NSF3K1Y\n"
     ]
    },
    {
     "name": "stderr",
     "output_type": "stream",
     "text": [
      "16:24:59 - cmdstanpy - INFO - Chain [1] start processing\n",
      "16:25:00 - cmdstanpy - INFO - Chain [1] done processing\n"
     ]
    },
    {
     "name": "stdout",
     "output_type": "stream",
     "text": [
      "Processing ASIN: B07NY3P5B3\n",
      "Processing ASIN: B07P3WRN9L\n"
     ]
    },
    {
     "name": "stderr",
     "output_type": "stream",
     "text": [
      "16:25:00 - cmdstanpy - INFO - Chain [1] start processing\n",
      "16:25:01 - cmdstanpy - INFO - Chain [1] done processing\n"
     ]
    },
    {
     "name": "stdout",
     "output_type": "stream",
     "text": [
      "Processing ASIN: B07P528MHM\n"
     ]
    },
    {
     "name": "stderr",
     "output_type": "stream",
     "text": [
      "16:25:01 - cmdstanpy - INFO - Chain [1] start processing\n",
      "16:25:01 - cmdstanpy - INFO - Chain [1] done processing\n"
     ]
    },
    {
     "name": "stdout",
     "output_type": "stream",
     "text": [
      "Processing ASIN: B07PNRNWBM\n",
      "Processing ASIN: B07PPJLSRW\n"
     ]
    },
    {
     "name": "stderr",
     "output_type": "stream",
     "text": [
      "16:25:03 - cmdstanpy - INFO - Chain [1] start processing\n",
      "16:25:03 - cmdstanpy - INFO - Chain [1] done processing\n"
     ]
    },
    {
     "name": "stdout",
     "output_type": "stream",
     "text": [
      "Processing ASIN: B07PPWQX7X\n"
     ]
    },
    {
     "name": "stderr",
     "output_type": "stream",
     "text": [
      "16:25:03 - cmdstanpy - INFO - Chain [1] start processing\n",
      "16:25:03 - cmdstanpy - INFO - Chain [1] done processing\n"
     ]
    },
    {
     "name": "stdout",
     "output_type": "stream",
     "text": [
      "Processing ASIN: B07PQWXW5B\n"
     ]
    },
    {
     "name": "stderr",
     "output_type": "stream",
     "text": [
      "16:25:04 - cmdstanpy - INFO - Chain [1] start processing\n",
      "16:25:04 - cmdstanpy - INFO - Chain [1] done processing\n"
     ]
    },
    {
     "name": "stdout",
     "output_type": "stream",
     "text": [
      "Processing ASIN: B07PRDSY6J\n"
     ]
    },
    {
     "name": "stderr",
     "output_type": "stream",
     "text": [
      "16:25:04 - cmdstanpy - INFO - Chain [1] start processing\n",
      "16:25:05 - cmdstanpy - INFO - Chain [1] done processing\n"
     ]
    },
    {
     "name": "stdout",
     "output_type": "stream",
     "text": [
      "Processing ASIN: B07QXV6T4K\n",
      "Processing ASIN: B07R27WXXB\n"
     ]
    },
    {
     "name": "stderr",
     "output_type": "stream",
     "text": [
      "16:25:05 - cmdstanpy - INFO - Chain [1] start processing\n",
      "16:25:06 - cmdstanpy - INFO - Chain [1] done processing\n"
     ]
    },
    {
     "name": "stdout",
     "output_type": "stream",
     "text": [
      "Processing ASIN: B07R39354D\n"
     ]
    },
    {
     "name": "stderr",
     "output_type": "stream",
     "text": [
      "16:25:06 - cmdstanpy - INFO - Chain [1] start processing\n",
      "16:25:06 - cmdstanpy - INFO - Chain [1] done processing\n"
     ]
    },
    {
     "name": "stdout",
     "output_type": "stream",
     "text": [
      "Processing ASIN: B07R56QYWH\n"
     ]
    },
    {
     "name": "stderr",
     "output_type": "stream",
     "text": [
      "16:25:07 - cmdstanpy - INFO - Chain [1] start processing\n",
      "16:25:07 - cmdstanpy - INFO - Chain [1] done processing\n"
     ]
    },
    {
     "name": "stdout",
     "output_type": "stream",
     "text": [
      "Processing ASIN: B07RM9DR6C\n"
     ]
    },
    {
     "name": "stderr",
     "output_type": "stream",
     "text": [
      "16:25:07 - cmdstanpy - INFO - Chain [1] start processing\n",
      "16:25:08 - cmdstanpy - INFO - Chain [1] done processing\n"
     ]
    },
    {
     "name": "stdout",
     "output_type": "stream",
     "text": [
      "Processing ASIN: B07SC59HR7\n",
      "Processing ASIN: B07SGCBRZX\n",
      "No data found for ASIN: B07SGCBRZX\n",
      "Processing ASIN: B07SQHFP52\n",
      "No data found for ASIN: B07SQHFP52\n",
      "Processing ASIN: B07TKD35BH\n",
      "No data found for ASIN: B07TKD35BH\n",
      "Processing ASIN: B07TKZRNGZ\n",
      "No data found for ASIN: B07TKZRNGZ\n",
      "Processing ASIN: B07TL82G4B\n"
     ]
    },
    {
     "name": "stderr",
     "output_type": "stream",
     "text": [
      "16:25:08 - cmdstanpy - INFO - Chain [1] start processing\n",
      "16:25:09 - cmdstanpy - INFO - Chain [1] done processing\n"
     ]
    },
    {
     "name": "stdout",
     "output_type": "stream",
     "text": [
      "Processing ASIN: B07VXK2RX4\n",
      "Processing ASIN: B07WS32W25\n",
      "Processing ASIN: B07WT7MQ6C\n"
     ]
    },
    {
     "name": "stderr",
     "output_type": "stream",
     "text": [
      "16:25:10 - cmdstanpy - INFO - Chain [1] start processing\n",
      "16:25:11 - cmdstanpy - INFO - Chain [1] done processing\n"
     ]
    },
    {
     "name": "stdout",
     "output_type": "stream",
     "text": [
      "Processing ASIN: B07XHNP8FC\n"
     ]
    },
    {
     "name": "stderr",
     "output_type": "stream",
     "text": [
      "16:25:11 - cmdstanpy - INFO - Chain [1] start processing\n",
      "16:25:12 - cmdstanpy - INFO - Chain [1] done processing\n"
     ]
    },
    {
     "name": "stdout",
     "output_type": "stream",
     "text": [
      "Processing ASIN: B07XKBVRXW\n",
      "Processing ASIN: B07XSN63KL\n"
     ]
    },
    {
     "name": "stderr",
     "output_type": "stream",
     "text": [
      "16:25:13 - cmdstanpy - INFO - Chain [1] start processing\n",
      "16:25:13 - cmdstanpy - INFO - Chain [1] done processing\n"
     ]
    },
    {
     "name": "stdout",
     "output_type": "stream",
     "text": [
      "Processing ASIN: B07Y29JGSK\n"
     ]
    },
    {
     "name": "stderr",
     "output_type": "stream",
     "text": [
      "16:25:14 - cmdstanpy - INFO - Chain [1] start processing\n",
      "16:25:14 - cmdstanpy - INFO - Chain [1] done processing\n"
     ]
    },
    {
     "name": "stdout",
     "output_type": "stream",
     "text": [
      "Processing ASIN: B07ZJT647G\n"
     ]
    },
    {
     "name": "stderr",
     "output_type": "stream",
     "text": [
      "16:25:15 - cmdstanpy - INFO - Chain [1] start processing\n",
      "16:25:15 - cmdstanpy - INFO - Chain [1] done processing\n"
     ]
    },
    {
     "name": "stdout",
     "output_type": "stream",
     "text": [
      "Processing ASIN: B081C84KCS\n"
     ]
    },
    {
     "name": "stderr",
     "output_type": "stream",
     "text": [
      "16:25:16 - cmdstanpy - INFO - Chain [1] start processing\n",
      "16:25:16 - cmdstanpy - INFO - Chain [1] done processing\n"
     ]
    },
    {
     "name": "stdout",
     "output_type": "stream",
     "text": [
      "Processing ASIN: B082BG9JJC\n"
     ]
    },
    {
     "name": "stderr",
     "output_type": "stream",
     "text": [
      "16:25:17 - cmdstanpy - INFO - Chain [1] start processing\n",
      "16:25:17 - cmdstanpy - INFO - Chain [1] done processing\n"
     ]
    },
    {
     "name": "stdout",
     "output_type": "stream",
     "text": [
      "Processing ASIN: B082PH769D\n"
     ]
    },
    {
     "name": "stderr",
     "output_type": "stream",
     "text": [
      "16:25:18 - cmdstanpy - INFO - Chain [1] start processing\n",
      "16:25:18 - cmdstanpy - INFO - Chain [1] done processing\n"
     ]
    },
    {
     "name": "stdout",
     "output_type": "stream",
     "text": [
      "Processing ASIN: B082TLTQGB\n"
     ]
    },
    {
     "name": "stderr",
     "output_type": "stream",
     "text": [
      "16:25:19 - cmdstanpy - INFO - Chain [1] start processing\n",
      "16:25:19 - cmdstanpy - INFO - Chain [1] done processing\n"
     ]
    },
    {
     "name": "stdout",
     "output_type": "stream",
     "text": [
      "Processing ASIN: B082TW3YFH\n",
      "No data found for ASIN: B082TW3YFH\n",
      "Processing ASIN: B082XJ6HRF\n"
     ]
    },
    {
     "name": "stderr",
     "output_type": "stream",
     "text": [
      "16:25:19 - cmdstanpy - INFO - Chain [1] start processing\n",
      "16:25:20 - cmdstanpy - INFO - Chain [1] done processing\n"
     ]
    },
    {
     "name": "stdout",
     "output_type": "stream",
     "text": [
      "Processing ASIN: B083F4KNSV\n"
     ]
    },
    {
     "name": "stderr",
     "output_type": "stream",
     "text": [
      "16:25:20 - cmdstanpy - INFO - Chain [1] start processing\n",
      "16:25:20 - cmdstanpy - INFO - Chain [1] done processing\n"
     ]
    },
    {
     "name": "stdout",
     "output_type": "stream",
     "text": [
      "Processing ASIN: B083F6JJ2Q\n"
     ]
    },
    {
     "name": "stderr",
     "output_type": "stream",
     "text": [
      "16:25:21 - cmdstanpy - INFO - Chain [1] start processing\n",
      "16:25:21 - cmdstanpy - INFO - Chain [1] done processing\n"
     ]
    },
    {
     "name": "stdout",
     "output_type": "stream",
     "text": [
      "Processing ASIN: B084HPS72C\n",
      "Processing ASIN: B084RYWVLV\n"
     ]
    },
    {
     "name": "stderr",
     "output_type": "stream",
     "text": [
      "16:25:22 - cmdstanpy - INFO - Chain [1] start processing\n",
      "16:25:22 - cmdstanpy - INFO - Chain [1] done processing\n"
     ]
    },
    {
     "name": "stdout",
     "output_type": "stream",
     "text": [
      "Processing ASIN: B0859M79CD\n"
     ]
    },
    {
     "name": "stderr",
     "output_type": "stream",
     "text": [
      "16:25:22 - cmdstanpy - INFO - Chain [1] start processing\n",
      "16:25:23 - cmdstanpy - INFO - Chain [1] done processing\n"
     ]
    },
    {
     "name": "stdout",
     "output_type": "stream",
     "text": [
      "Processing ASIN: B085KS85KX\n"
     ]
    },
    {
     "name": "stderr",
     "output_type": "stream",
     "text": [
      "16:25:23 - cmdstanpy - INFO - Chain [1] start processing\n",
      "16:25:23 - cmdstanpy - INFO - Chain [1] done processing\n"
     ]
    },
    {
     "name": "stdout",
     "output_type": "stream",
     "text": [
      "Processing ASIN: B085KW8Z1S\n"
     ]
    },
    {
     "name": "stderr",
     "output_type": "stream",
     "text": [
      "16:25:24 - cmdstanpy - INFO - Chain [1] start processing\n",
      "16:25:24 - cmdstanpy - INFO - Chain [1] done processing\n"
     ]
    },
    {
     "name": "stdout",
     "output_type": "stream",
     "text": [
      "Processing ASIN: B085P3BFKV\n",
      "Processing ASIN: B085WZ5187\n"
     ]
    },
    {
     "name": "stderr",
     "output_type": "stream",
     "text": [
      "16:25:25 - cmdstanpy - INFO - Chain [1] start processing\n",
      "16:25:25 - cmdstanpy - INFO - Chain [1] done processing\n"
     ]
    },
    {
     "name": "stdout",
     "output_type": "stream",
     "text": [
      "Processing ASIN: B0861DW1YC\n",
      "No data found for ASIN: B0861DW1YC\n",
      "Processing ASIN: B08682PYNV\n",
      "No data found for ASIN: B08682PYNV\n",
      "Processing ASIN: B086GFZBKZ\n",
      "No data found for ASIN: B086GFZBKZ\n",
      "Processing ASIN: B0871MYG6R\n"
     ]
    },
    {
     "name": "stderr",
     "output_type": "stream",
     "text": [
      "16:25:25 - cmdstanpy - INFO - Chain [1] start processing\n",
      "16:25:26 - cmdstanpy - INFO - Chain [1] done processing\n"
     ]
    },
    {
     "name": "stdout",
     "output_type": "stream",
     "text": [
      "Processing ASIN: B088PBW37Q\n"
     ]
    },
    {
     "name": "stderr",
     "output_type": "stream",
     "text": [
      "16:25:26 - cmdstanpy - INFO - Chain [1] start processing\n",
      "16:25:26 - cmdstanpy - INFO - Chain [1] done processing\n"
     ]
    },
    {
     "name": "stdout",
     "output_type": "stream",
     "text": [
      "Processing ASIN: B08B85MWMX\n"
     ]
    },
    {
     "name": "stderr",
     "output_type": "stream",
     "text": [
      "16:25:27 - cmdstanpy - INFO - Chain [1] start processing\n",
      "16:25:27 - cmdstanpy - INFO - Chain [1] done processing\n"
     ]
    },
    {
     "name": "stdout",
     "output_type": "stream",
     "text": [
      "Processing ASIN: B08B89NVSH\n",
      "No data found for ASIN: B08B89NVSH\n",
      "Processing ASIN: B08BDBZMXV\n"
     ]
    },
    {
     "name": "stderr",
     "output_type": "stream",
     "text": [
      "16:25:27 - cmdstanpy - INFO - Chain [1] start processing\n",
      "16:25:28 - cmdstanpy - INFO - Chain [1] done processing\n"
     ]
    },
    {
     "name": "stdout",
     "output_type": "stream",
     "text": [
      "Processing ASIN: B08BG67576\n"
     ]
    },
    {
     "name": "stderr",
     "output_type": "stream",
     "text": [
      "16:25:28 - cmdstanpy - INFO - Chain [1] start processing\n",
      "16:25:28 - cmdstanpy - INFO - Chain [1] done processing\n"
     ]
    },
    {
     "name": "stdout",
     "output_type": "stream",
     "text": [
      "Processing ASIN: B08BWL3SMY\n",
      "No data found for ASIN: B08BWL3SMY\n",
      "Processing ASIN: B08D2HWV3K\n",
      "Processing ASIN: B08DJXYRF1\n"
     ]
    },
    {
     "name": "stderr",
     "output_type": "stream",
     "text": [
      "16:25:29 - cmdstanpy - INFO - Chain [1] start processing\n",
      "16:25:30 - cmdstanpy - INFO - Chain [1] done processing\n"
     ]
    },
    {
     "name": "stdout",
     "output_type": "stream",
     "text": [
      "Processing ASIN: B08DK8CH4L\n",
      "Processing ASIN: B08DKBBYXQ\n"
     ]
    },
    {
     "name": "stderr",
     "output_type": "stream",
     "text": [
      "16:25:31 - cmdstanpy - INFO - Chain [1] start processing\n",
      "16:25:53 - cmdstanpy - INFO - Chain [1] done processing\n"
     ]
    },
    {
     "name": "stdout",
     "output_type": "stream",
     "text": [
      "Processing ASIN: B08HBRN53J\n",
      "No data found for ASIN: B08HBRN53J\n",
      "Processing ASIN: B08HNFNTJQ\n"
     ]
    },
    {
     "name": "stderr",
     "output_type": "stream",
     "text": [
      "16:25:53 - cmdstanpy - INFO - Chain [1] start processing\n",
      "16:25:54 - cmdstanpy - INFO - Chain [1] done processing\n"
     ]
    },
    {
     "name": "stdout",
     "output_type": "stream",
     "text": [
      "Processing ASIN: B08HPS9NQ5\n"
     ]
    },
    {
     "name": "stderr",
     "output_type": "stream",
     "text": [
      "16:25:54 - cmdstanpy - INFO - Chain [1] start processing\n",
      "16:25:54 - cmdstanpy - INFO - Chain [1] done processing\n"
     ]
    },
    {
     "name": "stdout",
     "output_type": "stream",
     "text": [
      "Processing ASIN: B08HR8HPPG\n",
      "Processing ASIN: B08K3M16PR\n",
      "No data found for ASIN: B08K3M16PR\n",
      "Processing ASIN: B08K9CDH4Y\n"
     ]
    },
    {
     "name": "stderr",
     "output_type": "stream",
     "text": [
      "16:25:55 - cmdstanpy - INFO - Chain [1] start processing\n",
      "16:25:55 - cmdstanpy - INFO - Chain [1] done processing\n"
     ]
    },
    {
     "name": "stdout",
     "output_type": "stream",
     "text": [
      "Processing ASIN: B08KGHD5L9\n"
     ]
    },
    {
     "name": "stderr",
     "output_type": "stream",
     "text": [
      "16:25:55 - cmdstanpy - INFO - Chain [1] start processing\n",
      "16:25:56 - cmdstanpy - INFO - Chain [1] done processing\n"
     ]
    },
    {
     "name": "stdout",
     "output_type": "stream",
     "text": [
      "Processing ASIN: B08KGXZHFS\n",
      "Processing ASIN: B08KHYTWKV\n",
      "No data found for ASIN: B08KHYTWKV\n",
      "Processing ASIN: B08KSFZXPB\n"
     ]
    },
    {
     "name": "stderr",
     "output_type": "stream",
     "text": [
      "16:25:56 - cmdstanpy - INFO - Chain [1] start processing\n",
      "16:25:57 - cmdstanpy - INFO - Chain [1] done processing\n"
     ]
    },
    {
     "name": "stdout",
     "output_type": "stream",
     "text": [
      "Processing ASIN: B08KSLPPLD\n",
      "Processing ASIN: B08KSMJ6TX\n",
      "Processing ASIN: B08KTYDNTT\n",
      "Processing ASIN: B08KWR1LTS\n",
      "Processing ASIN: B08KWRJKHR\n",
      "Processing ASIN: B08KWRYH5F\n",
      "Processing ASIN: B08KWSNPBY\n",
      "No data found for ASIN: B08KWSNPBY\n",
      "Processing ASIN: B08KXPQ9SJ\n",
      "No data found for ASIN: B08KXPQ9SJ\n",
      "Processing ASIN: B08KXQH58T\n",
      "No data found for ASIN: B08KXQH58T\n",
      "Processing ASIN: B08KXVJQZV\n",
      "No data found for ASIN: B08KXVJQZV\n",
      "Processing ASIN: B08KXXVV5T\n",
      "No data found for ASIN: B08KXXVV5T\n",
      "Processing ASIN: B08L3XW7CW\n"
     ]
    },
    {
     "name": "stderr",
     "output_type": "stream",
     "text": [
      "16:25:59 - cmdstanpy - INFO - Chain [1] start processing\n",
      "16:25:59 - cmdstanpy - INFO - Chain [1] done processing\n"
     ]
    },
    {
     "name": "stdout",
     "output_type": "stream",
     "text": [
      "Processing ASIN: B08L3Z6CW4\n"
     ]
    },
    {
     "name": "stderr",
     "output_type": "stream",
     "text": [
      "16:25:59 - cmdstanpy - INFO - Chain [1] start processing\n",
      "16:26:00 - cmdstanpy - INFO - Chain [1] done processing\n"
     ]
    },
    {
     "name": "stdout",
     "output_type": "stream",
     "text": [
      "Processing ASIN: B08L3ZZFGB\n",
      "No data found for ASIN: B08L3ZZFGB\n",
      "Processing ASIN: B08L41RB8F\n"
     ]
    },
    {
     "name": "stderr",
     "output_type": "stream",
     "text": [
      "16:26:00 - cmdstanpy - INFO - Chain [1] start processing\n",
      "16:26:00 - cmdstanpy - INFO - Chain [1] done processing\n"
     ]
    },
    {
     "name": "stdout",
     "output_type": "stream",
     "text": [
      "Processing ASIN: B08L43ZVXY\n",
      "Processing ASIN: B08L5LBXTT\n",
      "No data found for ASIN: B08L5LBXTT\n",
      "Processing ASIN: B08L8G69LG\n",
      "No data found for ASIN: B08L8G69LG\n",
      "Processing ASIN: B08L8GTWFV\n"
     ]
    },
    {
     "name": "stderr",
     "output_type": "stream",
     "text": [
      "16:26:01 - cmdstanpy - INFO - Chain [1] start processing\n",
      "16:26:01 - cmdstanpy - INFO - Chain [1] done processing\n"
     ]
    },
    {
     "name": "stdout",
     "output_type": "stream",
     "text": [
      "Processing ASIN: B08PF7PTWC\n",
      "Processing ASIN: B08QDKV99N\n"
     ]
    },
    {
     "name": "stderr",
     "output_type": "stream",
     "text": [
      "16:26:02 - cmdstanpy - INFO - Chain [1] start processing\n",
      "16:26:03 - cmdstanpy - INFO - Chain [1] done processing\n"
     ]
    },
    {
     "name": "stdout",
     "output_type": "stream",
     "text": [
      "Processing ASIN: B08QXB6H5P\n",
      "No data found for ASIN: B08QXB6H5P\n",
      "Processing ASIN: B08VW53HN6\n"
     ]
    },
    {
     "name": "stderr",
     "output_type": "stream",
     "text": [
      "16:26:03 - cmdstanpy - INFO - Chain [1] start processing\n",
      "16:26:04 - cmdstanpy - INFO - Chain [1] done processing\n"
     ]
    },
    {
     "name": "stdout",
     "output_type": "stream",
     "text": [
      "Processing ASIN: B08VWCZYZ6\n"
     ]
    },
    {
     "name": "stderr",
     "output_type": "stream",
     "text": [
      "16:26:04 - cmdstanpy - INFO - Chain [1] start processing\n",
      "16:26:05 - cmdstanpy - INFO - Chain [1] done processing\n"
     ]
    },
    {
     "name": "stdout",
     "output_type": "stream",
     "text": [
      "Processing ASIN: B08YS67HRW\n"
     ]
    },
    {
     "name": "stderr",
     "output_type": "stream",
     "text": [
      "16:26:05 - cmdstanpy - INFO - Chain [1] start processing\n",
      "16:26:06 - cmdstanpy - INFO - Chain [1] done processing\n"
     ]
    },
    {
     "name": "stdout",
     "output_type": "stream",
     "text": [
      "Processing ASIN: B08YS77TZX\n"
     ]
    },
    {
     "name": "stderr",
     "output_type": "stream",
     "text": [
      "16:26:06 - cmdstanpy - INFO - Chain [1] start processing\n",
      "16:26:07 - cmdstanpy - INFO - Chain [1] done processing\n"
     ]
    },
    {
     "name": "stdout",
     "output_type": "stream",
     "text": [
      "Processing ASIN: B08YS7DPH3\n"
     ]
    },
    {
     "name": "stderr",
     "output_type": "stream",
     "text": [
      "16:26:07 - cmdstanpy - INFO - Chain [1] start processing\n",
      "16:26:07 - cmdstanpy - INFO - Chain [1] done processing\n"
     ]
    },
    {
     "name": "stdout",
     "output_type": "stream",
     "text": [
      "Processing ASIN: B091DKHXW4\n"
     ]
    },
    {
     "name": "stderr",
     "output_type": "stream",
     "text": [
      "16:26:07 - cmdstanpy - INFO - Chain [1] start processing\n",
      "16:26:08 - cmdstanpy - INFO - Chain [1] done processing\n"
     ]
    },
    {
     "name": "stdout",
     "output_type": "stream",
     "text": [
      "Processing ASIN: B099CD48QT\n"
     ]
    },
    {
     "name": "stderr",
     "output_type": "stream",
     "text": [
      "16:26:08 - cmdstanpy - INFO - Chain [1] start processing\n",
      "16:26:08 - cmdstanpy - INFO - Chain [1] done processing\n"
     ]
    },
    {
     "name": "stdout",
     "output_type": "stream",
     "text": [
      "Processing ASIN: B09BP2F8GC\n"
     ]
    },
    {
     "name": "stderr",
     "output_type": "stream",
     "text": [
      "16:26:09 - cmdstanpy - INFO - Chain [1] start processing\n",
      "16:26:09 - cmdstanpy - INFO - Chain [1] done processing\n"
     ]
    },
    {
     "name": "stdout",
     "output_type": "stream",
     "text": [
      "Processing ASIN: B09C2MZ9DC\n"
     ]
    },
    {
     "name": "stderr",
     "output_type": "stream",
     "text": [
      "16:26:09 - cmdstanpy - INFO - Chain [1] start processing\n",
      "16:26:10 - cmdstanpy - INFO - Chain [1] done processing\n"
     ]
    },
    {
     "name": "stdout",
     "output_type": "stream",
     "text": [
      "Processing ASIN: B09DQ4SSSM\n"
     ]
    },
    {
     "name": "stderr",
     "output_type": "stream",
     "text": [
      "16:26:10 - cmdstanpy - INFO - Chain [1] start processing\n",
      "16:26:10 - cmdstanpy - INFO - Chain [1] done processing\n"
     ]
    },
    {
     "name": "stdout",
     "output_type": "stream",
     "text": [
      "Processing ASIN: B09DQ9Y4P1\n"
     ]
    },
    {
     "name": "stderr",
     "output_type": "stream",
     "text": [
      "16:26:11 - cmdstanpy - INFO - Chain [1] start processing\n",
      "16:26:11 - cmdstanpy - INFO - Chain [1] done processing\n"
     ]
    },
    {
     "name": "stdout",
     "output_type": "stream",
     "text": [
      "Processing ASIN: B09DZ5BDMV\n"
     ]
    },
    {
     "name": "stderr",
     "output_type": "stream",
     "text": [
      "16:26:11 - cmdstanpy - INFO - Chain [1] start processing\n",
      "16:26:12 - cmdstanpy - INFO - Chain [1] done processing\n"
     ]
    },
    {
     "name": "stdout",
     "output_type": "stream",
     "text": [
      "Processing ASIN: B09F9YSS2L\n"
     ]
    },
    {
     "name": "stderr",
     "output_type": "stream",
     "text": [
      "16:26:12 - cmdstanpy - INFO - Chain [1] start processing\n",
      "16:26:12 - cmdstanpy - INFO - Chain [1] done processing\n"
     ]
    },
    {
     "name": "stdout",
     "output_type": "stream",
     "text": [
      "Processing ASIN: B09FNCBK5V\n",
      "Processing ASIN: B09G3LJLLQ\n"
     ]
    },
    {
     "name": "stderr",
     "output_type": "stream",
     "text": [
      "16:26:13 - cmdstanpy - INFO - Chain [1] start processing\n",
      "16:26:13 - cmdstanpy - INFO - Chain [1] done processing\n"
     ]
    },
    {
     "name": "stdout",
     "output_type": "stream",
     "text": [
      "Processing ASIN: B09G426QPY\n"
     ]
    },
    {
     "name": "stderr",
     "output_type": "stream",
     "text": [
      "16:26:13 - cmdstanpy - INFO - Chain [1] start processing\n",
      "16:26:14 - cmdstanpy - INFO - Chain [1] done processing\n"
     ]
    },
    {
     "name": "stdout",
     "output_type": "stream",
     "text": [
      "Processing ASIN: B09GTMY8B8\n"
     ]
    },
    {
     "name": "stderr",
     "output_type": "stream",
     "text": [
      "16:26:14 - cmdstanpy - INFO - Chain [1] start processing\n",
      "16:26:14 - cmdstanpy - INFO - Chain [1] done processing\n"
     ]
    },
    {
     "name": "stdout",
     "output_type": "stream",
     "text": [
      "Processing ASIN: B09GTX381G\n"
     ]
    },
    {
     "name": "stderr",
     "output_type": "stream",
     "text": [
      "16:26:15 - cmdstanpy - INFO - Chain [1] start processing\n",
      "16:26:15 - cmdstanpy - INFO - Chain [1] done processing\n"
     ]
    },
    {
     "name": "stdout",
     "output_type": "stream",
     "text": [
      "Processing ASIN: B09GV1ZCSX\n"
     ]
    },
    {
     "name": "stderr",
     "output_type": "stream",
     "text": [
      "16:26:15 - cmdstanpy - INFO - Chain [1] start processing\n",
      "16:26:16 - cmdstanpy - INFO - Chain [1] done processing\n"
     ]
    },
    {
     "name": "stdout",
     "output_type": "stream",
     "text": [
      "Processing ASIN: B09HSMQJ99\n"
     ]
    },
    {
     "name": "stderr",
     "output_type": "stream",
     "text": [
      "16:26:16 - cmdstanpy - INFO - Chain [1] start processing\n",
      "16:26:16 - cmdstanpy - INFO - Chain [1] done processing\n"
     ]
    },
    {
     "name": "stdout",
     "output_type": "stream",
     "text": [
      "Processing ASIN: B09HSQLT81\n"
     ]
    },
    {
     "name": "stderr",
     "output_type": "stream",
     "text": [
      "16:26:17 - cmdstanpy - INFO - Chain [1] start processing\n",
      "16:26:17 - cmdstanpy - INFO - Chain [1] done processing\n"
     ]
    },
    {
     "name": "stdout",
     "output_type": "stream",
     "text": [
      "Processing ASIN: B09HSQQ8SY\n"
     ]
    },
    {
     "name": "stderr",
     "output_type": "stream",
     "text": [
      "16:26:18 - cmdstanpy - INFO - Chain [1] start processing\n",
      "16:26:18 - cmdstanpy - INFO - Chain [1] done processing\n"
     ]
    },
    {
     "name": "stdout",
     "output_type": "stream",
     "text": [
      "Processing ASIN: B09JL834PX\n"
     ]
    },
    {
     "name": "stderr",
     "output_type": "stream",
     "text": [
      "16:26:18 - cmdstanpy - INFO - Chain [1] start processing\n",
      "16:26:19 - cmdstanpy - INFO - Chain [1] done processing\n"
     ]
    },
    {
     "name": "stdout",
     "output_type": "stream",
     "text": [
      "Processing ASIN: B09JL8BG45\n"
     ]
    },
    {
     "name": "stderr",
     "output_type": "stream",
     "text": [
      "16:26:19 - cmdstanpy - INFO - Chain [1] start processing\n",
      "16:26:20 - cmdstanpy - INFO - Chain [1] done processing\n"
     ]
    },
    {
     "name": "stdout",
     "output_type": "stream",
     "text": [
      "Processing ASIN: B09JL8V5BS\n"
     ]
    },
    {
     "name": "stderr",
     "output_type": "stream",
     "text": [
      "16:26:20 - cmdstanpy - INFO - Chain [1] start processing\n",
      "16:26:21 - cmdstanpy - INFO - Chain [1] done processing\n"
     ]
    },
    {
     "name": "stdout",
     "output_type": "stream",
     "text": [
      "Processing ASIN: B09JL8V6RB\n"
     ]
    },
    {
     "name": "stderr",
     "output_type": "stream",
     "text": [
      "16:26:21 - cmdstanpy - INFO - Chain [1] start processing\n",
      "16:26:21 - cmdstanpy - INFO - Chain [1] done processing\n"
     ]
    },
    {
     "name": "stdout",
     "output_type": "stream",
     "text": [
      "Processing ASIN: B09JQWRK6C\n"
     ]
    },
    {
     "name": "stderr",
     "output_type": "stream",
     "text": [
      "16:26:22 - cmdstanpy - INFO - Chain [1] start processing\n",
      "16:26:22 - cmdstanpy - INFO - Chain [1] done processing\n"
     ]
    },
    {
     "name": "stdout",
     "output_type": "stream",
     "text": [
      "Processing ASIN: B09JR32H3M\n"
     ]
    },
    {
     "name": "stderr",
     "output_type": "stream",
     "text": [
      "16:26:23 - cmdstanpy - INFO - Chain [1] start processing\n",
      "16:26:23 - cmdstanpy - INFO - Chain [1] done processing\n"
     ]
    },
    {
     "name": "stdout",
     "output_type": "stream",
     "text": [
      "Processing ASIN: B09JR7JLGM\n"
     ]
    },
    {
     "name": "stderr",
     "output_type": "stream",
     "text": [
      "16:26:23 - cmdstanpy - INFO - Chain [1] start processing\n",
      "16:26:23 - cmdstanpy - INFO - Chain [1] done processing\n"
     ]
    },
    {
     "name": "stdout",
     "output_type": "stream",
     "text": [
      "Processing ASIN: B09MDS5VQF\n"
     ]
    },
    {
     "name": "stderr",
     "output_type": "stream",
     "text": [
      "16:26:24 - cmdstanpy - INFO - Chain [1] start processing\n",
      "16:26:24 - cmdstanpy - INFO - Chain [1] done processing\n"
     ]
    },
    {
     "name": "stdout",
     "output_type": "stream",
     "text": [
      "Processing ASIN: B09MDSZ164\n"
     ]
    },
    {
     "name": "stderr",
     "output_type": "stream",
     "text": [
      "16:26:24 - cmdstanpy - INFO - Chain [1] start processing\n",
      "16:26:25 - cmdstanpy - INFO - Chain [1] done processing\n"
     ]
    },
    {
     "name": "stdout",
     "output_type": "stream",
     "text": [
      "Processing ASIN: B09N7Y78Q7\n"
     ]
    },
    {
     "name": "stderr",
     "output_type": "stream",
     "text": [
      "16:26:25 - cmdstanpy - INFO - Chain [1] start processing\n",
      "16:26:25 - cmdstanpy - INFO - Chain [1] done processing\n"
     ]
    },
    {
     "name": "stdout",
     "output_type": "stream",
     "text": [
      "Processing ASIN: B09NF6XNP9\n"
     ]
    },
    {
     "name": "stderr",
     "output_type": "stream",
     "text": [
      "16:26:26 - cmdstanpy - INFO - Chain [1] start processing\n",
      "16:26:26 - cmdstanpy - INFO - Chain [1] done processing\n"
     ]
    },
    {
     "name": "stdout",
     "output_type": "stream",
     "text": [
      "Processing ASIN: B09P1T6W7S\n"
     ]
    },
    {
     "name": "stderr",
     "output_type": "stream",
     "text": [
      "16:26:26 - cmdstanpy - INFO - Chain [1] start processing\n",
      "16:26:27 - cmdstanpy - INFO - Chain [1] done processing\n"
     ]
    },
    {
     "name": "stdout",
     "output_type": "stream",
     "text": [
      "Processing ASIN: B09P25LZNV\n"
     ]
    },
    {
     "name": "stderr",
     "output_type": "stream",
     "text": [
      "16:26:27 - cmdstanpy - INFO - Chain [1] start processing\n",
      "16:26:27 - cmdstanpy - INFO - Chain [1] done processing\n"
     ]
    },
    {
     "name": "stdout",
     "output_type": "stream",
     "text": [
      "Processing ASIN: B09PSQDWLV\n"
     ]
    },
    {
     "name": "stderr",
     "output_type": "stream",
     "text": [
      "16:26:28 - cmdstanpy - INFO - Chain [1] start processing\n",
      "16:26:28 - cmdstanpy - INFO - Chain [1] done processing\n"
     ]
    },
    {
     "name": "stdout",
     "output_type": "stream",
     "text": [
      "Processing ASIN: B09PZM9CTX\n"
     ]
    },
    {
     "name": "stderr",
     "output_type": "stream",
     "text": [
      "16:26:28 - cmdstanpy - INFO - Chain [1] start processing\n",
      "16:26:29 - cmdstanpy - INFO - Chain [1] done processing\n"
     ]
    },
    {
     "name": "stdout",
     "output_type": "stream",
     "text": [
      "Processing ASIN: B09PZPN7S5\n"
     ]
    },
    {
     "name": "stderr",
     "output_type": "stream",
     "text": [
      "16:26:29 - cmdstanpy - INFO - Chain [1] start processing\n",
      "16:26:29 - cmdstanpy - INFO - Chain [1] done processing\n"
     ]
    },
    {
     "name": "stdout",
     "output_type": "stream",
     "text": [
      "Processing ASIN: B09PZQNZPB\n"
     ]
    },
    {
     "name": "stderr",
     "output_type": "stream",
     "text": [
      "16:26:30 - cmdstanpy - INFO - Chain [1] start processing\n",
      "16:26:30 - cmdstanpy - INFO - Chain [1] done processing\n"
     ]
    },
    {
     "name": "stdout",
     "output_type": "stream",
     "text": [
      "Processing ASIN: B09PZSKJ5N\n"
     ]
    },
    {
     "name": "stderr",
     "output_type": "stream",
     "text": [
      "16:26:30 - cmdstanpy - INFO - Chain [1] start processing\n",
      "16:26:31 - cmdstanpy - INFO - Chain [1] done processing\n"
     ]
    },
    {
     "name": "stdout",
     "output_type": "stream",
     "text": [
      "Processing ASIN: B09QMT3CVT\n"
     ]
    },
    {
     "name": "stderr",
     "output_type": "stream",
     "text": [
      "16:26:31 - cmdstanpy - INFO - Chain [1] start processing\n",
      "16:26:31 - cmdstanpy - INFO - Chain [1] done processing\n"
     ]
    },
    {
     "name": "stdout",
     "output_type": "stream",
     "text": [
      "Processing ASIN: B09QNKBF6F\n"
     ]
    },
    {
     "name": "stderr",
     "output_type": "stream",
     "text": [
      "16:26:32 - cmdstanpy - INFO - Chain [1] start processing\n",
      "16:26:32 - cmdstanpy - INFO - Chain [1] done processing\n"
     ]
    },
    {
     "name": "stdout",
     "output_type": "stream",
     "text": [
      "Processing ASIN: B09RTHS8BH\n"
     ]
    },
    {
     "name": "stderr",
     "output_type": "stream",
     "text": [
      "16:26:32 - cmdstanpy - INFO - Chain [1] start processing\n",
      "16:26:32 - cmdstanpy - INFO - Chain [1] done processing\n"
     ]
    },
    {
     "name": "stdout",
     "output_type": "stream",
     "text": [
      "Processing ASIN: B09RYRHYHH\n"
     ]
    },
    {
     "name": "stderr",
     "output_type": "stream",
     "text": [
      "16:26:33 - cmdstanpy - INFO - Chain [1] start processing\n",
      "16:26:33 - cmdstanpy - INFO - Chain [1] done processing\n"
     ]
    },
    {
     "name": "stdout",
     "output_type": "stream",
     "text": [
      "Processing ASIN: B09S1ZZ9CZ\n"
     ]
    },
    {
     "name": "stderr",
     "output_type": "stream",
     "text": [
      "16:26:34 - cmdstanpy - INFO - Chain [1] start processing\n",
      "16:26:35 - cmdstanpy - INFO - Chain [1] done processing\n"
     ]
    },
    {
     "name": "stdout",
     "output_type": "stream",
     "text": [
      "Processing ASIN: B09S24PFJ3\n"
     ]
    },
    {
     "name": "stderr",
     "output_type": "stream",
     "text": [
      "16:26:35 - cmdstanpy - INFO - Chain [1] start processing\n",
      "16:26:35 - cmdstanpy - INFO - Chain [1] done processing\n"
     ]
    },
    {
     "name": "stdout",
     "output_type": "stream",
     "text": [
      "Processing ASIN: B09S26ZF1N\n"
     ]
    },
    {
     "name": "stderr",
     "output_type": "stream",
     "text": [
      "16:26:36 - cmdstanpy - INFO - Chain [1] start processing\n",
      "16:26:36 - cmdstanpy - INFO - Chain [1] done processing\n"
     ]
    },
    {
     "name": "stdout",
     "output_type": "stream",
     "text": [
      "Processing ASIN: B09S27HQ62\n"
     ]
    },
    {
     "name": "stderr",
     "output_type": "stream",
     "text": [
      "16:26:36 - cmdstanpy - INFO - Chain [1] start processing\n",
      "16:26:37 - cmdstanpy - INFO - Chain [1] done processing\n"
     ]
    },
    {
     "name": "stdout",
     "output_type": "stream",
     "text": [
      "Processing ASIN: B09S28PGXD\n"
     ]
    },
    {
     "name": "stderr",
     "output_type": "stream",
     "text": [
      "16:26:37 - cmdstanpy - INFO - Chain [1] start processing\n",
      "16:26:38 - cmdstanpy - INFO - Chain [1] done processing\n"
     ]
    },
    {
     "name": "stdout",
     "output_type": "stream",
     "text": [
      "Processing ASIN: B09S2B9221\n"
     ]
    },
    {
     "name": "stderr",
     "output_type": "stream",
     "text": [
      "16:26:38 - cmdstanpy - INFO - Chain [1] start processing\n",
      "16:26:39 - cmdstanpy - INFO - Chain [1] done processing\n"
     ]
    },
    {
     "name": "stdout",
     "output_type": "stream",
     "text": [
      "Processing ASIN: B09S2DZHRQ\n"
     ]
    },
    {
     "name": "stderr",
     "output_type": "stream",
     "text": [
      "16:26:39 - cmdstanpy - INFO - Chain [1] start processing\n",
      "16:26:39 - cmdstanpy - INFO - Chain [1] done processing\n"
     ]
    },
    {
     "name": "stdout",
     "output_type": "stream",
     "text": [
      "Processing ASIN: B09S2FFR9X\n"
     ]
    },
    {
     "name": "stderr",
     "output_type": "stream",
     "text": [
      "16:26:40 - cmdstanpy - INFO - Chain [1] start processing\n",
      "16:26:40 - cmdstanpy - INFO - Chain [1] done processing\n"
     ]
    },
    {
     "name": "stdout",
     "output_type": "stream",
     "text": [
      "Processing ASIN: B09S2H6PPY\n"
     ]
    },
    {
     "name": "stderr",
     "output_type": "stream",
     "text": [
      "16:26:41 - cmdstanpy - INFO - Chain [1] start processing\n",
      "16:26:41 - cmdstanpy - INFO - Chain [1] done processing\n"
     ]
    },
    {
     "name": "stdout",
     "output_type": "stream",
     "text": [
      "Processing ASIN: B09S2JJK8J\n"
     ]
    },
    {
     "name": "stderr",
     "output_type": "stream",
     "text": [
      "16:26:41 - cmdstanpy - INFO - Chain [1] start processing\n",
      "16:26:42 - cmdstanpy - INFO - Chain [1] done processing\n"
     ]
    },
    {
     "name": "stdout",
     "output_type": "stream",
     "text": [
      "Processing ASIN: B09XQBVP4L\n"
     ]
    },
    {
     "name": "stderr",
     "output_type": "stream",
     "text": [
      "16:26:42 - cmdstanpy - INFO - Chain [1] start processing\n",
      "16:26:42 - cmdstanpy - INFO - Chain [1] done processing\n"
     ]
    },
    {
     "name": "stdout",
     "output_type": "stream",
     "text": [
      "Processing ASIN: B0B8447M2N\n"
     ]
    },
    {
     "name": "stderr",
     "output_type": "stream",
     "text": [
      "16:26:42 - cmdstanpy - INFO - Chain [1] start processing\n",
      "16:26:43 - cmdstanpy - INFO - Chain [1] done processing\n"
     ]
    },
    {
     "name": "stdout",
     "output_type": "stream",
     "text": [
      "Processing ASIN: B0B86PTXC7\n"
     ]
    },
    {
     "name": "stderr",
     "output_type": "stream",
     "text": [
      "16:26:43 - cmdstanpy - INFO - Chain [1] start processing\n",
      "16:26:43 - cmdstanpy - INFO - Chain [1] done processing\n"
     ]
    },
    {
     "name": "stdout",
     "output_type": "stream",
     "text": [
      "Processing ASIN: B0B86Q98DP\n"
     ]
    },
    {
     "name": "stderr",
     "output_type": "stream",
     "text": [
      "16:26:44 - cmdstanpy - INFO - Chain [1] start processing\n",
      "16:26:44 - cmdstanpy - INFO - Chain [1] done processing\n"
     ]
    },
    {
     "name": "stdout",
     "output_type": "stream",
     "text": [
      "Processing ASIN: B0B915D55W\n"
     ]
    },
    {
     "name": "stderr",
     "output_type": "stream",
     "text": [
      "16:26:44 - cmdstanpy - INFO - Chain [1] start processing\n",
      "16:26:45 - cmdstanpy - INFO - Chain [1] done processing\n"
     ]
    },
    {
     "name": "stdout",
     "output_type": "stream",
     "text": [
      "Processing ASIN: B0B915KZW2\n"
     ]
    },
    {
     "name": "stderr",
     "output_type": "stream",
     "text": [
      "16:26:45 - cmdstanpy - INFO - Chain [1] start processing\n",
      "16:26:45 - cmdstanpy - INFO - Chain [1] done processing\n"
     ]
    },
    {
     "name": "stdout",
     "output_type": "stream",
     "text": [
      "Processing ASIN: B0B9168ZLY\n"
     ]
    },
    {
     "name": "stderr",
     "output_type": "stream",
     "text": [
      "16:26:46 - cmdstanpy - INFO - Chain [1] start processing\n",
      "16:26:46 - cmdstanpy - INFO - Chain [1] done processing\n"
     ]
    },
    {
     "name": "stdout",
     "output_type": "stream",
     "text": [
      "Processing ASIN: B0B916GSYF\n"
     ]
    },
    {
     "name": "stderr",
     "output_type": "stream",
     "text": [
      "16:26:46 - cmdstanpy - INFO - Chain [1] start processing\n",
      "16:26:47 - cmdstanpy - INFO - Chain [1] done processing\n"
     ]
    },
    {
     "name": "stdout",
     "output_type": "stream",
     "text": [
      "Processing ASIN: B0B916KFC1\n"
     ]
    },
    {
     "name": "stderr",
     "output_type": "stream",
     "text": [
      "16:26:47 - cmdstanpy - INFO - Chain [1] start processing\n",
      "16:26:47 - cmdstanpy - INFO - Chain [1] done processing\n"
     ]
    },
    {
     "name": "stdout",
     "output_type": "stream",
     "text": [
      "Processing ASIN: B0B916YK43\n"
     ]
    },
    {
     "name": "stderr",
     "output_type": "stream",
     "text": [
      "16:26:48 - cmdstanpy - INFO - Chain [1] start processing\n",
      "16:26:48 - cmdstanpy - INFO - Chain [1] done processing\n"
     ]
    },
    {
     "name": "stdout",
     "output_type": "stream",
     "text": [
      "Processing ASIN: B0B9172ZB1\n"
     ]
    },
    {
     "name": "stderr",
     "output_type": "stream",
     "text": [
      "16:26:48 - cmdstanpy - INFO - Chain [1] start processing\n",
      "16:26:49 - cmdstanpy - INFO - Chain [1] done processing\n"
     ]
    },
    {
     "name": "stdout",
     "output_type": "stream",
     "text": [
      "Processing ASIN: B0B917D3PT\n"
     ]
    },
    {
     "name": "stderr",
     "output_type": "stream",
     "text": [
      "16:26:49 - cmdstanpy - INFO - Chain [1] start processing\n",
      "16:26:49 - cmdstanpy - INFO - Chain [1] done processing\n"
     ]
    },
    {
     "name": "stdout",
     "output_type": "stream",
     "text": [
      "Processing ASIN: B0B917GVQB\n"
     ]
    },
    {
     "name": "stderr",
     "output_type": "stream",
     "text": [
      "16:26:50 - cmdstanpy - INFO - Chain [1] start processing\n",
      "16:26:50 - cmdstanpy - INFO - Chain [1] done processing\n"
     ]
    },
    {
     "name": "stdout",
     "output_type": "stream",
     "text": [
      "Processing ASIN: B0B917H54K\n"
     ]
    },
    {
     "name": "stderr",
     "output_type": "stream",
     "text": [
      "16:26:51 - cmdstanpy - INFO - Chain [1] start processing\n",
      "16:26:51 - cmdstanpy - INFO - Chain [1] done processing\n"
     ]
    },
    {
     "name": "stdout",
     "output_type": "stream",
     "text": [
      "Processing ASIN: B0B917SHXV\n"
     ]
    },
    {
     "name": "stderr",
     "output_type": "stream",
     "text": [
      "16:26:52 - cmdstanpy - INFO - Chain [1] start processing\n",
      "16:26:52 - cmdstanpy - INFO - Chain [1] done processing\n"
     ]
    },
    {
     "name": "stdout",
     "output_type": "stream",
     "text": [
      "Processing ASIN: B0B917T9P5\n"
     ]
    },
    {
     "name": "stderr",
     "output_type": "stream",
     "text": [
      "16:26:53 - cmdstanpy - INFO - Chain [1] start processing\n",
      "16:26:53 - cmdstanpy - INFO - Chain [1] done processing\n"
     ]
    },
    {
     "name": "stdout",
     "output_type": "stream",
     "text": [
      "Processing ASIN: B0B9194J2B\n"
     ]
    },
    {
     "name": "stderr",
     "output_type": "stream",
     "text": [
      "16:26:53 - cmdstanpy - INFO - Chain [1] start processing\n",
      "16:26:54 - cmdstanpy - INFO - Chain [1] done processing\n"
     ]
    },
    {
     "name": "stdout",
     "output_type": "stream",
     "text": [
      "Processing ASIN: B0B919Q5RM\n"
     ]
    },
    {
     "name": "stderr",
     "output_type": "stream",
     "text": [
      "16:26:54 - cmdstanpy - INFO - Chain [1] start processing\n",
      "16:26:55 - cmdstanpy - INFO - Chain [1] done processing\n"
     ]
    },
    {
     "name": "stdout",
     "output_type": "stream",
     "text": [
      "Processing ASIN: B0B91LZ8L7\n"
     ]
    },
    {
     "name": "stderr",
     "output_type": "stream",
     "text": [
      "16:26:55 - cmdstanpy - INFO - Chain [1] start processing\n",
      "16:26:55 - cmdstanpy - INFO - Chain [1] done processing\n"
     ]
    },
    {
     "name": "stdout",
     "output_type": "stream",
     "text": [
      "Processing ASIN: B0B91MG5X5\n"
     ]
    },
    {
     "name": "stderr",
     "output_type": "stream",
     "text": [
      "16:26:56 - cmdstanpy - INFO - Chain [1] start processing\n",
      "16:26:56 - cmdstanpy - INFO - Chain [1] done processing\n"
     ]
    },
    {
     "name": "stdout",
     "output_type": "stream",
     "text": [
      "Processing ASIN: B0BH84XZY4\n"
     ]
    },
    {
     "name": "stderr",
     "output_type": "stream",
     "text": [
      "16:26:56 - cmdstanpy - INFO - Chain [1] start processing\n",
      "16:26:57 - cmdstanpy - INFO - Chain [1] done processing\n"
     ]
    },
    {
     "name": "stdout",
     "output_type": "stream",
     "text": [
      "Processing ASIN: B0BH8CBS8M\n"
     ]
    },
    {
     "name": "stderr",
     "output_type": "stream",
     "text": [
      "16:26:57 - cmdstanpy - INFO - Chain [1] start processing\n",
      "16:26:57 - cmdstanpy - INFO - Chain [1] done processing\n"
     ]
    },
    {
     "name": "stdout",
     "output_type": "stream",
     "text": [
      "Processing ASIN: B0BH8Q4YM6\n"
     ]
    },
    {
     "name": "stderr",
     "output_type": "stream",
     "text": [
      "16:26:58 - cmdstanpy - INFO - Chain [1] start processing\n",
      "16:26:58 - cmdstanpy - INFO - Chain [1] done processing\n"
     ]
    },
    {
     "name": "stdout",
     "output_type": "stream",
     "text": [
      "Processing ASIN: B0BRTFC2RR\n"
     ]
    },
    {
     "name": "stderr",
     "output_type": "stream",
     "text": [
      "16:26:58 - cmdstanpy - INFO - Chain [1] start processing\n",
      "16:26:59 - cmdstanpy - INFO - Chain [1] done processing\n"
     ]
    },
    {
     "name": "stdout",
     "output_type": "stream",
     "text": [
      "Processing ASIN: B0BRTFQG5T\n"
     ]
    },
    {
     "name": "stderr",
     "output_type": "stream",
     "text": [
      "16:26:59 - cmdstanpy - INFO - Chain [1] start processing\n",
      "16:26:59 - cmdstanpy - INFO - Chain [1] done processing\n"
     ]
    },
    {
     "name": "stdout",
     "output_type": "stream",
     "text": [
      "Processing ASIN: B0C2Z44JLK\n"
     ]
    },
    {
     "name": "stderr",
     "output_type": "stream",
     "text": [
      "16:27:00 - cmdstanpy - INFO - Chain [1] start processing\n",
      "16:27:00 - cmdstanpy - INFO - Chain [1] done processing\n"
     ]
    },
    {
     "name": "stdout",
     "output_type": "stream",
     "text": [
      "Processing ASIN: B0C2Z5WTR6\n"
     ]
    },
    {
     "name": "stderr",
     "output_type": "stream",
     "text": [
      "16:27:00 - cmdstanpy - INFO - Chain [1] start processing\n",
      "16:27:00 - cmdstanpy - INFO - Chain [1] done processing\n"
     ]
    },
    {
     "name": "stdout",
     "output_type": "stream",
     "text": [
      "Processing ASIN: B0C2Z8QT9V\n"
     ]
    },
    {
     "name": "stderr",
     "output_type": "stream",
     "text": [
      "16:27:01 - cmdstanpy - INFO - Chain [1] start processing\n",
      "16:27:01 - cmdstanpy - INFO - Chain [1] done processing\n"
     ]
    },
    {
     "name": "stdout",
     "output_type": "stream",
     "text": [
      "Processing ASIN: B0C656HMKC\n"
     ]
    },
    {
     "name": "stderr",
     "output_type": "stream",
     "text": [
      "16:27:01 - cmdstanpy - INFO - Chain [1] start processing\n",
      "16:27:02 - cmdstanpy - INFO - Chain [1] done processing\n"
     ]
    },
    {
     "name": "stdout",
     "output_type": "stream",
     "text": [
      "Processing ASIN: B0C656PN55\n"
     ]
    },
    {
     "name": "stderr",
     "output_type": "stream",
     "text": [
      "16:27:02 - cmdstanpy - INFO - Chain [1] start processing\n",
      "16:27:02 - cmdstanpy - INFO - Chain [1] done processing\n"
     ]
    },
    {
     "name": "stdout",
     "output_type": "stream",
     "text": [
      "Processing ASIN: B0C658712G\n"
     ]
    },
    {
     "name": "stderr",
     "output_type": "stream",
     "text": [
      "16:27:02 - cmdstanpy - INFO - Chain [1] start processing\n",
      "16:27:03 - cmdstanpy - INFO - Chain [1] done processing\n"
     ]
    },
    {
     "name": "stdout",
     "output_type": "stream",
     "text": [
      "Processing ASIN: B0C658PXB1\n"
     ]
    },
    {
     "name": "stderr",
     "output_type": "stream",
     "text": [
      "16:27:03 - cmdstanpy - INFO - Chain [1] start processing\n",
      "16:27:03 - cmdstanpy - INFO - Chain [1] done processing\n"
     ]
    },
    {
     "name": "stdout",
     "output_type": "stream",
     "text": [
      "Processing ASIN: B0C65C3TBL\n"
     ]
    },
    {
     "name": "stderr",
     "output_type": "stream",
     "text": [
      "16:27:04 - cmdstanpy - INFO - Chain [1] start processing\n",
      "16:27:04 - cmdstanpy - INFO - Chain [1] done processing\n"
     ]
    },
    {
     "name": "stdout",
     "output_type": "stream",
     "text": [
      "Processing ASIN: B0C65CP9PP\n"
     ]
    },
    {
     "name": "stderr",
     "output_type": "stream",
     "text": [
      "16:27:04 - cmdstanpy - INFO - Chain [1] start processing\n",
      "16:27:04 - cmdstanpy - INFO - Chain [1] done processing\n"
     ]
    },
    {
     "name": "stdout",
     "output_type": "stream",
     "text": [
      "Processing ASIN: B0C65CVJQG\n"
     ]
    },
    {
     "name": "stderr",
     "output_type": "stream",
     "text": [
      "16:27:05 - cmdstanpy - INFO - Chain [1] start processing\n",
      "16:27:05 - cmdstanpy - INFO - Chain [1] done processing\n"
     ]
    },
    {
     "name": "stdout",
     "output_type": "stream",
     "text": [
      "Processing ASIN: B0C65DB8C4\n"
     ]
    },
    {
     "name": "stderr",
     "output_type": "stream",
     "text": [
      "16:27:06 - cmdstanpy - INFO - Chain [1] start processing\n",
      "16:27:06 - cmdstanpy - INFO - Chain [1] done processing\n"
     ]
    },
    {
     "name": "stdout",
     "output_type": "stream",
     "text": [
      "Processing ASIN: B0C6XVFJPZ\n"
     ]
    },
    {
     "name": "stderr",
     "output_type": "stream",
     "text": [
      "16:27:07 - cmdstanpy - INFO - Chain [1] start processing\n",
      "16:27:07 - cmdstanpy - INFO - Chain [1] done processing\n"
     ]
    },
    {
     "name": "stdout",
     "output_type": "stream",
     "text": [
      "Processing ASIN: B0C6Y3RD2P\n"
     ]
    },
    {
     "name": "stderr",
     "output_type": "stream",
     "text": [
      "16:27:07 - cmdstanpy - INFO - Chain [1] start processing\n",
      "16:27:08 - cmdstanpy - INFO - Chain [1] done processing\n"
     ]
    },
    {
     "name": "stdout",
     "output_type": "stream",
     "text": [
      "Processing ASIN: B0C6Y478R5\n"
     ]
    },
    {
     "name": "stderr",
     "output_type": "stream",
     "text": [
      "16:27:08 - cmdstanpy - INFO - Chain [1] start processing\n",
      "16:27:09 - cmdstanpy - INFO - Chain [1] done processing\n"
     ]
    },
    {
     "name": "stdout",
     "output_type": "stream",
     "text": [
      "Processing ASIN: B0CBVD9G2B\n"
     ]
    },
    {
     "name": "stderr",
     "output_type": "stream",
     "text": [
      "16:27:09 - cmdstanpy - INFO - Chain [1] start processing\n",
      "16:27:09 - cmdstanpy - INFO - Chain [1] done processing\n"
     ]
    },
    {
     "name": "stdout",
     "output_type": "stream",
     "text": [
      "Processing ASIN: B0CH313718\n"
     ]
    },
    {
     "name": "stderr",
     "output_type": "stream",
     "text": [
      "16:27:10 - cmdstanpy - INFO - Chain [1] start processing\n",
      "16:27:10 - cmdstanpy - INFO - Chain [1] done processing\n"
     ]
    },
    {
     "name": "stdout",
     "output_type": "stream",
     "text": [
      "Processing ASIN: B0CHBBQXY6\n"
     ]
    },
    {
     "name": "stderr",
     "output_type": "stream",
     "text": [
      "16:27:11 - cmdstanpy - INFO - Chain [1] start processing\n",
      "16:27:11 - cmdstanpy - INFO - Chain [1] done processing\n"
     ]
    },
    {
     "name": "stdout",
     "output_type": "stream",
     "text": [
      "Processing ASIN: B0CHBF8BXP\n"
     ]
    },
    {
     "name": "stderr",
     "output_type": "stream",
     "text": [
      "16:27:11 - cmdstanpy - INFO - Chain [1] start processing\n",
      "16:27:11 - cmdstanpy - INFO - Chain [1] done processing\n"
     ]
    },
    {
     "name": "stdout",
     "output_type": "stream",
     "text": [
      "Processing ASIN: B0CHBMQHB6\n"
     ]
    },
    {
     "name": "stderr",
     "output_type": "stream",
     "text": [
      "16:27:12 - cmdstanpy - INFO - Chain [1] start processing\n",
      "16:27:12 - cmdstanpy - INFO - Chain [1] done processing\n"
     ]
    },
    {
     "name": "stdout",
     "output_type": "stream",
     "text": [
      "Processing ASIN: B0CHBNK3ZD\n"
     ]
    },
    {
     "name": "stderr",
     "output_type": "stream",
     "text": [
      "16:27:12 - cmdstanpy - INFO - Chain [1] start processing\n",
      "16:27:13 - cmdstanpy - INFO - Chain [1] done processing\n"
     ]
    },
    {
     "name": "stdout",
     "output_type": "stream",
     "text": [
      "Processing ASIN: B0CHCBNBVX\n"
     ]
    },
    {
     "name": "stderr",
     "output_type": "stream",
     "text": [
      "16:27:13 - cmdstanpy - INFO - Chain [1] start processing\n",
      "16:27:13 - cmdstanpy - INFO - Chain [1] done processing\n"
     ]
    },
    {
     "name": "stdout",
     "output_type": "stream",
     "text": [
      "Processing ASIN: B0CHCJJ328\n"
     ]
    },
    {
     "name": "stderr",
     "output_type": "stream",
     "text": [
      "16:27:14 - cmdstanpy - INFO - Chain [1] start processing\n",
      "16:27:14 - cmdstanpy - INFO - Chain [1] done processing\n"
     ]
    },
    {
     "name": "stdout",
     "output_type": "stream",
     "text": [
      "Processing ASIN: B0CHCMS4M8\n"
     ]
    },
    {
     "name": "stderr",
     "output_type": "stream",
     "text": [
      "16:27:14 - cmdstanpy - INFO - Chain [1] start processing\n",
      "16:27:14 - cmdstanpy - INFO - Chain [1] done processing\n"
     ]
    },
    {
     "name": "stdout",
     "output_type": "stream",
     "text": [
      "Processing ASIN: B0CHFZ2HVL\n"
     ]
    },
    {
     "name": "stderr",
     "output_type": "stream",
     "text": [
      "16:27:15 - cmdstanpy - INFO - Chain [1] start processing\n",
      "16:27:15 - cmdstanpy - INFO - Chain [1] done processing\n"
     ]
    },
    {
     "name": "stdout",
     "output_type": "stream",
     "text": [
      "Processing ASIN: B0CHFZKY4Q\n"
     ]
    },
    {
     "name": "stderr",
     "output_type": "stream",
     "text": [
      "16:27:15 - cmdstanpy - INFO - Chain [1] start processing\n",
      "16:27:16 - cmdstanpy - INFO - Chain [1] done processing\n"
     ]
    },
    {
     "name": "stdout",
     "output_type": "stream",
     "text": [
      "Processing ASIN: B0CHG17WP9\n"
     ]
    },
    {
     "name": "stderr",
     "output_type": "stream",
     "text": [
      "16:27:16 - cmdstanpy - INFO - Chain [1] start processing\n",
      "16:27:16 - cmdstanpy - INFO - Chain [1] done processing\n"
     ]
    },
    {
     "name": "stdout",
     "output_type": "stream",
     "text": [
      "Processing ASIN: B0CHJCNSDV\n"
     ]
    },
    {
     "name": "stderr",
     "output_type": "stream",
     "text": [
      "16:27:16 - cmdstanpy - INFO - Chain [1] start processing\n",
      "16:27:17 - cmdstanpy - INFO - Chain [1] done processing\n"
     ]
    },
    {
     "name": "stdout",
     "output_type": "stream",
     "text": [
      "Processing ASIN: B0CHJGH6BJ\n"
     ]
    },
    {
     "name": "stderr",
     "output_type": "stream",
     "text": [
      "16:27:17 - cmdstanpy - INFO - Chain [1] start processing\n",
      "16:27:17 - cmdstanpy - INFO - Chain [1] done processing\n"
     ]
    },
    {
     "name": "stdout",
     "output_type": "stream",
     "text": [
      "Processing ASIN: B0CKBWC3DG\n"
     ]
    },
    {
     "name": "stderr",
     "output_type": "stream",
     "text": [
      "16:27:18 - cmdstanpy - INFO - Chain [1] start processing\n",
      "16:27:18 - cmdstanpy - INFO - Chain [1] done processing\n"
     ]
    },
    {
     "name": "stdout",
     "output_type": "stream",
     "text": [
      "Processing ASIN: B0CKF1WBRV\n"
     ]
    },
    {
     "name": "stderr",
     "output_type": "stream",
     "text": [
      "16:27:18 - cmdstanpy - INFO - Chain [1] start processing\n",
      "16:27:18 - cmdstanpy - INFO - Chain [1] done processing\n"
     ]
    },
    {
     "name": "stdout",
     "output_type": "stream",
     "text": [
      "Processing ASIN: B0CKVX37KH\n"
     ]
    },
    {
     "name": "stderr",
     "output_type": "stream",
     "text": [
      "16:27:19 - cmdstanpy - INFO - Chain [1] start processing\n",
      "16:27:23 - cmdstanpy - INFO - Chain [1] done processing\n"
     ]
    },
    {
     "name": "stdout",
     "output_type": "stream",
     "text": [
      "Processing ASIN: B0CKVXYN46\n",
      "Processing ASIN: B0CKXTLXSX\n"
     ]
    },
    {
     "name": "stderr",
     "output_type": "stream",
     "text": [
      "16:27:24 - cmdstanpy - INFO - Chain [1] start processing\n",
      "16:27:24 - cmdstanpy - INFO - Chain [1] done processing\n"
     ]
    },
    {
     "name": "stdout",
     "output_type": "stream",
     "text": [
      "Processing ASIN: B0CNVL174K\n"
     ]
    },
    {
     "name": "stderr",
     "output_type": "stream",
     "text": [
      "16:27:25 - cmdstanpy - INFO - Chain [1] start processing\n",
      "16:27:25 - cmdstanpy - INFO - Chain [1] done processing\n"
     ]
    },
    {
     "name": "stdout",
     "output_type": "stream",
     "text": [
      "Processing ASIN: B0CNVLTSDC\n"
     ]
    },
    {
     "name": "stderr",
     "output_type": "stream",
     "text": [
      "16:27:25 - cmdstanpy - INFO - Chain [1] start processing\n",
      "16:27:26 - cmdstanpy - INFO - Chain [1] done processing\n"
     ]
    },
    {
     "name": "stdout",
     "output_type": "stream",
     "text": [
      "Processing ASIN: B0CQH9FHZT\n"
     ]
    },
    {
     "name": "stderr",
     "output_type": "stream",
     "text": [
      "16:27:26 - cmdstanpy - INFO - Chain [1] start processing\n",
      "16:27:26 - cmdstanpy - INFO - Chain [1] done processing\n"
     ]
    },
    {
     "name": "stdout",
     "output_type": "stream",
     "text": [
      "Processing ASIN: B0CQHC2L5J\n"
     ]
    },
    {
     "name": "stderr",
     "output_type": "stream",
     "text": [
      "16:27:27 - cmdstanpy - INFO - Chain [1] start processing\n",
      "16:27:27 - cmdstanpy - INFO - Chain [1] done processing\n"
     ]
    },
    {
     "name": "stdout",
     "output_type": "stream",
     "text": [
      "Processing ASIN: B0CXDH2LPP\n",
      "Processing ASIN: B0CXDHX2QN\n",
      "Processing ASIN: B0CXDRY3WC\n",
      "Processing ASIN: B0CXDSCVJB\n",
      "Processing ASIN: B0D1XNW89X\n",
      "Error fitting model for ASIN B0D1XNW89X: Dataframe has less than 2 non-NaN rows.\n",
      "Processing ASIN: B0D4VHWB3C\n",
      "Error fitting model for ASIN B0D4VHWB3C: Dataframe has less than 2 non-NaN rows.\n",
      "CPU times: total: 42.4 s\n",
      "Wall time: 3min 32s\n"
     ]
    }
   ],
   "source": [
    "%%time\n",
    "\n",
    "# Forecasting organic_gmv_units\n",
    "\n",
    "\n",
    "import pandas as pd\n",
    "from prophet import Prophet\n",
    "from sklearn.metrics import mean_absolute_error, r2_score\n",
    "\n",
    "# Define exogenous variables\n",
    "exogenous_vars = ['asp_week', 'ad_spend']  # Adjust this to match your DataFrame column names\n",
    "\n",
    "# Prepare dictionaries to store results\n",
    "X_train_fb2 = {}\n",
    "X_test_fb2 = {}\n",
    "y_test_fb_pred2 = {}\n",
    "\n",
    "for asin in train_df['asin'].unique():\n",
    "    print(f\"Processing ASIN: {asin}\")\n",
    "    \n",
    "    # Filter the training data for the current ASIN\n",
    "    asin_train_data = train_df[train_df['asin'] == asin]\n",
    "    asin_test_data = test_df[test_df['asin'] == asin]\n",
    "    \n",
    "    if asin_train_data.empty or asin_test_data.empty:\n",
    "        print(f\"No data found for ASIN: {asin}\")\n",
    "        continue\n",
    "    \n",
    "    # Prepare the training data for Prophet\n",
    "    X_train_fb2[asin] = pd.DataFrame()\n",
    "    X_train_fb2[asin]['ds'] = asin_train_data['Week_Start_date']\n",
    "    X_train_fb2[asin]['y'] = asin_train_data['organic_gmv_units']\n",
    "    \n",
    "    # Add exogenous variables\n",
    "    X_train_fb2[asin][exogenous_vars] = asin_train_data[exogenous_vars]\n",
    "    \n",
    "    # Ensure data types are correct\n",
    "    X_train_fb2[asin]['ds'] = pd.to_datetime(X_train_fb2[asin]['ds'])\n",
    "    X_train_fb2[asin]['y'] = X_train_fb2[asin]['y'].astype(float)\n",
    "    \n",
    "    # Initialize the Prophet model\n",
    "    model = Prophet(changepoint_prior_scale=0.03)\n",
    "    \n",
    "    # Add exogenous variables as regressors with standardization\n",
    "    for var in exogenous_vars:\n",
    "        model.add_regressor(var, standardize=True)\n",
    "    \n",
    "    # Fit the model\n",
    "    try:\n",
    "        model.fit(X_train_fb2[asin])\n",
    "    except ValueError as e:\n",
    "        print(f\"Error fitting model for ASIN {asin}: {e}\")\n",
    "        continue\n",
    "    \n",
    "    # Prepare the test data for Prophet\n",
    "    X_test_fb2[asin] = pd.DataFrame()\n",
    "    X_test_fb2[asin]['ds'] = asin_test_data['Week_Start_date']\n",
    "    X_test_fb2[asin][exogenous_vars] = asin_test_data[exogenous_vars]\n",
    "    \n",
    "    # Ensure test data type is correct\n",
    "    X_test_fb2[asin]['ds'] = pd.to_datetime(X_test_fb2[asin]['ds'])\n",
    "    \n",
    "    # Make predictions\n",
    "    try:\n",
    "        forecast_test = model.predict(X_test_fb2[asin])\n",
    "    except ValueError as e:\n",
    "        print(f\"Error generating forecast for ASIN {asin}: {e}\")\n",
    "        continue\n",
    "    \n",
    "    # Store the predictions\n",
    "    y_test_fb_pred2[asin] = forecast_test['yhat'].values\n",
    "    y_test_fb_pred2[asin][y_test_fb_pred2[asin]<0] = 0\n",
    "    y_test_fb_pred2[asin] = y_test_fb_pred2[asin].round(0).astype('int64')\n",
    "    \n",
    "# Create DataFrame with actual and forecasted values\n",
    "df_results_org = []\n",
    "for asin in y_test_fb_pred2:\n",
    "    asin_test_data = test_df[test_df['asin'] == asin]\n",
    "    df_results_org.append(pd.DataFrame({\n",
    "        'asin': asin,\n",
    "        'Week_Start_date': asin_test_data['Week_Start_date'],\n",
    "        'org_actual_outlier_treated': asin_test_data['organic_gmv_units'],\n",
    "        'forecasted_value': y_test_fb_pred2[asin]\n",
    "    }))\n",
    "\n",
    "df_results_org = pd.concat(df_results_org, ignore_index=True)\n",
    "\n"
   ]
  },
  {
   "cell_type": "code",
   "execution_count": 23,
   "id": "2fda1096",
   "metadata": {},
   "outputs": [
    {
     "name": "stdout",
     "output_type": "stream",
     "text": [
      "\n",
      "Overall WAPE: 47.66%\n",
      "\n",
      "WAPE for each forecast date:\n",
      "   Week_Start_date      WAPE\n",
      "0       2024-05-06  0.345270\n",
      "1       2024-05-13  0.352903\n",
      "2       2024-05-20  0.589735\n",
      "3       2024-05-27  0.413040\n",
      "4       2024-06-03  0.366230\n",
      "5       2024-06-10  0.409163\n",
      "6       2024-06-17  0.463482\n",
      "7       2024-06-24  0.508216\n",
      "8       2024-07-01  0.498013\n",
      "9       2024-07-08  0.505587\n",
      "10      2024-07-15  0.615651\n",
      "11      2024-07-22  0.444107\n",
      "12      2024-07-29  0.558417\n",
      "13      2024-08-05  0.478128\n",
      "14      2024-08-12  0.405726\n",
      "15      2024-08-19  0.415344\n",
      "\n",
      "WAPE for each forecast date:\n",
      "   Week_Start_date velocity_bucket      WAPE\n",
      "0       2024-05-06            1_SF  0.207440\n",
      "1       2024-05-06             2_F  0.422297\n",
      "2       2024-05-06             3_M  0.386688\n",
      "3       2024-05-06            4_SM  0.401021\n",
      "4       2024-05-13            1_SF  0.254404\n",
      "..             ...             ...       ...\n",
      "59      2024-08-12            4_SM  0.589731\n",
      "60      2024-08-19            1_SF  0.194910\n",
      "61      2024-08-19             2_F  0.438478\n",
      "62      2024-08-19             3_M  0.409751\n",
      "63      2024-08-19            4_SM  0.698290\n",
      "\n",
      "[64 rows x 3 columns]\n"
     ]
    }
   ],
   "source": [
    "# Storing Results in a DataFrame and Calculating Metrics:\n",
    "\n",
    "df_base2 = df_base[['asin', 'Week_Start_date','organic_gmv_units']]\n",
    "\n",
    "df_results_org1 =  pd.merge(df_results_org, df_base2, left_on=['asin', 'Week_Start_date'],\n",
    "                     right_on=['asin', 'Week_Start_date'])\n",
    "\n",
    "\n",
    "df_results_org2 = df_asin_vb[['asin', 'velocity_bucket']].merge(df_results_org1,left_on='asin', right_on='asin', how='right')\n",
    "\n",
    "# Calculate Absolute Percentage Error\n",
    "df_results_org2['absolute_percentage_error'] = abs((df_results_org2['forecasted_value'] - df_results_org2['organic_gmv_units']) / df_results_org2['organic_gmv_units'])\n",
    "\n",
    "# Calculate Absolute Errors\n",
    "df_results_org2['absolute_error'] = abs(df_results_org2['forecasted_value'] - df_results_org2['organic_gmv_units'])\n",
    "\n",
    "\n",
    "\n",
    "# Calculate overall WAPE\n",
    "overall_wape = df_results_org2['absolute_error'].sum() / df_results_org2['organic_gmv_units'].sum()\n",
    "print(f\"\\nOverall WAPE: {overall_wape:.2%}\")\n",
    "\n",
    "\n",
    "# Calculate WAPE for each date and velocity bucket\n",
    "wape_per_date_org = df_results_org2.groupby(['Week_Start_date']).apply(\n",
    "    lambda x: x['absolute_error'].sum() / x['organic_gmv_units'].sum()\n",
    ").reset_index(name='WAPE')\n",
    "# Save the forecast results to a CSV file\n",
    "wape_per_date_org.to_csv('C:/Users/Poovesh Kumar M/Downloads/Planning/Weekly_WAPE_ORG_units.csv', index=False)\n",
    "\n",
    "# Display WAPE\n",
    "print(\"\\nWAPE for each forecast date:\")\n",
    "print(wape_per_date_org)\n",
    "\n",
    "\n",
    "# Calculate WAPE for each date and velocity bucket\n",
    "wape_per_date_bucket_org = df_results_org2.groupby(['Week_Start_date', 'velocity_bucket']).apply(\n",
    "    lambda x: x['absolute_error'].sum() / x['organic_gmv_units'].sum()\n",
    ").reset_index(name='WAPE')\n",
    "\n",
    "\n",
    "\n",
    "# Display WAPE\n",
    "print(\"\\nWAPE for each forecast date:\")\n",
    "print(wape_per_date_bucket_org)\n",
    "\n",
    "# Save the forecast results to a CSV file\n",
    "wape_per_date_bucket_org.to_csv('C:/Users/Poovesh Kumar M/Downloads/Planning/Weekly_WAPE_buckets_ORG_units.csv', index=False)\n"
   ]
  },
  {
   "cell_type": "code",
   "execution_count": 24,
   "id": "59eb4a3f",
   "metadata": {},
   "outputs": [
    {
     "data": {
      "text/html": [
       "<div>\n",
       "<style scoped>\n",
       "    .dataframe tbody tr th:only-of-type {\n",
       "        vertical-align: middle;\n",
       "    }\n",
       "\n",
       "    .dataframe tbody tr th {\n",
       "        vertical-align: top;\n",
       "    }\n",
       "\n",
       "    .dataframe thead th {\n",
       "        text-align: right;\n",
       "    }\n",
       "</style>\n",
       "<table border=\"1\" class=\"dataframe\">\n",
       "  <thead>\n",
       "    <tr style=\"text-align: right;\">\n",
       "      <th></th>\n",
       "      <th>asin</th>\n",
       "      <th>Week_Start_date</th>\n",
       "      <th>org_actual_outlier_treated</th>\n",
       "      <th>forecasted_value</th>\n",
       "    </tr>\n",
       "  </thead>\n",
       "  <tbody>\n",
       "    <tr>\n",
       "      <th>0</th>\n",
       "      <td>B00PMR3QF2</td>\n",
       "      <td>2024-05-06</td>\n",
       "      <td>2279.6918</td>\n",
       "      <td>1805</td>\n",
       "    </tr>\n",
       "    <tr>\n",
       "      <th>1</th>\n",
       "      <td>B00PMR3QF2</td>\n",
       "      <td>2024-05-13</td>\n",
       "      <td>988.9535</td>\n",
       "      <td>945</td>\n",
       "    </tr>\n",
       "    <tr>\n",
       "      <th>2</th>\n",
       "      <td>B00PMR3QF2</td>\n",
       "      <td>2024-05-20</td>\n",
       "      <td>816.4571</td>\n",
       "      <td>1056</td>\n",
       "    </tr>\n",
       "    <tr>\n",
       "      <th>3</th>\n",
       "      <td>B00PMR3QF2</td>\n",
       "      <td>2024-05-27</td>\n",
       "      <td>743.9493</td>\n",
       "      <td>967</td>\n",
       "    </tr>\n",
       "    <tr>\n",
       "      <th>4</th>\n",
       "      <td>B00PMR3QF2</td>\n",
       "      <td>2024-06-03</td>\n",
       "      <td>743.9493</td>\n",
       "      <td>1967</td>\n",
       "    </tr>\n",
       "    <tr>\n",
       "      <th>...</th>\n",
       "      <td>...</td>\n",
       "      <td>...</td>\n",
       "      <td>...</td>\n",
       "      <td>...</td>\n",
       "    </tr>\n",
       "    <tr>\n",
       "      <th>4388</th>\n",
       "      <td>B0CXDSCVJB</td>\n",
       "      <td>2024-07-22</td>\n",
       "      <td>0.0000</td>\n",
       "      <td>0</td>\n",
       "    </tr>\n",
       "    <tr>\n",
       "      <th>4389</th>\n",
       "      <td>B0CXDSCVJB</td>\n",
       "      <td>2024-07-29</td>\n",
       "      <td>0.0000</td>\n",
       "      <td>0</td>\n",
       "    </tr>\n",
       "    <tr>\n",
       "      <th>4390</th>\n",
       "      <td>B0CXDSCVJB</td>\n",
       "      <td>2024-08-05</td>\n",
       "      <td>0.0000</td>\n",
       "      <td>0</td>\n",
       "    </tr>\n",
       "    <tr>\n",
       "      <th>4391</th>\n",
       "      <td>B0CXDSCVJB</td>\n",
       "      <td>2024-08-12</td>\n",
       "      <td>0.0000</td>\n",
       "      <td>0</td>\n",
       "    </tr>\n",
       "    <tr>\n",
       "      <th>4392</th>\n",
       "      <td>B0CXDSCVJB</td>\n",
       "      <td>2024-08-19</td>\n",
       "      <td>0.0000</td>\n",
       "      <td>0</td>\n",
       "    </tr>\n",
       "  </tbody>\n",
       "</table>\n",
       "<p>4393 rows × 4 columns</p>\n",
       "</div>"
      ],
      "text/plain": [
       "            asin Week_Start_date  org_actual_outlier_treated  forecasted_value\n",
       "0     B00PMR3QF2      2024-05-06                   2279.6918              1805\n",
       "1     B00PMR3QF2      2024-05-13                    988.9535               945\n",
       "2     B00PMR3QF2      2024-05-20                    816.4571              1056\n",
       "3     B00PMR3QF2      2024-05-27                    743.9493               967\n",
       "4     B00PMR3QF2      2024-06-03                    743.9493              1967\n",
       "...          ...             ...                         ...               ...\n",
       "4388  B0CXDSCVJB      2024-07-22                      0.0000                 0\n",
       "4389  B0CXDSCVJB      2024-07-29                      0.0000                 0\n",
       "4390  B0CXDSCVJB      2024-08-05                      0.0000                 0\n",
       "4391  B0CXDSCVJB      2024-08-12                      0.0000                 0\n",
       "4392  B0CXDSCVJB      2024-08-19                      0.0000                 0\n",
       "\n",
       "[4393 rows x 4 columns]"
      ]
     },
     "execution_count": 24,
     "metadata": {},
     "output_type": "execute_result"
    }
   ],
   "source": [
    "df_results_org"
   ]
  },
  {
   "cell_type": "code",
   "execution_count": 25,
   "id": "4e7e7588",
   "metadata": {},
   "outputs": [
    {
     "name": "stdout",
     "output_type": "stream",
     "text": [
      "Processing ASIN: B00PMR3QF2\n"
     ]
    },
    {
     "name": "stderr",
     "output_type": "stream",
     "text": [
      "16:27:30 - cmdstanpy - INFO - Chain [1] start processing\n",
      "16:27:30 - cmdstanpy - INFO - Chain [1] done processing\n"
     ]
    },
    {
     "name": "stdout",
     "output_type": "stream",
     "text": [
      "Processing ASIN: B00PV15BPW\n"
     ]
    },
    {
     "name": "stderr",
     "output_type": "stream",
     "text": [
      "16:27:31 - cmdstanpy - INFO - Chain [1] start processing\n",
      "16:27:31 - cmdstanpy - INFO - Chain [1] done processing\n"
     ]
    },
    {
     "name": "stdout",
     "output_type": "stream",
     "text": [
      "Processing ASIN: B00Q7Z1UZ6\n",
      "No data found for ASIN: B00Q7Z1UZ6\n",
      "Processing ASIN: B00Q96XGUU\n"
     ]
    },
    {
     "name": "stderr",
     "output_type": "stream",
     "text": [
      "16:27:32 - cmdstanpy - INFO - Chain [1] start processing\n",
      "16:27:32 - cmdstanpy - INFO - Chain [1] done processing\n"
     ]
    },
    {
     "name": "stdout",
     "output_type": "stream",
     "text": [
      "Processing ASIN: B00QR6SS6O\n"
     ]
    },
    {
     "name": "stderr",
     "output_type": "stream",
     "text": [
      "16:27:32 - cmdstanpy - INFO - Chain [1] start processing\n",
      "16:27:33 - cmdstanpy - INFO - Chain [1] done processing\n"
     ]
    },
    {
     "name": "stdout",
     "output_type": "stream",
     "text": [
      "Processing ASIN: B00QR7FTLU\n"
     ]
    },
    {
     "name": "stderr",
     "output_type": "stream",
     "text": [
      "16:27:33 - cmdstanpy - INFO - Chain [1] start processing\n",
      "16:27:33 - cmdstanpy - INFO - Chain [1] done processing\n"
     ]
    },
    {
     "name": "stdout",
     "output_type": "stream",
     "text": [
      "Processing ASIN: B00QR7T8WQ\n",
      "No data found for ASIN: B00QR7T8WQ\n",
      "Processing ASIN: B00QVR0O6Q\n"
     ]
    },
    {
     "name": "stderr",
     "output_type": "stream",
     "text": [
      "16:27:34 - cmdstanpy - INFO - Chain [1] start processing\n",
      "16:27:34 - cmdstanpy - INFO - Chain [1] done processing\n"
     ]
    },
    {
     "name": "stdout",
     "output_type": "stream",
     "text": [
      "Processing ASIN: B00STVN68K\n"
     ]
    },
    {
     "name": "stderr",
     "output_type": "stream",
     "text": [
      "16:27:35 - cmdstanpy - INFO - Chain [1] start processing\n",
      "16:27:35 - cmdstanpy - INFO - Chain [1] done processing\n"
     ]
    },
    {
     "name": "stdout",
     "output_type": "stream",
     "text": [
      "Processing ASIN: B00TSTZQEY\n"
     ]
    },
    {
     "name": "stderr",
     "output_type": "stream",
     "text": [
      "16:27:36 - cmdstanpy - INFO - Chain [1] start processing\n",
      "16:27:36 - cmdstanpy - INFO - Chain [1] done processing\n"
     ]
    },
    {
     "name": "stdout",
     "output_type": "stream",
     "text": [
      "Processing ASIN: B00UA2A0XK\n",
      "No data found for ASIN: B00UA2A0XK\n",
      "Processing ASIN: B00UREAGU8\n"
     ]
    },
    {
     "name": "stderr",
     "output_type": "stream",
     "text": [
      "16:27:36 - cmdstanpy - INFO - Chain [1] start processing\n",
      "16:27:37 - cmdstanpy - INFO - Chain [1] done processing\n"
     ]
    },
    {
     "name": "stdout",
     "output_type": "stream",
     "text": [
      "Processing ASIN: B00VUNFLM8\n"
     ]
    },
    {
     "name": "stderr",
     "output_type": "stream",
     "text": [
      "16:27:38 - cmdstanpy - INFO - Chain [1] start processing\n",
      "16:27:38 - cmdstanpy - INFO - Chain [1] done processing\n"
     ]
    },
    {
     "name": "stdout",
     "output_type": "stream",
     "text": [
      "Processing ASIN: B00VXEQ0WO\n",
      "No data found for ASIN: B00VXEQ0WO\n",
      "Processing ASIN: B00VXHY6KY\n",
      "Processing ASIN: B00VXIV1XI\n",
      "No data found for ASIN: B00VXIV1XI\n",
      "Processing ASIN: B00WFXNXVI\n",
      "No data found for ASIN: B00WFXNXVI\n",
      "Processing ASIN: B00WH2CKCA\n",
      "No data found for ASIN: B00WH2CKCA\n",
      "Processing ASIN: B00WKTKBTY\n",
      "No data found for ASIN: B00WKTKBTY\n",
      "Processing ASIN: B00X4YGPYE\n"
     ]
    },
    {
     "name": "stderr",
     "output_type": "stream",
     "text": [
      "16:27:40 - cmdstanpy - INFO - Chain [1] start processing\n",
      "16:27:40 - cmdstanpy - INFO - Chain [1] done processing\n"
     ]
    },
    {
     "name": "stdout",
     "output_type": "stream",
     "text": [
      "Processing ASIN: B00XE58NJ8\n"
     ]
    },
    {
     "name": "stderr",
     "output_type": "stream",
     "text": [
      "16:27:40 - cmdstanpy - INFO - Chain [1] start processing\n",
      "16:27:41 - cmdstanpy - INFO - Chain [1] done processing\n"
     ]
    },
    {
     "name": "stdout",
     "output_type": "stream",
     "text": [
      "Processing ASIN: B00YQ93VPW\n",
      "No data found for ASIN: B00YQ93VPW\n",
      "Processing ASIN: B00Z5WJIHO\n",
      "No data found for ASIN: B00Z5WJIHO\n",
      "Processing ASIN: B01057FM6E\n",
      "No data found for ASIN: B01057FM6E\n",
      "Processing ASIN: B0105POI9I\n",
      "No data found for ASIN: B0105POI9I\n",
      "Processing ASIN: B011NSRBY0\n",
      "No data found for ASIN: B011NSRBY0\n",
      "Processing ASIN: B012UQJNMC\n",
      "No data found for ASIN: B012UQJNMC\n",
      "Processing ASIN: B014JFT9DU\n",
      "No data found for ASIN: B014JFT9DU\n",
      "Processing ASIN: B016H8ICBC\n",
      "No data found for ASIN: B016H8ICBC\n",
      "Processing ASIN: B016RQ8PRU\n",
      "No data found for ASIN: B016RQ8PRU\n",
      "Processing ASIN: B01728CU8M\n",
      "No data found for ASIN: B01728CU8M\n",
      "Processing ASIN: B0172AL2PM\n"
     ]
    },
    {
     "name": "stderr",
     "output_type": "stream",
     "text": [
      "16:27:42 - cmdstanpy - INFO - Chain [1] start processing\n",
      "16:27:42 - cmdstanpy - INFO - Chain [1] done processing\n"
     ]
    },
    {
     "name": "stdout",
     "output_type": "stream",
     "text": [
      "Processing ASIN: B01745E4C8\n",
      "No data found for ASIN: B01745E4C8\n",
      "Processing ASIN: B01766QDTC\n",
      "No data found for ASIN: B01766QDTC\n",
      "Processing ASIN: B01767OTVK\n"
     ]
    },
    {
     "name": "stderr",
     "output_type": "stream",
     "text": [
      "16:27:43 - cmdstanpy - INFO - Chain [1] start processing\n",
      "16:27:43 - cmdstanpy - INFO - Chain [1] done processing\n"
     ]
    },
    {
     "name": "stdout",
     "output_type": "stream",
     "text": [
      "Processing ASIN: B01768QEPI\n",
      "No data found for ASIN: B01768QEPI\n",
      "Processing ASIN: B0176OGWFE\n",
      "Processing ASIN: B0176UQBJU\n"
     ]
    },
    {
     "name": "stderr",
     "output_type": "stream",
     "text": [
      "16:27:44 - cmdstanpy - INFO - Chain [1] start processing\n",
      "16:27:44 - cmdstanpy - INFO - Chain [1] done processing\n"
     ]
    },
    {
     "name": "stdout",
     "output_type": "stream",
     "text": [
      "Processing ASIN: B0176YOIEQ\n"
     ]
    },
    {
     "name": "stderr",
     "output_type": "stream",
     "text": [
      "16:27:45 - cmdstanpy - INFO - Chain [1] start processing\n",
      "16:27:45 - cmdstanpy - INFO - Chain [1] done processing\n"
     ]
    },
    {
     "name": "stdout",
     "output_type": "stream",
     "text": [
      "Processing ASIN: B01771C9H6\n",
      "No data found for ASIN: B01771C9H6\n",
      "Processing ASIN: B0177J3BVG\n",
      "No data found for ASIN: B0177J3BVG\n",
      "Processing ASIN: B017I2B8NK\n"
     ]
    },
    {
     "name": "stderr",
     "output_type": "stream",
     "text": [
      "16:27:46 - cmdstanpy - INFO - Chain [1] start processing\n",
      "16:27:46 - cmdstanpy - INFO - Chain [1] done processing\n"
     ]
    },
    {
     "name": "stdout",
     "output_type": "stream",
     "text": [
      "Processing ASIN: B017SLT8ME\n",
      "No data found for ASIN: B017SLT8ME\n",
      "Processing ASIN: B01BGIB81Y\n",
      "No data found for ASIN: B01BGIB81Y\n",
      "Processing ASIN: B01BHO79V0\n",
      "No data found for ASIN: B01BHO79V0\n",
      "Processing ASIN: B01BHQ69S2\n"
     ]
    },
    {
     "name": "stderr",
     "output_type": "stream",
     "text": [
      "16:27:46 - cmdstanpy - INFO - Chain [1] start processing\n",
      "16:27:47 - cmdstanpy - INFO - Chain [1] done processing\n"
     ]
    },
    {
     "name": "stdout",
     "output_type": "stream",
     "text": [
      "Processing ASIN: B01BKALLBU\n"
     ]
    },
    {
     "name": "stderr",
     "output_type": "stream",
     "text": [
      "16:27:47 - cmdstanpy - INFO - Chain [1] start processing\n",
      "16:27:47 - cmdstanpy - INFO - Chain [1] done processing\n",
      "16:27:48 - cmdstanpy - INFO - Chain [1] start processing\n"
     ]
    },
    {
     "name": "stdout",
     "output_type": "stream",
     "text": [
      "Processing ASIN: B01BKB3C98\n"
     ]
    },
    {
     "name": "stderr",
     "output_type": "stream",
     "text": [
      "16:27:48 - cmdstanpy - INFO - Chain [1] done processing\n"
     ]
    },
    {
     "name": "stdout",
     "output_type": "stream",
     "text": [
      "Processing ASIN: B01CHW4QOO\n",
      "No data found for ASIN: B01CHW4QOO\n",
      "Processing ASIN: B01CKBJQCO\n",
      "No data found for ASIN: B01CKBJQCO\n",
      "Processing ASIN: B01CO4EPQY\n",
      "No data found for ASIN: B01CO4EPQY\n",
      "Processing ASIN: B01DV9H7Z2\n",
      "No data found for ASIN: B01DV9H7Z2\n",
      "Processing ASIN: B01DVU2ZQW\n",
      "No data found for ASIN: B01DVU2ZQW\n",
      "Processing ASIN: B01DXRVQ3Q\n"
     ]
    },
    {
     "name": "stderr",
     "output_type": "stream",
     "text": [
      "16:27:49 - cmdstanpy - INFO - Chain [1] start processing\n",
      "16:27:49 - cmdstanpy - INFO - Chain [1] done processing\n"
     ]
    },
    {
     "name": "stdout",
     "output_type": "stream",
     "text": [
      "Processing ASIN: B01ERVKA3Y\n",
      "No data found for ASIN: B01ERVKA3Y\n",
      "Processing ASIN: B01FR1PYXE\n",
      "No data found for ASIN: B01FR1PYXE\n",
      "Processing ASIN: B01FZRK3WW\n"
     ]
    },
    {
     "name": "stderr",
     "output_type": "stream",
     "text": [
      "16:27:49 - cmdstanpy - INFO - Chain [1] start processing\n",
      "16:27:50 - cmdstanpy - INFO - Chain [1] done processing\n"
     ]
    },
    {
     "name": "stdout",
     "output_type": "stream",
     "text": [
      "Processing ASIN: B01G2R8NQC\n",
      "Processing ASIN: B01GHF9OXU\n",
      "No data found for ASIN: B01GHF9OXU\n",
      "Processing ASIN: B01GZ6ZAVG\n",
      "No data found for ASIN: B01GZ6ZAVG\n",
      "Processing ASIN: B01HCWXUIC\n",
      "No data found for ASIN: B01HCWXUIC\n",
      "Processing ASIN: B01HIW5BG0\n",
      "No data found for ASIN: B01HIW5BG0\n",
      "Processing ASIN: B01HN30YAW\n",
      "No data found for ASIN: B01HN30YAW\n",
      "Processing ASIN: B01HSHKNC2\n",
      "No data found for ASIN: B01HSHKNC2\n",
      "Processing ASIN: B01HSM2M6W\n"
     ]
    },
    {
     "name": "stderr",
     "output_type": "stream",
     "text": [
      "16:27:50 - cmdstanpy - INFO - Chain [1] start processing\n",
      "16:27:51 - cmdstanpy - INFO - Chain [1] done processing\n"
     ]
    },
    {
     "name": "stdout",
     "output_type": "stream",
     "text": [
      "Processing ASIN: B01IIJI4TS\n",
      "No data found for ASIN: B01IIJI4TS\n",
      "Processing ASIN: B01INZE248\n",
      "No data found for ASIN: B01INZE248\n",
      "Processing ASIN: B01IRKTYII\n"
     ]
    },
    {
     "name": "stderr",
     "output_type": "stream",
     "text": [
      "16:27:51 - cmdstanpy - INFO - Chain [1] start processing\n",
      "16:27:51 - cmdstanpy - INFO - Chain [1] done processing\n"
     ]
    },
    {
     "name": "stdout",
     "output_type": "stream",
     "text": [
      "Processing ASIN: B01IRLOTNM\n"
     ]
    },
    {
     "name": "stderr",
     "output_type": "stream",
     "text": [
      "16:27:52 - cmdstanpy - INFO - Chain [1] start processing\n",
      "16:27:52 - cmdstanpy - INFO - Chain [1] done processing\n"
     ]
    },
    {
     "name": "stdout",
     "output_type": "stream",
     "text": [
      "Processing ASIN: B01IU1ZUNM\n",
      "No data found for ASIN: B01IU1ZUNM\n",
      "Processing ASIN: B01JLJGIEC\n",
      "No data found for ASIN: B01JLJGIEC\n",
      "Processing ASIN: B01JRV494K\n",
      "No data found for ASIN: B01JRV494K\n",
      "Processing ASIN: B01JRW3EJA\n",
      "No data found for ASIN: B01JRW3EJA\n",
      "Processing ASIN: B01K2JRGXC\n"
     ]
    },
    {
     "name": "stderr",
     "output_type": "stream",
     "text": [
      "16:27:52 - cmdstanpy - INFO - Chain [1] start processing\n",
      "16:27:53 - cmdstanpy - INFO - Chain [1] done processing\n"
     ]
    },
    {
     "name": "stdout",
     "output_type": "stream",
     "text": [
      "Processing ASIN: B01K86X4HG\n",
      "No data found for ASIN: B01K86X4HG\n",
      "Processing ASIN: B01K8IJVWG\n",
      "No data found for ASIN: B01K8IJVWG\n",
      "Processing ASIN: B01K8PEZMU\n"
     ]
    },
    {
     "name": "stderr",
     "output_type": "stream",
     "text": [
      "16:27:53 - cmdstanpy - INFO - Chain [1] start processing\n",
      "16:27:54 - cmdstanpy - INFO - Chain [1] done processing\n"
     ]
    },
    {
     "name": "stdout",
     "output_type": "stream",
     "text": [
      "Processing ASIN: B01K8XC1FU\n",
      "No data found for ASIN: B01K8XC1FU\n",
      "Processing ASIN: B01K90KCP8\n",
      "No data found for ASIN: B01K90KCP8\n",
      "Processing ASIN: B01K91YRTO\n",
      "No data found for ASIN: B01K91YRTO\n",
      "Processing ASIN: B01K93HIDO\n",
      "No data found for ASIN: B01K93HIDO\n",
      "Processing ASIN: B01KFENEXK\n",
      "No data found for ASIN: B01KFENEXK\n",
      "Processing ASIN: B01KW4Q6VU\n",
      "No data found for ASIN: B01KW4Q6VU\n",
      "Processing ASIN: B01KYFMHJC\n",
      "No data found for ASIN: B01KYFMHJC\n",
      "Processing ASIN: B01LAHAQ2I\n",
      "No data found for ASIN: B01LAHAQ2I\n",
      "Processing ASIN: B01LAJP9LE\n",
      "No data found for ASIN: B01LAJP9LE\n",
      "Processing ASIN: B01LDGNJHK\n",
      "No data found for ASIN: B01LDGNJHK\n",
      "Processing ASIN: B01LMJQ53I\n",
      "No data found for ASIN: B01LMJQ53I\n",
      "Processing ASIN: B01LW1N3YN\n",
      "No data found for ASIN: B01LW1N3YN\n",
      "Processing ASIN: B01LWMTMIW\n",
      "No data found for ASIN: B01LWMTMIW\n",
      "Processing ASIN: B01LWYNWIF\n",
      "No data found for ASIN: B01LWYNWIF\n",
      "Processing ASIN: B01LWYU1NT\n"
     ]
    },
    {
     "name": "stderr",
     "output_type": "stream",
     "text": [
      "16:27:54 - cmdstanpy - INFO - Chain [1] start processing\n",
      "16:27:55 - cmdstanpy - INFO - Chain [1] done processing\n"
     ]
    },
    {
     "name": "stdout",
     "output_type": "stream",
     "text": [
      "Processing ASIN: B01LWYV0F3\n",
      "No data found for ASIN: B01LWYV0F3\n",
      "Processing ASIN: B01LX9IIDJ\n"
     ]
    },
    {
     "name": "stderr",
     "output_type": "stream",
     "text": [
      "16:27:55 - cmdstanpy - INFO - Chain [1] start processing\n",
      "16:27:56 - cmdstanpy - INFO - Chain [1] done processing\n"
     ]
    },
    {
     "name": "stdout",
     "output_type": "stream",
     "text": [
      "Processing ASIN: B01LXALVDG\n"
     ]
    },
    {
     "name": "stderr",
     "output_type": "stream",
     "text": [
      "16:27:56 - cmdstanpy - INFO - Chain [1] start processing\n",
      "16:27:57 - cmdstanpy - INFO - Chain [1] done processing\n"
     ]
    },
    {
     "name": "stdout",
     "output_type": "stream",
     "text": [
      "Processing ASIN: B01LXMPA35\n",
      "No data found for ASIN: B01LXMPA35\n",
      "Processing ASIN: B01LXY3G5B\n",
      "No data found for ASIN: B01LXY3G5B\n",
      "Processing ASIN: B01LY9DCZ9\n",
      "No data found for ASIN: B01LY9DCZ9\n",
      "Processing ASIN: B01LY9FZHH\n",
      "No data found for ASIN: B01LY9FZHH\n",
      "Processing ASIN: B01LY9GFBF\n",
      "No data found for ASIN: B01LY9GFBF\n",
      "Processing ASIN: B01LYKQRWH\n",
      "No data found for ASIN: B01LYKQRWH\n",
      "Processing ASIN: B01LYR2KTP\n",
      "No data found for ASIN: B01LYR2KTP\n",
      "Processing ASIN: B01LZXGBZR\n"
     ]
    },
    {
     "name": "stderr",
     "output_type": "stream",
     "text": [
      "16:27:57 - cmdstanpy - INFO - Chain [1] start processing\n",
      "16:27:58 - cmdstanpy - INFO - Chain [1] done processing\n"
     ]
    },
    {
     "name": "stdout",
     "output_type": "stream",
     "text": [
      "Processing ASIN: B01M07JVC2\n"
     ]
    },
    {
     "name": "stderr",
     "output_type": "stream",
     "text": [
      "16:27:58 - cmdstanpy - INFO - Chain [1] start processing\n",
      "16:27:59 - cmdstanpy - INFO - Chain [1] done processing\n"
     ]
    },
    {
     "name": "stdout",
     "output_type": "stream",
     "text": [
      "Processing ASIN: B01M12V5G3\n",
      "No data found for ASIN: B01M12V5G3\n",
      "Processing ASIN: B01M1CJSZH\n",
      "No data found for ASIN: B01M1CJSZH\n",
      "Processing ASIN: B01MQYUZ0C\n",
      "No data found for ASIN: B01MQYUZ0C\n",
      "Processing ASIN: B01MSEKDFX\n",
      "No data found for ASIN: B01MSEKDFX\n",
      "Processing ASIN: B01MU29C2X\n",
      "No data found for ASIN: B01MU29C2X\n",
      "Processing ASIN: B01MUCO6ZU\n"
     ]
    },
    {
     "name": "stderr",
     "output_type": "stream",
     "text": [
      "16:27:59 - cmdstanpy - INFO - Chain [1] start processing\n",
      "16:28:00 - cmdstanpy - INFO - Chain [1] done processing\n"
     ]
    },
    {
     "name": "stdout",
     "output_type": "stream",
     "text": [
      "Processing ASIN: B01MY4KYSG\n",
      "No data found for ASIN: B01MY4KYSG\n",
      "Processing ASIN: B01MYA4Q1X\n",
      "No data found for ASIN: B01MYA4Q1X\n",
      "Processing ASIN: B01N1856R7\n"
     ]
    },
    {
     "name": "stderr",
     "output_type": "stream",
     "text": [
      "16:28:00 - cmdstanpy - INFO - Chain [1] start processing\n",
      "16:28:00 - cmdstanpy - INFO - Chain [1] done processing\n"
     ]
    },
    {
     "name": "stdout",
     "output_type": "stream",
     "text": [
      "Processing ASIN: B01N2W16I8\n",
      "No data found for ASIN: B01N2W16I8\n",
      "Processing ASIN: B01N35XMUC\n",
      "No data found for ASIN: B01N35XMUC\n",
      "Processing ASIN: B01N3T69R3\n",
      "No data found for ASIN: B01N3T69R3\n",
      "Processing ASIN: B01N6IHDIN\n",
      "No data found for ASIN: B01N6IHDIN\n",
      "Processing ASIN: B01N6N716A\n",
      "No data found for ASIN: B01N6N716A\n",
      "Processing ASIN: B01N7L0WA6\n",
      "No data found for ASIN: B01N7L0WA6\n",
      "Processing ASIN: B01N7OJUIT\n",
      "No data found for ASIN: B01N7OJUIT\n",
      "Processing ASIN: B01N7U6R1F\n"
     ]
    },
    {
     "name": "stderr",
     "output_type": "stream",
     "text": [
      "16:28:01 - cmdstanpy - INFO - Chain [1] start processing\n",
      "16:28:01 - cmdstanpy - INFO - Chain [1] done processing\n"
     ]
    },
    {
     "name": "stdout",
     "output_type": "stream",
     "text": [
      "Processing ASIN: B01N9EI165\n",
      "No data found for ASIN: B01N9EI165\n",
      "Processing ASIN: B01N9TLIJU\n",
      "No data found for ASIN: B01N9TLIJU\n",
      "Processing ASIN: B06XBSBTMV\n",
      "No data found for ASIN: B06XBSBTMV\n",
      "Processing ASIN: B06XC5D97Z\n",
      "No data found for ASIN: B06XC5D97Z\n",
      "Processing ASIN: B06XCCVDH7\n"
     ]
    },
    {
     "name": "stderr",
     "output_type": "stream",
     "text": [
      "16:28:02 - cmdstanpy - INFO - Chain [1] start processing\n",
      "16:28:02 - cmdstanpy - INFO - Chain [1] done processing\n"
     ]
    },
    {
     "name": "stdout",
     "output_type": "stream",
     "text": [
      "Processing ASIN: B06XDNKH65\n"
     ]
    },
    {
     "name": "stderr",
     "output_type": "stream",
     "text": [
      "16:28:02 - cmdstanpy - INFO - Chain [1] start processing\n",
      "16:28:03 - cmdstanpy - INFO - Chain [1] done processing\n"
     ]
    },
    {
     "name": "stdout",
     "output_type": "stream",
     "text": [
      "Processing ASIN: B06Y15C6CS\n",
      "No data found for ASIN: B06Y15C6CS\n",
      "Processing ASIN: B06ZZXG2CJ\n",
      "No data found for ASIN: B06ZZXG2CJ\n",
      "Processing ASIN: B071JCL3XQ\n",
      "No data found for ASIN: B071JCL3XQ\n",
      "Processing ASIN: B072YVYQVR\n",
      "No data found for ASIN: B072YVYQVR\n",
      "Processing ASIN: B0732HBHQX\n",
      "Processing ASIN: B073XXQMM9\n",
      "No data found for ASIN: B073XXQMM9\n",
      "Processing ASIN: B074WZJDLZ\n",
      "No data found for ASIN: B074WZJDLZ\n",
      "Processing ASIN: B0753LHJ8X\n",
      "No data found for ASIN: B0753LHJ8X\n",
      "Processing ASIN: B075DJ88X5\n",
      "No data found for ASIN: B075DJ88X5\n",
      "Processing ASIN: B075KWWVR6\n"
     ]
    },
    {
     "name": "stderr",
     "output_type": "stream",
     "text": [
      "16:28:03 - cmdstanpy - INFO - Chain [1] start processing\n",
      "16:28:04 - cmdstanpy - INFO - Chain [1] done processing\n"
     ]
    },
    {
     "name": "stdout",
     "output_type": "stream",
     "text": [
      "Processing ASIN: B075MSCQZJ\n",
      "No data found for ASIN: B075MSCQZJ\n",
      "Processing ASIN: B076YPNBBR\n",
      "No data found for ASIN: B076YPNBBR\n",
      "Processing ASIN: B076YQ62CH\n"
     ]
    },
    {
     "name": "stderr",
     "output_type": "stream",
     "text": [
      "16:28:04 - cmdstanpy - INFO - Chain [1] start processing\n",
      "16:28:04 - cmdstanpy - INFO - Chain [1] done processing\n"
     ]
    },
    {
     "name": "stdout",
     "output_type": "stream",
     "text": [
      "Processing ASIN: B077GP9C96\n",
      "No data found for ASIN: B077GP9C96\n",
      "Processing ASIN: B077GPTZTS\n",
      "No data found for ASIN: B077GPTZTS\n",
      "Processing ASIN: B077KDFFL1\n",
      "Processing ASIN: B078SS67K7\n",
      "No data found for ASIN: B078SS67K7\n",
      "Processing ASIN: B078W5K1T1\n",
      "No data found for ASIN: B078W5K1T1\n",
      "Processing ASIN: B079ZN8SC9\n"
     ]
    },
    {
     "name": "stderr",
     "output_type": "stream",
     "text": [
      "16:28:05 - cmdstanpy - INFO - Chain [1] start processing\n",
      "16:28:05 - cmdstanpy - INFO - Chain [1] done processing\n"
     ]
    },
    {
     "name": "stdout",
     "output_type": "stream",
     "text": [
      "Processing ASIN: B07BDQ2413\n"
     ]
    },
    {
     "name": "stderr",
     "output_type": "stream",
     "text": [
      "16:28:06 - cmdstanpy - INFO - Chain [1] start processing\n",
      "16:28:06 - cmdstanpy - INFO - Chain [1] done processing\n"
     ]
    },
    {
     "name": "stdout",
     "output_type": "stream",
     "text": [
      "Processing ASIN: B07C39LV4Z\n",
      "No data found for ASIN: B07C39LV4Z\n",
      "Processing ASIN: B07C5B9C16\n",
      "No data found for ASIN: B07C5B9C16\n",
      "Processing ASIN: B07CP15TC6\n"
     ]
    },
    {
     "name": "stderr",
     "output_type": "stream",
     "text": [
      "16:28:06 - cmdstanpy - INFO - Chain [1] start processing\n",
      "16:28:07 - cmdstanpy - INFO - Chain [1] done processing\n"
     ]
    },
    {
     "name": "stdout",
     "output_type": "stream",
     "text": [
      "Processing ASIN: B07CP3X2K3\n",
      "No data found for ASIN: B07CP3X2K3\n",
      "Processing ASIN: B07DJYGCHC\n",
      "No data found for ASIN: B07DJYGCHC\n",
      "Processing ASIN: B07DPWB7LW\n",
      "No data found for ASIN: B07DPWB7LW\n",
      "Processing ASIN: B07DX6RZ7G\n",
      "Processing ASIN: B07F1FL4DF\n",
      "Processing ASIN: B07F7G3PJW\n",
      "No data found for ASIN: B07F7G3PJW\n",
      "Processing ASIN: B07F7HCD73\n",
      "Processing ASIN: B07G2M6FHP\n"
     ]
    },
    {
     "name": "stderr",
     "output_type": "stream",
     "text": [
      "16:28:08 - cmdstanpy - INFO - Chain [1] start processing\n",
      "16:28:09 - cmdstanpy - INFO - Chain [1] done processing\n"
     ]
    },
    {
     "name": "stdout",
     "output_type": "stream",
     "text": [
      "Processing ASIN: B07G3MBG8C\n",
      "Processing ASIN: B07G3MKDG7\n",
      "Processing ASIN: B07G4LZDJH\n",
      "No data found for ASIN: B07G4LZDJH\n",
      "Processing ASIN: B07G7J87P3\n"
     ]
    },
    {
     "name": "stderr",
     "output_type": "stream",
     "text": [
      "16:28:10 - cmdstanpy - INFO - Chain [1] start processing\n",
      "16:28:10 - cmdstanpy - INFO - Chain [1] done processing\n"
     ]
    },
    {
     "name": "stdout",
     "output_type": "stream",
     "text": [
      "Processing ASIN: B07G7LPY5C\n",
      "No data found for ASIN: B07G7LPY5C\n",
      "Processing ASIN: B07G7LTQ9Q\n",
      "No data found for ASIN: B07G7LTQ9Q\n",
      "Processing ASIN: B07G7QVSZT\n"
     ]
    },
    {
     "name": "stderr",
     "output_type": "stream",
     "text": [
      "16:28:11 - cmdstanpy - INFO - Chain [1] start processing\n",
      "16:28:11 - cmdstanpy - INFO - Chain [1] done processing\n"
     ]
    },
    {
     "name": "stdout",
     "output_type": "stream",
     "text": [
      "Processing ASIN: B07G8J8F3Z\n",
      "No data found for ASIN: B07G8J8F3Z\n",
      "Processing ASIN: B07G8JN3NF\n",
      "No data found for ASIN: B07G8JN3NF\n",
      "Processing ASIN: B07G8JTRDX\n",
      "No data found for ASIN: B07G8JTRDX\n",
      "Processing ASIN: B07G8K7VT1\n",
      "No data found for ASIN: B07G8K7VT1\n",
      "Processing ASIN: B07G8KG4S7\n",
      "Processing ASIN: B07G8LV6PV\n",
      "No data found for ASIN: B07G8LV6PV\n",
      "Processing ASIN: B07G8LV7KX\n"
     ]
    },
    {
     "name": "stderr",
     "output_type": "stream",
     "text": [
      "16:28:13 - cmdstanpy - INFO - Chain [1] start processing\n",
      "16:28:13 - cmdstanpy - INFO - Chain [1] done processing\n"
     ]
    },
    {
     "name": "stdout",
     "output_type": "stream",
     "text": [
      "Processing ASIN: B07G8LY9HB\n",
      "No data found for ASIN: B07G8LY9HB\n",
      "Processing ASIN: B07G8M3DTX\n"
     ]
    },
    {
     "name": "stderr",
     "output_type": "stream",
     "text": [
      "16:28:14 - cmdstanpy - INFO - Chain [1] start processing\n",
      "16:28:14 - cmdstanpy - INFO - Chain [1] done processing\n"
     ]
    },
    {
     "name": "stdout",
     "output_type": "stream",
     "text": [
      "Processing ASIN: B07G8M4M46\n",
      "Processing ASIN: B07G8MDG19\n"
     ]
    },
    {
     "name": "stderr",
     "output_type": "stream",
     "text": [
      "16:28:15 - cmdstanpy - INFO - Chain [1] start processing\n",
      "16:28:15 - cmdstanpy - INFO - Chain [1] done processing\n"
     ]
    },
    {
     "name": "stdout",
     "output_type": "stream",
     "text": [
      "Processing ASIN: B07G8MHVXQ\n",
      "No data found for ASIN: B07G8MHVXQ\n",
      "Processing ASIN: B07G8MK45Z\n",
      "No data found for ASIN: B07G8MK45Z\n",
      "Processing ASIN: B07G8MPT3N\n",
      "No data found for ASIN: B07G8MPT3N\n",
      "Processing ASIN: B07G8N5ZP4\n",
      "No data found for ASIN: B07G8N5ZP4\n",
      "Processing ASIN: B07G8NDRF7\n"
     ]
    },
    {
     "name": "stderr",
     "output_type": "stream",
     "text": [
      "16:28:16 - cmdstanpy - INFO - Chain [1] start processing\n",
      "16:28:16 - cmdstanpy - INFO - Chain [1] done processing\n"
     ]
    },
    {
     "name": "stdout",
     "output_type": "stream",
     "text": [
      "Processing ASIN: B07G8P6NMW\n",
      "No data found for ASIN: B07G8P6NMW\n",
      "Processing ASIN: B07G8Q4WG2\n"
     ]
    },
    {
     "name": "stderr",
     "output_type": "stream",
     "text": [
      "16:28:17 - cmdstanpy - INFO - Chain [1] start processing\n",
      "16:28:17 - cmdstanpy - INFO - Chain [1] done processing\n"
     ]
    },
    {
     "name": "stdout",
     "output_type": "stream",
     "text": [
      "Processing ASIN: B07G8QZ4DY\n"
     ]
    },
    {
     "name": "stderr",
     "output_type": "stream",
     "text": [
      "16:28:17 - cmdstanpy - INFO - Chain [1] start processing\n",
      "16:28:18 - cmdstanpy - INFO - Chain [1] done processing\n"
     ]
    },
    {
     "name": "stdout",
     "output_type": "stream",
     "text": [
      "Processing ASIN: B07GHC8QB5\n"
     ]
    },
    {
     "name": "stderr",
     "output_type": "stream",
     "text": [
      "16:28:18 - cmdstanpy - INFO - Chain [1] start processing\n",
      "16:28:18 - cmdstanpy - INFO - Chain [1] done processing\n"
     ]
    },
    {
     "name": "stdout",
     "output_type": "stream",
     "text": [
      "Processing ASIN: B07GJ7P4DQ\n",
      "No data found for ASIN: B07GJ7P4DQ\n",
      "Processing ASIN: B07GNZP9P5\n",
      "No data found for ASIN: B07GNZP9P5\n",
      "Processing ASIN: B07GPDRXDF\n",
      "Processing ASIN: B07GPHG3L7\n"
     ]
    },
    {
     "name": "stderr",
     "output_type": "stream",
     "text": [
      "16:28:19 - cmdstanpy - INFO - Chain [1] start processing\n",
      "16:28:19 - cmdstanpy - INFO - Chain [1] done processing\n"
     ]
    },
    {
     "name": "stdout",
     "output_type": "stream",
     "text": [
      "Processing ASIN: B07GPK352D\n"
     ]
    },
    {
     "name": "stderr",
     "output_type": "stream",
     "text": [
      "16:28:20 - cmdstanpy - INFO - Chain [1] start processing\n",
      "16:28:20 - cmdstanpy - INFO - Chain [1] done processing\n"
     ]
    },
    {
     "name": "stdout",
     "output_type": "stream",
     "text": [
      "Processing ASIN: B07GPM6Q4Q\n"
     ]
    },
    {
     "name": "stderr",
     "output_type": "stream",
     "text": [
      "16:28:20 - cmdstanpy - INFO - Chain [1] start processing\n",
      "16:28:21 - cmdstanpy - INFO - Chain [1] done processing\n"
     ]
    },
    {
     "name": "stdout",
     "output_type": "stream",
     "text": [
      "Processing ASIN: B07GPNQZSG\n"
     ]
    },
    {
     "name": "stderr",
     "output_type": "stream",
     "text": [
      "16:28:21 - cmdstanpy - INFO - Chain [1] start processing\n",
      "16:28:21 - cmdstanpy - INFO - Chain [1] done processing\n"
     ]
    },
    {
     "name": "stdout",
     "output_type": "stream",
     "text": [
      "Processing ASIN: B07GPS2MCV\n"
     ]
    },
    {
     "name": "stderr",
     "output_type": "stream",
     "text": [
      "16:28:22 - cmdstanpy - INFO - Chain [1] start processing\n",
      "16:28:22 - cmdstanpy - INFO - Chain [1] done processing\n"
     ]
    },
    {
     "name": "stdout",
     "output_type": "stream",
     "text": [
      "Processing ASIN: B07GPWVC4F\n",
      "No data found for ASIN: B07GPWVC4F\n",
      "Processing ASIN: B07GPWX8CF\n",
      "No data found for ASIN: B07GPWX8CF\n",
      "Processing ASIN: B07GPXSBDW\n"
     ]
    },
    {
     "name": "stderr",
     "output_type": "stream",
     "text": [
      "16:28:22 - cmdstanpy - INFO - Chain [1] start processing\n",
      "16:28:23 - cmdstanpy - INFO - Chain [1] done processing\n"
     ]
    },
    {
     "name": "stdout",
     "output_type": "stream",
     "text": [
      "Processing ASIN: B07GQ4N8KR\n"
     ]
    },
    {
     "name": "stderr",
     "output_type": "stream",
     "text": [
      "16:28:23 - cmdstanpy - INFO - Chain [1] start processing\n",
      "16:28:23 - cmdstanpy - INFO - Chain [1] done processing\n"
     ]
    },
    {
     "name": "stdout",
     "output_type": "stream",
     "text": [
      "Processing ASIN: B07H8JL7MV\n",
      "No data found for ASIN: B07H8JL7MV\n",
      "Processing ASIN: B07H8KP1PB\n",
      "No data found for ASIN: B07H8KP1PB\n",
      "Processing ASIN: B07HFFGFWD\n",
      "Processing ASIN: B07HFFMY2X\n"
     ]
    },
    {
     "name": "stderr",
     "output_type": "stream",
     "text": [
      "16:28:24 - cmdstanpy - INFO - Chain [1] start processing\n",
      "16:28:24 - cmdstanpy - INFO - Chain [1] done processing\n"
     ]
    },
    {
     "name": "stdout",
     "output_type": "stream",
     "text": [
      "Processing ASIN: B07HGG6VX4\n"
     ]
    },
    {
     "name": "stderr",
     "output_type": "stream",
     "text": [
      "16:28:25 - cmdstanpy - INFO - Chain [1] start processing\n",
      "16:28:25 - cmdstanpy - INFO - Chain [1] done processing\n"
     ]
    },
    {
     "name": "stdout",
     "output_type": "stream",
     "text": [
      "Processing ASIN: B07HPFYQLB\n",
      "No data found for ASIN: B07HPFYQLB\n",
      "Processing ASIN: B07HQ4Q4GY\n"
     ]
    },
    {
     "name": "stderr",
     "output_type": "stream",
     "text": [
      "16:28:26 - cmdstanpy - INFO - Chain [1] start processing\n",
      "16:28:26 - cmdstanpy - INFO - Chain [1] done processing\n"
     ]
    },
    {
     "name": "stdout",
     "output_type": "stream",
     "text": [
      "Processing ASIN: B07HQ4YBSS\n",
      "No data found for ASIN: B07HQ4YBSS\n",
      "Processing ASIN: B07HQGK7L4\n",
      "No data found for ASIN: B07HQGK7L4\n",
      "Processing ASIN: B07HRCY6ND\n",
      "Processing ASIN: B07J2BTN19\n"
     ]
    },
    {
     "name": "stderr",
     "output_type": "stream",
     "text": [
      "16:28:27 - cmdstanpy - INFO - Chain [1] start processing\n",
      "16:28:28 - cmdstanpy - INFO - Chain [1] done processing\n"
     ]
    },
    {
     "name": "stdout",
     "output_type": "stream",
     "text": [
      "Processing ASIN: B07JD9FS28\n"
     ]
    },
    {
     "name": "stderr",
     "output_type": "stream",
     "text": [
      "16:28:28 - cmdstanpy - INFO - Chain [1] start processing\n",
      "16:28:29 - cmdstanpy - INFO - Chain [1] done processing\n"
     ]
    },
    {
     "name": "stdout",
     "output_type": "stream",
     "text": [
      "Processing ASIN: B07LC2R52N\n"
     ]
    },
    {
     "name": "stderr",
     "output_type": "stream",
     "text": [
      "16:28:29 - cmdstanpy - INFO - Chain [1] start processing\n",
      "16:28:30 - cmdstanpy - INFO - Chain [1] done processing\n"
     ]
    },
    {
     "name": "stdout",
     "output_type": "stream",
     "text": [
      "Processing ASIN: B07LC39RQ2\n"
     ]
    },
    {
     "name": "stderr",
     "output_type": "stream",
     "text": [
      "16:28:30 - cmdstanpy - INFO - Chain [1] start processing\n",
      "16:28:30 - cmdstanpy - INFO - Chain [1] done processing\n"
     ]
    },
    {
     "name": "stdout",
     "output_type": "stream",
     "text": [
      "Processing ASIN: B07LC44XSS\n"
     ]
    },
    {
     "name": "stderr",
     "output_type": "stream",
     "text": [
      "16:28:31 - cmdstanpy - INFO - Chain [1] start processing\n",
      "16:28:31 - cmdstanpy - INFO - Chain [1] done processing\n"
     ]
    },
    {
     "name": "stdout",
     "output_type": "stream",
     "text": [
      "Processing ASIN: B07LD3HRX5\n"
     ]
    },
    {
     "name": "stderr",
     "output_type": "stream",
     "text": [
      "16:28:32 - cmdstanpy - INFO - Chain [1] start processing\n",
      "16:28:32 - cmdstanpy - INFO - Chain [1] done processing\n"
     ]
    },
    {
     "name": "stdout",
     "output_type": "stream",
     "text": [
      "Processing ASIN: B07M6TF42M\n"
     ]
    },
    {
     "name": "stderr",
     "output_type": "stream",
     "text": [
      "16:28:32 - cmdstanpy - INFO - Chain [1] start processing\n",
      "16:28:33 - cmdstanpy - INFO - Chain [1] done processing\n"
     ]
    },
    {
     "name": "stdout",
     "output_type": "stream",
     "text": [
      "Processing ASIN: B07N2GRLKB\n",
      "No data found for ASIN: B07N2GRLKB\n",
      "Processing ASIN: B07N2GXFVK\n"
     ]
    },
    {
     "name": "stderr",
     "output_type": "stream",
     "text": [
      "16:28:33 - cmdstanpy - INFO - Chain [1] start processing\n",
      "16:28:33 - cmdstanpy - INFO - Chain [1] done processing\n"
     ]
    },
    {
     "name": "stdout",
     "output_type": "stream",
     "text": [
      "Processing ASIN: B07N2LSXR9\n",
      "No data found for ASIN: B07N2LSXR9\n",
      "Processing ASIN: B07NCXHRZ7\n",
      "Processing ASIN: B07NF9S9FT\n",
      "Processing ASIN: B07NQSTXL1\n"
     ]
    },
    {
     "name": "stderr",
     "output_type": "stream",
     "text": [
      "16:28:35 - cmdstanpy - INFO - Chain [1] start processing\n",
      "16:28:35 - cmdstanpy - INFO - Chain [1] done processing\n"
     ]
    },
    {
     "name": "stdout",
     "output_type": "stream",
     "text": [
      "Processing ASIN: B07NS43346\n"
     ]
    },
    {
     "name": "stderr",
     "output_type": "stream",
     "text": [
      "16:28:36 - cmdstanpy - INFO - Chain [1] start processing\n",
      "16:28:36 - cmdstanpy - INFO - Chain [1] done processing\n"
     ]
    },
    {
     "name": "stdout",
     "output_type": "stream",
     "text": [
      "Processing ASIN: B07NS6C8Y9\n"
     ]
    },
    {
     "name": "stderr",
     "output_type": "stream",
     "text": [
      "16:28:37 - cmdstanpy - INFO - Chain [1] start processing\n",
      "16:28:37 - cmdstanpy - INFO - Chain [1] done processing\n"
     ]
    },
    {
     "name": "stdout",
     "output_type": "stream",
     "text": [
      "Processing ASIN: B07NSF3K1Y\n"
     ]
    },
    {
     "name": "stderr",
     "output_type": "stream",
     "text": [
      "16:28:38 - cmdstanpy - INFO - Chain [1] start processing\n",
      "16:28:38 - cmdstanpy - INFO - Chain [1] done processing\n"
     ]
    },
    {
     "name": "stdout",
     "output_type": "stream",
     "text": [
      "Processing ASIN: B07NY3P5B3\n",
      "Processing ASIN: B07P3WRN9L\n"
     ]
    },
    {
     "name": "stderr",
     "output_type": "stream",
     "text": [
      "16:28:39 - cmdstanpy - INFO - Chain [1] start processing\n",
      "16:28:40 - cmdstanpy - INFO - Chain [1] done processing\n"
     ]
    },
    {
     "name": "stdout",
     "output_type": "stream",
     "text": [
      "Processing ASIN: B07P528MHM\n"
     ]
    },
    {
     "name": "stderr",
     "output_type": "stream",
     "text": [
      "16:28:40 - cmdstanpy - INFO - Chain [1] start processing\n",
      "16:28:40 - cmdstanpy - INFO - Chain [1] done processing\n"
     ]
    },
    {
     "name": "stdout",
     "output_type": "stream",
     "text": [
      "Processing ASIN: B07PNRNWBM\n",
      "Processing ASIN: B07PPJLSRW\n"
     ]
    },
    {
     "name": "stderr",
     "output_type": "stream",
     "text": [
      "16:28:41 - cmdstanpy - INFO - Chain [1] start processing\n",
      "16:28:42 - cmdstanpy - INFO - Chain [1] done processing\n"
     ]
    },
    {
     "name": "stdout",
     "output_type": "stream",
     "text": [
      "Processing ASIN: B07PPWQX7X\n"
     ]
    },
    {
     "name": "stderr",
     "output_type": "stream",
     "text": [
      "16:28:42 - cmdstanpy - INFO - Chain [1] start processing\n",
      "16:28:42 - cmdstanpy - INFO - Chain [1] done processing\n"
     ]
    },
    {
     "name": "stdout",
     "output_type": "stream",
     "text": [
      "Processing ASIN: B07PQWXW5B\n"
     ]
    },
    {
     "name": "stderr",
     "output_type": "stream",
     "text": [
      "16:28:43 - cmdstanpy - INFO - Chain [1] start processing\n",
      "16:28:44 - cmdstanpy - INFO - Chain [1] done processing\n"
     ]
    },
    {
     "name": "stdout",
     "output_type": "stream",
     "text": [
      "Processing ASIN: B07PRDSY6J\n"
     ]
    },
    {
     "name": "stderr",
     "output_type": "stream",
     "text": [
      "16:28:44 - cmdstanpy - INFO - Chain [1] start processing\n",
      "16:28:44 - cmdstanpy - INFO - Chain [1] done processing\n"
     ]
    },
    {
     "name": "stdout",
     "output_type": "stream",
     "text": [
      "Processing ASIN: B07QXV6T4K\n",
      "Processing ASIN: B07R27WXXB\n"
     ]
    },
    {
     "name": "stderr",
     "output_type": "stream",
     "text": [
      "16:28:46 - cmdstanpy - INFO - Chain [1] start processing\n",
      "16:28:46 - cmdstanpy - INFO - Chain [1] done processing\n"
     ]
    },
    {
     "name": "stdout",
     "output_type": "stream",
     "text": [
      "Processing ASIN: B07R39354D\n"
     ]
    },
    {
     "name": "stderr",
     "output_type": "stream",
     "text": [
      "16:28:46 - cmdstanpy - INFO - Chain [1] start processing\n",
      "16:28:47 - cmdstanpy - INFO - Chain [1] done processing\n"
     ]
    },
    {
     "name": "stdout",
     "output_type": "stream",
     "text": [
      "Processing ASIN: B07R56QYWH\n"
     ]
    },
    {
     "name": "stderr",
     "output_type": "stream",
     "text": [
      "16:28:48 - cmdstanpy - INFO - Chain [1] start processing\n",
      "16:28:48 - cmdstanpy - INFO - Chain [1] done processing\n"
     ]
    },
    {
     "name": "stdout",
     "output_type": "stream",
     "text": [
      "Processing ASIN: B07RM9DR6C\n"
     ]
    },
    {
     "name": "stderr",
     "output_type": "stream",
     "text": [
      "16:28:49 - cmdstanpy - INFO - Chain [1] start processing\n",
      "16:28:49 - cmdstanpy - INFO - Chain [1] done processing\n"
     ]
    },
    {
     "name": "stdout",
     "output_type": "stream",
     "text": [
      "Processing ASIN: B07SC59HR7\n",
      "Processing ASIN: B07SGCBRZX\n",
      "No data found for ASIN: B07SGCBRZX\n",
      "Processing ASIN: B07SQHFP52\n",
      "No data found for ASIN: B07SQHFP52\n",
      "Processing ASIN: B07TKD35BH\n",
      "No data found for ASIN: B07TKD35BH\n",
      "Processing ASIN: B07TKZRNGZ\n",
      "No data found for ASIN: B07TKZRNGZ\n",
      "Processing ASIN: B07TL82G4B\n"
     ]
    },
    {
     "name": "stderr",
     "output_type": "stream",
     "text": [
      "16:28:50 - cmdstanpy - INFO - Chain [1] start processing\n",
      "16:28:51 - cmdstanpy - INFO - Chain [1] done processing\n"
     ]
    },
    {
     "name": "stdout",
     "output_type": "stream",
     "text": [
      "Processing ASIN: B07VXK2RX4\n",
      "Processing ASIN: B07WS32W25\n",
      "Processing ASIN: B07WT7MQ6C\n"
     ]
    },
    {
     "name": "stderr",
     "output_type": "stream",
     "text": [
      "16:28:52 - cmdstanpy - INFO - Chain [1] start processing\n",
      "16:28:52 - cmdstanpy - INFO - Chain [1] done processing\n"
     ]
    },
    {
     "name": "stdout",
     "output_type": "stream",
     "text": [
      "Processing ASIN: B07XHNP8FC\n"
     ]
    },
    {
     "name": "stderr",
     "output_type": "stream",
     "text": [
      "16:28:52 - cmdstanpy - INFO - Chain [1] start processing\n",
      "16:28:53 - cmdstanpy - INFO - Chain [1] done processing\n"
     ]
    },
    {
     "name": "stdout",
     "output_type": "stream",
     "text": [
      "Processing ASIN: B07XKBVRXW\n",
      "Processing ASIN: B07XSN63KL\n"
     ]
    },
    {
     "name": "stderr",
     "output_type": "stream",
     "text": [
      "16:28:53 - cmdstanpy - INFO - Chain [1] start processing\n",
      "16:28:54 - cmdstanpy - INFO - Chain [1] done processing\n"
     ]
    },
    {
     "name": "stdout",
     "output_type": "stream",
     "text": [
      "Processing ASIN: B07Y29JGSK\n"
     ]
    },
    {
     "name": "stderr",
     "output_type": "stream",
     "text": [
      "16:28:54 - cmdstanpy - INFO - Chain [1] start processing\n",
      "16:28:55 - cmdstanpy - INFO - Chain [1] done processing\n"
     ]
    },
    {
     "name": "stdout",
     "output_type": "stream",
     "text": [
      "Processing ASIN: B07ZJT647G\n"
     ]
    },
    {
     "name": "stderr",
     "output_type": "stream",
     "text": [
      "16:28:55 - cmdstanpy - INFO - Chain [1] start processing\n",
      "16:28:55 - cmdstanpy - INFO - Chain [1] done processing\n"
     ]
    },
    {
     "name": "stdout",
     "output_type": "stream",
     "text": [
      "Processing ASIN: B081C84KCS\n"
     ]
    },
    {
     "name": "stderr",
     "output_type": "stream",
     "text": [
      "16:28:56 - cmdstanpy - INFO - Chain [1] start processing\n",
      "16:28:56 - cmdstanpy - INFO - Chain [1] done processing\n"
     ]
    },
    {
     "name": "stdout",
     "output_type": "stream",
     "text": [
      "Processing ASIN: B082BG9JJC\n"
     ]
    },
    {
     "name": "stderr",
     "output_type": "stream",
     "text": [
      "16:28:56 - cmdstanpy - INFO - Chain [1] start processing\n",
      "16:28:56 - cmdstanpy - INFO - Chain [1] done processing\n"
     ]
    },
    {
     "name": "stdout",
     "output_type": "stream",
     "text": [
      "Processing ASIN: B082PH769D\n"
     ]
    },
    {
     "name": "stderr",
     "output_type": "stream",
     "text": [
      "16:28:57 - cmdstanpy - INFO - Chain [1] start processing\n",
      "16:28:58 - cmdstanpy - INFO - Chain [1] done processing\n"
     ]
    },
    {
     "name": "stdout",
     "output_type": "stream",
     "text": [
      "Processing ASIN: B082TLTQGB\n"
     ]
    },
    {
     "name": "stderr",
     "output_type": "stream",
     "text": [
      "16:28:58 - cmdstanpy - INFO - Chain [1] start processing\n",
      "16:28:59 - cmdstanpy - INFO - Chain [1] done processing\n"
     ]
    },
    {
     "name": "stdout",
     "output_type": "stream",
     "text": [
      "Processing ASIN: B082TW3YFH\n",
      "No data found for ASIN: B082TW3YFH\n",
      "Processing ASIN: B082XJ6HRF\n"
     ]
    },
    {
     "name": "stderr",
     "output_type": "stream",
     "text": [
      "16:28:59 - cmdstanpy - INFO - Chain [1] start processing\n",
      "16:29:00 - cmdstanpy - INFO - Chain [1] done processing\n"
     ]
    },
    {
     "name": "stdout",
     "output_type": "stream",
     "text": [
      "Processing ASIN: B083F4KNSV\n"
     ]
    },
    {
     "name": "stderr",
     "output_type": "stream",
     "text": [
      "16:29:00 - cmdstanpy - INFO - Chain [1] start processing\n",
      "16:29:01 - cmdstanpy - INFO - Chain [1] done processing\n"
     ]
    },
    {
     "name": "stdout",
     "output_type": "stream",
     "text": [
      "Processing ASIN: B083F6JJ2Q\n"
     ]
    },
    {
     "name": "stderr",
     "output_type": "stream",
     "text": [
      "16:29:01 - cmdstanpy - INFO - Chain [1] start processing\n",
      "16:29:02 - cmdstanpy - INFO - Chain [1] done processing\n"
     ]
    },
    {
     "name": "stdout",
     "output_type": "stream",
     "text": [
      "Processing ASIN: B084HPS72C\n",
      "Processing ASIN: B084RYWVLV\n"
     ]
    },
    {
     "name": "stderr",
     "output_type": "stream",
     "text": [
      "16:29:03 - cmdstanpy - INFO - Chain [1] start processing\n",
      "16:29:03 - cmdstanpy - INFO - Chain [1] done processing\n"
     ]
    },
    {
     "name": "stdout",
     "output_type": "stream",
     "text": [
      "Processing ASIN: B0859M79CD\n"
     ]
    },
    {
     "name": "stderr",
     "output_type": "stream",
     "text": [
      "16:29:04 - cmdstanpy - INFO - Chain [1] start processing\n",
      "16:29:04 - cmdstanpy - INFO - Chain [1] done processing\n"
     ]
    },
    {
     "name": "stdout",
     "output_type": "stream",
     "text": [
      "Processing ASIN: B085KS85KX\n"
     ]
    },
    {
     "name": "stderr",
     "output_type": "stream",
     "text": [
      "16:29:04 - cmdstanpy - INFO - Chain [1] start processing\n",
      "16:29:05 - cmdstanpy - INFO - Chain [1] done processing\n"
     ]
    },
    {
     "name": "stdout",
     "output_type": "stream",
     "text": [
      "Processing ASIN: B085KW8Z1S\n"
     ]
    },
    {
     "name": "stderr",
     "output_type": "stream",
     "text": [
      "16:29:05 - cmdstanpy - INFO - Chain [1] start processing\n",
      "16:29:05 - cmdstanpy - INFO - Chain [1] done processing\n"
     ]
    },
    {
     "name": "stdout",
     "output_type": "stream",
     "text": [
      "Processing ASIN: B085P3BFKV\n",
      "Processing ASIN: B085WZ5187\n"
     ]
    },
    {
     "name": "stderr",
     "output_type": "stream",
     "text": [
      "16:29:06 - cmdstanpy - INFO - Chain [1] start processing\n",
      "16:29:06 - cmdstanpy - INFO - Chain [1] done processing\n"
     ]
    },
    {
     "name": "stdout",
     "output_type": "stream",
     "text": [
      "Processing ASIN: B0861DW1YC\n",
      "No data found for ASIN: B0861DW1YC\n",
      "Processing ASIN: B08682PYNV\n",
      "No data found for ASIN: B08682PYNV\n",
      "Processing ASIN: B086GFZBKZ\n",
      "No data found for ASIN: B086GFZBKZ\n",
      "Processing ASIN: B0871MYG6R\n",
      "Processing ASIN: B088PBW37Q\n",
      "Processing ASIN: B08B85MWMX\n"
     ]
    },
    {
     "name": "stderr",
     "output_type": "stream",
     "text": [
      "16:29:07 - cmdstanpy - INFO - Chain [1] start processing\n",
      "16:29:07 - cmdstanpy - INFO - Chain [1] done processing\n"
     ]
    },
    {
     "name": "stdout",
     "output_type": "stream",
     "text": [
      "Processing ASIN: B08B89NVSH\n",
      "No data found for ASIN: B08B89NVSH\n",
      "Processing ASIN: B08BDBZMXV\n"
     ]
    },
    {
     "name": "stderr",
     "output_type": "stream",
     "text": [
      "16:29:08 - cmdstanpy - INFO - Chain [1] start processing\n",
      "16:29:08 - cmdstanpy - INFO - Chain [1] done processing\n"
     ]
    },
    {
     "name": "stdout",
     "output_type": "stream",
     "text": [
      "Processing ASIN: B08BG67576\n"
     ]
    },
    {
     "name": "stderr",
     "output_type": "stream",
     "text": [
      "16:29:09 - cmdstanpy - INFO - Chain [1] start processing\n",
      "16:29:09 - cmdstanpy - INFO - Chain [1] done processing\n"
     ]
    },
    {
     "name": "stdout",
     "output_type": "stream",
     "text": [
      "Processing ASIN: B08BWL3SMY\n",
      "No data found for ASIN: B08BWL3SMY\n",
      "Processing ASIN: B08D2HWV3K\n",
      "Processing ASIN: B08DJXYRF1\n"
     ]
    },
    {
     "name": "stderr",
     "output_type": "stream",
     "text": [
      "16:29:10 - cmdstanpy - INFO - Chain [1] start processing\n",
      "16:29:10 - cmdstanpy - INFO - Chain [1] done processing\n"
     ]
    },
    {
     "name": "stdout",
     "output_type": "stream",
     "text": [
      "Processing ASIN: B08DK8CH4L\n",
      "Processing ASIN: B08DKBBYXQ\n",
      "Processing ASIN: B08HBRN53J\n",
      "No data found for ASIN: B08HBRN53J\n",
      "Processing ASIN: B08HNFNTJQ\n"
     ]
    },
    {
     "name": "stderr",
     "output_type": "stream",
     "text": [
      "16:29:11 - cmdstanpy - INFO - Chain [1] start processing\n",
      "16:29:11 - cmdstanpy - INFO - Chain [1] done processing\n"
     ]
    },
    {
     "name": "stdout",
     "output_type": "stream",
     "text": [
      "Processing ASIN: B08HPS9NQ5\n"
     ]
    },
    {
     "name": "stderr",
     "output_type": "stream",
     "text": [
      "16:29:12 - cmdstanpy - INFO - Chain [1] start processing\n",
      "16:29:12 - cmdstanpy - INFO - Chain [1] done processing\n"
     ]
    },
    {
     "name": "stdout",
     "output_type": "stream",
     "text": [
      "Processing ASIN: B08HR8HPPG\n",
      "Processing ASIN: B08K3M16PR\n",
      "No data found for ASIN: B08K3M16PR\n",
      "Processing ASIN: B08K9CDH4Y\n"
     ]
    },
    {
     "name": "stderr",
     "output_type": "stream",
     "text": [
      "16:29:13 - cmdstanpy - INFO - Chain [1] start processing\n",
      "16:29:14 - cmdstanpy - INFO - Chain [1] done processing\n"
     ]
    },
    {
     "name": "stdout",
     "output_type": "stream",
     "text": [
      "Processing ASIN: B08KGHD5L9\n"
     ]
    },
    {
     "name": "stderr",
     "output_type": "stream",
     "text": [
      "16:29:14 - cmdstanpy - INFO - Chain [1] start processing\n",
      "16:29:15 - cmdstanpy - INFO - Chain [1] done processing\n"
     ]
    },
    {
     "name": "stdout",
     "output_type": "stream",
     "text": [
      "Processing ASIN: B08KGXZHFS\n",
      "Processing ASIN: B08KHYTWKV\n",
      "No data found for ASIN: B08KHYTWKV\n",
      "Processing ASIN: B08KSFZXPB\n"
     ]
    },
    {
     "name": "stderr",
     "output_type": "stream",
     "text": [
      "16:29:16 - cmdstanpy - INFO - Chain [1] start processing\n",
      "16:29:16 - cmdstanpy - INFO - Chain [1] done processing\n"
     ]
    },
    {
     "name": "stdout",
     "output_type": "stream",
     "text": [
      "Processing ASIN: B08KSLPPLD\n",
      "Processing ASIN: B08KSMJ6TX\n",
      "Processing ASIN: B08KTYDNTT\n",
      "Processing ASIN: B08KWR1LTS\n",
      "Processing ASIN: B08KWRJKHR\n",
      "Processing ASIN: B08KWRYH5F\n",
      "Processing ASIN: B08KWSNPBY\n",
      "No data found for ASIN: B08KWSNPBY\n",
      "Processing ASIN: B08KXPQ9SJ\n",
      "No data found for ASIN: B08KXPQ9SJ\n",
      "Processing ASIN: B08KXQH58T\n",
      "No data found for ASIN: B08KXQH58T\n",
      "Processing ASIN: B08KXVJQZV\n",
      "No data found for ASIN: B08KXVJQZV\n",
      "Processing ASIN: B08KXXVV5T\n",
      "No data found for ASIN: B08KXXVV5T\n",
      "Processing ASIN: B08L3XW7CW\n"
     ]
    },
    {
     "name": "stderr",
     "output_type": "stream",
     "text": [
      "16:29:19 - cmdstanpy - INFO - Chain [1] start processing\n",
      "16:29:20 - cmdstanpy - INFO - Chain [1] done processing\n"
     ]
    },
    {
     "name": "stdout",
     "output_type": "stream",
     "text": [
      "Processing ASIN: B08L3Z6CW4\n",
      "Processing ASIN: B08L3ZZFGB\n",
      "No data found for ASIN: B08L3ZZFGB\n",
      "Processing ASIN: B08L41RB8F\n"
     ]
    },
    {
     "name": "stderr",
     "output_type": "stream",
     "text": [
      "16:29:20 - cmdstanpy - INFO - Chain [1] start processing\n",
      "16:29:21 - cmdstanpy - INFO - Chain [1] done processing\n"
     ]
    },
    {
     "name": "stdout",
     "output_type": "stream",
     "text": [
      "Processing ASIN: B08L43ZVXY\n",
      "Processing ASIN: B08L5LBXTT\n",
      "No data found for ASIN: B08L5LBXTT\n",
      "Processing ASIN: B08L8G69LG\n",
      "No data found for ASIN: B08L8G69LG\n",
      "Processing ASIN: B08L8GTWFV\n"
     ]
    },
    {
     "name": "stderr",
     "output_type": "stream",
     "text": [
      "16:29:21 - cmdstanpy - INFO - Chain [1] start processing\n",
      "16:29:22 - cmdstanpy - INFO - Chain [1] done processing\n"
     ]
    },
    {
     "name": "stdout",
     "output_type": "stream",
     "text": [
      "Processing ASIN: B08PF7PTWC\n",
      "Processing ASIN: B08QDKV99N\n"
     ]
    },
    {
     "name": "stderr",
     "output_type": "stream",
     "text": [
      "16:29:22 - cmdstanpy - INFO - Chain [1] start processing\n",
      "16:29:23 - cmdstanpy - INFO - Chain [1] done processing\n"
     ]
    },
    {
     "name": "stdout",
     "output_type": "stream",
     "text": [
      "Processing ASIN: B08QXB6H5P\n",
      "No data found for ASIN: B08QXB6H5P\n",
      "Processing ASIN: B08VW53HN6\n"
     ]
    },
    {
     "name": "stderr",
     "output_type": "stream",
     "text": [
      "16:29:23 - cmdstanpy - INFO - Chain [1] start processing\n",
      "16:29:24 - cmdstanpy - INFO - Chain [1] done processing\n"
     ]
    },
    {
     "name": "stdout",
     "output_type": "stream",
     "text": [
      "Processing ASIN: B08VWCZYZ6\n"
     ]
    },
    {
     "name": "stderr",
     "output_type": "stream",
     "text": [
      "16:29:24 - cmdstanpy - INFO - Chain [1] start processing\n",
      "16:29:24 - cmdstanpy - INFO - Chain [1] done processing\n"
     ]
    },
    {
     "name": "stdout",
     "output_type": "stream",
     "text": [
      "Processing ASIN: B08YS67HRW\n"
     ]
    },
    {
     "name": "stderr",
     "output_type": "stream",
     "text": [
      "16:29:25 - cmdstanpy - INFO - Chain [1] start processing\n",
      "16:29:25 - cmdstanpy - INFO - Chain [1] done processing\n"
     ]
    },
    {
     "name": "stdout",
     "output_type": "stream",
     "text": [
      "Processing ASIN: B08YS77TZX\n"
     ]
    },
    {
     "name": "stderr",
     "output_type": "stream",
     "text": [
      "16:29:25 - cmdstanpy - INFO - Chain [1] start processing\n",
      "16:29:26 - cmdstanpy - INFO - Chain [1] done processing\n"
     ]
    },
    {
     "name": "stdout",
     "output_type": "stream",
     "text": [
      "Processing ASIN: B08YS7DPH3\n"
     ]
    },
    {
     "name": "stderr",
     "output_type": "stream",
     "text": [
      "16:29:26 - cmdstanpy - INFO - Chain [1] start processing\n",
      "16:29:26 - cmdstanpy - INFO - Chain [1] done processing\n"
     ]
    },
    {
     "name": "stdout",
     "output_type": "stream",
     "text": [
      "Processing ASIN: B091DKHXW4\n"
     ]
    },
    {
     "name": "stderr",
     "output_type": "stream",
     "text": [
      "16:29:27 - cmdstanpy - INFO - Chain [1] start processing\n",
      "16:29:27 - cmdstanpy - INFO - Chain [1] done processing\n"
     ]
    },
    {
     "name": "stdout",
     "output_type": "stream",
     "text": [
      "Processing ASIN: B099CD48QT\n",
      "Processing ASIN: B09BP2F8GC\n"
     ]
    },
    {
     "name": "stderr",
     "output_type": "stream",
     "text": [
      "16:29:28 - cmdstanpy - INFO - Chain [1] start processing\n",
      "16:29:28 - cmdstanpy - INFO - Chain [1] done processing\n"
     ]
    },
    {
     "name": "stdout",
     "output_type": "stream",
     "text": [
      "Processing ASIN: B09C2MZ9DC\n"
     ]
    },
    {
     "name": "stderr",
     "output_type": "stream",
     "text": [
      "16:29:28 - cmdstanpy - INFO - Chain [1] start processing\n",
      "16:29:29 - cmdstanpy - INFO - Chain [1] done processing\n"
     ]
    },
    {
     "name": "stdout",
     "output_type": "stream",
     "text": [
      "Processing ASIN: B09DQ4SSSM\n"
     ]
    },
    {
     "name": "stderr",
     "output_type": "stream",
     "text": [
      "16:29:30 - cmdstanpy - INFO - Chain [1] start processing\n",
      "16:29:30 - cmdstanpy - INFO - Chain [1] done processing\n"
     ]
    },
    {
     "name": "stdout",
     "output_type": "stream",
     "text": [
      "Processing ASIN: B09DQ9Y4P1\n"
     ]
    },
    {
     "name": "stderr",
     "output_type": "stream",
     "text": [
      "16:29:31 - cmdstanpy - INFO - Chain [1] start processing\n",
      "16:29:31 - cmdstanpy - INFO - Chain [1] done processing\n"
     ]
    },
    {
     "name": "stdout",
     "output_type": "stream",
     "text": [
      "Processing ASIN: B09DZ5BDMV\n"
     ]
    },
    {
     "name": "stderr",
     "output_type": "stream",
     "text": [
      "16:29:31 - cmdstanpy - INFO - Chain [1] start processing\n",
      "16:29:32 - cmdstanpy - INFO - Chain [1] done processing\n"
     ]
    },
    {
     "name": "stdout",
     "output_type": "stream",
     "text": [
      "Processing ASIN: B09F9YSS2L\n"
     ]
    },
    {
     "name": "stderr",
     "output_type": "stream",
     "text": [
      "16:29:32 - cmdstanpy - INFO - Chain [1] start processing\n",
      "16:29:33 - cmdstanpy - INFO - Chain [1] done processing\n"
     ]
    },
    {
     "name": "stdout",
     "output_type": "stream",
     "text": [
      "Processing ASIN: B09FNCBK5V\n",
      "Processing ASIN: B09G3LJLLQ\n"
     ]
    },
    {
     "name": "stderr",
     "output_type": "stream",
     "text": [
      "16:29:34 - cmdstanpy - INFO - Chain [1] start processing\n",
      "16:29:34 - cmdstanpy - INFO - Chain [1] done processing\n"
     ]
    },
    {
     "name": "stdout",
     "output_type": "stream",
     "text": [
      "Processing ASIN: B09G426QPY\n"
     ]
    },
    {
     "name": "stderr",
     "output_type": "stream",
     "text": [
      "16:29:35 - cmdstanpy - INFO - Chain [1] start processing\n",
      "16:29:36 - cmdstanpy - INFO - Chain [1] done processing\n"
     ]
    },
    {
     "name": "stdout",
     "output_type": "stream",
     "text": [
      "Processing ASIN: B09GTMY8B8\n"
     ]
    },
    {
     "name": "stderr",
     "output_type": "stream",
     "text": [
      "16:29:36 - cmdstanpy - INFO - Chain [1] start processing\n",
      "16:29:36 - cmdstanpy - INFO - Chain [1] done processing\n"
     ]
    },
    {
     "name": "stdout",
     "output_type": "stream",
     "text": [
      "Processing ASIN: B09GTX381G\n"
     ]
    },
    {
     "name": "stderr",
     "output_type": "stream",
     "text": [
      "16:29:37 - cmdstanpy - INFO - Chain [1] start processing\n",
      "16:29:37 - cmdstanpy - INFO - Chain [1] done processing\n"
     ]
    },
    {
     "name": "stdout",
     "output_type": "stream",
     "text": [
      "Processing ASIN: B09GV1ZCSX\n"
     ]
    },
    {
     "name": "stderr",
     "output_type": "stream",
     "text": [
      "16:29:38 - cmdstanpy - INFO - Chain [1] start processing\n",
      "16:29:38 - cmdstanpy - INFO - Chain [1] done processing\n"
     ]
    },
    {
     "name": "stdout",
     "output_type": "stream",
     "text": [
      "Processing ASIN: B09HSMQJ99\n"
     ]
    },
    {
     "name": "stderr",
     "output_type": "stream",
     "text": [
      "16:29:39 - cmdstanpy - INFO - Chain [1] start processing\n",
      "16:29:39 - cmdstanpy - INFO - Chain [1] done processing\n"
     ]
    },
    {
     "name": "stdout",
     "output_type": "stream",
     "text": [
      "Processing ASIN: B09HSQLT81\n"
     ]
    },
    {
     "name": "stderr",
     "output_type": "stream",
     "text": [
      "16:29:39 - cmdstanpy - INFO - Chain [1] start processing\n",
      "16:29:40 - cmdstanpy - INFO - Chain [1] done processing\n"
     ]
    },
    {
     "name": "stdout",
     "output_type": "stream",
     "text": [
      "Processing ASIN: B09HSQQ8SY\n"
     ]
    },
    {
     "name": "stderr",
     "output_type": "stream",
     "text": [
      "16:29:40 - cmdstanpy - INFO - Chain [1] start processing\n",
      "16:29:40 - cmdstanpy - INFO - Chain [1] done processing\n"
     ]
    },
    {
     "name": "stdout",
     "output_type": "stream",
     "text": [
      "Processing ASIN: B09JL834PX\n"
     ]
    },
    {
     "name": "stderr",
     "output_type": "stream",
     "text": [
      "16:29:41 - cmdstanpy - INFO - Chain [1] start processing\n",
      "16:29:41 - cmdstanpy - INFO - Chain [1] done processing\n"
     ]
    },
    {
     "name": "stdout",
     "output_type": "stream",
     "text": [
      "Processing ASIN: B09JL8BG45\n"
     ]
    },
    {
     "name": "stderr",
     "output_type": "stream",
     "text": [
      "16:29:42 - cmdstanpy - INFO - Chain [1] start processing\n",
      "16:29:42 - cmdstanpy - INFO - Chain [1] done processing\n"
     ]
    },
    {
     "name": "stdout",
     "output_type": "stream",
     "text": [
      "Processing ASIN: B09JL8V5BS\n"
     ]
    },
    {
     "name": "stderr",
     "output_type": "stream",
     "text": [
      "16:29:42 - cmdstanpy - INFO - Chain [1] start processing\n",
      "16:29:43 - cmdstanpy - INFO - Chain [1] done processing\n"
     ]
    },
    {
     "name": "stdout",
     "output_type": "stream",
     "text": [
      "Processing ASIN: B09JL8V6RB\n"
     ]
    },
    {
     "name": "stderr",
     "output_type": "stream",
     "text": [
      "16:29:43 - cmdstanpy - INFO - Chain [1] start processing\n",
      "16:29:43 - cmdstanpy - INFO - Chain [1] done processing\n"
     ]
    },
    {
     "name": "stdout",
     "output_type": "stream",
     "text": [
      "Processing ASIN: B09JQWRK6C\n"
     ]
    },
    {
     "name": "stderr",
     "output_type": "stream",
     "text": [
      "16:29:44 - cmdstanpy - INFO - Chain [1] start processing\n",
      "16:29:44 - cmdstanpy - INFO - Chain [1] done processing\n"
     ]
    },
    {
     "name": "stdout",
     "output_type": "stream",
     "text": [
      "Processing ASIN: B09JR32H3M\n"
     ]
    },
    {
     "name": "stderr",
     "output_type": "stream",
     "text": [
      "16:29:44 - cmdstanpy - INFO - Chain [1] start processing\n",
      "16:29:45 - cmdstanpy - INFO - Chain [1] done processing\n"
     ]
    },
    {
     "name": "stdout",
     "output_type": "stream",
     "text": [
      "Processing ASIN: B09JR7JLGM\n"
     ]
    },
    {
     "name": "stderr",
     "output_type": "stream",
     "text": [
      "16:29:45 - cmdstanpy - INFO - Chain [1] start processing\n",
      "16:29:46 - cmdstanpy - INFO - Chain [1] done processing\n"
     ]
    },
    {
     "name": "stdout",
     "output_type": "stream",
     "text": [
      "Processing ASIN: B09MDS5VQF\n"
     ]
    },
    {
     "name": "stderr",
     "output_type": "stream",
     "text": [
      "16:29:47 - cmdstanpy - INFO - Chain [1] start processing\n",
      "16:29:47 - cmdstanpy - INFO - Chain [1] done processing\n"
     ]
    },
    {
     "name": "stdout",
     "output_type": "stream",
     "text": [
      "Processing ASIN: B09MDSZ164\n"
     ]
    },
    {
     "name": "stderr",
     "output_type": "stream",
     "text": [
      "16:29:48 - cmdstanpy - INFO - Chain [1] start processing\n",
      "16:29:48 - cmdstanpy - INFO - Chain [1] done processing\n"
     ]
    },
    {
     "name": "stdout",
     "output_type": "stream",
     "text": [
      "Processing ASIN: B09N7Y78Q7\n"
     ]
    },
    {
     "name": "stderr",
     "output_type": "stream",
     "text": [
      "16:29:49 - cmdstanpy - INFO - Chain [1] start processing\n",
      "16:29:49 - cmdstanpy - INFO - Chain [1] done processing\n"
     ]
    },
    {
     "name": "stdout",
     "output_type": "stream",
     "text": [
      "Processing ASIN: B09NF6XNP9\n"
     ]
    },
    {
     "name": "stderr",
     "output_type": "stream",
     "text": [
      "16:29:49 - cmdstanpy - INFO - Chain [1] start processing\n",
      "16:29:50 - cmdstanpy - INFO - Chain [1] done processing\n"
     ]
    },
    {
     "name": "stdout",
     "output_type": "stream",
     "text": [
      "Processing ASIN: B09P1T6W7S\n"
     ]
    },
    {
     "name": "stderr",
     "output_type": "stream",
     "text": [
      "16:29:51 - cmdstanpy - INFO - Chain [1] start processing\n",
      "16:29:51 - cmdstanpy - INFO - Chain [1] done processing\n"
     ]
    },
    {
     "name": "stdout",
     "output_type": "stream",
     "text": [
      "Processing ASIN: B09P25LZNV\n"
     ]
    },
    {
     "name": "stderr",
     "output_type": "stream",
     "text": [
      "16:29:51 - cmdstanpy - INFO - Chain [1] start processing\n",
      "16:29:52 - cmdstanpy - INFO - Chain [1] done processing\n"
     ]
    },
    {
     "name": "stdout",
     "output_type": "stream",
     "text": [
      "Processing ASIN: B09PSQDWLV\n"
     ]
    },
    {
     "name": "stderr",
     "output_type": "stream",
     "text": [
      "16:29:52 - cmdstanpy - INFO - Chain [1] start processing\n",
      "16:29:53 - cmdstanpy - INFO - Chain [1] done processing\n"
     ]
    },
    {
     "name": "stdout",
     "output_type": "stream",
     "text": [
      "Processing ASIN: B09PZM9CTX\n"
     ]
    },
    {
     "name": "stderr",
     "output_type": "stream",
     "text": [
      "16:29:53 - cmdstanpy - INFO - Chain [1] start processing\n",
      "16:29:53 - cmdstanpy - INFO - Chain [1] done processing\n"
     ]
    },
    {
     "name": "stdout",
     "output_type": "stream",
     "text": [
      "Processing ASIN: B09PZPN7S5\n"
     ]
    },
    {
     "name": "stderr",
     "output_type": "stream",
     "text": [
      "16:29:54 - cmdstanpy - INFO - Chain [1] start processing\n",
      "16:29:54 - cmdstanpy - INFO - Chain [1] done processing\n"
     ]
    },
    {
     "name": "stdout",
     "output_type": "stream",
     "text": [
      "Processing ASIN: B09PZQNZPB\n"
     ]
    },
    {
     "name": "stderr",
     "output_type": "stream",
     "text": [
      "16:29:54 - cmdstanpy - INFO - Chain [1] start processing\n",
      "16:29:54 - cmdstanpy - INFO - Chain [1] done processing\n"
     ]
    },
    {
     "name": "stdout",
     "output_type": "stream",
     "text": [
      "Processing ASIN: B09PZSKJ5N\n"
     ]
    },
    {
     "name": "stderr",
     "output_type": "stream",
     "text": [
      "16:29:55 - cmdstanpy - INFO - Chain [1] start processing\n",
      "16:29:55 - cmdstanpy - INFO - Chain [1] done processing\n"
     ]
    },
    {
     "name": "stdout",
     "output_type": "stream",
     "text": [
      "Processing ASIN: B09QMT3CVT\n"
     ]
    },
    {
     "name": "stderr",
     "output_type": "stream",
     "text": [
      "16:29:55 - cmdstanpy - INFO - Chain [1] start processing\n",
      "16:29:56 - cmdstanpy - INFO - Chain [1] done processing\n"
     ]
    },
    {
     "name": "stdout",
     "output_type": "stream",
     "text": [
      "Processing ASIN: B09QNKBF6F\n"
     ]
    },
    {
     "name": "stderr",
     "output_type": "stream",
     "text": [
      "16:29:56 - cmdstanpy - INFO - Chain [1] start processing\n",
      "16:29:56 - cmdstanpy - INFO - Chain [1] done processing\n"
     ]
    },
    {
     "name": "stdout",
     "output_type": "stream",
     "text": [
      "Processing ASIN: B09RTHS8BH\n"
     ]
    },
    {
     "name": "stderr",
     "output_type": "stream",
     "text": [
      "16:29:57 - cmdstanpy - INFO - Chain [1] start processing\n",
      "16:29:57 - cmdstanpy - INFO - Chain [1] done processing\n"
     ]
    },
    {
     "name": "stdout",
     "output_type": "stream",
     "text": [
      "Processing ASIN: B09RYRHYHH\n"
     ]
    },
    {
     "name": "stderr",
     "output_type": "stream",
     "text": [
      "16:29:58 - cmdstanpy - INFO - Chain [1] start processing\n",
      "16:29:58 - cmdstanpy - INFO - Chain [1] done processing\n"
     ]
    },
    {
     "name": "stdout",
     "output_type": "stream",
     "text": [
      "Processing ASIN: B09S1ZZ9CZ\n"
     ]
    },
    {
     "name": "stderr",
     "output_type": "stream",
     "text": [
      "16:29:58 - cmdstanpy - INFO - Chain [1] start processing\n",
      "16:29:59 - cmdstanpy - INFO - Chain [1] done processing\n"
     ]
    },
    {
     "name": "stdout",
     "output_type": "stream",
     "text": [
      "Processing ASIN: B09S24PFJ3\n"
     ]
    },
    {
     "name": "stderr",
     "output_type": "stream",
     "text": [
      "16:29:59 - cmdstanpy - INFO - Chain [1] start processing\n",
      "16:30:00 - cmdstanpy - INFO - Chain [1] done processing\n"
     ]
    },
    {
     "name": "stdout",
     "output_type": "stream",
     "text": [
      "Processing ASIN: B09S26ZF1N\n"
     ]
    },
    {
     "name": "stderr",
     "output_type": "stream",
     "text": [
      "16:30:00 - cmdstanpy - INFO - Chain [1] start processing\n",
      "16:30:01 - cmdstanpy - INFO - Chain [1] done processing\n"
     ]
    },
    {
     "name": "stdout",
     "output_type": "stream",
     "text": [
      "Processing ASIN: B09S27HQ62\n"
     ]
    },
    {
     "name": "stderr",
     "output_type": "stream",
     "text": [
      "16:30:01 - cmdstanpy - INFO - Chain [1] start processing\n",
      "16:30:02 - cmdstanpy - INFO - Chain [1] done processing\n"
     ]
    },
    {
     "name": "stdout",
     "output_type": "stream",
     "text": [
      "Processing ASIN: B09S28PGXD\n"
     ]
    },
    {
     "name": "stderr",
     "output_type": "stream",
     "text": [
      "16:30:02 - cmdstanpy - INFO - Chain [1] start processing\n",
      "16:30:03 - cmdstanpy - INFO - Chain [1] done processing\n"
     ]
    },
    {
     "name": "stdout",
     "output_type": "stream",
     "text": [
      "Processing ASIN: B09S2B9221\n"
     ]
    },
    {
     "name": "stderr",
     "output_type": "stream",
     "text": [
      "16:30:03 - cmdstanpy - INFO - Chain [1] start processing\n",
      "16:30:04 - cmdstanpy - INFO - Chain [1] done processing\n"
     ]
    },
    {
     "name": "stdout",
     "output_type": "stream",
     "text": [
      "Processing ASIN: B09S2DZHRQ\n"
     ]
    },
    {
     "name": "stderr",
     "output_type": "stream",
     "text": [
      "16:30:04 - cmdstanpy - INFO - Chain [1] start processing\n",
      "16:30:05 - cmdstanpy - INFO - Chain [1] done processing\n"
     ]
    },
    {
     "name": "stdout",
     "output_type": "stream",
     "text": [
      "Processing ASIN: B09S2FFR9X\n"
     ]
    },
    {
     "name": "stderr",
     "output_type": "stream",
     "text": [
      "16:30:05 - cmdstanpy - INFO - Chain [1] start processing\n",
      "16:30:06 - cmdstanpy - INFO - Chain [1] done processing\n"
     ]
    },
    {
     "name": "stdout",
     "output_type": "stream",
     "text": [
      "Processing ASIN: B09S2H6PPY\n"
     ]
    },
    {
     "name": "stderr",
     "output_type": "stream",
     "text": [
      "16:30:06 - cmdstanpy - INFO - Chain [1] start processing\n",
      "16:30:07 - cmdstanpy - INFO - Chain [1] done processing\n"
     ]
    },
    {
     "name": "stdout",
     "output_type": "stream",
     "text": [
      "Processing ASIN: B09S2JJK8J\n"
     ]
    },
    {
     "name": "stderr",
     "output_type": "stream",
     "text": [
      "16:30:07 - cmdstanpy - INFO - Chain [1] start processing\n",
      "16:30:08 - cmdstanpy - INFO - Chain [1] done processing\n"
     ]
    },
    {
     "name": "stdout",
     "output_type": "stream",
     "text": [
      "Processing ASIN: B09XQBVP4L\n"
     ]
    },
    {
     "name": "stderr",
     "output_type": "stream",
     "text": [
      "16:30:08 - cmdstanpy - INFO - Chain [1] start processing\n",
      "16:30:08 - cmdstanpy - INFO - Chain [1] done processing\n"
     ]
    },
    {
     "name": "stdout",
     "output_type": "stream",
     "text": [
      "Processing ASIN: B0B8447M2N\n"
     ]
    },
    {
     "name": "stderr",
     "output_type": "stream",
     "text": [
      "16:30:09 - cmdstanpy - INFO - Chain [1] start processing\n",
      "16:30:09 - cmdstanpy - INFO - Chain [1] done processing\n"
     ]
    },
    {
     "name": "stdout",
     "output_type": "stream",
     "text": [
      "Processing ASIN: B0B86PTXC7\n"
     ]
    },
    {
     "name": "stderr",
     "output_type": "stream",
     "text": [
      "16:30:09 - cmdstanpy - INFO - Chain [1] start processing\n",
      "16:30:10 - cmdstanpy - INFO - Chain [1] done processing\n"
     ]
    },
    {
     "name": "stdout",
     "output_type": "stream",
     "text": [
      "Processing ASIN: B0B86Q98DP\n"
     ]
    },
    {
     "name": "stderr",
     "output_type": "stream",
     "text": [
      "16:30:10 - cmdstanpy - INFO - Chain [1] start processing\n",
      "16:30:11 - cmdstanpy - INFO - Chain [1] done processing\n"
     ]
    },
    {
     "name": "stdout",
     "output_type": "stream",
     "text": [
      "Processing ASIN: B0B915D55W\n"
     ]
    },
    {
     "name": "stderr",
     "output_type": "stream",
     "text": [
      "16:30:11 - cmdstanpy - INFO - Chain [1] start processing\n",
      "16:30:11 - cmdstanpy - INFO - Chain [1] done processing\n"
     ]
    },
    {
     "name": "stdout",
     "output_type": "stream",
     "text": [
      "Processing ASIN: B0B915KZW2\n"
     ]
    },
    {
     "name": "stderr",
     "output_type": "stream",
     "text": [
      "16:30:12 - cmdstanpy - INFO - Chain [1] start processing\n",
      "16:30:12 - cmdstanpy - INFO - Chain [1] done processing\n"
     ]
    },
    {
     "name": "stdout",
     "output_type": "stream",
     "text": [
      "Processing ASIN: B0B9168ZLY\n"
     ]
    },
    {
     "name": "stderr",
     "output_type": "stream",
     "text": [
      "16:30:12 - cmdstanpy - INFO - Chain [1] start processing\n",
      "16:30:12 - cmdstanpy - INFO - Chain [1] done processing\n"
     ]
    },
    {
     "name": "stdout",
     "output_type": "stream",
     "text": [
      "Processing ASIN: B0B916GSYF\n"
     ]
    },
    {
     "name": "stderr",
     "output_type": "stream",
     "text": [
      "16:30:13 - cmdstanpy - INFO - Chain [1] start processing\n",
      "16:30:13 - cmdstanpy - INFO - Chain [1] done processing\n"
     ]
    },
    {
     "name": "stdout",
     "output_type": "stream",
     "text": [
      "Processing ASIN: B0B916KFC1\n"
     ]
    },
    {
     "name": "stderr",
     "output_type": "stream",
     "text": [
      "16:30:13 - cmdstanpy - INFO - Chain [1] start processing\n",
      "16:30:14 - cmdstanpy - INFO - Chain [1] done processing\n"
     ]
    },
    {
     "name": "stdout",
     "output_type": "stream",
     "text": [
      "Processing ASIN: B0B916YK43\n"
     ]
    },
    {
     "name": "stderr",
     "output_type": "stream",
     "text": [
      "16:30:14 - cmdstanpy - INFO - Chain [1] start processing\n",
      "16:30:15 - cmdstanpy - INFO - Chain [1] done processing\n"
     ]
    },
    {
     "name": "stdout",
     "output_type": "stream",
     "text": [
      "Processing ASIN: B0B9172ZB1\n"
     ]
    },
    {
     "name": "stderr",
     "output_type": "stream",
     "text": [
      "16:30:15 - cmdstanpy - INFO - Chain [1] start processing\n",
      "16:30:15 - cmdstanpy - INFO - Chain [1] done processing\n"
     ]
    },
    {
     "name": "stdout",
     "output_type": "stream",
     "text": [
      "Processing ASIN: B0B917D3PT\n"
     ]
    },
    {
     "name": "stderr",
     "output_type": "stream",
     "text": [
      "16:30:16 - cmdstanpy - INFO - Chain [1] start processing\n",
      "16:30:16 - cmdstanpy - INFO - Chain [1] done processing\n"
     ]
    },
    {
     "name": "stdout",
     "output_type": "stream",
     "text": [
      "Processing ASIN: B0B917GVQB\n"
     ]
    },
    {
     "name": "stderr",
     "output_type": "stream",
     "text": [
      "16:30:17 - cmdstanpy - INFO - Chain [1] start processing\n",
      "16:30:17 - cmdstanpy - INFO - Chain [1] done processing\n"
     ]
    },
    {
     "name": "stdout",
     "output_type": "stream",
     "text": [
      "Processing ASIN: B0B917H54K\n"
     ]
    },
    {
     "name": "stderr",
     "output_type": "stream",
     "text": [
      "16:30:17 - cmdstanpy - INFO - Chain [1] start processing\n",
      "16:30:18 - cmdstanpy - INFO - Chain [1] done processing\n"
     ]
    },
    {
     "name": "stdout",
     "output_type": "stream",
     "text": [
      "Processing ASIN: B0B917SHXV\n"
     ]
    },
    {
     "name": "stderr",
     "output_type": "stream",
     "text": [
      "16:30:19 - cmdstanpy - INFO - Chain [1] start processing\n",
      "16:30:19 - cmdstanpy - INFO - Chain [1] done processing\n"
     ]
    },
    {
     "name": "stdout",
     "output_type": "stream",
     "text": [
      "Processing ASIN: B0B917T9P5\n"
     ]
    },
    {
     "name": "stderr",
     "output_type": "stream",
     "text": [
      "16:30:20 - cmdstanpy - INFO - Chain [1] start processing\n",
      "16:30:20 - cmdstanpy - INFO - Chain [1] done processing\n"
     ]
    },
    {
     "name": "stdout",
     "output_type": "stream",
     "text": [
      "Processing ASIN: B0B9194J2B\n"
     ]
    },
    {
     "name": "stderr",
     "output_type": "stream",
     "text": [
      "16:30:21 - cmdstanpy - INFO - Chain [1] start processing\n",
      "16:30:21 - cmdstanpy - INFO - Chain [1] done processing\n"
     ]
    },
    {
     "name": "stdout",
     "output_type": "stream",
     "text": [
      "Processing ASIN: B0B919Q5RM\n"
     ]
    },
    {
     "name": "stderr",
     "output_type": "stream",
     "text": [
      "16:30:22 - cmdstanpy - INFO - Chain [1] start processing\n",
      "16:30:22 - cmdstanpy - INFO - Chain [1] done processing\n"
     ]
    },
    {
     "name": "stdout",
     "output_type": "stream",
     "text": [
      "Processing ASIN: B0B91LZ8L7\n"
     ]
    },
    {
     "name": "stderr",
     "output_type": "stream",
     "text": [
      "16:30:23 - cmdstanpy - INFO - Chain [1] start processing\n",
      "16:30:23 - cmdstanpy - INFO - Chain [1] done processing\n"
     ]
    },
    {
     "name": "stdout",
     "output_type": "stream",
     "text": [
      "Processing ASIN: B0B91MG5X5\n"
     ]
    },
    {
     "name": "stderr",
     "output_type": "stream",
     "text": [
      "16:30:24 - cmdstanpy - INFO - Chain [1] start processing\n",
      "16:30:24 - cmdstanpy - INFO - Chain [1] done processing\n"
     ]
    },
    {
     "name": "stdout",
     "output_type": "stream",
     "text": [
      "Processing ASIN: B0BH84XZY4\n"
     ]
    },
    {
     "name": "stderr",
     "output_type": "stream",
     "text": [
      "16:30:25 - cmdstanpy - INFO - Chain [1] start processing\n",
      "16:30:25 - cmdstanpy - INFO - Chain [1] done processing\n"
     ]
    },
    {
     "name": "stdout",
     "output_type": "stream",
     "text": [
      "Processing ASIN: B0BH8CBS8M\n"
     ]
    },
    {
     "name": "stderr",
     "output_type": "stream",
     "text": [
      "16:30:25 - cmdstanpy - INFO - Chain [1] start processing\n",
      "16:30:26 - cmdstanpy - INFO - Chain [1] done processing\n"
     ]
    },
    {
     "name": "stdout",
     "output_type": "stream",
     "text": [
      "Processing ASIN: B0BH8Q4YM6\n"
     ]
    },
    {
     "name": "stderr",
     "output_type": "stream",
     "text": [
      "16:30:26 - cmdstanpy - INFO - Chain [1] start processing\n",
      "16:30:26 - cmdstanpy - INFO - Chain [1] done processing\n"
     ]
    },
    {
     "name": "stdout",
     "output_type": "stream",
     "text": [
      "Processing ASIN: B0BRTFC2RR\n"
     ]
    },
    {
     "name": "stderr",
     "output_type": "stream",
     "text": [
      "16:30:27 - cmdstanpy - INFO - Chain [1] start processing\n",
      "16:30:27 - cmdstanpy - INFO - Chain [1] done processing\n"
     ]
    },
    {
     "name": "stdout",
     "output_type": "stream",
     "text": [
      "Processing ASIN: B0BRTFQG5T\n"
     ]
    },
    {
     "name": "stderr",
     "output_type": "stream",
     "text": [
      "16:30:27 - cmdstanpy - INFO - Chain [1] start processing\n",
      "16:30:27 - cmdstanpy - INFO - Chain [1] done processing\n"
     ]
    },
    {
     "name": "stdout",
     "output_type": "stream",
     "text": [
      "Processing ASIN: B0C2Z44JLK\n"
     ]
    },
    {
     "name": "stderr",
     "output_type": "stream",
     "text": [
      "16:30:28 - cmdstanpy - INFO - Chain [1] start processing\n",
      "16:30:28 - cmdstanpy - INFO - Chain [1] done processing\n"
     ]
    },
    {
     "name": "stdout",
     "output_type": "stream",
     "text": [
      "Processing ASIN: B0C2Z5WTR6\n"
     ]
    },
    {
     "name": "stderr",
     "output_type": "stream",
     "text": [
      "16:30:28 - cmdstanpy - INFO - Chain [1] start processing\n",
      "16:30:29 - cmdstanpy - INFO - Chain [1] done processing\n"
     ]
    },
    {
     "name": "stdout",
     "output_type": "stream",
     "text": [
      "Processing ASIN: B0C2Z8QT9V\n"
     ]
    },
    {
     "name": "stderr",
     "output_type": "stream",
     "text": [
      "16:30:29 - cmdstanpy - INFO - Chain [1] start processing\n",
      "16:30:29 - cmdstanpy - INFO - Chain [1] done processing\n"
     ]
    },
    {
     "name": "stdout",
     "output_type": "stream",
     "text": [
      "Processing ASIN: B0C656HMKC\n"
     ]
    },
    {
     "name": "stderr",
     "output_type": "stream",
     "text": [
      "16:30:30 - cmdstanpy - INFO - Chain [1] start processing\n",
      "16:30:30 - cmdstanpy - INFO - Chain [1] done processing\n"
     ]
    },
    {
     "name": "stdout",
     "output_type": "stream",
     "text": [
      "Processing ASIN: B0C656PN55\n"
     ]
    },
    {
     "name": "stderr",
     "output_type": "stream",
     "text": [
      "16:30:31 - cmdstanpy - INFO - Chain [1] start processing\n",
      "16:30:31 - cmdstanpy - INFO - Chain [1] done processing\n"
     ]
    },
    {
     "name": "stdout",
     "output_type": "stream",
     "text": [
      "Processing ASIN: B0C658712G\n"
     ]
    },
    {
     "name": "stderr",
     "output_type": "stream",
     "text": [
      "16:30:31 - cmdstanpy - INFO - Chain [1] start processing\n",
      "16:30:31 - cmdstanpy - INFO - Chain [1] done processing\n"
     ]
    },
    {
     "name": "stdout",
     "output_type": "stream",
     "text": [
      "Processing ASIN: B0C658PXB1\n"
     ]
    },
    {
     "name": "stderr",
     "output_type": "stream",
     "text": [
      "16:30:32 - cmdstanpy - INFO - Chain [1] start processing\n",
      "16:30:32 - cmdstanpy - INFO - Chain [1] done processing\n"
     ]
    },
    {
     "name": "stdout",
     "output_type": "stream",
     "text": [
      "Processing ASIN: B0C65C3TBL\n"
     ]
    },
    {
     "name": "stderr",
     "output_type": "stream",
     "text": [
      "16:30:33 - cmdstanpy - INFO - Chain [1] start processing\n",
      "16:30:33 - cmdstanpy - INFO - Chain [1] done processing\n"
     ]
    },
    {
     "name": "stdout",
     "output_type": "stream",
     "text": [
      "Processing ASIN: B0C65CP9PP\n"
     ]
    },
    {
     "name": "stderr",
     "output_type": "stream",
     "text": [
      "16:30:33 - cmdstanpy - INFO - Chain [1] start processing\n",
      "16:30:34 - cmdstanpy - INFO - Chain [1] done processing\n"
     ]
    },
    {
     "name": "stdout",
     "output_type": "stream",
     "text": [
      "Processing ASIN: B0C65CVJQG\n"
     ]
    },
    {
     "name": "stderr",
     "output_type": "stream",
     "text": [
      "16:30:34 - cmdstanpy - INFO - Chain [1] start processing\n",
      "16:30:35 - cmdstanpy - INFO - Chain [1] done processing\n"
     ]
    },
    {
     "name": "stdout",
     "output_type": "stream",
     "text": [
      "Processing ASIN: B0C65DB8C4\n"
     ]
    },
    {
     "name": "stderr",
     "output_type": "stream",
     "text": [
      "16:30:35 - cmdstanpy - INFO - Chain [1] start processing\n",
      "16:30:35 - cmdstanpy - INFO - Chain [1] done processing\n"
     ]
    },
    {
     "name": "stdout",
     "output_type": "stream",
     "text": [
      "Processing ASIN: B0C6XVFJPZ\n"
     ]
    },
    {
     "name": "stderr",
     "output_type": "stream",
     "text": [
      "16:30:36 - cmdstanpy - INFO - Chain [1] start processing\n",
      "16:30:36 - cmdstanpy - INFO - Chain [1] done processing\n"
     ]
    },
    {
     "name": "stdout",
     "output_type": "stream",
     "text": [
      "Processing ASIN: B0C6Y3RD2P\n"
     ]
    },
    {
     "name": "stderr",
     "output_type": "stream",
     "text": [
      "16:30:37 - cmdstanpy - INFO - Chain [1] start processing\n",
      "16:30:37 - cmdstanpy - INFO - Chain [1] done processing\n"
     ]
    },
    {
     "name": "stdout",
     "output_type": "stream",
     "text": [
      "Processing ASIN: B0C6Y478R5\n"
     ]
    },
    {
     "name": "stderr",
     "output_type": "stream",
     "text": [
      "16:30:37 - cmdstanpy - INFO - Chain [1] start processing\n",
      "16:30:38 - cmdstanpy - INFO - Chain [1] done processing\n"
     ]
    },
    {
     "name": "stdout",
     "output_type": "stream",
     "text": [
      "Processing ASIN: B0CBVD9G2B\n"
     ]
    },
    {
     "name": "stderr",
     "output_type": "stream",
     "text": [
      "16:30:38 - cmdstanpy - INFO - Chain [1] start processing\n",
      "16:30:38 - cmdstanpy - INFO - Chain [1] done processing\n"
     ]
    },
    {
     "name": "stdout",
     "output_type": "stream",
     "text": [
      "Processing ASIN: B0CH313718\n"
     ]
    },
    {
     "name": "stderr",
     "output_type": "stream",
     "text": [
      "16:30:39 - cmdstanpy - INFO - Chain [1] start processing\n",
      "16:30:39 - cmdstanpy - INFO - Chain [1] done processing\n"
     ]
    },
    {
     "name": "stdout",
     "output_type": "stream",
     "text": [
      "Processing ASIN: B0CHBBQXY6\n"
     ]
    },
    {
     "name": "stderr",
     "output_type": "stream",
     "text": [
      "16:30:40 - cmdstanpy - INFO - Chain [1] start processing\n",
      "16:30:40 - cmdstanpy - INFO - Chain [1] done processing\n"
     ]
    },
    {
     "name": "stdout",
     "output_type": "stream",
     "text": [
      "Processing ASIN: B0CHBF8BXP\n"
     ]
    },
    {
     "name": "stderr",
     "output_type": "stream",
     "text": [
      "16:30:41 - cmdstanpy - INFO - Chain [1] start processing\n",
      "16:30:41 - cmdstanpy - INFO - Chain [1] done processing\n"
     ]
    },
    {
     "name": "stdout",
     "output_type": "stream",
     "text": [
      "Processing ASIN: B0CHBMQHB6\n"
     ]
    },
    {
     "name": "stderr",
     "output_type": "stream",
     "text": [
      "16:30:41 - cmdstanpy - INFO - Chain [1] start processing\n",
      "16:30:42 - cmdstanpy - INFO - Chain [1] done processing\n"
     ]
    },
    {
     "name": "stdout",
     "output_type": "stream",
     "text": [
      "Processing ASIN: B0CHBNK3ZD\n"
     ]
    },
    {
     "name": "stderr",
     "output_type": "stream",
     "text": [
      "16:30:42 - cmdstanpy - INFO - Chain [1] start processing\n",
      "16:30:42 - cmdstanpy - INFO - Chain [1] done processing\n"
     ]
    },
    {
     "name": "stdout",
     "output_type": "stream",
     "text": [
      "Processing ASIN: B0CHCBNBVX\n"
     ]
    },
    {
     "name": "stderr",
     "output_type": "stream",
     "text": [
      "16:30:43 - cmdstanpy - INFO - Chain [1] start processing\n",
      "16:30:43 - cmdstanpy - INFO - Chain [1] done processing\n"
     ]
    },
    {
     "name": "stdout",
     "output_type": "stream",
     "text": [
      "Processing ASIN: B0CHCJJ328\n"
     ]
    },
    {
     "name": "stderr",
     "output_type": "stream",
     "text": [
      "16:30:44 - cmdstanpy - INFO - Chain [1] start processing\n",
      "16:30:44 - cmdstanpy - INFO - Chain [1] done processing\n"
     ]
    },
    {
     "name": "stdout",
     "output_type": "stream",
     "text": [
      "Processing ASIN: B0CHCMS4M8\n"
     ]
    },
    {
     "name": "stderr",
     "output_type": "stream",
     "text": [
      "16:30:44 - cmdstanpy - INFO - Chain [1] start processing\n",
      "16:30:44 - cmdstanpy - INFO - Chain [1] done processing\n"
     ]
    },
    {
     "name": "stdout",
     "output_type": "stream",
     "text": [
      "Processing ASIN: B0CHFZ2HVL\n"
     ]
    },
    {
     "name": "stderr",
     "output_type": "stream",
     "text": [
      "16:30:45 - cmdstanpy - INFO - Chain [1] start processing\n",
      "16:30:45 - cmdstanpy - INFO - Chain [1] done processing\n"
     ]
    },
    {
     "name": "stdout",
     "output_type": "stream",
     "text": [
      "Processing ASIN: B0CHFZKY4Q\n"
     ]
    },
    {
     "name": "stderr",
     "output_type": "stream",
     "text": [
      "16:30:45 - cmdstanpy - INFO - Chain [1] start processing\n",
      "16:30:46 - cmdstanpy - INFO - Chain [1] done processing\n"
     ]
    },
    {
     "name": "stdout",
     "output_type": "stream",
     "text": [
      "Processing ASIN: B0CHG17WP9\n"
     ]
    },
    {
     "name": "stderr",
     "output_type": "stream",
     "text": [
      "16:30:46 - cmdstanpy - INFO - Chain [1] start processing\n",
      "16:30:46 - cmdstanpy - INFO - Chain [1] done processing\n"
     ]
    },
    {
     "name": "stdout",
     "output_type": "stream",
     "text": [
      "Processing ASIN: B0CHJCNSDV\n"
     ]
    },
    {
     "name": "stderr",
     "output_type": "stream",
     "text": [
      "16:30:47 - cmdstanpy - INFO - Chain [1] start processing\n",
      "16:30:47 - cmdstanpy - INFO - Chain [1] done processing\n"
     ]
    },
    {
     "name": "stdout",
     "output_type": "stream",
     "text": [
      "Processing ASIN: B0CHJGH6BJ\n"
     ]
    },
    {
     "name": "stderr",
     "output_type": "stream",
     "text": [
      "16:30:47 - cmdstanpy - INFO - Chain [1] start processing\n",
      "16:30:47 - cmdstanpy - INFO - Chain [1] done processing\n"
     ]
    },
    {
     "name": "stdout",
     "output_type": "stream",
     "text": [
      "Processing ASIN: B0CKBWC3DG\n"
     ]
    },
    {
     "name": "stderr",
     "output_type": "stream",
     "text": [
      "16:30:48 - cmdstanpy - INFO - Chain [1] start processing\n",
      "16:30:48 - cmdstanpy - INFO - Chain [1] done processing\n"
     ]
    },
    {
     "name": "stdout",
     "output_type": "stream",
     "text": [
      "Processing ASIN: B0CKF1WBRV\n",
      "Processing ASIN: B0CKVX37KH\n"
     ]
    },
    {
     "name": "stderr",
     "output_type": "stream",
     "text": [
      "16:30:49 - cmdstanpy - INFO - Chain [1] start processing\n",
      "16:30:52 - cmdstanpy - INFO - Chain [1] done processing\n"
     ]
    },
    {
     "name": "stdout",
     "output_type": "stream",
     "text": [
      "Processing ASIN: B0CKVXYN46\n",
      "Processing ASIN: B0CKXTLXSX\n"
     ]
    },
    {
     "name": "stderr",
     "output_type": "stream",
     "text": [
      "16:30:53 - cmdstanpy - INFO - Chain [1] start processing\n",
      "16:30:53 - cmdstanpy - INFO - Chain [1] done processing\n"
     ]
    },
    {
     "name": "stdout",
     "output_type": "stream",
     "text": [
      "Processing ASIN: B0CNVL174K\n"
     ]
    },
    {
     "name": "stderr",
     "output_type": "stream",
     "text": [
      "16:30:54 - cmdstanpy - INFO - Chain [1] start processing\n",
      "16:30:54 - cmdstanpy - INFO - Chain [1] done processing\n"
     ]
    },
    {
     "name": "stdout",
     "output_type": "stream",
     "text": [
      "Processing ASIN: B0CNVLTSDC\n"
     ]
    },
    {
     "name": "stderr",
     "output_type": "stream",
     "text": [
      "16:30:55 - cmdstanpy - INFO - Chain [1] start processing\n",
      "16:30:55 - cmdstanpy - INFO - Chain [1] done processing\n"
     ]
    },
    {
     "name": "stdout",
     "output_type": "stream",
     "text": [
      "Processing ASIN: B0CQH9FHZT\n"
     ]
    },
    {
     "name": "stderr",
     "output_type": "stream",
     "text": [
      "16:30:55 - cmdstanpy - INFO - Chain [1] start processing\n",
      "16:30:56 - cmdstanpy - INFO - Chain [1] done processing\n"
     ]
    },
    {
     "name": "stdout",
     "output_type": "stream",
     "text": [
      "Processing ASIN: B0CQHC2L5J\n"
     ]
    },
    {
     "name": "stderr",
     "output_type": "stream",
     "text": [
      "16:30:56 - cmdstanpy - INFO - Chain [1] start processing\n",
      "16:30:56 - cmdstanpy - INFO - Chain [1] done processing\n"
     ]
    },
    {
     "name": "stdout",
     "output_type": "stream",
     "text": [
      "Processing ASIN: B0CXDH2LPP\n",
      "Processing ASIN: B0CXDHX2QN\n",
      "Processing ASIN: B0CXDRY3WC\n",
      "Processing ASIN: B0CXDSCVJB\n",
      "Processing ASIN: B0D1XNW89X\n",
      "Error fitting model for ASIN B0D1XNW89X: Dataframe has less than 2 non-NaN rows.\n",
      "Processing ASIN: B0D4VHWB3C\n",
      "Error fitting model for ASIN B0D4VHWB3C: Dataframe has less than 2 non-NaN rows.\n",
      "CPU times: total: 58.7 s\n",
      "Wall time: 3min 29s\n"
     ]
    }
   ],
   "source": [
    "%%time\n",
    "# Forecasting inorganic_gmv_units\n",
    "\n",
    "import pandas as pd\n",
    "from prophet import Prophet\n",
    "from sklearn.metrics import mean_absolute_error, r2_score\n",
    "\n",
    "# Define exogenous variables\n",
    "exogenous_vars = ['asp_week', 'ad_spend']  # Adjust this to match your DataFrame column names\n",
    "\n",
    "# Prepare dictionaries to store results\n",
    "X_train_fb2 = {}\n",
    "X_test_fb2 = {}\n",
    "y_train_fb_pred2 = {}\n",
    "y_test_fb_pred2 = {}\n",
    "\n",
    "\n",
    "for asin in train_df['asin'].unique():\n",
    "    print(f\"Processing ASIN: {asin}\")\n",
    "    \n",
    "    # Filter the training data for the current ASIN\n",
    "    asin_train_data = train_df[train_df['asin'] == asin]\n",
    "    asin_test_data = test_df[test_df['asin'] == asin]\n",
    "    \n",
    "    if asin_train_data.empty or asin_test_data.empty:\n",
    "        print(f\"No data found for ASIN: {asin}\")\n",
    "        continue\n",
    "    \n",
    "    # Prepare the training data for Prophet\n",
    "    X_train_fb2[asin] = pd.DataFrame()\n",
    "    X_train_fb2[asin]['ds'] = asin_train_data['Week_Start_date']\n",
    "    X_train_fb2[asin]['y'] = asin_train_data['inorganic_gmv_units']\n",
    "    \n",
    "    # Add exogenous variables\n",
    "    X_train_fb2[asin][exogenous_vars] = asin_train_data[exogenous_vars]\n",
    "    \n",
    "    # Ensure data types are correct\n",
    "    X_train_fb2[asin]['ds'] = pd.to_datetime(X_train_fb2[asin]['ds'])\n",
    "    X_train_fb2[asin]['y'] = X_train_fb2[asin]['y'].astype(float)\n",
    "    \n",
    "    # Initialize the Prophet model\n",
    "    model = Prophet(changepoint_prior_scale=0.03)\n",
    "    \n",
    "    # Prophet(interval_width=0.95, yearly_seasonality='auto', weekly_seasonality='auto',changepoint_prior_scale=0.03)\n",
    "    \n",
    "    # Add exogenous variables as regressors with standardization\n",
    "    for var in exogenous_vars:\n",
    "        model.add_regressor(var, standardize=True)\n",
    "    \n",
    "    # Fit the model\n",
    "    try:\n",
    "        model.fit(X_train_fb2[asin])\n",
    "    except ValueError as e:\n",
    "        print(f\"Error fitting model for ASIN {asin}: {e}\")\n",
    "        continue\n",
    "    \n",
    "    # Prepare the test data for Prophet\n",
    "    X_test_fb2[asin] = pd.DataFrame()\n",
    "    X_test_fb2[asin]['ds'] = asin_test_data['Week_Start_date']\n",
    "    X_test_fb2[asin][exogenous_vars] = asin_test_data[exogenous_vars]\n",
    "    \n",
    "    # Ensure test data type is correct\n",
    "    X_test_fb2[asin]['ds'] = pd.to_datetime(X_test_fb2[asin]['ds'])\n",
    "    \n",
    "    # Make predictions\n",
    "    try:\n",
    "        forecast_train = model.predict(X_train_fb2[asin].drop(columns=['y']))\n",
    "        forecast_test = model.predict(X_test_fb2[asin])\n",
    "    except ValueError as e:\n",
    "        print(f\"Error generating forecast for ASIN {asin}: {e}\")\n",
    "        continue\n",
    "    \n",
    "    # Store the predictions\n",
    "    y_test_fb_pred2[asin] = forecast_test['yhat'].values\n",
    "    y_test_fb_pred2[asin][y_test_fb_pred2[asin]<0] = 0\n",
    "    y_test_fb_pred2[asin] = y_test_fb_pred2[asin].round(0).astype('int64')\n",
    "    \n",
    "# Create DataFrame with actual and forecasted values\n",
    "df_results_iorg = []\n",
    "for asin in y_test_fb_pred2:\n",
    "    asin_test_data = test_df[test_df['asin'] == asin]\n",
    "    df_results_iorg.append(pd.DataFrame({\n",
    "        'asin': asin,\n",
    "        'Week_Start_date': asin_test_data['Week_Start_date'],\n",
    "        'org_actual_outlier_treated': asin_test_data['inorganic_gmv_units'],\n",
    "        'forecasted_value': y_test_fb_pred2[asin]\n",
    "    }))\n",
    "\n",
    "df_results_iorg = pd.concat(df_results_iorg, ignore_index=True)\n",
    "\n",
    "\n"
   ]
  },
  {
   "cell_type": "code",
   "execution_count": 26,
   "id": "0bf5ca2f",
   "metadata": {},
   "outputs": [
    {
     "name": "stdout",
     "output_type": "stream",
     "text": [
      "\n",
      "Overall WAPE: 29.39%\n",
      "\n",
      "WAPE for each forecast date:\n",
      "   Week_Start_date      WAPE\n",
      "0       2024-05-06  0.206739\n",
      "1       2024-05-13  0.209757\n",
      "2       2024-05-20  0.396451\n",
      "3       2024-05-27  0.306565\n",
      "4       2024-06-03  0.262960\n",
      "5       2024-06-10  0.284743\n",
      "6       2024-06-17  0.323269\n",
      "7       2024-06-24  0.234947\n",
      "8       2024-07-01  0.314039\n",
      "9       2024-07-08  0.226549\n",
      "10      2024-07-15  0.398773\n",
      "11      2024-07-22  0.307920\n",
      "12      2024-07-29  0.379285\n",
      "13      2024-08-05  0.221436\n",
      "14      2024-08-12  0.275928\n",
      "15      2024-08-19  0.266765\n",
      "\n",
      "WAPE for each forecast date:\n",
      "   Week_Start_date velocity_bucket      WAPE\n",
      "0       2024-05-06            1_SF  0.181608\n",
      "1       2024-05-06             2_F  0.184207\n",
      "2       2024-05-06             3_M  0.186708\n",
      "3       2024-05-06            4_SM  0.288613\n",
      "4       2024-05-13            1_SF  0.128563\n",
      "..             ...             ...       ...\n",
      "59      2024-08-12            4_SM  0.643694\n",
      "60      2024-08-19            1_SF  0.147455\n",
      "61      2024-08-19             2_F  0.297546\n",
      "62      2024-08-19             3_M  0.273812\n",
      "63      2024-08-19            4_SM  0.752380\n",
      "\n",
      "[64 rows x 3 columns]\n"
     ]
    }
   ],
   "source": [
    "# Storing Results in a DataFrame and Calculating Metrics:\n",
    "df_base3 = df_base[['asin', 'Week_Start_date','inorganic_gmv_units']]\n",
    "\n",
    "df_results_iorg1 =  pd.merge(df_results_iorg, df_base3, left_on=['asin', 'Week_Start_date'],\n",
    "                     right_on=['asin', 'Week_Start_date'])\n",
    "\n",
    "\n",
    "df_results_iorg2 = df_asin_vb[['asin', 'velocity_bucket']].merge(df_results_iorg1,left_on='asin', right_on='asin', how='right')\n",
    "\n",
    "# Calculate Absolute Percentage Error\n",
    "df_results_iorg2['absolute_percentage_error'] = abs((df_results_iorg2['forecasted_value'] - df_results_iorg2['inorganic_gmv_units']) / df_results_iorg2['inorganic_gmv_units'])\n",
    "\n",
    "# Calculate Absolute Errors\n",
    "df_results_iorg2['absolute_error'] = abs(df_results_iorg2['forecasted_value'] - df_results_iorg2['inorganic_gmv_units'])\n",
    "\n",
    "\n",
    "# Calculate overall WAPE\n",
    "overall_wape = df_results_iorg2['absolute_error'].sum() / df_results_iorg2['inorganic_gmv_units'].sum()\n",
    "print(f\"\\nOverall WAPE: {overall_wape:.2%}\")\n",
    "\n",
    "# df_results_iorg2\n",
    "# Calculate WAPE for each date and velocity bucket\n",
    "wape_per_date_iorg = df_results_iorg2.groupby(['Week_Start_date']).apply(\n",
    "    lambda x: x['absolute_error'].sum() / x['inorganic_gmv_units'].sum()\n",
    ").reset_index(name='WAPE')\n",
    "# Save the forecast results to a CSV file\n",
    "wape_per_date_iorg.to_csv('C:/Users/Poovesh Kumar M/Downloads/Planning/Weekly_WAPE_IORG_units.csv', index=False)\n",
    "\n",
    "# Display WAPE\n",
    "print(\"\\nWAPE for each forecast date:\")\n",
    "print(wape_per_date_iorg)\n",
    "\n",
    "# Calculate WAPE for each date and velocity bucket\n",
    "wape_per_date_bucket_iorg = df_results_iorg2.groupby(['Week_Start_date', 'velocity_bucket']).apply(\n",
    "    lambda x: x['absolute_error'].sum() / x['inorganic_gmv_units'].sum()\n",
    ").reset_index(name='WAPE')\n",
    "\n",
    "# Display WAPE\n",
    "print(\"\\nWAPE for each forecast date:\")\n",
    "print(wape_per_date_bucket_iorg)\n",
    "\n",
    "# Save the forecast results to a CSV file\n",
    "wape_per_date_bucket_iorg.to_csv('C:/Users/Poovesh Kumar M/Downloads/Planning/Weekly_WAPE_buckets_IORG_units.csv', index=False)\n"
   ]
  },
  {
   "cell_type": "code",
   "execution_count": 27,
   "id": "7ea6b24d",
   "metadata": {},
   "outputs": [
    {
     "data": {
      "text/html": [
       "<div>\n",
       "<style scoped>\n",
       "    .dataframe tbody tr th:only-of-type {\n",
       "        vertical-align: middle;\n",
       "    }\n",
       "\n",
       "    .dataframe tbody tr th {\n",
       "        vertical-align: top;\n",
       "    }\n",
       "\n",
       "    .dataframe thead th {\n",
       "        text-align: right;\n",
       "    }\n",
       "</style>\n",
       "<table border=\"1\" class=\"dataframe\">\n",
       "  <thead>\n",
       "    <tr style=\"text-align: right;\">\n",
       "      <th></th>\n",
       "      <th>asin</th>\n",
       "      <th>velocity_bucket</th>\n",
       "      <th>Week_Start_date</th>\n",
       "      <th>actual_outlier_treated</th>\n",
       "      <th>forecasted_value</th>\n",
       "      <th>gmv_units</th>\n",
       "      <th>absolute_percentage_error</th>\n",
       "      <th>absolute_error</th>\n",
       "    </tr>\n",
       "  </thead>\n",
       "  <tbody>\n",
       "    <tr>\n",
       "      <th>0</th>\n",
       "      <td>B00PMR3QF2</td>\n",
       "      <td>1_SF</td>\n",
       "      <td>2024-05-06</td>\n",
       "      <td>1951.0</td>\n",
       "      <td>3614</td>\n",
       "      <td>5272</td>\n",
       "      <td>0.314492</td>\n",
       "      <td>1658</td>\n",
       "    </tr>\n",
       "    <tr>\n",
       "      <th>1</th>\n",
       "      <td>B00PMR3QF2</td>\n",
       "      <td>1_SF</td>\n",
       "      <td>2024-05-13</td>\n",
       "      <td>1774.0</td>\n",
       "      <td>1639</td>\n",
       "      <td>1774</td>\n",
       "      <td>0.076099</td>\n",
       "      <td>135</td>\n",
       "    </tr>\n",
       "    <tr>\n",
       "      <th>2</th>\n",
       "      <td>B00PMR3QF2</td>\n",
       "      <td>1_SF</td>\n",
       "      <td>2024-05-20</td>\n",
       "      <td>1100.0</td>\n",
       "      <td>1486</td>\n",
       "      <td>1100</td>\n",
       "      <td>0.350909</td>\n",
       "      <td>386</td>\n",
       "    </tr>\n",
       "    <tr>\n",
       "      <th>3</th>\n",
       "      <td>B00PMR3QF2</td>\n",
       "      <td>1_SF</td>\n",
       "      <td>2024-05-27</td>\n",
       "      <td>1232.0</td>\n",
       "      <td>1617</td>\n",
       "      <td>1232</td>\n",
       "      <td>0.312500</td>\n",
       "      <td>385</td>\n",
       "    </tr>\n",
       "    <tr>\n",
       "      <th>4</th>\n",
       "      <td>B00PMR3QF2</td>\n",
       "      <td>1_SF</td>\n",
       "      <td>2024-06-03</td>\n",
       "      <td>1232.0</td>\n",
       "      <td>3446</td>\n",
       "      <td>4933</td>\n",
       "      <td>0.301439</td>\n",
       "      <td>1487</td>\n",
       "    </tr>\n",
       "    <tr>\n",
       "      <th>...</th>\n",
       "      <td>...</td>\n",
       "      <td>...</td>\n",
       "      <td>...</td>\n",
       "      <td>...</td>\n",
       "      <td>...</td>\n",
       "      <td>...</td>\n",
       "      <td>...</td>\n",
       "      <td>...</td>\n",
       "    </tr>\n",
       "    <tr>\n",
       "      <th>4388</th>\n",
       "      <td>B0CXDSCVJB</td>\n",
       "      <td>4_SM</td>\n",
       "      <td>2024-07-22</td>\n",
       "      <td>0.0</td>\n",
       "      <td>0</td>\n",
       "      <td>0</td>\n",
       "      <td>NaN</td>\n",
       "      <td>0</td>\n",
       "    </tr>\n",
       "    <tr>\n",
       "      <th>4389</th>\n",
       "      <td>B0CXDSCVJB</td>\n",
       "      <td>4_SM</td>\n",
       "      <td>2024-07-29</td>\n",
       "      <td>0.0</td>\n",
       "      <td>0</td>\n",
       "      <td>0</td>\n",
       "      <td>NaN</td>\n",
       "      <td>0</td>\n",
       "    </tr>\n",
       "    <tr>\n",
       "      <th>4390</th>\n",
       "      <td>B0CXDSCVJB</td>\n",
       "      <td>4_SM</td>\n",
       "      <td>2024-08-05</td>\n",
       "      <td>0.0</td>\n",
       "      <td>0</td>\n",
       "      <td>0</td>\n",
       "      <td>NaN</td>\n",
       "      <td>0</td>\n",
       "    </tr>\n",
       "    <tr>\n",
       "      <th>4391</th>\n",
       "      <td>B0CXDSCVJB</td>\n",
       "      <td>4_SM</td>\n",
       "      <td>2024-08-12</td>\n",
       "      <td>0.0</td>\n",
       "      <td>0</td>\n",
       "      <td>0</td>\n",
       "      <td>NaN</td>\n",
       "      <td>0</td>\n",
       "    </tr>\n",
       "    <tr>\n",
       "      <th>4392</th>\n",
       "      <td>B0CXDSCVJB</td>\n",
       "      <td>4_SM</td>\n",
       "      <td>2024-08-19</td>\n",
       "      <td>0.0</td>\n",
       "      <td>0</td>\n",
       "      <td>0</td>\n",
       "      <td>NaN</td>\n",
       "      <td>0</td>\n",
       "    </tr>\n",
       "  </tbody>\n",
       "</table>\n",
       "<p>4393 rows × 8 columns</p>\n",
       "</div>"
      ],
      "text/plain": [
       "            asin velocity_bucket Week_Start_date  actual_outlier_treated  \\\n",
       "0     B00PMR3QF2            1_SF      2024-05-06                  1951.0   \n",
       "1     B00PMR3QF2            1_SF      2024-05-13                  1774.0   \n",
       "2     B00PMR3QF2            1_SF      2024-05-20                  1100.0   \n",
       "3     B00PMR3QF2            1_SF      2024-05-27                  1232.0   \n",
       "4     B00PMR3QF2            1_SF      2024-06-03                  1232.0   \n",
       "...          ...             ...             ...                     ...   \n",
       "4388  B0CXDSCVJB            4_SM      2024-07-22                     0.0   \n",
       "4389  B0CXDSCVJB            4_SM      2024-07-29                     0.0   \n",
       "4390  B0CXDSCVJB            4_SM      2024-08-05                     0.0   \n",
       "4391  B0CXDSCVJB            4_SM      2024-08-12                     0.0   \n",
       "4392  B0CXDSCVJB            4_SM      2024-08-19                     0.0   \n",
       "\n",
       "      forecasted_value  gmv_units  absolute_percentage_error  absolute_error  \n",
       "0                 3614       5272                   0.314492            1658  \n",
       "1                 1639       1774                   0.076099             135  \n",
       "2                 1486       1100                   0.350909             386  \n",
       "3                 1617       1232                   0.312500             385  \n",
       "4                 3446       4933                   0.301439            1487  \n",
       "...                ...        ...                        ...             ...  \n",
       "4388                 0          0                        NaN               0  \n",
       "4389                 0          0                        NaN               0  \n",
       "4390                 0          0                        NaN               0  \n",
       "4391                 0          0                        NaN               0  \n",
       "4392                 0          0                        NaN               0  \n",
       "\n",
       "[4393 rows x 8 columns]"
      ]
     },
     "execution_count": 27,
     "metadata": {},
     "output_type": "execute_result"
    }
   ],
   "source": [
    "# df_results_org2\n",
    "df_results2\n",
    "# df_results_iorg2\n"
   ]
  },
  {
   "cell_type": "code",
   "execution_count": 28,
   "id": "8e816eac",
   "metadata": {},
   "outputs": [],
   "source": [
    "# Result Dataframe:\n",
    "\n",
    "\n",
    "sf_base = df_base[['velocity_bucket','asin','Week_Start_date', 'gmv_units', 'organic_gmv_units', 'inorganic_gmv_units']]\n",
    "\n",
    "sf_base = sf_base[(sf_base['Week_Start_date'] >= '2024-05-06') & (sf_base['Week_Start_date'] <= '2024-08-19')]\n",
    "\n",
    "sf_base = sf_base.rename(columns={'gmv_units': 'sales','organic_gmv_units': 'organic_sales','inorganic_gmv_units': 'inorganic_sales'})\n",
    "\n",
    "df_results3 = df_results2.rename(columns={\n",
    "    'absolute_percentage_error': 'abs_per_error_sales',\n",
    "    'absolute_error': 'absolute_error_sales',\n",
    "    'actual_outlier_treated': 'outlier_treated_sales',\n",
    "    'Week_Start_date': 'forecast_date',\n",
    "    'forecasted_value':'forecasted_sales'\n",
    "    \n",
    "})\n",
    "\n",
    "df_results3 = df_results3[['asin', 'forecast_date','outlier_treated_sales','forecasted_sales','abs_per_error_sales', 'absolute_error_sales']]\n",
    "\n",
    "#organic sales\n",
    "df_results_org3 = df_results_org2.rename(columns={\n",
    "    'absolute_percentage_error': 'abs_per_error_organic_sales',\n",
    "    'absolute_error': 'absolute_error_organic_sales',\n",
    "    'org_actual_outlier_treated': 'outlier_treated_organic_sales',\n",
    "    'Week_Start_date': 'forecast_date',\n",
    "    'forecasted_value':'forecasted_organic_sales'\n",
    "})\n",
    "\n",
    "df_results_org3 = df_results_org3[['asin', 'forecast_date','outlier_treated_organic_sales','forecasted_organic_sales','abs_per_error_organic_sales', 'absolute_error_organic_sales']]\n",
    "\n",
    "#inorganic sales\n",
    "#organic sales\n",
    "df_results_iorg3 = df_results_iorg2.rename(columns={\n",
    "    'absolute_percentage_error': 'abs_per_error_inorganic_sales',\n",
    "    'absolute_error': 'absolute_error_inorganic_sales',\n",
    "    'org_actual_outlier_treated': 'outlier_treated_inorganic_sales',\n",
    "    'Week_Start_date': 'forecast_date',\n",
    "    'forecasted_value':'forecasted_inorganic_sales'\n",
    "})\n",
    "\n",
    "df_results_iorg3 = df_results_iorg3[['asin', 'forecast_date','outlier_treated_inorganic_sales','forecasted_inorganic_sales','abs_per_error_inorganic_sales', 'absolute_error_inorganic_sales']]\n",
    "\n",
    "\n",
    "\n",
    "\n",
    "#merging all df\n",
    "\n",
    "sf_data = pd.merge(sf_base, df_results3, left_on=['asin', 'Week_Start_date'], right_on=['asin', 'forecast_date'])\n",
    "sf_data = pd.merge(sf_data, df_results_org3, left_on=['asin', 'Week_Start_date'], right_on=['asin', 'forecast_date'])\n",
    "sf_data = pd.merge(sf_data, df_results_iorg3, left_on=['asin', 'Week_Start_date'], right_on=['asin', 'forecast_date'])\n",
    "\n",
    "\n",
    "\n",
    "\n",
    "# Display the first few rows of the results\n",
    "sf_data = sf_data [['velocity_bucket','asin','Week_Start_date',\n",
    "                    'sales','outlier_treated_sales','forecasted_sales','abs_per_error_sales', 'absolute_error_sales',\n",
    "                    'organic_sales','outlier_treated_organic_sales','forecasted_organic_sales','abs_per_error_organic_sales', 'absolute_error_organic_sales',\n",
    "                    'inorganic_sales','outlier_treated_inorganic_sales','forecasted_inorganic_sales','abs_per_error_inorganic_sales', 'absolute_error_inorganic_sales']]\n"
   ]
  },
  {
   "cell_type": "code",
   "execution_count": 29,
   "id": "391715e3",
   "metadata": {},
   "outputs": [
    {
     "name": "stdout",
     "output_type": "stream",
     "text": [
      "Index(['velocity_bucket', 'asin', 'Week_Start_date', 'sales',\n",
      "       'outlier_treated_sales', 'forecasted_sales', 'abs_per_error_sales',\n",
      "       'absolute_error_sales', 'organic_sales',\n",
      "       'outlier_treated_organic_sales', 'forecasted_organic_sales',\n",
      "       'abs_per_error_organic_sales', 'absolute_error_organic_sales',\n",
      "       'inorganic_sales', 'outlier_treated_inorganic_sales',\n",
      "       'forecasted_inorganic_sales', 'abs_per_error_inorganic_sales',\n",
      "       'absolute_error_inorganic_sales'],\n",
      "      dtype='object')\n"
     ]
    }
   ],
   "source": [
    "print(sf_data.columns)\n"
   ]
  },
  {
   "cell_type": "code",
   "execution_count": 30,
   "id": "ba5fe0e0",
   "metadata": {},
   "outputs": [],
   "source": [
    "# Step 3: Display the Results & write into csv\n",
    "\n",
    "sf_data.to_csv('C:/Users/Poovesh Kumar M/Downloads/Planning/Forecast_data.csv', index=False)\n"
   ]
  },
  {
   "cell_type": "code",
   "execution_count": 38,
   "id": "d6befccb",
   "metadata": {},
   "outputs": [
    {
     "name": "stdout",
     "output_type": "stream",
     "text": [
      "Processing ASIN: B07JD9FS28\n"
     ]
    },
    {
     "name": "stderr",
     "output_type": "stream",
     "text": [
      "18:12:44 - cmdstanpy - INFO - Chain [1] start processing\n",
      "18:12:44 - cmdstanpy - INFO - Chain [1] done processing\n"
     ]
    },
    {
     "name": "stdout",
     "output_type": "stream",
     "text": [
      "Processing ASIN: B079ZN8SC9\n"
     ]
    },
    {
     "name": "stderr",
     "output_type": "stream",
     "text": [
      "18:12:45 - cmdstanpy - INFO - Chain [1] start processing\n",
      "18:12:45 - cmdstanpy - INFO - Chain [1] done processing\n"
     ]
    },
    {
     "name": "stdout",
     "output_type": "stream",
     "text": [
      "Processing ASIN: B09S26ZF1N\n"
     ]
    },
    {
     "name": "stderr",
     "output_type": "stream",
     "text": [
      "18:12:45 - cmdstanpy - INFO - Chain [1] start processing\n",
      "18:12:46 - cmdstanpy - INFO - Chain [1] done processing\n"
     ]
    },
    {
     "name": "stdout",
     "output_type": "stream",
     "text": [
      "Processing ASIN: B09PZSKJ5N\n"
     ]
    },
    {
     "name": "stderr",
     "output_type": "stream",
     "text": [
      "18:12:46 - cmdstanpy - INFO - Chain [1] start processing\n",
      "18:12:46 - cmdstanpy - INFO - Chain [1] done processing\n"
     ]
    },
    {
     "name": "stdout",
     "output_type": "stream",
     "text": [
      "         asin Week_Start_date  before_asp_week  standardized_asp_week  \\\n",
      "0  B07JD9FS28      2022-09-26        21.879300               4.148622   \n",
      "1  B07JD9FS28      2022-10-03        16.085311              -0.003976   \n",
      "2  B07JD9FS28      2022-10-10        16.017693              -0.052439   \n",
      "3  B07JD9FS28      2022-10-17        16.033076              -0.041414   \n",
      "4  B07JD9FS28      2022-10-24        15.994872              -0.068795   \n",
      "\n",
      "   before_ad_spend  standardized_ad_spend  \n",
      "0        1304.7274              -2.053665  \n",
      "1        3717.3216              -0.484207  \n",
      "2        4856.6743               0.256973  \n",
      "3        4400.9435              -0.039492  \n",
      "4        4056.4470              -0.263597  \n"
     ]
    }
   ],
   "source": [
    "# before and after standardization for the selected ASINs\n",
    "import pandas as pd\n",
    "from prophet import Prophet\n",
    "\n",
    "# Define exogenous variables and the ASINs of interest\n",
    "exogenous_vars = ['asp_week', 'ad_spend']\n",
    "selected_asins = ['B07JD9FS28', 'B079ZN8SC9', 'B09S26ZF1N', 'B09PZSKJ5N']\n",
    "\n",
    "# List to store results\n",
    "results = []\n",
    "\n",
    "for asin in selected_asins:\n",
    "    print(f\"Processing ASIN: {asin}\")\n",
    "    \n",
    "    # Filter the data for the current ASIN\n",
    "    asin_train_data = train_df[train_df['asin'] == asin]\n",
    "    \n",
    "    if asin_train_data.empty:\n",
    "        print(f\"No data found for ASIN: {asin}\")\n",
    "        continue\n",
    "    \n",
    "    # Prepare the training data for Prophet\n",
    "    df_train = pd.DataFrame()\n",
    "    df_train['ds'] = asin_train_data['Week_Start_date']\n",
    "    df_train['y'] = asin_train_data['gmv_units']\n",
    "    \n",
    "    # Add exogenous variables\n",
    "    for var in exogenous_vars:\n",
    "        df_train[var] = asin_train_data[var]\n",
    "    \n",
    "    # Initialize the Prophet model\n",
    "    model = Prophet(changepoint_prior_scale=0.03)\n",
    "    \n",
    "    # Add exogenous variables as regressors with standardization\n",
    "    for var in exogenous_vars:\n",
    "        model.add_regressor(var, standardize=True)\n",
    "    \n",
    "    # Fit the model\n",
    "    model.fit(df_train)\n",
    "    \n",
    "    # Access the model's scaling parameters\n",
    "    scaling_params = model.extra_regressors\n",
    "    \n",
    "    # Compare original and standardized values\n",
    "    for i in range(len(df_train)):\n",
    "        result = {'asin': asin, 'Week_Start_date': df_train.iloc[i]['ds']}\n",
    "        for var in exogenous_vars:\n",
    "            original_value = df_train.iloc[i][var]\n",
    "            mean = scaling_params[var]['mu']\n",
    "            std = scaling_params[var]['std']\n",
    "            standardized_value = (original_value - mean) / std\n",
    "            \n",
    "            result[f'before_{var}'] = original_value\n",
    "            result[f'standardized_{var}'] = standardized_value\n",
    "        \n",
    "        results.append(result)\n",
    "\n",
    "# Create DataFrame from the results list\n",
    "df_comparison = pd.DataFrame(results)\n",
    "\n",
    "# Display the resulting DataFrame\n",
    "print(df_comparison.head())\n"
   ]
  },
  {
   "cell_type": "code",
   "execution_count": null,
   "id": "67093361",
   "metadata": {},
   "outputs": [],
   "source": []
  },
  {
   "cell_type": "code",
   "execution_count": null,
   "id": "f7f67b28",
   "metadata": {},
   "outputs": [],
   "source": []
  },
  {
   "cell_type": "code",
   "execution_count": null,
   "id": "ebe51112",
   "metadata": {},
   "outputs": [],
   "source": []
  }
 ],
 "metadata": {
  "kernelspec": {
   "display_name": "Python 3 (ipykernel)",
   "language": "python",
   "name": "python3"
  },
  "language_info": {
   "codemirror_mode": {
    "name": "ipython",
    "version": 3
   },
   "file_extension": ".py",
   "mimetype": "text/x-python",
   "name": "python",
   "nbconvert_exporter": "python",
   "pygments_lexer": "ipython3",
   "version": "3.11.3"
  }
 },
 "nbformat": 4,
 "nbformat_minor": 5
}
